{
 "cells": [
  {
   "cell_type": "code",
   "execution_count": 464,
   "metadata": {},
   "outputs": [],
   "source": [
    "#TODO nao estou tratanto o caso do OR\n",
    "#TODO nao nao trado caso o usario queira colocar um intervalor tipo assim 30<=var<=40"
   ]
  },
  {
   "cell_type": "code",
   "execution_count": 465,
   "metadata": {},
   "outputs": [],
   "source": [
    "import json\n",
    "import pandas as pd\n",
    "from pyparsing import Word, alphas, nums, oneOf, infixNotation, opAssoc, ParserElement\n",
    "from sympy import sympify\n",
    "from sympy.logic.boolalg import to_dnf\n",
    "import re\n",
    "# Configurações para exibir todas as colunas\n",
    "pd.set_option('display.max_columns', None)\n",
    "pd.set_option('display.width', None)\n",
    "pd.set_option('display.max_colwidth', None)"
   ]
  },
  {
   "cell_type": "code",
   "execution_count": 466,
   "metadata": {},
   "outputs": [],
   "source": [
    "def get_desired_scenario(file_path = 'analyzed_scenario_process.json'):\n",
    "    # Ler o arquivo JSON\n",
    "    with open(file_path, 'r') as file:\n",
    "        data = json.load(file)\n",
    "\n",
    "    # Pegar o valor da chave 'desired'\n",
    "    desired_scenario = data.get('desired')\n",
    "    # desired_scenario_name = next(iter(desired_scenario))\n",
    "    # Exibir o valor\n",
    "\n",
    "    # print(\"Desired scenario: \", desired_scenario)\n",
    "    \n",
    "    return desired_scenario\n",
    "\n",
    "# get_desired_scenario()"
   ]
  },
  {
   "cell_type": "code",
   "execution_count": 467,
   "metadata": {},
   "outputs": [],
   "source": [
    "def load_variable_ranges(file_path=\"variables_config.json\"):\n",
    "    with open(file_path, 'r') as file:\n",
    "        json_data = file.read()\n",
    "    variable_ranges = json.loads(json_data)\n",
    "    \n",
    "    # print(\"Variable ranges: \", {var['name']: var for var in variable_ranges})\n",
    "\n",
    "    return {var['name']: var for var in variable_ranges}\n",
    "\n",
    "# load_variable_ranges()"
   ]
  },
  {
   "cell_type": "code",
   "execution_count": 468,
   "metadata": {},
   "outputs": [],
   "source": [
    "#TODO, VER SE VAI SER NECESSARIO FAZER ALGUMA ANALISE DE ERRO ENTRE A POSTCONDICAO DO CENÁRIO RECOMENDADO COM O CONTEXTO ALCANÇADO\n",
    "# def get_shared_scenarios(file_path = 'shared_base.json'):\n",
    "#     # Ler o arquivo JSON\n",
    "#     with open(file_path, 'r') as file:\n",
    "#         shared_scenarios = json.load(file)\n",
    "#     return shared_scenarios"
   ]
  },
  {
   "cell_type": "code",
   "execution_count": 469,
   "metadata": {},
   "outputs": [],
   "source": [
    "def get_Then(scenario):    \n",
    "    scenario_name = next(iter(scenario))\n",
    "    then_exp=scenario[scenario_name][\"Then\"]\n",
    "    # print(\"Then: \", then_exp)\n",
    "    return then_exp\n",
    "\n",
    "# print(get_Then(get_desired_scenario()))"
   ]
  },
  {
   "cell_type": "code",
   "execution_count": 470,
   "metadata": {},
   "outputs": [
    {
     "name": "stdout",
     "output_type": "stream",
     "text": [
      "Extracted Leafs: ['a <= 3', 'b > 10']\n"
     ]
    }
   ],
   "source": [
    "def logical_expression_settings():\n",
    "    # Configurar pyparsing para ignorar espaços em branco\n",
    "    ParserElement.enablePackrat()\n",
    "\n",
    "    # Definir elementos básicos da expressão\n",
    "    identifier = Word(alphas, alphas + nums + \"_\")\n",
    "    number = Word(nums)\n",
    "\n",
    "    # Definir operadores de comparação\n",
    "    comparison_operator = oneOf(\"<= >= < > == !=\")\n",
    "\n",
    "    # Definir expressão básica\n",
    "    operand = identifier | number\n",
    "\n",
    "    # Definir expressão lógica\n",
    "    logical_expr = infixNotation(operand,\n",
    "        [\n",
    "            (comparison_operator, 2, opAssoc.LEFT),\n",
    "            (\"AND\", 2, opAssoc.LEFT),\n",
    "            (\"OR\", 2, opAssoc.LEFT),\n",
    "        ])\n",
    "\n",
    "    return logical_expr\n",
    "\n",
    "\n",
    "def extract_leaves(parsed_expr):\n",
    "    \"\"\"Extrai folhas de uma expressão lógica analisada.\"\"\"\n",
    "    \n",
    "    if isinstance(parsed_expr, str):\n",
    "        return []\n",
    "    elif len(parsed_expr) == 3 and parsed_expr[1] in [\"<=\", \">=\", \"<\", \">\", \"==\", \"!=\"]:\n",
    "        return [\" \".join(parsed_expr)]\n",
    "    else:\n",
    "        leaves = []\n",
    "        for sub_expr in parsed_expr:\n",
    "            leaves.extend(extract_leaves(sub_expr))\n",
    "        return leaves\n",
    "\n",
    "# Exemplo de uso\n",
    "# expression_scenario = \"(((a <= 3 AND (b > 10 OR c == 10)) OR ((d != 5 AND e >= 20) OR f < 2)) AND ((g <= 7 OR h > 8) AND (i == 9 OR j != 3)))\"\n",
    "expression_scenario = \"(a <= 3 AND b > 10)\"\n",
    "\n",
    "# expression_scenario = get_Given(get_desired_scenario())\n",
    "\n",
    "parsed_expression = logical_expression_settings().parseString(expression_scenario, parseAll=True)\n",
    "\n",
    "print(\"Extracted Leafs:\", extract_leaves(parsed_expression.asList()))\n"
   ]
  },
  {
   "cell_type": "code",
   "execution_count": 471,
   "metadata": {},
   "outputs": [
    {
     "name": "stdout",
     "output_type": "stream",
     "text": [
      "Indexed Dict: {'x1': 'a <= 3', 'x2': 'b > 10'}\n"
     ]
    }
   ],
   "source": [
    "def list_to_indexed_dict(lst):\n",
    "    \"\"\"\n",
    "    Transforms a list of strings into a dictionary with keys 'x1', 'x2', ..., 'xn'.\n",
    "    \n",
    "    Parameters:\n",
    "    lst (list): List of strings.\n",
    "\n",
    "    Returns:\n",
    "    dict: Dictionary with keys 'x1', 'x2', ..., 'xn' and values from the original list.\n",
    "    \"\"\"\n",
    "    return {f'x{i+1}': value for i, value in enumerate(lst)}\n",
    "\n",
    "# Example usage\n",
    "lst = ['a <= 3', 'b > 10']\n",
    "map_dict = list_to_indexed_dict(extract_leaves(parsed_expression.asList()))\n",
    "print(\"Indexed Dict:\", map_dict)\n"
   ]
  },
  {
   "cell_type": "code",
   "execution_count": 472,
   "metadata": {},
   "outputs": [
    {
     "name": "stdout",
     "output_type": "stream",
     "text": [
      "(x1 AND x2)\n"
     ]
    }
   ],
   "source": [
    "def replace_values_with_keys(string, dictionary):\n",
    "    \"\"\"\n",
    "    Replaces occurrences of the dictionary values with the keys in the string.\n",
    "\n",
    "    Parameters:\n",
    "    string (str): The string where the replacements will be made.\n",
    "    dictionary (dict): The dictionary with keys and values to be replaced.\n",
    "\n",
    "    Returns:\n",
    "    str: The string with values replaced by keys.\n",
    "    \"\"\"\n",
    "    for key, value in dictionary.items():\n",
    "        string = string.replace(value, key)\n",
    "    return string\n",
    "\n",
    "indexed_scenario = replace_values_with_keys(expression_scenario, map_dict)\n",
    "print(indexed_scenario)\n"
   ]
  },
  {
   "cell_type": "code",
   "execution_count": 473,
   "metadata": {},
   "outputs": [
    {
     "name": "stdout",
     "output_type": "stream",
     "text": [
      "indexed_scenario: (x1 & x2)\n"
     ]
    }
   ],
   "source": [
    "def replace_logical_operators(string, scenario_operators=False):\n",
    "    \"\"\"\n",
    "    Substitui os operadores lógicos 'AND' por '&' e 'OR' por '|', ou vice-versa.\n",
    "\n",
    "    Parâmetros:\n",
    "    string (str): A string onde as substituições serão feitas.\n",
    "    scenario_operators (bool): Se True, substitui '&' por 'AND' e '|' por 'OR'.\n",
    "                               Se False, substitui 'AND' por '&' e 'OR' por '|'.\n",
    "\n",
    "    Retorno:\n",
    "    str: A string com os operadores lógicos substituídos.\n",
    "    \"\"\"\n",
    "    if scenario_operators:\n",
    "        return string.replace('&', 'AND').replace('|', 'OR')\n",
    "    else:\n",
    "        return string.replace('AND', '&').replace('OR', '|')\n",
    "\n",
    "\n",
    "\n",
    "indexed_scenario = replace_logical_operators(indexed_scenario)\n",
    "print(\"indexed_scenario:\", indexed_scenario)"
   ]
  },
  {
   "cell_type": "code",
   "execution_count": 474,
   "metadata": {},
   "outputs": [
    {
     "name": "stdout",
     "output_type": "stream",
     "text": [
      "x1 & x2\n"
     ]
    }
   ],
   "source": [
    "def _to_dnf(indexed_scenario):\n",
    "    \"\"\"\n",
    "    Converts a logical expression to Disjunctive Normal Form (DNF).\n",
    "\n",
    "    Parameters:\n",
    "    indexed_scenario (str): The logical expression in string format with indexed variables.\n",
    "\n",
    "    Returns:\n",
    "    str: The logical expression in Disjunctive Normal Form.\n",
    "    \"\"\"\n",
    "    # Convert the string to a symbolic expression\n",
    "    logical_expression = sympify(indexed_scenario)\n",
    "\n",
    "    # Convert the symbolic expression to Disjunctive Normal Form\n",
    "    dnf_expr = to_dnf(logical_expression, simplify=True, force=True)\n",
    "\n",
    "    return str(dnf_expr)\n",
    "\n",
    "# Example usage\n",
    "dnf_expr = _to_dnf(indexed_scenario)\n",
    "print(dnf_expr)"
   ]
  },
  {
   "cell_type": "code",
   "execution_count": 475,
   "metadata": {},
   "outputs": [
    {
     "name": "stdout",
     "output_type": "stream",
     "text": [
      "Final string with original values: a <= 3 & b > 10\n"
     ]
    }
   ],
   "source": [
    "def revert_keys_to_values(string, dictionary):\n",
    "    \"\"\"\n",
    "    Replaces occurrences of the dictionary keys with the values in the string.\n",
    "\n",
    "    Parameters:\n",
    "    string (str): The string where the replacements will be made.\n",
    "    dictionary (dict): The dictionary with keys and values to be replaced.\n",
    "\n",
    "    Returns:\n",
    "    str: The string with the keys replaced by the original values.\n",
    "    \"\"\"\n",
    "    for key, value in dictionary.items():\n",
    "        string = string.replace(key, value)\n",
    "    \n",
    "    return string\n",
    "\n",
    "# Example usage\n",
    "final_string = revert_keys_to_values(str(dnf_expr), map_dict)\n",
    "print(f\"Final string with original values: {final_string}\")\n"
   ]
  },
  {
   "cell_type": "code",
   "execution_count": 476,
   "metadata": {},
   "outputs": [],
   "source": [
    "def to_dnf_expression(expression_scenario):\n",
    "\n",
    "    parsed_expression = logical_expression_settings().parseString(expression_scenario, parseAll=True)\n",
    "    # print(\"Parsed Expression:\", parsed_expression)\n",
    "\n",
    "    extracted_leaves=extract_leaves(parsed_expression.asList())\n",
    "    # print(\"Extracted Leafs:\", extracted_leaves)\n",
    "\n",
    "    map_dict = list_to_indexed_dict(extracted_leaves)\n",
    "    # print(\"Indexed Dict:\", map_dict)\n",
    "\n",
    "    indexed_scenario = replace_values_with_keys(expression_scenario, map_dict)\n",
    "    # print(\"replaced values with keys:\", indexed_scenario)\n",
    "\n",
    "    indexed_scenario = replace_logical_operators(indexed_scenario)\n",
    "    # print(\"indexed_scenario:\", indexed_scenario)\n",
    "\n",
    "    dnf_expr = _to_dnf(indexed_scenario)\n",
    "    # print(dnf_expr)\n",
    "\n",
    "    # Example usage\n",
    "    dnf_expression = revert_keys_to_values(str(dnf_expr), map_dict)\n",
    "    # print(f\"Final string with original values: {dnf_expression}\")\n",
    "\n",
    "    dnf_expression=replace_logical_operators(dnf_expression, scenario_operators=True)\n",
    "    # print(f\"dnf_expression: {dnf_expression}\")\n",
    "\n",
    "    return dnf_expression"
   ]
  },
  {
   "cell_type": "code",
   "execution_count": 477,
   "metadata": {},
   "outputs": [],
   "source": [
    "def parse_expression(leaf):\n",
    "    \"\"\"\n",
    "    Parse the expression into its components: variable, operator, and value.\n",
    "    \"\"\"\n",
    "    match = re.match(r\"(\\w+)\\s*(>=|<=|>|<|==|!=)\\s*(.+)\", leaf)\n",
    "    if match:\n",
    "        variable, operator, value = match.groups()\n",
    "        return variable, operator, value\n",
    "    else:\n",
    "        raise ValueError(f\"Invalid expression format: {leaf}\")\n",
    "\n",
    "def get_expression_range(var_name, operator, value, min_val, max_val):\n",
    "    \"\"\"\n",
    "    Determine the range of values that satisfy the expression.\n",
    "    \"\"\"\n",
    "    value = float(value)\n",
    "    if operator == '>=':\n",
    "        return (value, max_val)\n",
    "    elif operator == '<=':\n",
    "        return (min_val, value)\n",
    "    elif operator == '>':\n",
    "        return (value + 1e-9, max_val)  # Adding a small value to make it exclusive\n",
    "    elif operator == '<':\n",
    "        return (min_val, value - 1e-9)  # Subtracting a small value to make it exclusive\n",
    "    elif operator == '==':\n",
    "        return (value, value)\n",
    "    elif operator == '!=':\n",
    "        return [(min_val, value - 1e-9), (value + 1e-9, max_val)]  # Returns two ranges\n",
    "    else:\n",
    "        raise ValueError(f\"Unsupported operator: {operator}\")\n",
    "\n",
    "def calculate_jaccard_similarity(leaf1, leaf2, variable_ranges):\n",
    "    \"\"\"\n",
    "    Calculate the Jaccard similarity between two expressions.\n",
    "    The expressions should be of the format: \"variable operator value\".\n",
    "    \"\"\"\n",
    "    try:\n",
    "        var1, op1, val1 = parse_expression(leaf1)\n",
    "        var2, op2, val2 = parse_expression(leaf2)\n",
    "    except ValueError as e:\n",
    "        print(e)\n",
    "        return 0.0\n",
    "\n",
    "    # Ensure the variable names are the same\n",
    "    if var1 != var2:\n",
    "        return 0.0\n",
    "\n",
    "    # Get variable ranges\n",
    "    var_info = variable_ranges.get(var1)\n",
    "    if not var_info:\n",
    "        print(f\"Variable {var1} not found in ranges.\")\n",
    "        return 0.0\n",
    "\n",
    "    min_val = var_info['min_value']\n",
    "    max_val = var_info['max_value']\n",
    "\n",
    "    # Get ranges for each expression\n",
    "    range1 = get_expression_range(var1, op1, val1, min_val, max_val)\n",
    "    range2 = get_expression_range(var2, op2, val2, min_val, max_val)\n",
    "\n",
    "    def calculate_intersection_union(range1, range2):\n",
    "        \"\"\"\n",
    "        Helper function to calculate intersection and union of two ranges.\n",
    "        \"\"\"\n",
    "        if isinstance(range1, list):\n",
    "            intersections = []\n",
    "            for r1 in range1:\n",
    "                if isinstance(range2, list):\n",
    "                    for r2 in range2:\n",
    "                        intersections.append((max(r1[0], r2[0]), min(r1[1], r2[1])))\n",
    "                else:\n",
    "                    intersections.append((max(r1[0], range2[0]), min(r1[1], range2[1])))\n",
    "        else:\n",
    "            if isinstance(range2, list):\n",
    "                intersections = [(max(range1[0], r2[0]), min(range1[1], r2[1])) for r2 in range2]\n",
    "            else:\n",
    "                intersections = [(max(range1[0], range2[0]), min(range1[1], range2[1]))]\n",
    "        \n",
    "        valid_intersections = [r for r in intersections if r[0] <= r[1]]\n",
    "        intersection_length = sum(r[1] - r[0] for r in valid_intersections)\n",
    "        \n",
    "        union_min = min(range1[0] if not isinstance(range1, list) else min(r[0] for r in range1),\n",
    "                        range2[0] if not isinstance(range2, list) else min(r[0] for r in range2))\n",
    "        union_max = max(range1[1] if not isinstance(range1, list) else max(r[1] for r in range1),\n",
    "                        range2[1] if not isinstance(range2, list) else max(r[1] for r in range2))\n",
    "        union_length = union_max - union_min\n",
    "        \n",
    "        return intersection_length, union_length\n",
    "\n",
    "    # Calculate intersection and union considering the equality operator cases\n",
    "    if op1 == '==' and op2 != '==':\n",
    "        if isinstance(range2, list):\n",
    "            range2_min, range2_max = min(range2[0][0], range2[1][0]), max(range2[0][1], range2[1][1])\n",
    "            if range2_min <= range1[0] <= range2_max:\n",
    "                intersection_length = 1\n",
    "                union_length = range2_max - range2_min\n",
    "            else:\n",
    "                return 0.0\n",
    "        else:\n",
    "            if range2[0] <= range1[0] <= range2[1]:\n",
    "                intersection_length = 1\n",
    "                union_length = range2[1] - range2[0]\n",
    "            else:\n",
    "                return 0.0\n",
    "    elif op2 == '==' and op1 != '==':\n",
    "        if isinstance(range1, list):\n",
    "            range1_min, range1_max = min(range1[0][0], range1[1][0]), max(range1[0][1], range1[1][1])\n",
    "            if range1_min <= range2[0] <= range1_max:\n",
    "                intersection_length = 1\n",
    "                union_length = range1_max - range1_min\n",
    "            else:\n",
    "                return 0.0\n",
    "        else:\n",
    "            if range1[0] <= range2[0] <= range1[1]:\n",
    "                intersection_length = 1\n",
    "                union_length = range1[1] - range1[0]\n",
    "            else:\n",
    "                return 0.0\n",
    "    elif op1 == '==' and op2 == '==':\n",
    "        if val1 == val2:\n",
    "            return 1.0\n",
    "        else:\n",
    "            return 0.0\n",
    "    else:\n",
    "        intersection_length, union_length = calculate_intersection_union(range1, range2)\n",
    "\n",
    "    # Calculate the Jaccard similarity\n",
    "    similarity = intersection_length / union_length\n",
    "    return round(similarity,5)\n",
    "\n",
    "# Load the variable ranges from the file\n",
    "# variable_ranges_from_file = load_variable_ranges()\n",
    "\n",
    "# Test cases\n",
    "# test_cases = [\n",
    "#     (\"height == 30\", \"height <= 40\"),  # equality with range\n",
    "#     (\"height == 30\", \"height == 30\"),  # equality with equality (same)\n",
    "#     (\"height == 30\", \"height == 40\"),  # equality with equality (different)\n",
    "#     (\"height >= 30\", \"height <= 40\"),  # range with range\n",
    "#     (\"height != 30\", \"height <= 40\"),  # inequality with range\n",
    "#     (\"height != 30\", \"height == 40\")   # inequality with equality\n",
    "# ]\n",
    "\n",
    "# var_similarity_dict = {f\"{expr1} vs {expr2}\": calculate_jaccard_similarity(expr1, expr2, variable_ranges_from_file)\n",
    "#            for expr1, expr2 in test_cases}\n",
    "\n",
    "# # # Convert results to DataFrame and display\n",
    "# # results_df = pd.DataFrame(results.items(), columns=[\"Test Case\", \"Similarity\"])\n",
    "# # results_df\n",
    "# var_similarity_dict\n",
    "\n",
    "\n"
   ]
  },
  {
   "cell_type": "code",
   "execution_count": 478,
   "metadata": {},
   "outputs": [],
   "source": [
    "# calculate_jaccard_similarity('a > 10', 'a == 12', load_variable_ranges())"
   ]
  },
  {
   "cell_type": "code",
   "execution_count": 479,
   "metadata": {},
   "outputs": [],
   "source": [
    "def local_similarity(leaf1, leaf2, variable_ranges_from_file):\n",
    "    local_similarity = calculate_jaccard_similarity(leaf1, leaf2, variable_ranges_from_file)\n",
    "    # print(f\"Local similarity between {leaf1} vs {leaf2}: {local_similarity}\")\n",
    "    return local_similarity"
   ]
  },
  {
   "cell_type": "code",
   "execution_count": 480,
   "metadata": {},
   "outputs": [],
   "source": [
    "def get_leafs(dnf):\n",
    "    parsed_expression = logical_expression_settings().parseString(dnf, parseAll=True)\n",
    "    # print(\"Parsed Expression:\", parsed_expression)\n",
    "\n",
    "    extracted_leaves=extract_leaves(parsed_expression.asList())\n",
    "    # print(\"Extracted Leafs:\", extracted_leaves)\n",
    "    return extracted_leaves"
   ]
  },
  {
   "cell_type": "code",
   "execution_count": 481,
   "metadata": {},
   "outputs": [],
   "source": [
    "def extract_variables(leafts):\n",
    "    \"\"\"\n",
    "    Extracts the variable names from a list of leaf strings.\n",
    "\n",
    "    Parameters:\n",
    "    leaves (list): List of strings, each containing a variable, an operator, and a value.\n",
    "\n",
    "    Returns:\n",
    "    list: List of variable names.\n",
    "    \"\"\"\n",
    "    variables = []\n",
    "    for leaf in leafts:\n",
    "        # Using regular expression to match the variable name at the beginning of the string\n",
    "        match = re.match(r\"([a-zA-Z_]\\w*)\\s*(==|!=|[<>]=?)\\s*\\d+\", leaf)\n",
    "        if match:\n",
    "            variables.append(match.group(1))\n",
    "    return variables"
   ]
  },
  {
   "cell_type": "code",
   "execution_count": 482,
   "metadata": {},
   "outputs": [],
   "source": [
    "def tversky_similarity(vars1, vars2, alpha=1.0, beta=1.0):\n",
    "    \"\"\"\n",
    "    Calculate the Tversky similarity between two sets of variables.\n",
    "    \n",
    "    Args:\n",
    "    vars1 (list): First list of variables.\n",
    "    vars2 (list): Second list of variables.\n",
    "    alpha (float): Weight for the elements unique to vars1. Default is 1.0.\n",
    "    beta (float): Weight for the elements unique to vars2. Default is 1.0.\n",
    "    \n",
    "    Returns:\n",
    "    float: The Tversky similarity score.\n",
    "    \"\"\"\n",
    "    set1 = set(vars1)\n",
    "    set2 = set(vars2)\n",
    "    \n",
    "    intersection = len(set1 & set2)\n",
    "    only_in_set1 = len(set1 - set2)\n",
    "    only_in_set2 = len(set2 - set1)\n",
    "    \n",
    "    tversky_index = intersection / (intersection + alpha * only_in_set1 + beta * only_in_set2)\n",
    "    \n",
    "    return tversky_index\n",
    "\n",
    "def penality(vars1, vars2, alpha=1.0, beta=1.0):\n",
    "    return 1 - tversky_similarity(vars1, vars2, alpha, beta)\n"
   ]
  },
  {
   "cell_type": "code",
   "execution_count": 483,
   "metadata": {},
   "outputs": [],
   "source": [
    "def intersection(vector1, vector2):\n",
    "    \"\"\"\n",
    "    Find the intersection between two vectors of elements.\n",
    "    \n",
    "    Args:\n",
    "    vector1 (list): First list of elements.\n",
    "    vector2 (list): Second list of elements.\n",
    "    \n",
    "    Returns:\n",
    "    list: A list containing the elements that are present in both vectors.\n",
    "    \"\"\"\n",
    "    set1 = set(vector1)\n",
    "    set2 = set(vector2)\n",
    "    \n",
    "    intersection = set1 & set2\n",
    "    \n",
    "    return list(intersection)\n"
   ]
  },
  {
   "cell_type": "code",
   "execution_count": 484,
   "metadata": {},
   "outputs": [],
   "source": [
    "def pair_leaves(leaves1, leaves2):\n",
    "    \"\"\"\n",
    "    Create pairs of leaves containing the same variable.\n",
    "    \n",
    "    Args:\n",
    "    leaves1 (list): First list of leaves.\n",
    "    leaves2 (list): Second list of leaves.\n",
    "    \n",
    "    Returns:\n",
    "    list: A list of tuples, each containing a pair of leaves with the same variable.\n",
    "    \"\"\"\n",
    "    pairs = []\n",
    "    \n",
    "    # Extract variable names from leaves\n",
    "    def extract_variable(leaf):\n",
    "        return leaf.split()[0]\n",
    "    \n",
    "    variables1 = {extract_variable(leaf): leaf for leaf in leaves1}\n",
    "    variables2 = {extract_variable(leaf): leaf for leaf in leaves2}\n",
    "    \n",
    "    # Create pairs\n",
    "    for var in variables1:\n",
    "        if var in variables2:\n",
    "            pairs.append((variables1[var], variables2[var]))\n",
    "    \n",
    "    return pairs\n"
   ]
  },
  {
   "cell_type": "code",
   "execution_count": 485,
   "metadata": {},
   "outputs": [],
   "source": [
    "# funcao Mocked para similar os pesos.\n",
    "def get_weights():\n",
    "    # TODO: Implementar a lógica para obter os pesos com esse formato {'a': 0.75, 'b': 0.0, 'c': 0.0}\n",
    "    return {} # Weight is considered 1 when variable is not present in the weights dictionary\n",
    "\n",
    "weight_dict = get_weights()\n",
    "# print(\"Weights:{}\".format(weight_dict))"
   ]
  },
  {
   "cell_type": "code",
   "execution_count": 486,
   "metadata": {},
   "outputs": [],
   "source": [
    "def extract_variable_similarity(local_similarity):\n",
    "    \"\"\"\n",
    "    Extract variable names and their similarities from a dictionary of leaf pairs.\n",
    "    \n",
    "    Args:\n",
    "    pairs_similarity (dict): A dictionary with tuples of leaf pairs as keys and similarity values as values.\n",
    "    \n",
    "    Returns:\n",
    "    dict: A dictionary with variable names as keys and similarity values as values.\n",
    "    \"\"\"\n",
    "    variable_similarity = {}\n",
    "    \n",
    "    for (leaf1, leaf2), similarity in local_similarity.items():\n",
    "        variable = leaf1.split()[0]\n",
    "        variable_similarity[variable] = similarity\n",
    "    \n",
    "    return variable_similarity"
   ]
  },
  {
   "cell_type": "code",
   "execution_count": 487,
   "metadata": {},
   "outputs": [],
   "source": [
    "def global_satisfaction(local_similarity):\n",
    "    weight_dict=get_weights()\n",
    "    variable_similarity_dict=extract_variable_similarity(local_similarity)\n",
    "\n",
    "    weighted_sum = 0\n",
    "    total_weight = 0\n",
    "    \n",
    "    for var, error_obj in variable_similarity_dict.items():\n",
    "        error_value = error_obj[\"error\"]\n",
    "        weight = weight_dict.get(var, 1)\n",
    "        weighted_sum += error_value * weight\n",
    "        total_weight += weight\n",
    "\n",
    "    if total_weight == 0:\n",
    "        return 0  # Avoid division by zero\n",
    "    \n",
    "    weighted_average = weighted_sum / total_weight\n",
    "    return 1-weighted_average"
   ]
  },
  {
   "cell_type": "code",
   "execution_count": 488,
   "metadata": {},
   "outputs": [],
   "source": [
    "def scenario_similarity(final_similarity_given,\n",
    "                         final_similarity_when,\n",
    "                           final_similarity_then,\n",
    "                           weight_given=1.0,weight_when=1.0,weight_then=1.0):\n",
    "    return (final_similarity_given * weight_given + final_similarity_when * weight_when + final_similarity_then * weight_then) / (weight_given + weight_when + weight_then)"
   ]
  },
  {
   "cell_type": "code",
   "execution_count": 489,
   "metadata": {},
   "outputs": [],
   "source": [
    "def local_satisfaction(then_local_similarity_result):\n",
    "    # aqui eu uso o coeficiente de jaccard para verificar se cada clausula da expressao é satisfeita ou nao\n",
    "    # quando satisfeita o coeficiente de jaccard é >0 (v>0), logo recebe o valor 1,\n",
    "    # quando nao satisfeita o coeficiente de jaccard é == 0 (v==0), ele permacenecerá com o valor 0\n",
    "    return {k: 1 if v > 0 else 0 for k, v in then_local_similarity_result.items()}"
   ]
  },
  {
   "cell_type": "code",
   "execution_count": 490,
   "metadata": {},
   "outputs": [
    {
     "name": "stdout",
     "output_type": "stream",
     "text": [
      "Desired Then DNF:  height == 0 AND distance_target <= 5\n",
      "\n",
      "Leafs Then 1:  ['height == 0', 'distance_target <= 5']\n",
      "Variables Then 1:  ['height', 'distance_target']\n",
      "--\n",
      "Adaptation Effect DNF:  height == 1 AND distance_target == 3\n",
      "\n",
      "Leafs Adaptation Effect:  ['height == 1', 'distance_target == 3']\n",
      "\n",
      "Variables Adaptation Effect:  ['height', 'distance_target']\n",
      "\n",
      "Pair Leaves Then:  [('height == 0', 'height == 1'), ('distance_target <= 5', 'distance_target == 3')]\n",
      "\n",
      "Then Local Similarity Result:  {('height == 0', 'height == 1'): 0.0, ('distance_target <= 5', 'distance_target == 3'): 0.2}\n",
      "\n",
      "{('height == 0', 'height == 1'): 0, ('distance_target <= 5', 'distance_target == 3'): 1}\n",
      "Local Satisfaction:  {('height == 0', 'height == 1'): {'error': 0.01}, ('distance_target <= 5', 'distance_target == 3'): {'error': 0}}\n",
      "Global Similarity Then:  0.995\n",
      "\n"
     ]
    }
   ],
   "source": [
    "\n",
    "\n",
    "desired_scenario=get_desired_scenario()\n",
    "\n",
    "then_dnf1=to_dnf_expression(get_Then(desired_scenario))\n",
    "\n",
    "print(\"Desired Then DNF: \", then_dnf1)\n",
    "print(\"\")\n",
    "\n",
    "then_leafs1=get_leafs(then_dnf1)\n",
    "\n",
    "print(\"Leafs Then 1: \", then_leafs1)\n",
    "\n",
    "then_variables1=extract_variables(then_leafs1)\n",
    "\n",
    "print(\"Variables Then 1: \", then_variables1)\n",
    "\n",
    "print(\"--\")\n",
    "\n",
    "adaptation_effect = \"height == 1 AND distance_target == 3\" ## estou chamando de then, mas é o contexto alcancado\n",
    "\n",
    "adaptation_effect=to_dnf_expression(adaptation_effect)\n",
    "\n",
    "print(\"Adaptation Effect DNF: \", adaptation_effect)\n",
    "print(\"\")\n",
    "\n",
    "then_leafs2=get_leafs(adaptation_effect)\n",
    "\n",
    "print(\"Leafs Adaptation Effect: \", then_leafs2)\n",
    "print(\"\")\n",
    "\n",
    "then_variables2=extract_variables(then_leafs2)\n",
    "\n",
    "print(\"Variables Adaptation Effect: \", then_variables2)\n",
    "print(\"\")\n",
    "\n",
    "\n",
    "\n",
    "pair_leaves_then=pair_leaves(then_leafs1, then_leafs2)\n",
    "\n",
    "\n",
    "print(\"Pair Leaves Then: \", pair_leaves_then)\n",
    "print(\"\")\n",
    "\n",
    "\n",
    "then_local_similarity_result={}\n",
    "\n",
    "   \n",
    "\n",
    "for pair in pair_leaves_then:\n",
    "    then_local_similarity_result[pair]=local_similarity(pair[0], pair[1], load_variable_ranges())\n",
    "\n",
    "\n",
    "print(\"Then Local Similarity Result: \", then_local_similarity_result)\n",
    "print(\"\")\n",
    "\n",
    "local_satisfaction=local_satisfaction(then_local_similarity_result)\n",
    "print(local_satisfaction)\n",
    "\n",
    "zero_keys = [k for k, v in local_satisfaction.items() if v == 0]\n",
    "\n",
    "for key, value in local_satisfaction.items():\n",
    "    if value == 0:\n",
    "        leaf1 = key[0]\n",
    "        leaf2 = key[1]\n",
    "        var1, op1, val1 = parse_expression(leaf1)\n",
    "        var2, op2, val2 = parse_expression(leaf2)\n",
    "        var_info = load_variable_ranges().get(var1)\n",
    "        min_val = var_info['min_value']\n",
    "        max_val = var_info['max_value']\n",
    "        delta_val=abs(float(val2) - float(val1))\n",
    "        error=delta_val/(max_val-min_val)\n",
    "        local_satisfaction[key]={\"error\":error}\n",
    "    else:\n",
    "        local_satisfaction[key]={\"error\":0}\n",
    "        \n",
    "print(\"Local Satisfaction: \", local_satisfaction)       \n",
    "    \n",
    "\n",
    "global_similarity_then=global_satisfaction(local_satisfaction)\n",
    "\n",
    "\n",
    "print(\"Global Similarity Then: \", global_similarity_then)\n",
    "print(\"\")\n",
    "    "
   ]
  },
  {
   "cell_type": "code",
   "execution_count": 491,
   "metadata": {},
   "outputs": [
    {
     "data": {
      "text/plain": [
       "100"
      ]
     },
     "execution_count": 491,
     "metadata": {},
     "output_type": "execute_result"
    }
   ],
   "source": [
    "var_info\n",
    "min_val = var_info['max_value']\n",
    "min_val"
   ]
  },
  {
   "cell_type": "code",
   "execution_count": 492,
   "metadata": {},
   "outputs": [
    {
     "data": {
      "text/plain": [
       "<function __main__.load_variable_ranges(file_path='variables_config.json')>"
      ]
     },
     "execution_count": 492,
     "metadata": {},
     "output_type": "execute_result"
    }
   ],
   "source": [
    "load_variable_ranges"
   ]
  },
  {
   "cell_type": "code",
   "execution_count": 493,
   "metadata": {},
   "outputs": [
    {
     "ename": "SyntaxError",
     "evalue": "invalid syntax (3407229389.py, line 2)",
     "output_type": "error",
     "traceback": [
      "\u001b[1;36m  Cell \u001b[1;32mIn[493], line 2\u001b[1;36m\u001b[0m\n\u001b[1;33m    for\u001b[0m\n\u001b[1;37m        ^\u001b[0m\n\u001b[1;31mSyntaxError\u001b[0m\u001b[1;31m:\u001b[0m invalid syntax\n"
     ]
    }
   ],
   "source": [
    "zero_keys\n",
    "for "
   ]
  },
  {
   "cell_type": "code",
   "execution_count": null,
   "metadata": {},
   "outputs": [
    {
     "data": {
      "text/plain": [
       "'height == 0'"
      ]
     },
     "execution_count": 87,
     "metadata": {},
     "output_type": "execute_result"
    }
   ],
   "source": [
    "zero_keys[0][0]"
   ]
  },
  {
   "cell_type": "code",
   "execution_count": null,
   "metadata": {},
   "outputs": [],
   "source": [
    "# # Cria o DataFrame\n",
    "# df_results = pd.DataFrame(results_to_df).sort_values(by=\"Scenario Similarity\", ascending=False)\n",
    "\n",
    "# df_results"
   ]
  }
 ],
 "metadata": {
  "kernelspec": {
   "display_name": "USAS",
   "language": "python",
   "name": "python3"
  },
  "language_info": {
   "codemirror_mode": {
    "name": "ipython",
    "version": 3
   },
   "file_extension": ".py",
   "mimetype": "text/x-python",
   "name": "python",
   "nbconvert_exporter": "python",
   "pygments_lexer": "ipython3",
   "version": "3.11.9"
  }
 },
 "nbformat": 4,
 "nbformat_minor": 2
}
