{
 "cells": [
  {
   "cell_type": "code",
   "execution_count": 1,
   "metadata": {},
   "outputs": [],
   "source": [
    "import re\n",
    "import json"
   ]
  },
  {
   "cell_type": "code",
   "execution_count": 2,
   "metadata": {},
   "outputs": [],
   "source": [
    "\n",
    "# Função para processar a string e criar o dicionário\n",
    "def process_scenario(scenario_text):\n",
    "\n",
    "    # Ajustar o regex para capturar corretamente as partes da string\n",
    "    scenario_pattern = re.compile(\n",
    "        r'(?P<scenario_name>.+?):\\s*'\n",
    "        r'Given:\\s*(?P<Given>.+?)\\s*'\n",
    "        r'When:\\s*(?P<When>.+?)\\s*'\n",
    "        r'Do:\\s*(?P<Do>.+?)\\s*'\n",
    "        r'Then:\\s*(?P<Then>.+)'\n",
    "    , re.DOTALL)\n",
    "\n",
    "    match = scenario_pattern.search(scenario_text.strip())\n",
    "    if match:\n",
    "        scenario_name = match.group('scenario_name')\n",
    "        scenario_dict = {\n",
    "            scenario_name: {\n",
    "                'Given': match.group('Given'),\n",
    "                'When': match.group('When'),\n",
    "                'Do': match.group('Do'),\n",
    "                'Then': match.group('Then')\n",
    "            }\n",
    "        }\n",
    "        return scenario_dict\n",
    "    else:\n",
    "        return None"
   ]
  },
  {
   "cell_type": "code",
   "execution_count": 3,
   "metadata": {},
   "outputs": [],
   "source": [
    "def remove_itentation(text):\n",
    "    # Substitui 2 ou mais espaços consecutivos por um único espaço\n",
    "    return re.sub(r'\\s{2,}', ' ', text)"
   ]
  },
  {
   "cell_type": "code",
   "execution_count": 4,
   "metadata": {},
   "outputs": [],
   "source": [
    "json_scenarios = []\n",
    "# Lê o conteúdo do arquivo\n",
    "with open('shared_base.txt', 'r') as file:\n",
    "    content = file.read()\n",
    "\n",
    "# Remove espaços em branco desnecessários, mas mantém as quebras de linha\n",
    "content = remove_itentation(content)\n",
    "# content = content.replace(' ', '')\n",
    "\n",
    "# Separa os cenários\n",
    "scenarios = content.split(';\\n')\n",
    "\n",
    "for scenario_str in scenarios: \n",
    "    \n",
    "    scenario_dict = process_scenario(scenario_str)\n",
    "\n",
    "    # Converter o dicionário em JSON\n",
    "    # scenario_json = json.dumps(scenario_dict)\n",
    "    json_scenarios.append(scenario_dict)\n",
    "\n",
    "with open(\"shared_base.json\", 'w') as json_file:\n",
    "    json.dump(json_scenarios, json_file, indent=4)"
   ]
  }
 ],
 "metadata": {
  "kernelspec": {
   "display_name": "USAS",
   "language": "python",
   "name": "python3"
  },
  "language_info": {
   "codemirror_mode": {
    "name": "ipython",
    "version": 3
   },
   "file_extension": ".py",
   "mimetype": "text/x-python",
   "name": "python",
   "nbconvert_exporter": "python",
   "pygments_lexer": "ipython3",
   "version": "3.11.9"
  }
 },
 "nbformat": 4,
 "nbformat_minor": 2
}
