{
 "cells": [
  {
   "cell_type": "code",
   "execution_count": 259,
   "metadata": {},
   "outputs": [],
   "source": [
    "import pandas as pd\n",
    "import re\n",
    "import plotly.express as px\n",
    "import numpy as np\n",
    "from sklearn.preprocessing import MinMaxScaler\n",
    "# Configurar o Pandas para exibir todas as linhas do DataFrame\n",
    "pd.set_option('display.max_rows', None)"
   ]
  },
  {
   "cell_type": "markdown",
   "metadata": {},
   "source": [
    "### RQ2.3\n",
    "varying the number of the parameters in both the given and then clauses"
   ]
  },
  {
   "cell_type": "code",
   "execution_count": 260,
   "metadata": {},
   "outputs": [],
   "source": [
    "current_result = \"3_shared_scenarios_results\""
   ]
  },
  {
   "cell_type": "code",
   "execution_count": 261,
   "metadata": {},
   "outputs": [],
   "source": [
    "file_path = f'res/outcome/similarities/{current_result}.csv'\n",
    "df = pd.read_csv(file_path, sep=';')"
   ]
  },
  {
   "cell_type": "code",
   "execution_count": 262,
   "metadata": {},
   "outputs": [
    {
     "data": {
      "text/html": [
       "<div>\n",
       "<style scoped>\n",
       "    .dataframe tbody tr th:only-of-type {\n",
       "        vertical-align: middle;\n",
       "    }\n",
       "\n",
       "    .dataframe tbody tr th {\n",
       "        vertical-align: top;\n",
       "    }\n",
       "\n",
       "    .dataframe thead th {\n",
       "        text-align: right;\n",
       "    }\n",
       "</style>\n",
       "<table border=\"1\" class=\"dataframe\">\n",
       "  <thead>\n",
       "    <tr style=\"text-align: right;\">\n",
       "      <th></th>\n",
       "      <th>Scenario</th>\n",
       "      <th>Desired Given DNF</th>\n",
       "      <th>Shared Given DNF</th>\n",
       "      <th>Penality Given</th>\n",
       "      <th>Global Similarity Given</th>\n",
       "      <th>Final Similarity Given</th>\n",
       "      <th>Desired When DNF</th>\n",
       "      <th>Shared When DNF</th>\n",
       "      <th>Penality When</th>\n",
       "      <th>Global Similarity When</th>\n",
       "      <th>Final Similarity When</th>\n",
       "      <th>Desired Then DNF</th>\n",
       "      <th>Shared Then DNF</th>\n",
       "      <th>Penality Then</th>\n",
       "      <th>Global Similarity Then</th>\n",
       "      <th>Final Similarity Then</th>\n",
       "      <th>Scenario Similarity</th>\n",
       "      <th>Action</th>\n",
       "    </tr>\n",
       "  </thead>\n",
       "  <tbody>\n",
       "    <tr>\n",
       "      <th>0</th>\n",
       "      <td>Candidate_230</td>\n",
       "      <td>battery &gt; 10 AND satellite_count &gt; 7 AND wind_...</td>\n",
       "      <td>battery &gt;= 10 AND satellite_count &gt;= 7 AND win...</td>\n",
       "      <td>0.000000</td>\n",
       "      <td>1.0</td>\n",
       "      <td>1.000000</td>\n",
       "      <td>takeoff == 1</td>\n",
       "      <td>takeoff == 1</td>\n",
       "      <td>0.0</td>\n",
       "      <td>1.0</td>\n",
       "      <td>1.0</td>\n",
       "      <td>height &gt; 30 AND source_distance == 0</td>\n",
       "      <td>height &gt;= 30 AND source_distance == 0</td>\n",
       "      <td>0.000000</td>\n",
       "      <td>1.0</td>\n",
       "      <td>1.000000</td>\n",
       "      <td>1.000000</td>\n",
       "      <td>behavior_230</td>\n",
       "    </tr>\n",
       "    <tr>\n",
       "      <th>1</th>\n",
       "      <td>Candidate_380</td>\n",
       "      <td>battery &gt; 10 AND satellite_count &gt; 7 AND wind_...</td>\n",
       "      <td>battery &gt;= 10 AND satellite_count &gt;= 7 AND win...</td>\n",
       "      <td>0.032258</td>\n",
       "      <td>1.0</td>\n",
       "      <td>0.967742</td>\n",
       "      <td>takeoff == 1</td>\n",
       "      <td>takeoff == 1</td>\n",
       "      <td>0.0</td>\n",
       "      <td>1.0</td>\n",
       "      <td>1.0</td>\n",
       "      <td>height &gt; 30 AND source_distance == 0</td>\n",
       "      <td>height &gt;= 30 AND source_distance == 0</td>\n",
       "      <td>0.000000</td>\n",
       "      <td>1.0</td>\n",
       "      <td>1.000000</td>\n",
       "      <td>0.989247</td>\n",
       "      <td>behavior_380</td>\n",
       "    </tr>\n",
       "    <tr>\n",
       "      <th>2</th>\n",
       "      <td>Candidate_395</td>\n",
       "      <td>battery &gt; 10 AND satellite_count &gt; 7 AND wind_...</td>\n",
       "      <td>battery &gt;= 10 AND satellite_count &gt;= 7 AND win...</td>\n",
       "      <td>0.032258</td>\n",
       "      <td>1.0</td>\n",
       "      <td>0.967742</td>\n",
       "      <td>takeoff == 1</td>\n",
       "      <td>takeoff == 1</td>\n",
       "      <td>0.0</td>\n",
       "      <td>1.0</td>\n",
       "      <td>1.0</td>\n",
       "      <td>height &gt; 30 AND source_distance == 0</td>\n",
       "      <td>height &gt;= 30 AND source_distance == 0</td>\n",
       "      <td>0.000000</td>\n",
       "      <td>1.0</td>\n",
       "      <td>1.000000</td>\n",
       "      <td>0.989247</td>\n",
       "      <td>behavior_395</td>\n",
       "    </tr>\n",
       "    <tr>\n",
       "      <th>3</th>\n",
       "      <td>Candidate_236</td>\n",
       "      <td>battery &gt; 10 AND satellite_count &gt; 7 AND wind_...</td>\n",
       "      <td>battery &gt;= 10 AND satellite_count &gt;= 7 AND win...</td>\n",
       "      <td>0.000000</td>\n",
       "      <td>1.0</td>\n",
       "      <td>1.000000</td>\n",
       "      <td>takeoff == 1</td>\n",
       "      <td>takeoff == 1</td>\n",
       "      <td>0.0</td>\n",
       "      <td>1.0</td>\n",
       "      <td>1.0</td>\n",
       "      <td>height &gt; 30 AND source_distance == 0</td>\n",
       "      <td>height &gt;= 30 AND source_distance == 0 AND a &gt; 10</td>\n",
       "      <td>0.047619</td>\n",
       "      <td>1.0</td>\n",
       "      <td>0.952381</td>\n",
       "      <td>0.984127</td>\n",
       "      <td>behavior_236</td>\n",
       "    </tr>\n",
       "    <tr>\n",
       "      <th>4</th>\n",
       "      <td>Candidate_237</td>\n",
       "      <td>battery &gt; 10 AND satellite_count &gt; 7 AND wind_...</td>\n",
       "      <td>battery &gt;= 10 AND satellite_count &gt;= 7 AND win...</td>\n",
       "      <td>0.000000</td>\n",
       "      <td>1.0</td>\n",
       "      <td>1.000000</td>\n",
       "      <td>takeoff == 1</td>\n",
       "      <td>takeoff == 1</td>\n",
       "      <td>0.0</td>\n",
       "      <td>1.0</td>\n",
       "      <td>1.0</td>\n",
       "      <td>height &gt; 30 AND source_distance == 0</td>\n",
       "      <td>height &gt;= 30 AND source_distance == 0 AND b &gt; 10</td>\n",
       "      <td>0.047619</td>\n",
       "      <td>1.0</td>\n",
       "      <td>0.952381</td>\n",
       "      <td>0.984127</td>\n",
       "      <td>behavior_237</td>\n",
       "    </tr>\n",
       "    <tr>\n",
       "      <th>5</th>\n",
       "      <td>Candidate_455</td>\n",
       "      <td>battery &gt; 10 AND satellite_count &gt; 7 AND wind_...</td>\n",
       "      <td>battery &gt;= 10 AND satellite_count &gt;= 7 AND win...</td>\n",
       "      <td>0.062500</td>\n",
       "      <td>1.0</td>\n",
       "      <td>0.937500</td>\n",
       "      <td>takeoff == 1</td>\n",
       "      <td>takeoff == 1</td>\n",
       "      <td>0.0</td>\n",
       "      <td>1.0</td>\n",
       "      <td>1.0</td>\n",
       "      <td>height &gt; 30 AND source_distance == 0</td>\n",
       "      <td>height &gt;= 30 AND source_distance == 0</td>\n",
       "      <td>0.000000</td>\n",
       "      <td>1.0</td>\n",
       "      <td>1.000000</td>\n",
       "      <td>0.979167</td>\n",
       "      <td>behavior_455</td>\n",
       "    </tr>\n",
       "    <tr>\n",
       "      <th>6</th>\n",
       "      <td>Candidate_386</td>\n",
       "      <td>battery &gt; 10 AND satellite_count &gt; 7 AND wind_...</td>\n",
       "      <td>battery &gt;= 10 AND satellite_count &gt;= 7 AND win...</td>\n",
       "      <td>0.032258</td>\n",
       "      <td>1.0</td>\n",
       "      <td>0.967742</td>\n",
       "      <td>takeoff == 1</td>\n",
       "      <td>takeoff == 1</td>\n",
       "      <td>0.0</td>\n",
       "      <td>1.0</td>\n",
       "      <td>1.0</td>\n",
       "      <td>height &gt; 30 AND source_distance == 0</td>\n",
       "      <td>height &gt;= 30 AND source_distance == 0 AND a &gt; 10</td>\n",
       "      <td>0.047619</td>\n",
       "      <td>1.0</td>\n",
       "      <td>0.952381</td>\n",
       "      <td>0.973374</td>\n",
       "      <td>behavior_386</td>\n",
       "    </tr>\n",
       "    <tr>\n",
       "      <th>7</th>\n",
       "      <td>Candidate_387</td>\n",
       "      <td>battery &gt; 10 AND satellite_count &gt; 7 AND wind_...</td>\n",
       "      <td>battery &gt;= 10 AND satellite_count &gt;= 7 AND win...</td>\n",
       "      <td>0.032258</td>\n",
       "      <td>1.0</td>\n",
       "      <td>0.967742</td>\n",
       "      <td>takeoff == 1</td>\n",
       "      <td>takeoff == 1</td>\n",
       "      <td>0.0</td>\n",
       "      <td>1.0</td>\n",
       "      <td>1.0</td>\n",
       "      <td>height &gt; 30 AND source_distance == 0</td>\n",
       "      <td>height &gt;= 30 AND source_distance == 0 AND b &gt; 10</td>\n",
       "      <td>0.047619</td>\n",
       "      <td>1.0</td>\n",
       "      <td>0.952381</td>\n",
       "      <td>0.973374</td>\n",
       "      <td>behavior_387</td>\n",
       "    </tr>\n",
       "    <tr>\n",
       "      <th>8</th>\n",
       "      <td>Candidate_401</td>\n",
       "      <td>battery &gt; 10 AND satellite_count &gt; 7 AND wind_...</td>\n",
       "      <td>battery &gt;= 10 AND satellite_count &gt;= 7 AND win...</td>\n",
       "      <td>0.032258</td>\n",
       "      <td>1.0</td>\n",
       "      <td>0.967742</td>\n",
       "      <td>takeoff == 1</td>\n",
       "      <td>takeoff == 1</td>\n",
       "      <td>0.0</td>\n",
       "      <td>1.0</td>\n",
       "      <td>1.0</td>\n",
       "      <td>height &gt; 30 AND source_distance == 0</td>\n",
       "      <td>height &gt;= 30 AND source_distance == 0 AND a &gt; 10</td>\n",
       "      <td>0.047619</td>\n",
       "      <td>1.0</td>\n",
       "      <td>0.952381</td>\n",
       "      <td>0.973374</td>\n",
       "      <td>behavior_401</td>\n",
       "    </tr>\n",
       "    <tr>\n",
       "      <th>9</th>\n",
       "      <td>Candidate_402</td>\n",
       "      <td>battery &gt; 10 AND satellite_count &gt; 7 AND wind_...</td>\n",
       "      <td>battery &gt;= 10 AND satellite_count &gt;= 7 AND win...</td>\n",
       "      <td>0.032258</td>\n",
       "      <td>1.0</td>\n",
       "      <td>0.967742</td>\n",
       "      <td>takeoff == 1</td>\n",
       "      <td>takeoff == 1</td>\n",
       "      <td>0.0</td>\n",
       "      <td>1.0</td>\n",
       "      <td>1.0</td>\n",
       "      <td>height &gt; 30 AND source_distance == 0</td>\n",
       "      <td>height &gt;= 30 AND source_distance == 0 AND b &gt; 10</td>\n",
       "      <td>0.047619</td>\n",
       "      <td>1.0</td>\n",
       "      <td>0.952381</td>\n",
       "      <td>0.973374</td>\n",
       "      <td>behavior_402</td>\n",
       "    </tr>\n",
       "  </tbody>\n",
       "</table>\n",
       "</div>"
      ],
      "text/plain": [
       "        Scenario                                  Desired Given DNF  \\\n",
       "0  Candidate_230  battery > 10 AND satellite_count > 7 AND wind_...   \n",
       "1  Candidate_380  battery > 10 AND satellite_count > 7 AND wind_...   \n",
       "2  Candidate_395  battery > 10 AND satellite_count > 7 AND wind_...   \n",
       "3  Candidate_236  battery > 10 AND satellite_count > 7 AND wind_...   \n",
       "4  Candidate_237  battery > 10 AND satellite_count > 7 AND wind_...   \n",
       "5  Candidate_455  battery > 10 AND satellite_count > 7 AND wind_...   \n",
       "6  Candidate_386  battery > 10 AND satellite_count > 7 AND wind_...   \n",
       "7  Candidate_387  battery > 10 AND satellite_count > 7 AND wind_...   \n",
       "8  Candidate_401  battery > 10 AND satellite_count > 7 AND wind_...   \n",
       "9  Candidate_402  battery > 10 AND satellite_count > 7 AND wind_...   \n",
       "\n",
       "                                    Shared Given DNF  Penality Given  \\\n",
       "0  battery >= 10 AND satellite_count >= 7 AND win...        0.000000   \n",
       "1  battery >= 10 AND satellite_count >= 7 AND win...        0.032258   \n",
       "2  battery >= 10 AND satellite_count >= 7 AND win...        0.032258   \n",
       "3  battery >= 10 AND satellite_count >= 7 AND win...        0.000000   \n",
       "4  battery >= 10 AND satellite_count >= 7 AND win...        0.000000   \n",
       "5  battery >= 10 AND satellite_count >= 7 AND win...        0.062500   \n",
       "6  battery >= 10 AND satellite_count >= 7 AND win...        0.032258   \n",
       "7  battery >= 10 AND satellite_count >= 7 AND win...        0.032258   \n",
       "8  battery >= 10 AND satellite_count >= 7 AND win...        0.032258   \n",
       "9  battery >= 10 AND satellite_count >= 7 AND win...        0.032258   \n",
       "\n",
       "   Global Similarity Given  Final Similarity Given Desired When DNF  \\\n",
       "0                      1.0                1.000000     takeoff == 1   \n",
       "1                      1.0                0.967742     takeoff == 1   \n",
       "2                      1.0                0.967742     takeoff == 1   \n",
       "3                      1.0                1.000000     takeoff == 1   \n",
       "4                      1.0                1.000000     takeoff == 1   \n",
       "5                      1.0                0.937500     takeoff == 1   \n",
       "6                      1.0                0.967742     takeoff == 1   \n",
       "7                      1.0                0.967742     takeoff == 1   \n",
       "8                      1.0                0.967742     takeoff == 1   \n",
       "9                      1.0                0.967742     takeoff == 1   \n",
       "\n",
       "  Shared When DNF  Penality When  Global Similarity When  \\\n",
       "0    takeoff == 1            0.0                     1.0   \n",
       "1    takeoff == 1            0.0                     1.0   \n",
       "2    takeoff == 1            0.0                     1.0   \n",
       "3    takeoff == 1            0.0                     1.0   \n",
       "4    takeoff == 1            0.0                     1.0   \n",
       "5    takeoff == 1            0.0                     1.0   \n",
       "6    takeoff == 1            0.0                     1.0   \n",
       "7    takeoff == 1            0.0                     1.0   \n",
       "8    takeoff == 1            0.0                     1.0   \n",
       "9    takeoff == 1            0.0                     1.0   \n",
       "\n",
       "   Final Similarity When                      Desired Then DNF  \\\n",
       "0                    1.0  height > 30 AND source_distance == 0   \n",
       "1                    1.0  height > 30 AND source_distance == 0   \n",
       "2                    1.0  height > 30 AND source_distance == 0   \n",
       "3                    1.0  height > 30 AND source_distance == 0   \n",
       "4                    1.0  height > 30 AND source_distance == 0   \n",
       "5                    1.0  height > 30 AND source_distance == 0   \n",
       "6                    1.0  height > 30 AND source_distance == 0   \n",
       "7                    1.0  height > 30 AND source_distance == 0   \n",
       "8                    1.0  height > 30 AND source_distance == 0   \n",
       "9                    1.0  height > 30 AND source_distance == 0   \n",
       "\n",
       "                                    Shared Then DNF  Penality Then  \\\n",
       "0             height >= 30 AND source_distance == 0       0.000000   \n",
       "1             height >= 30 AND source_distance == 0       0.000000   \n",
       "2             height >= 30 AND source_distance == 0       0.000000   \n",
       "3  height >= 30 AND source_distance == 0 AND a > 10       0.047619   \n",
       "4  height >= 30 AND source_distance == 0 AND b > 10       0.047619   \n",
       "5             height >= 30 AND source_distance == 0       0.000000   \n",
       "6  height >= 30 AND source_distance == 0 AND a > 10       0.047619   \n",
       "7  height >= 30 AND source_distance == 0 AND b > 10       0.047619   \n",
       "8  height >= 30 AND source_distance == 0 AND a > 10       0.047619   \n",
       "9  height >= 30 AND source_distance == 0 AND b > 10       0.047619   \n",
       "\n",
       "   Global Similarity Then  Final Similarity Then  Scenario Similarity  \\\n",
       "0                     1.0               1.000000             1.000000   \n",
       "1                     1.0               1.000000             0.989247   \n",
       "2                     1.0               1.000000             0.989247   \n",
       "3                     1.0               0.952381             0.984127   \n",
       "4                     1.0               0.952381             0.984127   \n",
       "5                     1.0               1.000000             0.979167   \n",
       "6                     1.0               0.952381             0.973374   \n",
       "7                     1.0               0.952381             0.973374   \n",
       "8                     1.0               0.952381             0.973374   \n",
       "9                     1.0               0.952381             0.973374   \n",
       "\n",
       "         Action  \n",
       "0  behavior_230  \n",
       "1  behavior_380  \n",
       "2  behavior_395  \n",
       "3  behavior_236  \n",
       "4  behavior_237  \n",
       "5  behavior_455  \n",
       "6  behavior_386  \n",
       "7  behavior_387  \n",
       "8  behavior_401  \n",
       "9  behavior_402  "
      ]
     },
     "execution_count": 262,
     "metadata": {},
     "output_type": "execute_result"
    }
   ],
   "source": [
    "df.head(10)"
   ]
  },
  {
   "cell_type": "code",
   "execution_count": 263,
   "metadata": {},
   "outputs": [],
   "source": [
    "main_var = [\"battery\",\"satellite_count\",\"wind_speed\",\"height\",\"source_distance\"]\n",
    "extra_var = [\"a\", \"b\"]\n",
    "\n",
    "def count_vars(column, vars_list):\n",
    "    def match_structure(text):\n",
    "        # Regex para identificar \"variável operador valor\"\n",
    "        pattern = r'(\\b{}\\b\\s*[<>=!]+\\s*\\S+)'.format('|'.join(vars_list))\n",
    "        matches = re.findall(pattern, str(text))\n",
    "        return len(matches)\n",
    "\n",
    "    return column.apply(match_structure)\n",
    "\n",
    "# Criar colunas de contagem para 'Shared Given DNF' e 'Shared Then DNF'\n",
    "df['Count_Main_Var_Given'] = count_vars(df['Shared Given DNF'], main_var)\n",
    "df['Count_Extra_Var_Given'] = count_vars(df['Shared Given DNF'], extra_var)\n",
    "df['Count_Main_Var_Then'] = count_vars(df['Shared Then DNF'], main_var)\n",
    "df['Count_Extra_Var_Then'] = count_vars(df['Shared Then DNF'], extra_var)\n",
    "\n",
    "df[\"Count_Main_Var\"] = df[\"Count_Main_Var_Given\"] + df[\"Count_Main_Var_Then\"]\n",
    "df[\"Count_Extra_Var\"] = df[\"Count_Extra_Var_Given\"] + df[\"Count_Extra_Var_Then\"]"
   ]
  },
  {
   "cell_type": "code",
   "execution_count": 264,
   "metadata": {},
   "outputs": [],
   "source": [
    "# # aplicado a normalizacao para FICAR MAIS EVIDENTE A DIFERENÇA ENTRE AS SIMILARIDADES\n",
    "# scaler = MinMaxScaler(feature_range=(0, 1))  # Intervalo de 0 a 1\n",
    "# df['Normalized_Similarity'] = scaler.fit_transform(df[['Scenario Similarity']])"
   ]
  },
  {
   "cell_type": "code",
   "execution_count": 265,
   "metadata": {},
   "outputs": [],
   "source": [
    "# # ESCALA LOGARITMA PARA FICAR MAIS EVIDENTE A DIFERENÇA ENTRE AS SIMILARIDADES\n",
    "# df['Scaled_Similarity'] = np.power(df['Scenario Similarity'], 2)"
   ]
  },
  {
   "cell_type": "code",
   "execution_count": 266,
   "metadata": {},
   "outputs": [],
   "source": [
    "# def score_scale_fun(X, scores_old_min, scores_old_max, scores_new_min=0, scores_new_max=1):      \n",
    "#     X = scores_new_max - ((scores_new_max - scores_new_min) * (scores_old_max - X) / (scores_old_max - scores_old_min))      \n",
    "#     return X\n",
    "\n",
    "# def exp_scale_fun(X, exponent=-1):      \n",
    "#     X_transformed = (X + 1)**(exponent)      \n",
    "#     if exponent < 0:          \n",
    "#         X_transformed = 1 - X_transformed      \n",
    "#         X_transformed_scaled = score_scale_fun(X_transformed, X_transformed.min(), X_transformed.max(), X.min(), X.max())\n",
    "#     return X_transformed_scaled  "
   ]
  },
  {
   "cell_type": "code",
   "execution_count": 267,
   "metadata": {},
   "outputs": [],
   "source": [
    "# df['similarity_error'] = 1-df['Scenario Similarity']"
   ]
  },
  {
   "cell_type": "code",
   "execution_count": 268,
   "metadata": {},
   "outputs": [],
   "source": [
    "# # for exponent in [-1, -2.5, -5, -10, -20]:      \n",
    "# df['exponent_similarity_error'] = exp_scale_fun(df[\"similarity_error\"], exponent=-20)\n",
    "# # df.head()  "
   ]
  },
  {
   "cell_type": "code",
   "execution_count": 269,
   "metadata": {},
   "outputs": [],
   "source": [
    "# df['Count_Main_Var_Given'] = df['Count_Main_Var_Given'].astype(str)"
   ]
  },
  {
   "cell_type": "code",
   "execution_count": 270,
   "metadata": {},
   "outputs": [],
   "source": [
    "df['Scenario Similarity']=df['Scenario Similarity'].round(3)"
   ]
  },
  {
   "cell_type": "code",
   "execution_count": 271,
   "metadata": {},
   "outputs": [],
   "source": [
    "df[\"delta_main_given\"] = abs(df[\"Count_Main_Var_Given\"] - 3)\n",
    "df[\"delta_main_then\"] = abs(df[\"Count_Main_Var_Then\"] - 2)\n",
    "df[\"delta_main_total\"] = df[\"delta_main_given\"] + df[\"delta_main_then\"]"
   ]
  },
  {
   "cell_type": "code",
   "execution_count": 280,
   "metadata": {},
   "outputs": [
    {
     "data": {
      "text/html": [
       "<div>\n",
       "<style scoped>\n",
       "    .dataframe tbody tr th:only-of-type {\n",
       "        vertical-align: middle;\n",
       "    }\n",
       "\n",
       "    .dataframe tbody tr th {\n",
       "        vertical-align: top;\n",
       "    }\n",
       "\n",
       "    .dataframe thead th {\n",
       "        text-align: right;\n",
       "    }\n",
       "</style>\n",
       "<table border=\"1\" class=\"dataframe\">\n",
       "  <thead>\n",
       "    <tr style=\"text-align: right;\">\n",
       "      <th></th>\n",
       "      <th>Scenario</th>\n",
       "      <th>Scenario Similarity</th>\n",
       "      <th>Count_Main_Var_Given</th>\n",
       "      <th>delta_main_given</th>\n",
       "      <th>Count_Main_Var_Then</th>\n",
       "      <th>delta_main_then</th>\n",
       "      <th>delta_main_total</th>\n",
       "      <th>Count_Main_Var</th>\n",
       "      <th>Count_Extra_Var_Given</th>\n",
       "      <th>Count_Extra_Var_Then</th>\n",
       "      <th>Count_Extra_Var</th>\n",
       "    </tr>\n",
       "  </thead>\n",
       "  <tbody>\n",
       "    <tr>\n",
       "      <th>0</th>\n",
       "      <td>Candidate_230</td>\n",
       "      <td>1.000</td>\n",
       "      <td>3</td>\n",
       "      <td>0</td>\n",
       "      <td>2</td>\n",
       "      <td>0</td>\n",
       "      <td>0</td>\n",
       "      <td>5</td>\n",
       "      <td>0</td>\n",
       "      <td>0</td>\n",
       "      <td>0</td>\n",
       "    </tr>\n",
       "    <tr>\n",
       "      <th>1</th>\n",
       "      <td>Candidate_380</td>\n",
       "      <td>0.989</td>\n",
       "      <td>3</td>\n",
       "      <td>0</td>\n",
       "      <td>2</td>\n",
       "      <td>0</td>\n",
       "      <td>0</td>\n",
       "      <td>5</td>\n",
       "      <td>1</td>\n",
       "      <td>0</td>\n",
       "      <td>1</td>\n",
       "    </tr>\n",
       "    <tr>\n",
       "      <th>2</th>\n",
       "      <td>Candidate_395</td>\n",
       "      <td>0.989</td>\n",
       "      <td>3</td>\n",
       "      <td>0</td>\n",
       "      <td>2</td>\n",
       "      <td>0</td>\n",
       "      <td>0</td>\n",
       "      <td>5</td>\n",
       "      <td>1</td>\n",
       "      <td>0</td>\n",
       "      <td>1</td>\n",
       "    </tr>\n",
       "    <tr>\n",
       "      <th>3</th>\n",
       "      <td>Candidate_236</td>\n",
       "      <td>0.984</td>\n",
       "      <td>3</td>\n",
       "      <td>0</td>\n",
       "      <td>2</td>\n",
       "      <td>0</td>\n",
       "      <td>0</td>\n",
       "      <td>5</td>\n",
       "      <td>0</td>\n",
       "      <td>1</td>\n",
       "      <td>1</td>\n",
       "    </tr>\n",
       "    <tr>\n",
       "      <th>4</th>\n",
       "      <td>Candidate_237</td>\n",
       "      <td>0.984</td>\n",
       "      <td>3</td>\n",
       "      <td>0</td>\n",
       "      <td>2</td>\n",
       "      <td>0</td>\n",
       "      <td>0</td>\n",
       "      <td>5</td>\n",
       "      <td>0</td>\n",
       "      <td>1</td>\n",
       "      <td>1</td>\n",
       "    </tr>\n",
       "    <tr>\n",
       "      <th>5</th>\n",
       "      <td>Candidate_455</td>\n",
       "      <td>0.979</td>\n",
       "      <td>3</td>\n",
       "      <td>0</td>\n",
       "      <td>2</td>\n",
       "      <td>0</td>\n",
       "      <td>0</td>\n",
       "      <td>5</td>\n",
       "      <td>2</td>\n",
       "      <td>0</td>\n",
       "      <td>2</td>\n",
       "    </tr>\n",
       "    <tr>\n",
       "      <th>6</th>\n",
       "      <td>Candidate_386</td>\n",
       "      <td>0.973</td>\n",
       "      <td>3</td>\n",
       "      <td>0</td>\n",
       "      <td>2</td>\n",
       "      <td>0</td>\n",
       "      <td>0</td>\n",
       "      <td>5</td>\n",
       "      <td>1</td>\n",
       "      <td>1</td>\n",
       "      <td>2</td>\n",
       "    </tr>\n",
       "    <tr>\n",
       "      <th>7</th>\n",
       "      <td>Candidate_387</td>\n",
       "      <td>0.973</td>\n",
       "      <td>3</td>\n",
       "      <td>0</td>\n",
       "      <td>2</td>\n",
       "      <td>0</td>\n",
       "      <td>0</td>\n",
       "      <td>5</td>\n",
       "      <td>1</td>\n",
       "      <td>1</td>\n",
       "      <td>2</td>\n",
       "    </tr>\n",
       "    <tr>\n",
       "      <th>8</th>\n",
       "      <td>Candidate_401</td>\n",
       "      <td>0.973</td>\n",
       "      <td>3</td>\n",
       "      <td>0</td>\n",
       "      <td>2</td>\n",
       "      <td>0</td>\n",
       "      <td>0</td>\n",
       "      <td>5</td>\n",
       "      <td>1</td>\n",
       "      <td>1</td>\n",
       "      <td>2</td>\n",
       "    </tr>\n",
       "    <tr>\n",
       "      <th>9</th>\n",
       "      <td>Candidate_402</td>\n",
       "      <td>0.973</td>\n",
       "      <td>3</td>\n",
       "      <td>0</td>\n",
       "      <td>2</td>\n",
       "      <td>0</td>\n",
       "      <td>0</td>\n",
       "      <td>5</td>\n",
       "      <td>1</td>\n",
       "      <td>1</td>\n",
       "      <td>2</td>\n",
       "    </tr>\n",
       "    <tr>\n",
       "      <th>10</th>\n",
       "      <td>Candidate_240</td>\n",
       "      <td>0.970</td>\n",
       "      <td>3</td>\n",
       "      <td>0</td>\n",
       "      <td>2</td>\n",
       "      <td>0</td>\n",
       "      <td>0</td>\n",
       "      <td>5</td>\n",
       "      <td>0</td>\n",
       "      <td>2</td>\n",
       "      <td>2</td>\n",
       "    </tr>\n",
       "    <tr>\n",
       "      <th>11</th>\n",
       "      <td>Candidate_461</td>\n",
       "      <td>0.963</td>\n",
       "      <td>3</td>\n",
       "      <td>0</td>\n",
       "      <td>2</td>\n",
       "      <td>0</td>\n",
       "      <td>0</td>\n",
       "      <td>5</td>\n",
       "      <td>2</td>\n",
       "      <td>1</td>\n",
       "      <td>3</td>\n",
       "    </tr>\n",
       "    <tr>\n",
       "      <th>12</th>\n",
       "      <td>Candidate_462</td>\n",
       "      <td>0.963</td>\n",
       "      <td>3</td>\n",
       "      <td>0</td>\n",
       "      <td>2</td>\n",
       "      <td>0</td>\n",
       "      <td>0</td>\n",
       "      <td>5</td>\n",
       "      <td>2</td>\n",
       "      <td>1</td>\n",
       "      <td>3</td>\n",
       "    </tr>\n",
       "    <tr>\n",
       "      <th>13</th>\n",
       "      <td>Candidate_405</td>\n",
       "      <td>0.959</td>\n",
       "      <td>3</td>\n",
       "      <td>0</td>\n",
       "      <td>2</td>\n",
       "      <td>0</td>\n",
       "      <td>0</td>\n",
       "      <td>5</td>\n",
       "      <td>1</td>\n",
       "      <td>2</td>\n",
       "      <td>3</td>\n",
       "    </tr>\n",
       "    <tr>\n",
       "      <th>14</th>\n",
       "      <td>Candidate_390</td>\n",
       "      <td>0.959</td>\n",
       "      <td>3</td>\n",
       "      <td>0</td>\n",
       "      <td>2</td>\n",
       "      <td>0</td>\n",
       "      <td>0</td>\n",
       "      <td>5</td>\n",
       "      <td>1</td>\n",
       "      <td>2</td>\n",
       "      <td>3</td>\n",
       "    </tr>\n",
       "    <tr>\n",
       "      <th>15</th>\n",
       "      <td>Candidate_465</td>\n",
       "      <td>0.949</td>\n",
       "      <td>3</td>\n",
       "      <td>0</td>\n",
       "      <td>2</td>\n",
       "      <td>0</td>\n",
       "      <td>0</td>\n",
       "      <td>5</td>\n",
       "      <td>2</td>\n",
       "      <td>2</td>\n",
       "      <td>4</td>\n",
       "    </tr>\n",
       "    <tr>\n",
       "      <th>16</th>\n",
       "      <td>Candidate_140</td>\n",
       "      <td>0.897</td>\n",
       "      <td>2</td>\n",
       "      <td>1</td>\n",
       "      <td>2</td>\n",
       "      <td>0</td>\n",
       "      <td>1</td>\n",
       "      <td>4</td>\n",
       "      <td>0</td>\n",
       "      <td>0</td>\n",
       "      <td>0</td>\n",
       "    </tr>\n",
       "    <tr>\n",
       "      <th>17</th>\n",
       "      <td>Candidate_80</td>\n",
       "      <td>0.897</td>\n",
       "      <td>2</td>\n",
       "      <td>1</td>\n",
       "      <td>2</td>\n",
       "      <td>0</td>\n",
       "      <td>1</td>\n",
       "      <td>4</td>\n",
       "      <td>0</td>\n",
       "      <td>0</td>\n",
       "      <td>0</td>\n",
       "    </tr>\n",
       "    <tr>\n",
       "      <th>18</th>\n",
       "      <td>Candidate_95</td>\n",
       "      <td>0.897</td>\n",
       "      <td>2</td>\n",
       "      <td>1</td>\n",
       "      <td>2</td>\n",
       "      <td>0</td>\n",
       "      <td>1</td>\n",
       "      <td>4</td>\n",
       "      <td>0</td>\n",
       "      <td>0</td>\n",
       "      <td>0</td>\n",
       "    </tr>\n",
       "    <tr>\n",
       "      <th>19</th>\n",
       "      <td>Candidate_245</td>\n",
       "      <td>0.889</td>\n",
       "      <td>2</td>\n",
       "      <td>1</td>\n",
       "      <td>2</td>\n",
       "      <td>0</td>\n",
       "      <td>1</td>\n",
       "      <td>4</td>\n",
       "      <td>1</td>\n",
       "      <td>0</td>\n",
       "      <td>1</td>\n",
       "    </tr>\n",
       "    <tr>\n",
       "      <th>20</th>\n",
       "      <td>Candidate_335</td>\n",
       "      <td>0.889</td>\n",
       "      <td>2</td>\n",
       "      <td>1</td>\n",
       "      <td>2</td>\n",
       "      <td>0</td>\n",
       "      <td>1</td>\n",
       "      <td>4</td>\n",
       "      <td>1</td>\n",
       "      <td>0</td>\n",
       "      <td>1</td>\n",
       "    </tr>\n",
       "    <tr>\n",
       "      <th>21</th>\n",
       "      <td>Candidate_260</td>\n",
       "      <td>0.889</td>\n",
       "      <td>2</td>\n",
       "      <td>1</td>\n",
       "      <td>2</td>\n",
       "      <td>0</td>\n",
       "      <td>1</td>\n",
       "      <td>4</td>\n",
       "      <td>1</td>\n",
       "      <td>0</td>\n",
       "      <td>1</td>\n",
       "    </tr>\n",
       "    <tr>\n",
       "      <th>22</th>\n",
       "      <td>Candidate_275</td>\n",
       "      <td>0.889</td>\n",
       "      <td>2</td>\n",
       "      <td>1</td>\n",
       "      <td>2</td>\n",
       "      <td>0</td>\n",
       "      <td>1</td>\n",
       "      <td>4</td>\n",
       "      <td>1</td>\n",
       "      <td>0</td>\n",
       "      <td>1</td>\n",
       "    </tr>\n",
       "    <tr>\n",
       "      <th>23</th>\n",
       "      <td>Candidate_290</td>\n",
       "      <td>0.889</td>\n",
       "      <td>2</td>\n",
       "      <td>1</td>\n",
       "      <td>2</td>\n",
       "      <td>0</td>\n",
       "      <td>1</td>\n",
       "      <td>4</td>\n",
       "      <td>1</td>\n",
       "      <td>0</td>\n",
       "      <td>1</td>\n",
       "    </tr>\n",
       "    <tr>\n",
       "      <th>24</th>\n",
       "      <td>Candidate_320</td>\n",
       "      <td>0.889</td>\n",
       "      <td>2</td>\n",
       "      <td>1</td>\n",
       "      <td>2</td>\n",
       "      <td>0</td>\n",
       "      <td>1</td>\n",
       "      <td>4</td>\n",
       "      <td>1</td>\n",
       "      <td>0</td>\n",
       "      <td>1</td>\n",
       "    </tr>\n",
       "    <tr>\n",
       "      <th>25</th>\n",
       "      <td>Candidate_425</td>\n",
       "      <td>0.882</td>\n",
       "      <td>2</td>\n",
       "      <td>1</td>\n",
       "      <td>2</td>\n",
       "      <td>0</td>\n",
       "      <td>1</td>\n",
       "      <td>4</td>\n",
       "      <td>2</td>\n",
       "      <td>0</td>\n",
       "      <td>2</td>\n",
       "    </tr>\n",
       "    <tr>\n",
       "      <th>26</th>\n",
       "      <td>Candidate_440</td>\n",
       "      <td>0.882</td>\n",
       "      <td>2</td>\n",
       "      <td>1</td>\n",
       "      <td>2</td>\n",
       "      <td>0</td>\n",
       "      <td>1</td>\n",
       "      <td>4</td>\n",
       "      <td>2</td>\n",
       "      <td>0</td>\n",
       "      <td>2</td>\n",
       "    </tr>\n",
       "    <tr>\n",
       "      <th>27</th>\n",
       "      <td>Candidate_410</td>\n",
       "      <td>0.882</td>\n",
       "      <td>2</td>\n",
       "      <td>1</td>\n",
       "      <td>2</td>\n",
       "      <td>0</td>\n",
       "      <td>1</td>\n",
       "      <td>4</td>\n",
       "      <td>2</td>\n",
       "      <td>0</td>\n",
       "      <td>2</td>\n",
       "    </tr>\n",
       "    <tr>\n",
       "      <th>28</th>\n",
       "      <td>Candidate_147</td>\n",
       "      <td>0.881</td>\n",
       "      <td>2</td>\n",
       "      <td>1</td>\n",
       "      <td>2</td>\n",
       "      <td>0</td>\n",
       "      <td>1</td>\n",
       "      <td>4</td>\n",
       "      <td>0</td>\n",
       "      <td>1</td>\n",
       "      <td>1</td>\n",
       "    </tr>\n",
       "    <tr>\n",
       "      <th>29</th>\n",
       "      <td>Candidate_146</td>\n",
       "      <td>0.881</td>\n",
       "      <td>2</td>\n",
       "      <td>1</td>\n",
       "      <td>2</td>\n",
       "      <td>0</td>\n",
       "      <td>1</td>\n",
       "      <td>4</td>\n",
       "      <td>0</td>\n",
       "      <td>1</td>\n",
       "      <td>1</td>\n",
       "    </tr>\n",
       "    <tr>\n",
       "      <th>30</th>\n",
       "      <td>Candidate_102</td>\n",
       "      <td>0.881</td>\n",
       "      <td>2</td>\n",
       "      <td>1</td>\n",
       "      <td>2</td>\n",
       "      <td>0</td>\n",
       "      <td>1</td>\n",
       "      <td>4</td>\n",
       "      <td>0</td>\n",
       "      <td>1</td>\n",
       "      <td>1</td>\n",
       "    </tr>\n",
       "    <tr>\n",
       "      <th>31</th>\n",
       "      <td>Candidate_101</td>\n",
       "      <td>0.881</td>\n",
       "      <td>2</td>\n",
       "      <td>1</td>\n",
       "      <td>2</td>\n",
       "      <td>0</td>\n",
       "      <td>1</td>\n",
       "      <td>4</td>\n",
       "      <td>0</td>\n",
       "      <td>1</td>\n",
       "      <td>1</td>\n",
       "    </tr>\n",
       "    <tr>\n",
       "      <th>32</th>\n",
       "      <td>Candidate_87</td>\n",
       "      <td>0.881</td>\n",
       "      <td>2</td>\n",
       "      <td>1</td>\n",
       "      <td>2</td>\n",
       "      <td>0</td>\n",
       "      <td>1</td>\n",
       "      <td>4</td>\n",
       "      <td>0</td>\n",
       "      <td>1</td>\n",
       "      <td>1</td>\n",
       "    </tr>\n",
       "    <tr>\n",
       "      <th>33</th>\n",
       "      <td>Candidate_86</td>\n",
       "      <td>0.881</td>\n",
       "      <td>2</td>\n",
       "      <td>1</td>\n",
       "      <td>2</td>\n",
       "      <td>0</td>\n",
       "      <td>1</td>\n",
       "      <td>4</td>\n",
       "      <td>0</td>\n",
       "      <td>1</td>\n",
       "      <td>1</td>\n",
       "    </tr>\n",
       "    <tr>\n",
       "      <th>34</th>\n",
       "      <td>Candidate_297</td>\n",
       "      <td>0.873</td>\n",
       "      <td>2</td>\n",
       "      <td>1</td>\n",
       "      <td>2</td>\n",
       "      <td>0</td>\n",
       "      <td>1</td>\n",
       "      <td>4</td>\n",
       "      <td>1</td>\n",
       "      <td>1</td>\n",
       "      <td>2</td>\n",
       "    </tr>\n",
       "    <tr>\n",
       "      <th>35</th>\n",
       "      <td>Candidate_252</td>\n",
       "      <td>0.873</td>\n",
       "      <td>2</td>\n",
       "      <td>1</td>\n",
       "      <td>2</td>\n",
       "      <td>0</td>\n",
       "      <td>1</td>\n",
       "      <td>4</td>\n",
       "      <td>1</td>\n",
       "      <td>1</td>\n",
       "      <td>2</td>\n",
       "    </tr>\n",
       "    <tr>\n",
       "      <th>36</th>\n",
       "      <td>Candidate_326</td>\n",
       "      <td>0.873</td>\n",
       "      <td>2</td>\n",
       "      <td>1</td>\n",
       "      <td>2</td>\n",
       "      <td>0</td>\n",
       "      <td>1</td>\n",
       "      <td>4</td>\n",
       "      <td>1</td>\n",
       "      <td>1</td>\n",
       "      <td>2</td>\n",
       "    </tr>\n",
       "    <tr>\n",
       "      <th>37</th>\n",
       "      <td>Candidate_296</td>\n",
       "      <td>0.873</td>\n",
       "      <td>2</td>\n",
       "      <td>1</td>\n",
       "      <td>2</td>\n",
       "      <td>0</td>\n",
       "      <td>1</td>\n",
       "      <td>4</td>\n",
       "      <td>1</td>\n",
       "      <td>1</td>\n",
       "      <td>2</td>\n",
       "    </tr>\n",
       "    <tr>\n",
       "      <th>38</th>\n",
       "      <td>Candidate_282</td>\n",
       "      <td>0.873</td>\n",
       "      <td>2</td>\n",
       "      <td>1</td>\n",
       "      <td>2</td>\n",
       "      <td>0</td>\n",
       "      <td>1</td>\n",
       "      <td>4</td>\n",
       "      <td>1</td>\n",
       "      <td>1</td>\n",
       "      <td>2</td>\n",
       "    </tr>\n",
       "    <tr>\n",
       "      <th>39</th>\n",
       "      <td>Candidate_281</td>\n",
       "      <td>0.873</td>\n",
       "      <td>2</td>\n",
       "      <td>1</td>\n",
       "      <td>2</td>\n",
       "      <td>0</td>\n",
       "      <td>1</td>\n",
       "      <td>4</td>\n",
       "      <td>1</td>\n",
       "      <td>1</td>\n",
       "      <td>2</td>\n",
       "    </tr>\n",
       "    <tr>\n",
       "      <th>40</th>\n",
       "      <td>Candidate_327</td>\n",
       "      <td>0.873</td>\n",
       "      <td>2</td>\n",
       "      <td>1</td>\n",
       "      <td>2</td>\n",
       "      <td>0</td>\n",
       "      <td>1</td>\n",
       "      <td>4</td>\n",
       "      <td>1</td>\n",
       "      <td>1</td>\n",
       "      <td>2</td>\n",
       "    </tr>\n",
       "    <tr>\n",
       "      <th>41</th>\n",
       "      <td>Candidate_342</td>\n",
       "      <td>0.873</td>\n",
       "      <td>2</td>\n",
       "      <td>1</td>\n",
       "      <td>2</td>\n",
       "      <td>0</td>\n",
       "      <td>1</td>\n",
       "      <td>4</td>\n",
       "      <td>1</td>\n",
       "      <td>1</td>\n",
       "      <td>2</td>\n",
       "    </tr>\n",
       "    <tr>\n",
       "      <th>42</th>\n",
       "      <td>Candidate_267</td>\n",
       "      <td>0.873</td>\n",
       "      <td>2</td>\n",
       "      <td>1</td>\n",
       "      <td>2</td>\n",
       "      <td>0</td>\n",
       "      <td>1</td>\n",
       "      <td>4</td>\n",
       "      <td>1</td>\n",
       "      <td>1</td>\n",
       "      <td>2</td>\n",
       "    </tr>\n",
       "    <tr>\n",
       "      <th>43</th>\n",
       "      <td>Candidate_266</td>\n",
       "      <td>0.873</td>\n",
       "      <td>2</td>\n",
       "      <td>1</td>\n",
       "      <td>2</td>\n",
       "      <td>0</td>\n",
       "      <td>1</td>\n",
       "      <td>4</td>\n",
       "      <td>1</td>\n",
       "      <td>1</td>\n",
       "      <td>2</td>\n",
       "    </tr>\n",
       "    <tr>\n",
       "      <th>44</th>\n",
       "      <td>Candidate_341</td>\n",
       "      <td>0.873</td>\n",
       "      <td>2</td>\n",
       "      <td>1</td>\n",
       "      <td>2</td>\n",
       "      <td>0</td>\n",
       "      <td>1</td>\n",
       "      <td>4</td>\n",
       "      <td>1</td>\n",
       "      <td>1</td>\n",
       "      <td>2</td>\n",
       "    </tr>\n",
       "    <tr>\n",
       "      <th>45</th>\n",
       "      <td>Candidate_251</td>\n",
       "      <td>0.873</td>\n",
       "      <td>2</td>\n",
       "      <td>1</td>\n",
       "      <td>2</td>\n",
       "      <td>0</td>\n",
       "      <td>1</td>\n",
       "      <td>4</td>\n",
       "      <td>1</td>\n",
       "      <td>1</td>\n",
       "      <td>2</td>\n",
       "    </tr>\n",
       "    <tr>\n",
       "      <th>46</th>\n",
       "      <td>Candidate_150</td>\n",
       "      <td>0.866</td>\n",
       "      <td>2</td>\n",
       "      <td>1</td>\n",
       "      <td>2</td>\n",
       "      <td>0</td>\n",
       "      <td>1</td>\n",
       "      <td>4</td>\n",
       "      <td>0</td>\n",
       "      <td>2</td>\n",
       "      <td>2</td>\n",
       "    </tr>\n",
       "    <tr>\n",
       "      <th>47</th>\n",
       "      <td>Candidate_105</td>\n",
       "      <td>0.866</td>\n",
       "      <td>2</td>\n",
       "      <td>1</td>\n",
       "      <td>2</td>\n",
       "      <td>0</td>\n",
       "      <td>1</td>\n",
       "      <td>4</td>\n",
       "      <td>0</td>\n",
       "      <td>2</td>\n",
       "      <td>2</td>\n",
       "    </tr>\n",
       "    <tr>\n",
       "      <th>48</th>\n",
       "      <td>Candidate_90</td>\n",
       "      <td>0.866</td>\n",
       "      <td>2</td>\n",
       "      <td>1</td>\n",
       "      <td>2</td>\n",
       "      <td>0</td>\n",
       "      <td>1</td>\n",
       "      <td>4</td>\n",
       "      <td>0</td>\n",
       "      <td>2</td>\n",
       "      <td>2</td>\n",
       "    </tr>\n",
       "    <tr>\n",
       "      <th>49</th>\n",
       "      <td>Candidate_417</td>\n",
       "      <td>0.866</td>\n",
       "      <td>2</td>\n",
       "      <td>1</td>\n",
       "      <td>2</td>\n",
       "      <td>0</td>\n",
       "      <td>1</td>\n",
       "      <td>4</td>\n",
       "      <td>2</td>\n",
       "      <td>1</td>\n",
       "      <td>3</td>\n",
       "    </tr>\n",
       "    <tr>\n",
       "      <th>50</th>\n",
       "      <td>Candidate_447</td>\n",
       "      <td>0.866</td>\n",
       "      <td>2</td>\n",
       "      <td>1</td>\n",
       "      <td>2</td>\n",
       "      <td>0</td>\n",
       "      <td>1</td>\n",
       "      <td>4</td>\n",
       "      <td>2</td>\n",
       "      <td>1</td>\n",
       "      <td>3</td>\n",
       "    </tr>\n",
       "    <tr>\n",
       "      <th>51</th>\n",
       "      <td>Candidate_432</td>\n",
       "      <td>0.866</td>\n",
       "      <td>2</td>\n",
       "      <td>1</td>\n",
       "      <td>2</td>\n",
       "      <td>0</td>\n",
       "      <td>1</td>\n",
       "      <td>4</td>\n",
       "      <td>2</td>\n",
       "      <td>1</td>\n",
       "      <td>3</td>\n",
       "    </tr>\n",
       "    <tr>\n",
       "      <th>52</th>\n",
       "      <td>Candidate_431</td>\n",
       "      <td>0.866</td>\n",
       "      <td>2</td>\n",
       "      <td>1</td>\n",
       "      <td>2</td>\n",
       "      <td>0</td>\n",
       "      <td>1</td>\n",
       "      <td>4</td>\n",
       "      <td>2</td>\n",
       "      <td>1</td>\n",
       "      <td>3</td>\n",
       "    </tr>\n",
       "    <tr>\n",
       "      <th>53</th>\n",
       "      <td>Candidate_446</td>\n",
       "      <td>0.866</td>\n",
       "      <td>2</td>\n",
       "      <td>1</td>\n",
       "      <td>2</td>\n",
       "      <td>0</td>\n",
       "      <td>1</td>\n",
       "      <td>4</td>\n",
       "      <td>2</td>\n",
       "      <td>1</td>\n",
       "      <td>3</td>\n",
       "    </tr>\n",
       "    <tr>\n",
       "      <th>54</th>\n",
       "      <td>Candidate_416</td>\n",
       "      <td>0.866</td>\n",
       "      <td>2</td>\n",
       "      <td>1</td>\n",
       "      <td>2</td>\n",
       "      <td>0</td>\n",
       "      <td>1</td>\n",
       "      <td>4</td>\n",
       "      <td>2</td>\n",
       "      <td>1</td>\n",
       "      <td>3</td>\n",
       "    </tr>\n",
       "    <tr>\n",
       "      <th>55</th>\n",
       "      <td>Candidate_345</td>\n",
       "      <td>0.859</td>\n",
       "      <td>2</td>\n",
       "      <td>1</td>\n",
       "      <td>2</td>\n",
       "      <td>0</td>\n",
       "      <td>1</td>\n",
       "      <td>4</td>\n",
       "      <td>1</td>\n",
       "      <td>2</td>\n",
       "      <td>3</td>\n",
       "    </tr>\n",
       "    <tr>\n",
       "      <th>56</th>\n",
       "      <td>Candidate_255</td>\n",
       "      <td>0.859</td>\n",
       "      <td>2</td>\n",
       "      <td>1</td>\n",
       "      <td>2</td>\n",
       "      <td>0</td>\n",
       "      <td>1</td>\n",
       "      <td>4</td>\n",
       "      <td>1</td>\n",
       "      <td>2</td>\n",
       "      <td>3</td>\n",
       "    </tr>\n",
       "    <tr>\n",
       "      <th>57</th>\n",
       "      <td>Candidate_330</td>\n",
       "      <td>0.859</td>\n",
       "      <td>2</td>\n",
       "      <td>1</td>\n",
       "      <td>2</td>\n",
       "      <td>0</td>\n",
       "      <td>1</td>\n",
       "      <td>4</td>\n",
       "      <td>1</td>\n",
       "      <td>2</td>\n",
       "      <td>3</td>\n",
       "    </tr>\n",
       "    <tr>\n",
       "      <th>58</th>\n",
       "      <td>Candidate_270</td>\n",
       "      <td>0.859</td>\n",
       "      <td>2</td>\n",
       "      <td>1</td>\n",
       "      <td>2</td>\n",
       "      <td>0</td>\n",
       "      <td>1</td>\n",
       "      <td>4</td>\n",
       "      <td>1</td>\n",
       "      <td>2</td>\n",
       "      <td>3</td>\n",
       "    </tr>\n",
       "    <tr>\n",
       "      <th>59</th>\n",
       "      <td>Candidate_285</td>\n",
       "      <td>0.859</td>\n",
       "      <td>2</td>\n",
       "      <td>1</td>\n",
       "      <td>2</td>\n",
       "      <td>0</td>\n",
       "      <td>1</td>\n",
       "      <td>4</td>\n",
       "      <td>1</td>\n",
       "      <td>2</td>\n",
       "      <td>3</td>\n",
       "    </tr>\n",
       "    <tr>\n",
       "      <th>60</th>\n",
       "      <td>Candidate_300</td>\n",
       "      <td>0.859</td>\n",
       "      <td>2</td>\n",
       "      <td>1</td>\n",
       "      <td>2</td>\n",
       "      <td>0</td>\n",
       "      <td>1</td>\n",
       "      <td>4</td>\n",
       "      <td>1</td>\n",
       "      <td>2</td>\n",
       "      <td>3</td>\n",
       "    </tr>\n",
       "    <tr>\n",
       "      <th>61</th>\n",
       "      <td>Candidate_420</td>\n",
       "      <td>0.851</td>\n",
       "      <td>2</td>\n",
       "      <td>1</td>\n",
       "      <td>2</td>\n",
       "      <td>0</td>\n",
       "      <td>1</td>\n",
       "      <td>4</td>\n",
       "      <td>2</td>\n",
       "      <td>2</td>\n",
       "      <td>4</td>\n",
       "    </tr>\n",
       "    <tr>\n",
       "      <th>62</th>\n",
       "      <td>Candidate_435</td>\n",
       "      <td>0.851</td>\n",
       "      <td>2</td>\n",
       "      <td>1</td>\n",
       "      <td>2</td>\n",
       "      <td>0</td>\n",
       "      <td>1</td>\n",
       "      <td>4</td>\n",
       "      <td>2</td>\n",
       "      <td>2</td>\n",
       "      <td>4</td>\n",
       "    </tr>\n",
       "    <tr>\n",
       "      <th>63</th>\n",
       "      <td>Candidate_450</td>\n",
       "      <td>0.851</td>\n",
       "      <td>2</td>\n",
       "      <td>1</td>\n",
       "      <td>2</td>\n",
       "      <td>0</td>\n",
       "      <td>1</td>\n",
       "      <td>4</td>\n",
       "      <td>2</td>\n",
       "      <td>2</td>\n",
       "      <td>4</td>\n",
       "    </tr>\n",
       "    <tr>\n",
       "      <th>64</th>\n",
       "      <td>Candidate_227</td>\n",
       "      <td>0.842</td>\n",
       "      <td>3</td>\n",
       "      <td>0</td>\n",
       "      <td>1</td>\n",
       "      <td>1</td>\n",
       "      <td>1</td>\n",
       "      <td>4</td>\n",
       "      <td>0</td>\n",
       "      <td>0</td>\n",
       "      <td>0</td>\n",
       "    </tr>\n",
       "    <tr>\n",
       "      <th>65</th>\n",
       "      <td>Candidate_226</td>\n",
       "      <td>0.842</td>\n",
       "      <td>3</td>\n",
       "      <td>0</td>\n",
       "      <td>1</td>\n",
       "      <td>1</td>\n",
       "      <td>1</td>\n",
       "      <td>4</td>\n",
       "      <td>0</td>\n",
       "      <td>0</td>\n",
       "      <td>0</td>\n",
       "    </tr>\n",
       "    <tr>\n",
       "      <th>66</th>\n",
       "      <td>Candidate_231</td>\n",
       "      <td>0.833</td>\n",
       "      <td>3</td>\n",
       "      <td>0</td>\n",
       "      <td>1</td>\n",
       "      <td>1</td>\n",
       "      <td>1</td>\n",
       "      <td>4</td>\n",
       "      <td>0</td>\n",
       "      <td>1</td>\n",
       "      <td>1</td>\n",
       "    </tr>\n",
       "    <tr>\n",
       "      <th>67</th>\n",
       "      <td>Candidate_232</td>\n",
       "      <td>0.833</td>\n",
       "      <td>3</td>\n",
       "      <td>0</td>\n",
       "      <td>1</td>\n",
       "      <td>1</td>\n",
       "      <td>1</td>\n",
       "      <td>4</td>\n",
       "      <td>0</td>\n",
       "      <td>1</td>\n",
       "      <td>1</td>\n",
       "    </tr>\n",
       "    <tr>\n",
       "      <th>68</th>\n",
       "      <td>Candidate_234</td>\n",
       "      <td>0.833</td>\n",
       "      <td>3</td>\n",
       "      <td>0</td>\n",
       "      <td>1</td>\n",
       "      <td>1</td>\n",
       "      <td>1</td>\n",
       "      <td>4</td>\n",
       "      <td>0</td>\n",
       "      <td>1</td>\n",
       "      <td>1</td>\n",
       "    </tr>\n",
       "    <tr>\n",
       "      <th>69</th>\n",
       "      <td>Candidate_233</td>\n",
       "      <td>0.833</td>\n",
       "      <td>3</td>\n",
       "      <td>0</td>\n",
       "      <td>1</td>\n",
       "      <td>1</td>\n",
       "      <td>1</td>\n",
       "      <td>4</td>\n",
       "      <td>0</td>\n",
       "      <td>1</td>\n",
       "      <td>1</td>\n",
       "    </tr>\n",
       "    <tr>\n",
       "      <th>70</th>\n",
       "      <td>Candidate_391</td>\n",
       "      <td>0.831</td>\n",
       "      <td>3</td>\n",
       "      <td>0</td>\n",
       "      <td>1</td>\n",
       "      <td>1</td>\n",
       "      <td>1</td>\n",
       "      <td>4</td>\n",
       "      <td>1</td>\n",
       "      <td>0</td>\n",
       "      <td>1</td>\n",
       "    </tr>\n",
       "    <tr>\n",
       "      <th>71</th>\n",
       "      <td>Candidate_376</td>\n",
       "      <td>0.831</td>\n",
       "      <td>3</td>\n",
       "      <td>0</td>\n",
       "      <td>1</td>\n",
       "      <td>1</td>\n",
       "      <td>1</td>\n",
       "      <td>4</td>\n",
       "      <td>1</td>\n",
       "      <td>0</td>\n",
       "      <td>1</td>\n",
       "    </tr>\n",
       "    <tr>\n",
       "      <th>72</th>\n",
       "      <td>Candidate_377</td>\n",
       "      <td>0.831</td>\n",
       "      <td>3</td>\n",
       "      <td>0</td>\n",
       "      <td>1</td>\n",
       "      <td>1</td>\n",
       "      <td>1</td>\n",
       "      <td>4</td>\n",
       "      <td>1</td>\n",
       "      <td>0</td>\n",
       "      <td>1</td>\n",
       "    </tr>\n",
       "    <tr>\n",
       "      <th>73</th>\n",
       "      <td>Candidate_392</td>\n",
       "      <td>0.831</td>\n",
       "      <td>3</td>\n",
       "      <td>0</td>\n",
       "      <td>1</td>\n",
       "      <td>1</td>\n",
       "      <td>1</td>\n",
       "      <td>4</td>\n",
       "      <td>1</td>\n",
       "      <td>0</td>\n",
       "      <td>1</td>\n",
       "    </tr>\n",
       "    <tr>\n",
       "      <th>74</th>\n",
       "      <td>Candidate_239</td>\n",
       "      <td>0.825</td>\n",
       "      <td>3</td>\n",
       "      <td>0</td>\n",
       "      <td>1</td>\n",
       "      <td>1</td>\n",
       "      <td>1</td>\n",
       "      <td>4</td>\n",
       "      <td>0</td>\n",
       "      <td>2</td>\n",
       "      <td>2</td>\n",
       "    </tr>\n",
       "    <tr>\n",
       "      <th>75</th>\n",
       "      <td>Candidate_238</td>\n",
       "      <td>0.825</td>\n",
       "      <td>3</td>\n",
       "      <td>0</td>\n",
       "      <td>1</td>\n",
       "      <td>1</td>\n",
       "      <td>1</td>\n",
       "      <td>4</td>\n",
       "      <td>0</td>\n",
       "      <td>2</td>\n",
       "      <td>2</td>\n",
       "    </tr>\n",
       "    <tr>\n",
       "      <th>76</th>\n",
       "      <td>Candidate_384</td>\n",
       "      <td>0.823</td>\n",
       "      <td>3</td>\n",
       "      <td>0</td>\n",
       "      <td>1</td>\n",
       "      <td>1</td>\n",
       "      <td>1</td>\n",
       "      <td>4</td>\n",
       "      <td>1</td>\n",
       "      <td>1</td>\n",
       "      <td>2</td>\n",
       "    </tr>\n",
       "    <tr>\n",
       "      <th>77</th>\n",
       "      <td>Candidate_383</td>\n",
       "      <td>0.823</td>\n",
       "      <td>3</td>\n",
       "      <td>0</td>\n",
       "      <td>1</td>\n",
       "      <td>1</td>\n",
       "      <td>1</td>\n",
       "      <td>4</td>\n",
       "      <td>1</td>\n",
       "      <td>1</td>\n",
       "      <td>2</td>\n",
       "    </tr>\n",
       "    <tr>\n",
       "      <th>78</th>\n",
       "      <td>Candidate_382</td>\n",
       "      <td>0.823</td>\n",
       "      <td>3</td>\n",
       "      <td>0</td>\n",
       "      <td>1</td>\n",
       "      <td>1</td>\n",
       "      <td>1</td>\n",
       "      <td>4</td>\n",
       "      <td>1</td>\n",
       "      <td>1</td>\n",
       "      <td>2</td>\n",
       "    </tr>\n",
       "    <tr>\n",
       "      <th>79</th>\n",
       "      <td>Candidate_396</td>\n",
       "      <td>0.823</td>\n",
       "      <td>3</td>\n",
       "      <td>0</td>\n",
       "      <td>1</td>\n",
       "      <td>1</td>\n",
       "      <td>1</td>\n",
       "      <td>4</td>\n",
       "      <td>1</td>\n",
       "      <td>1</td>\n",
       "      <td>2</td>\n",
       "    </tr>\n",
       "    <tr>\n",
       "      <th>80</th>\n",
       "      <td>Candidate_397</td>\n",
       "      <td>0.823</td>\n",
       "      <td>3</td>\n",
       "      <td>0</td>\n",
       "      <td>1</td>\n",
       "      <td>1</td>\n",
       "      <td>1</td>\n",
       "      <td>4</td>\n",
       "      <td>1</td>\n",
       "      <td>1</td>\n",
       "      <td>2</td>\n",
       "    </tr>\n",
       "    <tr>\n",
       "      <th>81</th>\n",
       "      <td>Candidate_398</td>\n",
       "      <td>0.823</td>\n",
       "      <td>3</td>\n",
       "      <td>0</td>\n",
       "      <td>1</td>\n",
       "      <td>1</td>\n",
       "      <td>1</td>\n",
       "      <td>4</td>\n",
       "      <td>1</td>\n",
       "      <td>1</td>\n",
       "      <td>2</td>\n",
       "    </tr>\n",
       "    <tr>\n",
       "      <th>82</th>\n",
       "      <td>Candidate_399</td>\n",
       "      <td>0.823</td>\n",
       "      <td>3</td>\n",
       "      <td>0</td>\n",
       "      <td>1</td>\n",
       "      <td>1</td>\n",
       "      <td>1</td>\n",
       "      <td>4</td>\n",
       "      <td>1</td>\n",
       "      <td>1</td>\n",
       "      <td>2</td>\n",
       "    </tr>\n",
       "    <tr>\n",
       "      <th>83</th>\n",
       "      <td>Candidate_381</td>\n",
       "      <td>0.823</td>\n",
       "      <td>3</td>\n",
       "      <td>0</td>\n",
       "      <td>1</td>\n",
       "      <td>1</td>\n",
       "      <td>1</td>\n",
       "      <td>4</td>\n",
       "      <td>1</td>\n",
       "      <td>1</td>\n",
       "      <td>2</td>\n",
       "    </tr>\n",
       "    <tr>\n",
       "      <th>84</th>\n",
       "      <td>Candidate_452</td>\n",
       "      <td>0.821</td>\n",
       "      <td>3</td>\n",
       "      <td>0</td>\n",
       "      <td>1</td>\n",
       "      <td>1</td>\n",
       "      <td>1</td>\n",
       "      <td>4</td>\n",
       "      <td>2</td>\n",
       "      <td>0</td>\n",
       "      <td>2</td>\n",
       "    </tr>\n",
       "    <tr>\n",
       "      <th>85</th>\n",
       "      <td>Candidate_451</td>\n",
       "      <td>0.821</td>\n",
       "      <td>3</td>\n",
       "      <td>0</td>\n",
       "      <td>1</td>\n",
       "      <td>1</td>\n",
       "      <td>1</td>\n",
       "      <td>4</td>\n",
       "      <td>2</td>\n",
       "      <td>0</td>\n",
       "      <td>2</td>\n",
       "    </tr>\n",
       "    <tr>\n",
       "      <th>86</th>\n",
       "      <td>Candidate_388</td>\n",
       "      <td>0.815</td>\n",
       "      <td>3</td>\n",
       "      <td>0</td>\n",
       "      <td>1</td>\n",
       "      <td>1</td>\n",
       "      <td>1</td>\n",
       "      <td>4</td>\n",
       "      <td>1</td>\n",
       "      <td>2</td>\n",
       "      <td>3</td>\n",
       "    </tr>\n",
       "    <tr>\n",
       "      <th>87</th>\n",
       "      <td>Candidate_389</td>\n",
       "      <td>0.815</td>\n",
       "      <td>3</td>\n",
       "      <td>0</td>\n",
       "      <td>1</td>\n",
       "      <td>1</td>\n",
       "      <td>1</td>\n",
       "      <td>4</td>\n",
       "      <td>1</td>\n",
       "      <td>2</td>\n",
       "      <td>3</td>\n",
       "    </tr>\n",
       "    <tr>\n",
       "      <th>88</th>\n",
       "      <td>Candidate_403</td>\n",
       "      <td>0.815</td>\n",
       "      <td>3</td>\n",
       "      <td>0</td>\n",
       "      <td>1</td>\n",
       "      <td>1</td>\n",
       "      <td>1</td>\n",
       "      <td>4</td>\n",
       "      <td>1</td>\n",
       "      <td>2</td>\n",
       "      <td>3</td>\n",
       "    </tr>\n",
       "    <tr>\n",
       "      <th>89</th>\n",
       "      <td>Candidate_404</td>\n",
       "      <td>0.815</td>\n",
       "      <td>3</td>\n",
       "      <td>0</td>\n",
       "      <td>1</td>\n",
       "      <td>1</td>\n",
       "      <td>1</td>\n",
       "      <td>4</td>\n",
       "      <td>1</td>\n",
       "      <td>2</td>\n",
       "      <td>3</td>\n",
       "    </tr>\n",
       "    <tr>\n",
       "      <th>90</th>\n",
       "      <td>Candidate_457</td>\n",
       "      <td>0.812</td>\n",
       "      <td>3</td>\n",
       "      <td>0</td>\n",
       "      <td>1</td>\n",
       "      <td>1</td>\n",
       "      <td>1</td>\n",
       "      <td>4</td>\n",
       "      <td>2</td>\n",
       "      <td>1</td>\n",
       "      <td>3</td>\n",
       "    </tr>\n",
       "    <tr>\n",
       "      <th>91</th>\n",
       "      <td>Candidate_458</td>\n",
       "      <td>0.812</td>\n",
       "      <td>3</td>\n",
       "      <td>0</td>\n",
       "      <td>1</td>\n",
       "      <td>1</td>\n",
       "      <td>1</td>\n",
       "      <td>4</td>\n",
       "      <td>2</td>\n",
       "      <td>1</td>\n",
       "      <td>3</td>\n",
       "    </tr>\n",
       "    <tr>\n",
       "      <th>92</th>\n",
       "      <td>Candidate_456</td>\n",
       "      <td>0.812</td>\n",
       "      <td>3</td>\n",
       "      <td>0</td>\n",
       "      <td>1</td>\n",
       "      <td>1</td>\n",
       "      <td>1</td>\n",
       "      <td>4</td>\n",
       "      <td>2</td>\n",
       "      <td>1</td>\n",
       "      <td>3</td>\n",
       "    </tr>\n",
       "    <tr>\n",
       "      <th>93</th>\n",
       "      <td>Candidate_459</td>\n",
       "      <td>0.812</td>\n",
       "      <td>3</td>\n",
       "      <td>0</td>\n",
       "      <td>1</td>\n",
       "      <td>1</td>\n",
       "      <td>1</td>\n",
       "      <td>4</td>\n",
       "      <td>2</td>\n",
       "      <td>1</td>\n",
       "      <td>3</td>\n",
       "    </tr>\n",
       "    <tr>\n",
       "      <th>94</th>\n",
       "      <td>Candidate_464</td>\n",
       "      <td>0.805</td>\n",
       "      <td>3</td>\n",
       "      <td>0</td>\n",
       "      <td>1</td>\n",
       "      <td>1</td>\n",
       "      <td>1</td>\n",
       "      <td>4</td>\n",
       "      <td>2</td>\n",
       "      <td>2</td>\n",
       "      <td>4</td>\n",
       "    </tr>\n",
       "    <tr>\n",
       "      <th>95</th>\n",
       "      <td>Candidate_463</td>\n",
       "      <td>0.805</td>\n",
       "      <td>3</td>\n",
       "      <td>0</td>\n",
       "      <td>1</td>\n",
       "      <td>1</td>\n",
       "      <td>1</td>\n",
       "      <td>4</td>\n",
       "      <td>2</td>\n",
       "      <td>2</td>\n",
       "      <td>4</td>\n",
       "    </tr>\n",
       "    <tr>\n",
       "      <th>96</th>\n",
       "      <td>Candidate_5</td>\n",
       "      <td>0.786</td>\n",
       "      <td>1</td>\n",
       "      <td>2</td>\n",
       "      <td>2</td>\n",
       "      <td>0</td>\n",
       "      <td>2</td>\n",
       "      <td>3</td>\n",
       "      <td>0</td>\n",
       "      <td>0</td>\n",
       "      <td>0</td>\n",
       "    </tr>\n",
       "    <tr>\n",
       "      <th>97</th>\n",
       "      <td>Candidate_20</td>\n",
       "      <td>0.786</td>\n",
       "      <td>1</td>\n",
       "      <td>2</td>\n",
       "      <td>2</td>\n",
       "      <td>0</td>\n",
       "      <td>2</td>\n",
       "      <td>3</td>\n",
       "      <td>0</td>\n",
       "      <td>0</td>\n",
       "      <td>0</td>\n",
       "    </tr>\n",
       "    <tr>\n",
       "      <th>98</th>\n",
       "      <td>Candidate_35</td>\n",
       "      <td>0.786</td>\n",
       "      <td>1</td>\n",
       "      <td>2</td>\n",
       "      <td>2</td>\n",
       "      <td>0</td>\n",
       "      <td>2</td>\n",
       "      <td>3</td>\n",
       "      <td>0</td>\n",
       "      <td>0</td>\n",
       "      <td>0</td>\n",
       "    </tr>\n",
       "    <tr>\n",
       "      <th>99</th>\n",
       "      <td>Candidate_200</td>\n",
       "      <td>0.782</td>\n",
       "      <td>1</td>\n",
       "      <td>2</td>\n",
       "      <td>2</td>\n",
       "      <td>0</td>\n",
       "      <td>2</td>\n",
       "      <td>3</td>\n",
       "      <td>1</td>\n",
       "      <td>0</td>\n",
       "      <td>1</td>\n",
       "    </tr>\n",
       "    <tr>\n",
       "      <th>100</th>\n",
       "      <td>Candidate_125</td>\n",
       "      <td>0.782</td>\n",
       "      <td>1</td>\n",
       "      <td>2</td>\n",
       "      <td>2</td>\n",
       "      <td>0</td>\n",
       "      <td>2</td>\n",
       "      <td>3</td>\n",
       "      <td>1</td>\n",
       "      <td>0</td>\n",
       "      <td>1</td>\n",
       "    </tr>\n",
       "    <tr>\n",
       "      <th>101</th>\n",
       "      <td>Candidate_155</td>\n",
       "      <td>0.782</td>\n",
       "      <td>1</td>\n",
       "      <td>2</td>\n",
       "      <td>2</td>\n",
       "      <td>0</td>\n",
       "      <td>2</td>\n",
       "      <td>3</td>\n",
       "      <td>1</td>\n",
       "      <td>0</td>\n",
       "      <td>1</td>\n",
       "    </tr>\n",
       "    <tr>\n",
       "      <th>102</th>\n",
       "      <td>Candidate_110</td>\n",
       "      <td>0.782</td>\n",
       "      <td>1</td>\n",
       "      <td>2</td>\n",
       "      <td>2</td>\n",
       "      <td>0</td>\n",
       "      <td>2</td>\n",
       "      <td>3</td>\n",
       "      <td>1</td>\n",
       "      <td>0</td>\n",
       "      <td>1</td>\n",
       "    </tr>\n",
       "    <tr>\n",
       "      <th>103</th>\n",
       "      <td>Candidate_185</td>\n",
       "      <td>0.782</td>\n",
       "      <td>1</td>\n",
       "      <td>2</td>\n",
       "      <td>2</td>\n",
       "      <td>0</td>\n",
       "      <td>2</td>\n",
       "      <td>3</td>\n",
       "      <td>1</td>\n",
       "      <td>0</td>\n",
       "      <td>1</td>\n",
       "    </tr>\n",
       "    <tr>\n",
       "      <th>104</th>\n",
       "      <td>Candidate_170</td>\n",
       "      <td>0.782</td>\n",
       "      <td>1</td>\n",
       "      <td>2</td>\n",
       "      <td>2</td>\n",
       "      <td>0</td>\n",
       "      <td>2</td>\n",
       "      <td>3</td>\n",
       "      <td>1</td>\n",
       "      <td>0</td>\n",
       "      <td>1</td>\n",
       "    </tr>\n",
       "    <tr>\n",
       "      <th>105</th>\n",
       "      <td>Candidate_350</td>\n",
       "      <td>0.778</td>\n",
       "      <td>1</td>\n",
       "      <td>2</td>\n",
       "      <td>2</td>\n",
       "      <td>0</td>\n",
       "      <td>2</td>\n",
       "      <td>3</td>\n",
       "      <td>2</td>\n",
       "      <td>0</td>\n",
       "      <td>2</td>\n",
       "    </tr>\n",
       "    <tr>\n",
       "      <th>106</th>\n",
       "      <td>Candidate_305</td>\n",
       "      <td>0.778</td>\n",
       "      <td>1</td>\n",
       "      <td>2</td>\n",
       "      <td>2</td>\n",
       "      <td>0</td>\n",
       "      <td>2</td>\n",
       "      <td>3</td>\n",
       "      <td>2</td>\n",
       "      <td>0</td>\n",
       "      <td>2</td>\n",
       "    </tr>\n",
       "    <tr>\n",
       "      <th>107</th>\n",
       "      <td>Candidate_365</td>\n",
       "      <td>0.778</td>\n",
       "      <td>1</td>\n",
       "      <td>2</td>\n",
       "      <td>2</td>\n",
       "      <td>0</td>\n",
       "      <td>2</td>\n",
       "      <td>3</td>\n",
       "      <td>2</td>\n",
       "      <td>0</td>\n",
       "      <td>2</td>\n",
       "    </tr>\n",
       "    <tr>\n",
       "      <th>108</th>\n",
       "      <td>Candidate_26</td>\n",
       "      <td>0.770</td>\n",
       "      <td>1</td>\n",
       "      <td>2</td>\n",
       "      <td>2</td>\n",
       "      <td>0</td>\n",
       "      <td>2</td>\n",
       "      <td>3</td>\n",
       "      <td>0</td>\n",
       "      <td>1</td>\n",
       "      <td>1</td>\n",
       "    </tr>\n",
       "    <tr>\n",
       "      <th>109</th>\n",
       "      <td>Candidate_27</td>\n",
       "      <td>0.770</td>\n",
       "      <td>1</td>\n",
       "      <td>2</td>\n",
       "      <td>2</td>\n",
       "      <td>0</td>\n",
       "      <td>2</td>\n",
       "      <td>3</td>\n",
       "      <td>0</td>\n",
       "      <td>1</td>\n",
       "      <td>1</td>\n",
       "    </tr>\n",
       "    <tr>\n",
       "      <th>110</th>\n",
       "      <td>Candidate_11</td>\n",
       "      <td>0.770</td>\n",
       "      <td>1</td>\n",
       "      <td>2</td>\n",
       "      <td>2</td>\n",
       "      <td>0</td>\n",
       "      <td>2</td>\n",
       "      <td>3</td>\n",
       "      <td>0</td>\n",
       "      <td>1</td>\n",
       "      <td>1</td>\n",
       "    </tr>\n",
       "    <tr>\n",
       "      <th>111</th>\n",
       "      <td>Candidate_12</td>\n",
       "      <td>0.770</td>\n",
       "      <td>1</td>\n",
       "      <td>2</td>\n",
       "      <td>2</td>\n",
       "      <td>0</td>\n",
       "      <td>2</td>\n",
       "      <td>3</td>\n",
       "      <td>0</td>\n",
       "      <td>1</td>\n",
       "      <td>1</td>\n",
       "    </tr>\n",
       "    <tr>\n",
       "      <th>112</th>\n",
       "      <td>Candidate_42</td>\n",
       "      <td>0.770</td>\n",
       "      <td>1</td>\n",
       "      <td>2</td>\n",
       "      <td>2</td>\n",
       "      <td>0</td>\n",
       "      <td>2</td>\n",
       "      <td>3</td>\n",
       "      <td>0</td>\n",
       "      <td>1</td>\n",
       "      <td>1</td>\n",
       "    </tr>\n",
       "    <tr>\n",
       "      <th>113</th>\n",
       "      <td>Candidate_41</td>\n",
       "      <td>0.770</td>\n",
       "      <td>1</td>\n",
       "      <td>2</td>\n",
       "      <td>2</td>\n",
       "      <td>0</td>\n",
       "      <td>2</td>\n",
       "      <td>3</td>\n",
       "      <td>0</td>\n",
       "      <td>1</td>\n",
       "      <td>1</td>\n",
       "    </tr>\n",
       "    <tr>\n",
       "      <th>114</th>\n",
       "      <td>Candidate_207</td>\n",
       "      <td>0.766</td>\n",
       "      <td>1</td>\n",
       "      <td>2</td>\n",
       "      <td>2</td>\n",
       "      <td>0</td>\n",
       "      <td>2</td>\n",
       "      <td>3</td>\n",
       "      <td>1</td>\n",
       "      <td>1</td>\n",
       "      <td>2</td>\n",
       "    </tr>\n",
       "    <tr>\n",
       "      <th>115</th>\n",
       "      <td>Candidate_131</td>\n",
       "      <td>0.766</td>\n",
       "      <td>1</td>\n",
       "      <td>2</td>\n",
       "      <td>2</td>\n",
       "      <td>0</td>\n",
       "      <td>2</td>\n",
       "      <td>3</td>\n",
       "      <td>1</td>\n",
       "      <td>1</td>\n",
       "      <td>2</td>\n",
       "    </tr>\n",
       "    <tr>\n",
       "      <th>116</th>\n",
       "      <td>Candidate_177</td>\n",
       "      <td>0.766</td>\n",
       "      <td>1</td>\n",
       "      <td>2</td>\n",
       "      <td>2</td>\n",
       "      <td>0</td>\n",
       "      <td>2</td>\n",
       "      <td>3</td>\n",
       "      <td>1</td>\n",
       "      <td>1</td>\n",
       "      <td>2</td>\n",
       "    </tr>\n",
       "    <tr>\n",
       "      <th>117</th>\n",
       "      <td>Candidate_132</td>\n",
       "      <td>0.766</td>\n",
       "      <td>1</td>\n",
       "      <td>2</td>\n",
       "      <td>2</td>\n",
       "      <td>0</td>\n",
       "      <td>2</td>\n",
       "      <td>3</td>\n",
       "      <td>1</td>\n",
       "      <td>1</td>\n",
       "      <td>2</td>\n",
       "    </tr>\n",
       "    <tr>\n",
       "      <th>118</th>\n",
       "      <td>Candidate_176</td>\n",
       "      <td>0.766</td>\n",
       "      <td>1</td>\n",
       "      <td>2</td>\n",
       "      <td>2</td>\n",
       "      <td>0</td>\n",
       "      <td>2</td>\n",
       "      <td>3</td>\n",
       "      <td>1</td>\n",
       "      <td>1</td>\n",
       "      <td>2</td>\n",
       "    </tr>\n",
       "    <tr>\n",
       "      <th>119</th>\n",
       "      <td>Candidate_206</td>\n",
       "      <td>0.766</td>\n",
       "      <td>1</td>\n",
       "      <td>2</td>\n",
       "      <td>2</td>\n",
       "      <td>0</td>\n",
       "      <td>2</td>\n",
       "      <td>3</td>\n",
       "      <td>1</td>\n",
       "      <td>1</td>\n",
       "      <td>2</td>\n",
       "    </tr>\n",
       "    <tr>\n",
       "      <th>120</th>\n",
       "      <td>Candidate_162</td>\n",
       "      <td>0.766</td>\n",
       "      <td>1</td>\n",
       "      <td>2</td>\n",
       "      <td>2</td>\n",
       "      <td>0</td>\n",
       "      <td>2</td>\n",
       "      <td>3</td>\n",
       "      <td>1</td>\n",
       "      <td>1</td>\n",
       "      <td>2</td>\n",
       "    </tr>\n",
       "    <tr>\n",
       "      <th>121</th>\n",
       "      <td>Candidate_161</td>\n",
       "      <td>0.766</td>\n",
       "      <td>1</td>\n",
       "      <td>2</td>\n",
       "      <td>2</td>\n",
       "      <td>0</td>\n",
       "      <td>2</td>\n",
       "      <td>3</td>\n",
       "      <td>1</td>\n",
       "      <td>1</td>\n",
       "      <td>2</td>\n",
       "    </tr>\n",
       "    <tr>\n",
       "      <th>122</th>\n",
       "      <td>Candidate_192</td>\n",
       "      <td>0.766</td>\n",
       "      <td>1</td>\n",
       "      <td>2</td>\n",
       "      <td>2</td>\n",
       "      <td>0</td>\n",
       "      <td>2</td>\n",
       "      <td>3</td>\n",
       "      <td>1</td>\n",
       "      <td>1</td>\n",
       "      <td>2</td>\n",
       "    </tr>\n",
       "    <tr>\n",
       "      <th>123</th>\n",
       "      <td>Candidate_117</td>\n",
       "      <td>0.766</td>\n",
       "      <td>1</td>\n",
       "      <td>2</td>\n",
       "      <td>2</td>\n",
       "      <td>0</td>\n",
       "      <td>2</td>\n",
       "      <td>3</td>\n",
       "      <td>1</td>\n",
       "      <td>1</td>\n",
       "      <td>2</td>\n",
       "    </tr>\n",
       "    <tr>\n",
       "      <th>124</th>\n",
       "      <td>Candidate_116</td>\n",
       "      <td>0.766</td>\n",
       "      <td>1</td>\n",
       "      <td>2</td>\n",
       "      <td>2</td>\n",
       "      <td>0</td>\n",
       "      <td>2</td>\n",
       "      <td>3</td>\n",
       "      <td>1</td>\n",
       "      <td>1</td>\n",
       "      <td>2</td>\n",
       "    </tr>\n",
       "    <tr>\n",
       "      <th>125</th>\n",
       "      <td>Candidate_191</td>\n",
       "      <td>0.766</td>\n",
       "      <td>1</td>\n",
       "      <td>2</td>\n",
       "      <td>2</td>\n",
       "      <td>0</td>\n",
       "      <td>2</td>\n",
       "      <td>3</td>\n",
       "      <td>1</td>\n",
       "      <td>1</td>\n",
       "      <td>2</td>\n",
       "    </tr>\n",
       "    <tr>\n",
       "      <th>126</th>\n",
       "      <td>Candidate_357</td>\n",
       "      <td>0.762</td>\n",
       "      <td>1</td>\n",
       "      <td>2</td>\n",
       "      <td>2</td>\n",
       "      <td>0</td>\n",
       "      <td>2</td>\n",
       "      <td>3</td>\n",
       "      <td>2</td>\n",
       "      <td>1</td>\n",
       "      <td>3</td>\n",
       "    </tr>\n",
       "    <tr>\n",
       "      <th>127</th>\n",
       "      <td>Candidate_371</td>\n",
       "      <td>0.762</td>\n",
       "      <td>1</td>\n",
       "      <td>2</td>\n",
       "      <td>2</td>\n",
       "      <td>0</td>\n",
       "      <td>2</td>\n",
       "      <td>3</td>\n",
       "      <td>2</td>\n",
       "      <td>1</td>\n",
       "      <td>3</td>\n",
       "    </tr>\n",
       "    <tr>\n",
       "      <th>128</th>\n",
       "      <td>Candidate_356</td>\n",
       "      <td>0.762</td>\n",
       "      <td>1</td>\n",
       "      <td>2</td>\n",
       "      <td>2</td>\n",
       "      <td>0</td>\n",
       "      <td>2</td>\n",
       "      <td>3</td>\n",
       "      <td>2</td>\n",
       "      <td>1</td>\n",
       "      <td>3</td>\n",
       "    </tr>\n",
       "    <tr>\n",
       "      <th>129</th>\n",
       "      <td>Candidate_311</td>\n",
       "      <td>0.762</td>\n",
       "      <td>1</td>\n",
       "      <td>2</td>\n",
       "      <td>2</td>\n",
       "      <td>0</td>\n",
       "      <td>2</td>\n",
       "      <td>3</td>\n",
       "      <td>2</td>\n",
       "      <td>1</td>\n",
       "      <td>3</td>\n",
       "    </tr>\n",
       "    <tr>\n",
       "      <th>130</th>\n",
       "      <td>Candidate_372</td>\n",
       "      <td>0.762</td>\n",
       "      <td>1</td>\n",
       "      <td>2</td>\n",
       "      <td>2</td>\n",
       "      <td>0</td>\n",
       "      <td>2</td>\n",
       "      <td>3</td>\n",
       "      <td>2</td>\n",
       "      <td>1</td>\n",
       "      <td>3</td>\n",
       "    </tr>\n",
       "    <tr>\n",
       "      <th>131</th>\n",
       "      <td>Candidate_312</td>\n",
       "      <td>0.762</td>\n",
       "      <td>1</td>\n",
       "      <td>2</td>\n",
       "      <td>2</td>\n",
       "      <td>0</td>\n",
       "      <td>2</td>\n",
       "      <td>3</td>\n",
       "      <td>2</td>\n",
       "      <td>1</td>\n",
       "      <td>3</td>\n",
       "    </tr>\n",
       "    <tr>\n",
       "      <th>132</th>\n",
       "      <td>Candidate_45</td>\n",
       "      <td>0.755</td>\n",
       "      <td>1</td>\n",
       "      <td>2</td>\n",
       "      <td>2</td>\n",
       "      <td>0</td>\n",
       "      <td>2</td>\n",
       "      <td>3</td>\n",
       "      <td>0</td>\n",
       "      <td>2</td>\n",
       "      <td>2</td>\n",
       "    </tr>\n",
       "    <tr>\n",
       "      <th>133</th>\n",
       "      <td>Candidate_15</td>\n",
       "      <td>0.755</td>\n",
       "      <td>1</td>\n",
       "      <td>2</td>\n",
       "      <td>2</td>\n",
       "      <td>0</td>\n",
       "      <td>2</td>\n",
       "      <td>3</td>\n",
       "      <td>0</td>\n",
       "      <td>2</td>\n",
       "      <td>2</td>\n",
       "    </tr>\n",
       "    <tr>\n",
       "      <th>134</th>\n",
       "      <td>Candidate_30</td>\n",
       "      <td>0.755</td>\n",
       "      <td>1</td>\n",
       "      <td>2</td>\n",
       "      <td>2</td>\n",
       "      <td>0</td>\n",
       "      <td>2</td>\n",
       "      <td>3</td>\n",
       "      <td>0</td>\n",
       "      <td>2</td>\n",
       "      <td>2</td>\n",
       "    </tr>\n",
       "    <tr>\n",
       "      <th>135</th>\n",
       "      <td>Candidate_135</td>\n",
       "      <td>0.751</td>\n",
       "      <td>1</td>\n",
       "      <td>2</td>\n",
       "      <td>2</td>\n",
       "      <td>0</td>\n",
       "      <td>2</td>\n",
       "      <td>3</td>\n",
       "      <td>1</td>\n",
       "      <td>2</td>\n",
       "      <td>3</td>\n",
       "    </tr>\n",
       "    <tr>\n",
       "      <th>136</th>\n",
       "      <td>Candidate_165</td>\n",
       "      <td>0.751</td>\n",
       "      <td>1</td>\n",
       "      <td>2</td>\n",
       "      <td>2</td>\n",
       "      <td>0</td>\n",
       "      <td>2</td>\n",
       "      <td>3</td>\n",
       "      <td>1</td>\n",
       "      <td>2</td>\n",
       "      <td>3</td>\n",
       "    </tr>\n",
       "    <tr>\n",
       "      <th>137</th>\n",
       "      <td>Candidate_120</td>\n",
       "      <td>0.751</td>\n",
       "      <td>1</td>\n",
       "      <td>2</td>\n",
       "      <td>2</td>\n",
       "      <td>0</td>\n",
       "      <td>2</td>\n",
       "      <td>3</td>\n",
       "      <td>1</td>\n",
       "      <td>2</td>\n",
       "      <td>3</td>\n",
       "    </tr>\n",
       "    <tr>\n",
       "      <th>138</th>\n",
       "      <td>Candidate_180</td>\n",
       "      <td>0.751</td>\n",
       "      <td>1</td>\n",
       "      <td>2</td>\n",
       "      <td>2</td>\n",
       "      <td>0</td>\n",
       "      <td>2</td>\n",
       "      <td>3</td>\n",
       "      <td>1</td>\n",
       "      <td>2</td>\n",
       "      <td>3</td>\n",
       "    </tr>\n",
       "    <tr>\n",
       "      <th>139</th>\n",
       "      <td>Candidate_195</td>\n",
       "      <td>0.751</td>\n",
       "      <td>1</td>\n",
       "      <td>2</td>\n",
       "      <td>2</td>\n",
       "      <td>0</td>\n",
       "      <td>2</td>\n",
       "      <td>3</td>\n",
       "      <td>1</td>\n",
       "      <td>2</td>\n",
       "      <td>3</td>\n",
       "    </tr>\n",
       "    <tr>\n",
       "      <th>140</th>\n",
       "      <td>Candidate_210</td>\n",
       "      <td>0.751</td>\n",
       "      <td>1</td>\n",
       "      <td>2</td>\n",
       "      <td>2</td>\n",
       "      <td>0</td>\n",
       "      <td>2</td>\n",
       "      <td>3</td>\n",
       "      <td>1</td>\n",
       "      <td>2</td>\n",
       "      <td>3</td>\n",
       "    </tr>\n",
       "    <tr>\n",
       "      <th>141</th>\n",
       "      <td>Candidate_315</td>\n",
       "      <td>0.747</td>\n",
       "      <td>1</td>\n",
       "      <td>2</td>\n",
       "      <td>2</td>\n",
       "      <td>0</td>\n",
       "      <td>2</td>\n",
       "      <td>3</td>\n",
       "      <td>2</td>\n",
       "      <td>2</td>\n",
       "      <td>4</td>\n",
       "    </tr>\n",
       "    <tr>\n",
       "      <th>142</th>\n",
       "      <td>Candidate_375</td>\n",
       "      <td>0.747</td>\n",
       "      <td>1</td>\n",
       "      <td>2</td>\n",
       "      <td>2</td>\n",
       "      <td>0</td>\n",
       "      <td>2</td>\n",
       "      <td>3</td>\n",
       "      <td>2</td>\n",
       "      <td>2</td>\n",
       "      <td>4</td>\n",
       "    </tr>\n",
       "    <tr>\n",
       "      <th>143</th>\n",
       "      <td>Candidate_360</td>\n",
       "      <td>0.747</td>\n",
       "      <td>1</td>\n",
       "      <td>2</td>\n",
       "      <td>2</td>\n",
       "      <td>0</td>\n",
       "      <td>2</td>\n",
       "      <td>3</td>\n",
       "      <td>2</td>\n",
       "      <td>2</td>\n",
       "      <td>4</td>\n",
       "    </tr>\n",
       "    <tr>\n",
       "      <th>144</th>\n",
       "      <td>Candidate_76</td>\n",
       "      <td>0.739</td>\n",
       "      <td>2</td>\n",
       "      <td>1</td>\n",
       "      <td>1</td>\n",
       "      <td>1</td>\n",
       "      <td>2</td>\n",
       "      <td>3</td>\n",
       "      <td>0</td>\n",
       "      <td>0</td>\n",
       "      <td>0</td>\n",
       "    </tr>\n",
       "    <tr>\n",
       "      <th>145</th>\n",
       "      <td>Candidate_77</td>\n",
       "      <td>0.739</td>\n",
       "      <td>2</td>\n",
       "      <td>1</td>\n",
       "      <td>1</td>\n",
       "      <td>1</td>\n",
       "      <td>2</td>\n",
       "      <td>3</td>\n",
       "      <td>0</td>\n",
       "      <td>0</td>\n",
       "      <td>0</td>\n",
       "    </tr>\n",
       "    <tr>\n",
       "      <th>146</th>\n",
       "      <td>Candidate_91</td>\n",
       "      <td>0.739</td>\n",
       "      <td>2</td>\n",
       "      <td>1</td>\n",
       "      <td>1</td>\n",
       "      <td>1</td>\n",
       "      <td>2</td>\n",
       "      <td>3</td>\n",
       "      <td>0</td>\n",
       "      <td>0</td>\n",
       "      <td>0</td>\n",
       "    </tr>\n",
       "    <tr>\n",
       "      <th>147</th>\n",
       "      <td>Candidate_92</td>\n",
       "      <td>0.739</td>\n",
       "      <td>2</td>\n",
       "      <td>1</td>\n",
       "      <td>1</td>\n",
       "      <td>1</td>\n",
       "      <td>2</td>\n",
       "      <td>3</td>\n",
       "      <td>0</td>\n",
       "      <td>0</td>\n",
       "      <td>0</td>\n",
       "    </tr>\n",
       "    <tr>\n",
       "      <th>148</th>\n",
       "      <td>Candidate_137</td>\n",
       "      <td>0.739</td>\n",
       "      <td>2</td>\n",
       "      <td>1</td>\n",
       "      <td>1</td>\n",
       "      <td>1</td>\n",
       "      <td>2</td>\n",
       "      <td>3</td>\n",
       "      <td>0</td>\n",
       "      <td>0</td>\n",
       "      <td>0</td>\n",
       "    </tr>\n",
       "    <tr>\n",
       "      <th>149</th>\n",
       "      <td>Candidate_136</td>\n",
       "      <td>0.739</td>\n",
       "      <td>2</td>\n",
       "      <td>1</td>\n",
       "      <td>1</td>\n",
       "      <td>1</td>\n",
       "      <td>2</td>\n",
       "      <td>3</td>\n",
       "      <td>0</td>\n",
       "      <td>0</td>\n",
       "      <td>0</td>\n",
       "    </tr>\n",
       "    <tr>\n",
       "      <th>150</th>\n",
       "      <td>Candidate_287</td>\n",
       "      <td>0.731</td>\n",
       "      <td>2</td>\n",
       "      <td>1</td>\n",
       "      <td>1</td>\n",
       "      <td>1</td>\n",
       "      <td>2</td>\n",
       "      <td>3</td>\n",
       "      <td>1</td>\n",
       "      <td>0</td>\n",
       "      <td>1</td>\n",
       "    </tr>\n",
       "    <tr>\n",
       "      <th>151</th>\n",
       "      <td>Candidate_332</td>\n",
       "      <td>0.731</td>\n",
       "      <td>2</td>\n",
       "      <td>1</td>\n",
       "      <td>1</td>\n",
       "      <td>1</td>\n",
       "      <td>2</td>\n",
       "      <td>3</td>\n",
       "      <td>1</td>\n",
       "      <td>0</td>\n",
       "      <td>1</td>\n",
       "    </tr>\n",
       "    <tr>\n",
       "      <th>152</th>\n",
       "      <td>Candidate_272</td>\n",
       "      <td>0.731</td>\n",
       "      <td>2</td>\n",
       "      <td>1</td>\n",
       "      <td>1</td>\n",
       "      <td>1</td>\n",
       "      <td>2</td>\n",
       "      <td>3</td>\n",
       "      <td>1</td>\n",
       "      <td>0</td>\n",
       "      <td>1</td>\n",
       "    </tr>\n",
       "    <tr>\n",
       "      <th>153</th>\n",
       "      <td>Candidate_271</td>\n",
       "      <td>0.731</td>\n",
       "      <td>2</td>\n",
       "      <td>1</td>\n",
       "      <td>1</td>\n",
       "      <td>1</td>\n",
       "      <td>2</td>\n",
       "      <td>3</td>\n",
       "      <td>1</td>\n",
       "      <td>0</td>\n",
       "      <td>1</td>\n",
       "    </tr>\n",
       "    <tr>\n",
       "      <th>154</th>\n",
       "      <td>Candidate_331</td>\n",
       "      <td>0.731</td>\n",
       "      <td>2</td>\n",
       "      <td>1</td>\n",
       "      <td>1</td>\n",
       "      <td>1</td>\n",
       "      <td>2</td>\n",
       "      <td>3</td>\n",
       "      <td>1</td>\n",
       "      <td>0</td>\n",
       "      <td>1</td>\n",
       "    </tr>\n",
       "    <tr>\n",
       "      <th>155</th>\n",
       "      <td>Candidate_316</td>\n",
       "      <td>0.731</td>\n",
       "      <td>2</td>\n",
       "      <td>1</td>\n",
       "      <td>1</td>\n",
       "      <td>1</td>\n",
       "      <td>2</td>\n",
       "      <td>3</td>\n",
       "      <td>1</td>\n",
       "      <td>0</td>\n",
       "      <td>1</td>\n",
       "    </tr>\n",
       "    <tr>\n",
       "      <th>156</th>\n",
       "      <td>Candidate_257</td>\n",
       "      <td>0.731</td>\n",
       "      <td>2</td>\n",
       "      <td>1</td>\n",
       "      <td>1</td>\n",
       "      <td>1</td>\n",
       "      <td>2</td>\n",
       "      <td>3</td>\n",
       "      <td>1</td>\n",
       "      <td>0</td>\n",
       "      <td>1</td>\n",
       "    </tr>\n",
       "    <tr>\n",
       "      <th>157</th>\n",
       "      <td>Candidate_256</td>\n",
       "      <td>0.731</td>\n",
       "      <td>2</td>\n",
       "      <td>1</td>\n",
       "      <td>1</td>\n",
       "      <td>1</td>\n",
       "      <td>2</td>\n",
       "      <td>3</td>\n",
       "      <td>1</td>\n",
       "      <td>0</td>\n",
       "      <td>1</td>\n",
       "    </tr>\n",
       "    <tr>\n",
       "      <th>158</th>\n",
       "      <td>Candidate_317</td>\n",
       "      <td>0.731</td>\n",
       "      <td>2</td>\n",
       "      <td>1</td>\n",
       "      <td>1</td>\n",
       "      <td>1</td>\n",
       "      <td>2</td>\n",
       "      <td>3</td>\n",
       "      <td>1</td>\n",
       "      <td>0</td>\n",
       "      <td>1</td>\n",
       "    </tr>\n",
       "    <tr>\n",
       "      <th>159</th>\n",
       "      <td>Candidate_242</td>\n",
       "      <td>0.731</td>\n",
       "      <td>2</td>\n",
       "      <td>1</td>\n",
       "      <td>1</td>\n",
       "      <td>1</td>\n",
       "      <td>2</td>\n",
       "      <td>3</td>\n",
       "      <td>1</td>\n",
       "      <td>0</td>\n",
       "      <td>1</td>\n",
       "    </tr>\n",
       "    <tr>\n",
       "      <th>160</th>\n",
       "      <td>Candidate_241</td>\n",
       "      <td>0.731</td>\n",
       "      <td>2</td>\n",
       "      <td>1</td>\n",
       "      <td>1</td>\n",
       "      <td>1</td>\n",
       "      <td>2</td>\n",
       "      <td>3</td>\n",
       "      <td>1</td>\n",
       "      <td>0</td>\n",
       "      <td>1</td>\n",
       "    </tr>\n",
       "    <tr>\n",
       "      <th>161</th>\n",
       "      <td>Candidate_286</td>\n",
       "      <td>0.731</td>\n",
       "      <td>2</td>\n",
       "      <td>1</td>\n",
       "      <td>1</td>\n",
       "      <td>1</td>\n",
       "      <td>2</td>\n",
       "      <td>3</td>\n",
       "      <td>1</td>\n",
       "      <td>0</td>\n",
       "      <td>1</td>\n",
       "    </tr>\n",
       "    <tr>\n",
       "      <th>162</th>\n",
       "      <td>Candidate_144</td>\n",
       "      <td>0.730</td>\n",
       "      <td>2</td>\n",
       "      <td>1</td>\n",
       "      <td>1</td>\n",
       "      <td>1</td>\n",
       "      <td>2</td>\n",
       "      <td>3</td>\n",
       "      <td>0</td>\n",
       "      <td>1</td>\n",
       "      <td>1</td>\n",
       "    </tr>\n",
       "    <tr>\n",
       "      <th>163</th>\n",
       "      <td>Candidate_98</td>\n",
       "      <td>0.730</td>\n",
       "      <td>2</td>\n",
       "      <td>1</td>\n",
       "      <td>1</td>\n",
       "      <td>1</td>\n",
       "      <td>2</td>\n",
       "      <td>3</td>\n",
       "      <td>0</td>\n",
       "      <td>1</td>\n",
       "      <td>1</td>\n",
       "    </tr>\n",
       "    <tr>\n",
       "      <th>164</th>\n",
       "      <td>Candidate_84</td>\n",
       "      <td>0.730</td>\n",
       "      <td>2</td>\n",
       "      <td>1</td>\n",
       "      <td>1</td>\n",
       "      <td>1</td>\n",
       "      <td>2</td>\n",
       "      <td>3</td>\n",
       "      <td>0</td>\n",
       "      <td>1</td>\n",
       "      <td>1</td>\n",
       "    </tr>\n",
       "    <tr>\n",
       "      <th>165</th>\n",
       "      <td>Candidate_99</td>\n",
       "      <td>0.730</td>\n",
       "      <td>2</td>\n",
       "      <td>1</td>\n",
       "      <td>1</td>\n",
       "      <td>1</td>\n",
       "      <td>2</td>\n",
       "      <td>3</td>\n",
       "      <td>0</td>\n",
       "      <td>1</td>\n",
       "      <td>1</td>\n",
       "    </tr>\n",
       "    <tr>\n",
       "      <th>166</th>\n",
       "      <td>Candidate_97</td>\n",
       "      <td>0.730</td>\n",
       "      <td>2</td>\n",
       "      <td>1</td>\n",
       "      <td>1</td>\n",
       "      <td>1</td>\n",
       "      <td>2</td>\n",
       "      <td>3</td>\n",
       "      <td>0</td>\n",
       "      <td>1</td>\n",
       "      <td>1</td>\n",
       "    </tr>\n",
       "    <tr>\n",
       "      <th>167</th>\n",
       "      <td>Candidate_141</td>\n",
       "      <td>0.730</td>\n",
       "      <td>2</td>\n",
       "      <td>1</td>\n",
       "      <td>1</td>\n",
       "      <td>1</td>\n",
       "      <td>2</td>\n",
       "      <td>3</td>\n",
       "      <td>0</td>\n",
       "      <td>1</td>\n",
       "      <td>1</td>\n",
       "    </tr>\n",
       "    <tr>\n",
       "      <th>168</th>\n",
       "      <td>Candidate_143</td>\n",
       "      <td>0.730</td>\n",
       "      <td>2</td>\n",
       "      <td>1</td>\n",
       "      <td>1</td>\n",
       "      <td>1</td>\n",
       "      <td>2</td>\n",
       "      <td>3</td>\n",
       "      <td>0</td>\n",
       "      <td>1</td>\n",
       "      <td>1</td>\n",
       "    </tr>\n",
       "    <tr>\n",
       "      <th>169</th>\n",
       "      <td>Candidate_142</td>\n",
       "      <td>0.730</td>\n",
       "      <td>2</td>\n",
       "      <td>1</td>\n",
       "      <td>1</td>\n",
       "      <td>1</td>\n",
       "      <td>2</td>\n",
       "      <td>3</td>\n",
       "      <td>0</td>\n",
       "      <td>1</td>\n",
       "      <td>1</td>\n",
       "    </tr>\n",
       "    <tr>\n",
       "      <th>170</th>\n",
       "      <td>Candidate_83</td>\n",
       "      <td>0.730</td>\n",
       "      <td>2</td>\n",
       "      <td>1</td>\n",
       "      <td>1</td>\n",
       "      <td>1</td>\n",
       "      <td>2</td>\n",
       "      <td>3</td>\n",
       "      <td>0</td>\n",
       "      <td>1</td>\n",
       "      <td>1</td>\n",
       "    </tr>\n",
       "    <tr>\n",
       "      <th>171</th>\n",
       "      <td>Candidate_82</td>\n",
       "      <td>0.730</td>\n",
       "      <td>2</td>\n",
       "      <td>1</td>\n",
       "      <td>1</td>\n",
       "      <td>1</td>\n",
       "      <td>2</td>\n",
       "      <td>3</td>\n",
       "      <td>0</td>\n",
       "      <td>1</td>\n",
       "      <td>1</td>\n",
       "    </tr>\n",
       "    <tr>\n",
       "      <th>172</th>\n",
       "      <td>Candidate_96</td>\n",
       "      <td>0.730</td>\n",
       "      <td>2</td>\n",
       "      <td>1</td>\n",
       "      <td>1</td>\n",
       "      <td>1</td>\n",
       "      <td>2</td>\n",
       "      <td>3</td>\n",
       "      <td>0</td>\n",
       "      <td>1</td>\n",
       "      <td>1</td>\n",
       "    </tr>\n",
       "    <tr>\n",
       "      <th>173</th>\n",
       "      <td>Candidate_81</td>\n",
       "      <td>0.730</td>\n",
       "      <td>2</td>\n",
       "      <td>1</td>\n",
       "      <td>1</td>\n",
       "      <td>1</td>\n",
       "      <td>2</td>\n",
       "      <td>3</td>\n",
       "      <td>0</td>\n",
       "      <td>1</td>\n",
       "      <td>1</td>\n",
       "    </tr>\n",
       "    <tr>\n",
       "      <th>174</th>\n",
       "      <td>Candidate_436</td>\n",
       "      <td>0.724</td>\n",
       "      <td>2</td>\n",
       "      <td>1</td>\n",
       "      <td>1</td>\n",
       "      <td>1</td>\n",
       "      <td>2</td>\n",
       "      <td>3</td>\n",
       "      <td>2</td>\n",
       "      <td>0</td>\n",
       "      <td>2</td>\n",
       "    </tr>\n",
       "    <tr>\n",
       "      <th>175</th>\n",
       "      <td>Candidate_421</td>\n",
       "      <td>0.724</td>\n",
       "      <td>2</td>\n",
       "      <td>1</td>\n",
       "      <td>1</td>\n",
       "      <td>1</td>\n",
       "      <td>2</td>\n",
       "      <td>3</td>\n",
       "      <td>2</td>\n",
       "      <td>0</td>\n",
       "      <td>2</td>\n",
       "    </tr>\n",
       "    <tr>\n",
       "      <th>176</th>\n",
       "      <td>Candidate_406</td>\n",
       "      <td>0.724</td>\n",
       "      <td>2</td>\n",
       "      <td>1</td>\n",
       "      <td>1</td>\n",
       "      <td>1</td>\n",
       "      <td>2</td>\n",
       "      <td>3</td>\n",
       "      <td>2</td>\n",
       "      <td>0</td>\n",
       "      <td>2</td>\n",
       "    </tr>\n",
       "    <tr>\n",
       "      <th>177</th>\n",
       "      <td>Candidate_407</td>\n",
       "      <td>0.724</td>\n",
       "      <td>2</td>\n",
       "      <td>1</td>\n",
       "      <td>1</td>\n",
       "      <td>1</td>\n",
       "      <td>2</td>\n",
       "      <td>3</td>\n",
       "      <td>2</td>\n",
       "      <td>0</td>\n",
       "      <td>2</td>\n",
       "    </tr>\n",
       "    <tr>\n",
       "      <th>178</th>\n",
       "      <td>Candidate_422</td>\n",
       "      <td>0.724</td>\n",
       "      <td>2</td>\n",
       "      <td>1</td>\n",
       "      <td>1</td>\n",
       "      <td>1</td>\n",
       "      <td>2</td>\n",
       "      <td>3</td>\n",
       "      <td>2</td>\n",
       "      <td>0</td>\n",
       "      <td>2</td>\n",
       "    </tr>\n",
       "    <tr>\n",
       "      <th>179</th>\n",
       "      <td>Candidate_437</td>\n",
       "      <td>0.724</td>\n",
       "      <td>2</td>\n",
       "      <td>1</td>\n",
       "      <td>1</td>\n",
       "      <td>1</td>\n",
       "      <td>2</td>\n",
       "      <td>3</td>\n",
       "      <td>2</td>\n",
       "      <td>0</td>\n",
       "      <td>2</td>\n",
       "    </tr>\n",
       "    <tr>\n",
       "      <th>180</th>\n",
       "      <td>Candidate_294</td>\n",
       "      <td>0.722</td>\n",
       "      <td>2</td>\n",
       "      <td>1</td>\n",
       "      <td>1</td>\n",
       "      <td>1</td>\n",
       "      <td>2</td>\n",
       "      <td>3</td>\n",
       "      <td>1</td>\n",
       "      <td>1</td>\n",
       "      <td>2</td>\n",
       "    </tr>\n",
       "    <tr>\n",
       "      <th>181</th>\n",
       "      <td>Candidate_261</td>\n",
       "      <td>0.722</td>\n",
       "      <td>2</td>\n",
       "      <td>1</td>\n",
       "      <td>1</td>\n",
       "      <td>1</td>\n",
       "      <td>2</td>\n",
       "      <td>3</td>\n",
       "      <td>1</td>\n",
       "      <td>1</td>\n",
       "      <td>2</td>\n",
       "    </tr>\n",
       "    <tr>\n",
       "      <th>182</th>\n",
       "      <td>Candidate_263</td>\n",
       "      <td>0.722</td>\n",
       "      <td>2</td>\n",
       "      <td>1</td>\n",
       "      <td>1</td>\n",
       "      <td>1</td>\n",
       "      <td>2</td>\n",
       "      <td>3</td>\n",
       "      <td>1</td>\n",
       "      <td>1</td>\n",
       "      <td>2</td>\n",
       "    </tr>\n",
       "    <tr>\n",
       "      <th>183</th>\n",
       "      <td>Candidate_249</td>\n",
       "      <td>0.722</td>\n",
       "      <td>2</td>\n",
       "      <td>1</td>\n",
       "      <td>1</td>\n",
       "      <td>1</td>\n",
       "      <td>2</td>\n",
       "      <td>3</td>\n",
       "      <td>1</td>\n",
       "      <td>1</td>\n",
       "      <td>2</td>\n",
       "    </tr>\n",
       "    <tr>\n",
       "      <th>184</th>\n",
       "      <td>Candidate_262</td>\n",
       "      <td>0.722</td>\n",
       "      <td>2</td>\n",
       "      <td>1</td>\n",
       "      <td>1</td>\n",
       "      <td>1</td>\n",
       "      <td>2</td>\n",
       "      <td>3</td>\n",
       "      <td>1</td>\n",
       "      <td>1</td>\n",
       "      <td>2</td>\n",
       "    </tr>\n",
       "    <tr>\n",
       "      <th>185</th>\n",
       "      <td>Candidate_278</td>\n",
       "      <td>0.722</td>\n",
       "      <td>2</td>\n",
       "      <td>1</td>\n",
       "      <td>1</td>\n",
       "      <td>1</td>\n",
       "      <td>2</td>\n",
       "      <td>3</td>\n",
       "      <td>1</td>\n",
       "      <td>1</td>\n",
       "      <td>2</td>\n",
       "    </tr>\n",
       "    <tr>\n",
       "      <th>186</th>\n",
       "      <td>Candidate_264</td>\n",
       "      <td>0.722</td>\n",
       "      <td>2</td>\n",
       "      <td>1</td>\n",
       "      <td>1</td>\n",
       "      <td>1</td>\n",
       "      <td>2</td>\n",
       "      <td>3</td>\n",
       "      <td>1</td>\n",
       "      <td>1</td>\n",
       "      <td>2</td>\n",
       "    </tr>\n",
       "    <tr>\n",
       "      <th>187</th>\n",
       "      <td>Candidate_276</td>\n",
       "      <td>0.722</td>\n",
       "      <td>2</td>\n",
       "      <td>1</td>\n",
       "      <td>1</td>\n",
       "      <td>1</td>\n",
       "      <td>2</td>\n",
       "      <td>3</td>\n",
       "      <td>1</td>\n",
       "      <td>1</td>\n",
       "      <td>2</td>\n",
       "    </tr>\n",
       "    <tr>\n",
       "      <th>188</th>\n",
       "      <td>Candidate_277</td>\n",
       "      <td>0.722</td>\n",
       "      <td>2</td>\n",
       "      <td>1</td>\n",
       "      <td>1</td>\n",
       "      <td>1</td>\n",
       "      <td>2</td>\n",
       "      <td>3</td>\n",
       "      <td>1</td>\n",
       "      <td>1</td>\n",
       "      <td>2</td>\n",
       "    </tr>\n",
       "    <tr>\n",
       "      <th>189</th>\n",
       "      <td>Candidate_279</td>\n",
       "      <td>0.722</td>\n",
       "      <td>2</td>\n",
       "      <td>1</td>\n",
       "      <td>1</td>\n",
       "      <td>1</td>\n",
       "      <td>2</td>\n",
       "      <td>3</td>\n",
       "      <td>1</td>\n",
       "      <td>1</td>\n",
       "      <td>2</td>\n",
       "    </tr>\n",
       "    <tr>\n",
       "      <th>190</th>\n",
       "      <td>Candidate_291</td>\n",
       "      <td>0.722</td>\n",
       "      <td>2</td>\n",
       "      <td>1</td>\n",
       "      <td>1</td>\n",
       "      <td>1</td>\n",
       "      <td>2</td>\n",
       "      <td>3</td>\n",
       "      <td>1</td>\n",
       "      <td>1</td>\n",
       "      <td>2</td>\n",
       "    </tr>\n",
       "    <tr>\n",
       "      <th>191</th>\n",
       "      <td>Candidate_322</td>\n",
       "      <td>0.722</td>\n",
       "      <td>2</td>\n",
       "      <td>1</td>\n",
       "      <td>1</td>\n",
       "      <td>1</td>\n",
       "      <td>2</td>\n",
       "      <td>3</td>\n",
       "      <td>1</td>\n",
       "      <td>1</td>\n",
       "      <td>2</td>\n",
       "    </tr>\n",
       "    <tr>\n",
       "      <th>192</th>\n",
       "      <td>Candidate_248</td>\n",
       "      <td>0.722</td>\n",
       "      <td>2</td>\n",
       "      <td>1</td>\n",
       "      <td>1</td>\n",
       "      <td>1</td>\n",
       "      <td>2</td>\n",
       "      <td>3</td>\n",
       "      <td>1</td>\n",
       "      <td>1</td>\n",
       "      <td>2</td>\n",
       "    </tr>\n",
       "    <tr>\n",
       "      <th>193</th>\n",
       "      <td>Candidate_292</td>\n",
       "      <td>0.722</td>\n",
       "      <td>2</td>\n",
       "      <td>1</td>\n",
       "      <td>1</td>\n",
       "      <td>1</td>\n",
       "      <td>2</td>\n",
       "      <td>3</td>\n",
       "      <td>1</td>\n",
       "      <td>1</td>\n",
       "      <td>2</td>\n",
       "    </tr>\n",
       "    <tr>\n",
       "      <th>194</th>\n",
       "      <td>Candidate_293</td>\n",
       "      <td>0.722</td>\n",
       "      <td>2</td>\n",
       "      <td>1</td>\n",
       "      <td>1</td>\n",
       "      <td>1</td>\n",
       "      <td>2</td>\n",
       "      <td>3</td>\n",
       "      <td>1</td>\n",
       "      <td>1</td>\n",
       "      <td>2</td>\n",
       "    </tr>\n",
       "    <tr>\n",
       "      <th>195</th>\n",
       "      <td>Candidate_321</td>\n",
       "      <td>0.722</td>\n",
       "      <td>2</td>\n",
       "      <td>1</td>\n",
       "      <td>1</td>\n",
       "      <td>1</td>\n",
       "      <td>2</td>\n",
       "      <td>3</td>\n",
       "      <td>1</td>\n",
       "      <td>1</td>\n",
       "      <td>2</td>\n",
       "    </tr>\n",
       "    <tr>\n",
       "      <th>196</th>\n",
       "      <td>Candidate_247</td>\n",
       "      <td>0.722</td>\n",
       "      <td>2</td>\n",
       "      <td>1</td>\n",
       "      <td>1</td>\n",
       "      <td>1</td>\n",
       "      <td>2</td>\n",
       "      <td>3</td>\n",
       "      <td>1</td>\n",
       "      <td>1</td>\n",
       "      <td>2</td>\n",
       "    </tr>\n",
       "    <tr>\n",
       "      <th>197</th>\n",
       "      <td>Candidate_323</td>\n",
       "      <td>0.722</td>\n",
       "      <td>2</td>\n",
       "      <td>1</td>\n",
       "      <td>1</td>\n",
       "      <td>1</td>\n",
       "      <td>2</td>\n",
       "      <td>3</td>\n",
       "      <td>1</td>\n",
       "      <td>1</td>\n",
       "      <td>2</td>\n",
       "    </tr>\n",
       "    <tr>\n",
       "      <th>198</th>\n",
       "      <td>Candidate_336</td>\n",
       "      <td>0.722</td>\n",
       "      <td>2</td>\n",
       "      <td>1</td>\n",
       "      <td>1</td>\n",
       "      <td>1</td>\n",
       "      <td>2</td>\n",
       "      <td>3</td>\n",
       "      <td>1</td>\n",
       "      <td>1</td>\n",
       "      <td>2</td>\n",
       "    </tr>\n",
       "    <tr>\n",
       "      <th>199</th>\n",
       "      <td>Candidate_246</td>\n",
       "      <td>0.722</td>\n",
       "      <td>2</td>\n",
       "      <td>1</td>\n",
       "      <td>1</td>\n",
       "      <td>1</td>\n",
       "      <td>2</td>\n",
       "      <td>3</td>\n",
       "      <td>1</td>\n",
       "      <td>1</td>\n",
       "      <td>2</td>\n",
       "    </tr>\n",
       "    <tr>\n",
       "      <th>200</th>\n",
       "      <td>Candidate_339</td>\n",
       "      <td>0.722</td>\n",
       "      <td>2</td>\n",
       "      <td>1</td>\n",
       "      <td>1</td>\n",
       "      <td>1</td>\n",
       "      <td>2</td>\n",
       "      <td>3</td>\n",
       "      <td>1</td>\n",
       "      <td>1</td>\n",
       "      <td>2</td>\n",
       "    </tr>\n",
       "    <tr>\n",
       "      <th>201</th>\n",
       "      <td>Candidate_338</td>\n",
       "      <td>0.722</td>\n",
       "      <td>2</td>\n",
       "      <td>1</td>\n",
       "      <td>1</td>\n",
       "      <td>1</td>\n",
       "      <td>2</td>\n",
       "      <td>3</td>\n",
       "      <td>1</td>\n",
       "      <td>1</td>\n",
       "      <td>2</td>\n",
       "    </tr>\n",
       "    <tr>\n",
       "      <th>202</th>\n",
       "      <td>Candidate_337</td>\n",
       "      <td>0.722</td>\n",
       "      <td>2</td>\n",
       "      <td>1</td>\n",
       "      <td>1</td>\n",
       "      <td>1</td>\n",
       "      <td>2</td>\n",
       "      <td>3</td>\n",
       "      <td>1</td>\n",
       "      <td>1</td>\n",
       "      <td>2</td>\n",
       "    </tr>\n",
       "    <tr>\n",
       "      <th>203</th>\n",
       "      <td>Candidate_324</td>\n",
       "      <td>0.722</td>\n",
       "      <td>2</td>\n",
       "      <td>1</td>\n",
       "      <td>1</td>\n",
       "      <td>1</td>\n",
       "      <td>2</td>\n",
       "      <td>3</td>\n",
       "      <td>1</td>\n",
       "      <td>1</td>\n",
       "      <td>2</td>\n",
       "    </tr>\n",
       "    <tr>\n",
       "      <th>204</th>\n",
       "      <td>Candidate_89</td>\n",
       "      <td>0.722</td>\n",
       "      <td>2</td>\n",
       "      <td>1</td>\n",
       "      <td>1</td>\n",
       "      <td>1</td>\n",
       "      <td>2</td>\n",
       "      <td>3</td>\n",
       "      <td>0</td>\n",
       "      <td>2</td>\n",
       "      <td>2</td>\n",
       "    </tr>\n",
       "    <tr>\n",
       "      <th>205</th>\n",
       "      <td>Candidate_103</td>\n",
       "      <td>0.722</td>\n",
       "      <td>2</td>\n",
       "      <td>1</td>\n",
       "      <td>1</td>\n",
       "      <td>1</td>\n",
       "      <td>2</td>\n",
       "      <td>3</td>\n",
       "      <td>0</td>\n",
       "      <td>2</td>\n",
       "      <td>2</td>\n",
       "    </tr>\n",
       "    <tr>\n",
       "      <th>206</th>\n",
       "      <td>Candidate_104</td>\n",
       "      <td>0.722</td>\n",
       "      <td>2</td>\n",
       "      <td>1</td>\n",
       "      <td>1</td>\n",
       "      <td>1</td>\n",
       "      <td>2</td>\n",
       "      <td>3</td>\n",
       "      <td>0</td>\n",
       "      <td>2</td>\n",
       "      <td>2</td>\n",
       "    </tr>\n",
       "    <tr>\n",
       "      <th>207</th>\n",
       "      <td>Candidate_88</td>\n",
       "      <td>0.722</td>\n",
       "      <td>2</td>\n",
       "      <td>1</td>\n",
       "      <td>1</td>\n",
       "      <td>1</td>\n",
       "      <td>2</td>\n",
       "      <td>3</td>\n",
       "      <td>0</td>\n",
       "      <td>2</td>\n",
       "      <td>2</td>\n",
       "    </tr>\n",
       "    <tr>\n",
       "      <th>208</th>\n",
       "      <td>Candidate_149</td>\n",
       "      <td>0.722</td>\n",
       "      <td>2</td>\n",
       "      <td>1</td>\n",
       "      <td>1</td>\n",
       "      <td>1</td>\n",
       "      <td>2</td>\n",
       "      <td>3</td>\n",
       "      <td>0</td>\n",
       "      <td>2</td>\n",
       "      <td>2</td>\n",
       "    </tr>\n",
       "    <tr>\n",
       "      <th>209</th>\n",
       "      <td>Candidate_148</td>\n",
       "      <td>0.722</td>\n",
       "      <td>2</td>\n",
       "      <td>1</td>\n",
       "      <td>1</td>\n",
       "      <td>1</td>\n",
       "      <td>2</td>\n",
       "      <td>3</td>\n",
       "      <td>0</td>\n",
       "      <td>2</td>\n",
       "      <td>2</td>\n",
       "    </tr>\n",
       "    <tr>\n",
       "      <th>210</th>\n",
       "      <td>Candidate_443</td>\n",
       "      <td>0.715</td>\n",
       "      <td>2</td>\n",
       "      <td>1</td>\n",
       "      <td>1</td>\n",
       "      <td>1</td>\n",
       "      <td>2</td>\n",
       "      <td>3</td>\n",
       "      <td>2</td>\n",
       "      <td>1</td>\n",
       "      <td>3</td>\n",
       "    </tr>\n",
       "    <tr>\n",
       "      <th>211</th>\n",
       "      <td>Candidate_444</td>\n",
       "      <td>0.715</td>\n",
       "      <td>2</td>\n",
       "      <td>1</td>\n",
       "      <td>1</td>\n",
       "      <td>1</td>\n",
       "      <td>2</td>\n",
       "      <td>3</td>\n",
       "      <td>2</td>\n",
       "      <td>1</td>\n",
       "      <td>3</td>\n",
       "    </tr>\n",
       "    <tr>\n",
       "      <th>212</th>\n",
       "      <td>Candidate_442</td>\n",
       "      <td>0.715</td>\n",
       "      <td>2</td>\n",
       "      <td>1</td>\n",
       "      <td>1</td>\n",
       "      <td>1</td>\n",
       "      <td>2</td>\n",
       "      <td>3</td>\n",
       "      <td>2</td>\n",
       "      <td>1</td>\n",
       "      <td>3</td>\n",
       "    </tr>\n",
       "    <tr>\n",
       "      <th>213</th>\n",
       "      <td>Candidate_413</td>\n",
       "      <td>0.715</td>\n",
       "      <td>2</td>\n",
       "      <td>1</td>\n",
       "      <td>1</td>\n",
       "      <td>1</td>\n",
       "      <td>2</td>\n",
       "      <td>3</td>\n",
       "      <td>2</td>\n",
       "      <td>1</td>\n",
       "      <td>3</td>\n",
       "    </tr>\n",
       "    <tr>\n",
       "      <th>214</th>\n",
       "      <td>Candidate_429</td>\n",
       "      <td>0.715</td>\n",
       "      <td>2</td>\n",
       "      <td>1</td>\n",
       "      <td>1</td>\n",
       "      <td>1</td>\n",
       "      <td>2</td>\n",
       "      <td>3</td>\n",
       "      <td>2</td>\n",
       "      <td>1</td>\n",
       "      <td>3</td>\n",
       "    </tr>\n",
       "    <tr>\n",
       "      <th>215</th>\n",
       "      <td>Candidate_428</td>\n",
       "      <td>0.715</td>\n",
       "      <td>2</td>\n",
       "      <td>1</td>\n",
       "      <td>1</td>\n",
       "      <td>1</td>\n",
       "      <td>2</td>\n",
       "      <td>3</td>\n",
       "      <td>2</td>\n",
       "      <td>1</td>\n",
       "      <td>3</td>\n",
       "    </tr>\n",
       "    <tr>\n",
       "      <th>216</th>\n",
       "      <td>Candidate_427</td>\n",
       "      <td>0.715</td>\n",
       "      <td>2</td>\n",
       "      <td>1</td>\n",
       "      <td>1</td>\n",
       "      <td>1</td>\n",
       "      <td>2</td>\n",
       "      <td>3</td>\n",
       "      <td>2</td>\n",
       "      <td>1</td>\n",
       "      <td>3</td>\n",
       "    </tr>\n",
       "    <tr>\n",
       "      <th>217</th>\n",
       "      <td>Candidate_426</td>\n",
       "      <td>0.715</td>\n",
       "      <td>2</td>\n",
       "      <td>1</td>\n",
       "      <td>1</td>\n",
       "      <td>1</td>\n",
       "      <td>2</td>\n",
       "      <td>3</td>\n",
       "      <td>2</td>\n",
       "      <td>1</td>\n",
       "      <td>3</td>\n",
       "    </tr>\n",
       "    <tr>\n",
       "      <th>218</th>\n",
       "      <td>Candidate_441</td>\n",
       "      <td>0.715</td>\n",
       "      <td>2</td>\n",
       "      <td>1</td>\n",
       "      <td>1</td>\n",
       "      <td>1</td>\n",
       "      <td>2</td>\n",
       "      <td>3</td>\n",
       "      <td>2</td>\n",
       "      <td>1</td>\n",
       "      <td>3</td>\n",
       "    </tr>\n",
       "    <tr>\n",
       "      <th>219</th>\n",
       "      <td>Candidate_414</td>\n",
       "      <td>0.715</td>\n",
       "      <td>2</td>\n",
       "      <td>1</td>\n",
       "      <td>1</td>\n",
       "      <td>1</td>\n",
       "      <td>2</td>\n",
       "      <td>3</td>\n",
       "      <td>2</td>\n",
       "      <td>1</td>\n",
       "      <td>3</td>\n",
       "    </tr>\n",
       "    <tr>\n",
       "      <th>220</th>\n",
       "      <td>Candidate_412</td>\n",
       "      <td>0.715</td>\n",
       "      <td>2</td>\n",
       "      <td>1</td>\n",
       "      <td>1</td>\n",
       "      <td>1</td>\n",
       "      <td>2</td>\n",
       "      <td>3</td>\n",
       "      <td>2</td>\n",
       "      <td>1</td>\n",
       "      <td>3</td>\n",
       "    </tr>\n",
       "    <tr>\n",
       "      <th>221</th>\n",
       "      <td>Candidate_411</td>\n",
       "      <td>0.715</td>\n",
       "      <td>2</td>\n",
       "      <td>1</td>\n",
       "      <td>1</td>\n",
       "      <td>1</td>\n",
       "      <td>2</td>\n",
       "      <td>3</td>\n",
       "      <td>2</td>\n",
       "      <td>1</td>\n",
       "      <td>3</td>\n",
       "    </tr>\n",
       "    <tr>\n",
       "      <th>222</th>\n",
       "      <td>Candidate_283</td>\n",
       "      <td>0.714</td>\n",
       "      <td>2</td>\n",
       "      <td>1</td>\n",
       "      <td>1</td>\n",
       "      <td>1</td>\n",
       "      <td>2</td>\n",
       "      <td>3</td>\n",
       "      <td>1</td>\n",
       "      <td>2</td>\n",
       "      <td>3</td>\n",
       "    </tr>\n",
       "    <tr>\n",
       "      <th>223</th>\n",
       "      <td>Candidate_344</td>\n",
       "      <td>0.714</td>\n",
       "      <td>2</td>\n",
       "      <td>1</td>\n",
       "      <td>1</td>\n",
       "      <td>1</td>\n",
       "      <td>2</td>\n",
       "      <td>3</td>\n",
       "      <td>1</td>\n",
       "      <td>2</td>\n",
       "      <td>3</td>\n",
       "    </tr>\n",
       "    <tr>\n",
       "      <th>224</th>\n",
       "      <td>Candidate_328</td>\n",
       "      <td>0.714</td>\n",
       "      <td>2</td>\n",
       "      <td>1</td>\n",
       "      <td>1</td>\n",
       "      <td>1</td>\n",
       "      <td>2</td>\n",
       "      <td>3</td>\n",
       "      <td>1</td>\n",
       "      <td>2</td>\n",
       "      <td>3</td>\n",
       "    </tr>\n",
       "    <tr>\n",
       "      <th>225</th>\n",
       "      <td>Candidate_329</td>\n",
       "      <td>0.714</td>\n",
       "      <td>2</td>\n",
       "      <td>1</td>\n",
       "      <td>1</td>\n",
       "      <td>1</td>\n",
       "      <td>2</td>\n",
       "      <td>3</td>\n",
       "      <td>1</td>\n",
       "      <td>2</td>\n",
       "      <td>3</td>\n",
       "    </tr>\n",
       "    <tr>\n",
       "      <th>226</th>\n",
       "      <td>Candidate_253</td>\n",
       "      <td>0.714</td>\n",
       "      <td>2</td>\n",
       "      <td>1</td>\n",
       "      <td>1</td>\n",
       "      <td>1</td>\n",
       "      <td>2</td>\n",
       "      <td>3</td>\n",
       "      <td>1</td>\n",
       "      <td>2</td>\n",
       "      <td>3</td>\n",
       "    </tr>\n",
       "    <tr>\n",
       "      <th>227</th>\n",
       "      <td>Candidate_254</td>\n",
       "      <td>0.714</td>\n",
       "      <td>2</td>\n",
       "      <td>1</td>\n",
       "      <td>1</td>\n",
       "      <td>1</td>\n",
       "      <td>2</td>\n",
       "      <td>3</td>\n",
       "      <td>1</td>\n",
       "      <td>2</td>\n",
       "      <td>3</td>\n",
       "    </tr>\n",
       "    <tr>\n",
       "      <th>228</th>\n",
       "      <td>Candidate_299</td>\n",
       "      <td>0.714</td>\n",
       "      <td>2</td>\n",
       "      <td>1</td>\n",
       "      <td>1</td>\n",
       "      <td>1</td>\n",
       "      <td>2</td>\n",
       "      <td>3</td>\n",
       "      <td>1</td>\n",
       "      <td>2</td>\n",
       "      <td>3</td>\n",
       "    </tr>\n",
       "    <tr>\n",
       "      <th>229</th>\n",
       "      <td>Candidate_298</td>\n",
       "      <td>0.714</td>\n",
       "      <td>2</td>\n",
       "      <td>1</td>\n",
       "      <td>1</td>\n",
       "      <td>1</td>\n",
       "      <td>2</td>\n",
       "      <td>3</td>\n",
       "      <td>1</td>\n",
       "      <td>2</td>\n",
       "      <td>3</td>\n",
       "    </tr>\n",
       "    <tr>\n",
       "      <th>230</th>\n",
       "      <td>Candidate_343</td>\n",
       "      <td>0.714</td>\n",
       "      <td>2</td>\n",
       "      <td>1</td>\n",
       "      <td>1</td>\n",
       "      <td>1</td>\n",
       "      <td>2</td>\n",
       "      <td>3</td>\n",
       "      <td>1</td>\n",
       "      <td>2</td>\n",
       "      <td>3</td>\n",
       "    </tr>\n",
       "    <tr>\n",
       "      <th>231</th>\n",
       "      <td>Candidate_269</td>\n",
       "      <td>0.714</td>\n",
       "      <td>2</td>\n",
       "      <td>1</td>\n",
       "      <td>1</td>\n",
       "      <td>1</td>\n",
       "      <td>2</td>\n",
       "      <td>3</td>\n",
       "      <td>1</td>\n",
       "      <td>2</td>\n",
       "      <td>3</td>\n",
       "    </tr>\n",
       "    <tr>\n",
       "      <th>232</th>\n",
       "      <td>Candidate_284</td>\n",
       "      <td>0.714</td>\n",
       "      <td>2</td>\n",
       "      <td>1</td>\n",
       "      <td>1</td>\n",
       "      <td>1</td>\n",
       "      <td>2</td>\n",
       "      <td>3</td>\n",
       "      <td>1</td>\n",
       "      <td>2</td>\n",
       "      <td>3</td>\n",
       "    </tr>\n",
       "    <tr>\n",
       "      <th>233</th>\n",
       "      <td>Candidate_268</td>\n",
       "      <td>0.714</td>\n",
       "      <td>2</td>\n",
       "      <td>1</td>\n",
       "      <td>1</td>\n",
       "      <td>1</td>\n",
       "      <td>2</td>\n",
       "      <td>3</td>\n",
       "      <td>1</td>\n",
       "      <td>2</td>\n",
       "      <td>3</td>\n",
       "    </tr>\n",
       "    <tr>\n",
       "      <th>234</th>\n",
       "      <td>Candidate_434</td>\n",
       "      <td>0.707</td>\n",
       "      <td>2</td>\n",
       "      <td>1</td>\n",
       "      <td>1</td>\n",
       "      <td>1</td>\n",
       "      <td>2</td>\n",
       "      <td>3</td>\n",
       "      <td>2</td>\n",
       "      <td>2</td>\n",
       "      <td>4</td>\n",
       "    </tr>\n",
       "    <tr>\n",
       "      <th>235</th>\n",
       "      <td>Candidate_433</td>\n",
       "      <td>0.707</td>\n",
       "      <td>2</td>\n",
       "      <td>1</td>\n",
       "      <td>1</td>\n",
       "      <td>1</td>\n",
       "      <td>2</td>\n",
       "      <td>3</td>\n",
       "      <td>2</td>\n",
       "      <td>2</td>\n",
       "      <td>4</td>\n",
       "    </tr>\n",
       "    <tr>\n",
       "      <th>236</th>\n",
       "      <td>Candidate_419</td>\n",
       "      <td>0.707</td>\n",
       "      <td>2</td>\n",
       "      <td>1</td>\n",
       "      <td>1</td>\n",
       "      <td>1</td>\n",
       "      <td>2</td>\n",
       "      <td>3</td>\n",
       "      <td>2</td>\n",
       "      <td>2</td>\n",
       "      <td>4</td>\n",
       "    </tr>\n",
       "    <tr>\n",
       "      <th>237</th>\n",
       "      <td>Candidate_418</td>\n",
       "      <td>0.707</td>\n",
       "      <td>2</td>\n",
       "      <td>1</td>\n",
       "      <td>1</td>\n",
       "      <td>1</td>\n",
       "      <td>2</td>\n",
       "      <td>3</td>\n",
       "      <td>2</td>\n",
       "      <td>2</td>\n",
       "      <td>4</td>\n",
       "    </tr>\n",
       "    <tr>\n",
       "      <th>238</th>\n",
       "      <td>Candidate_448</td>\n",
       "      <td>0.707</td>\n",
       "      <td>2</td>\n",
       "      <td>1</td>\n",
       "      <td>1</td>\n",
       "      <td>1</td>\n",
       "      <td>2</td>\n",
       "      <td>3</td>\n",
       "      <td>2</td>\n",
       "      <td>2</td>\n",
       "      <td>4</td>\n",
       "    </tr>\n",
       "    <tr>\n",
       "      <th>239</th>\n",
       "      <td>Candidate_449</td>\n",
       "      <td>0.707</td>\n",
       "      <td>2</td>\n",
       "      <td>1</td>\n",
       "      <td>1</td>\n",
       "      <td>1</td>\n",
       "      <td>2</td>\n",
       "      <td>3</td>\n",
       "      <td>2</td>\n",
       "      <td>2</td>\n",
       "      <td>4</td>\n",
       "    </tr>\n",
       "    <tr>\n",
       "      <th>240</th>\n",
       "      <td>Candidate_16</td>\n",
       "      <td>0.628</td>\n",
       "      <td>1</td>\n",
       "      <td>2</td>\n",
       "      <td>1</td>\n",
       "      <td>1</td>\n",
       "      <td>3</td>\n",
       "      <td>2</td>\n",
       "      <td>0</td>\n",
       "      <td>0</td>\n",
       "      <td>0</td>\n",
       "    </tr>\n",
       "    <tr>\n",
       "      <th>241</th>\n",
       "      <td>Candidate_17</td>\n",
       "      <td>0.628</td>\n",
       "      <td>1</td>\n",
       "      <td>2</td>\n",
       "      <td>1</td>\n",
       "      <td>1</td>\n",
       "      <td>3</td>\n",
       "      <td>2</td>\n",
       "      <td>0</td>\n",
       "      <td>0</td>\n",
       "      <td>0</td>\n",
       "    </tr>\n",
       "    <tr>\n",
       "      <th>242</th>\n",
       "      <td>Candidate_31</td>\n",
       "      <td>0.628</td>\n",
       "      <td>1</td>\n",
       "      <td>2</td>\n",
       "      <td>1</td>\n",
       "      <td>1</td>\n",
       "      <td>3</td>\n",
       "      <td>2</td>\n",
       "      <td>0</td>\n",
       "      <td>0</td>\n",
       "      <td>0</td>\n",
       "    </tr>\n",
       "    <tr>\n",
       "      <th>243</th>\n",
       "      <td>Candidate_32</td>\n",
       "      <td>0.628</td>\n",
       "      <td>1</td>\n",
       "      <td>2</td>\n",
       "      <td>1</td>\n",
       "      <td>1</td>\n",
       "      <td>3</td>\n",
       "      <td>2</td>\n",
       "      <td>0</td>\n",
       "      <td>0</td>\n",
       "      <td>0</td>\n",
       "    </tr>\n",
       "    <tr>\n",
       "      <th>244</th>\n",
       "      <td>Candidate_1</td>\n",
       "      <td>0.628</td>\n",
       "      <td>1</td>\n",
       "      <td>2</td>\n",
       "      <td>1</td>\n",
       "      <td>1</td>\n",
       "      <td>3</td>\n",
       "      <td>2</td>\n",
       "      <td>0</td>\n",
       "      <td>0</td>\n",
       "      <td>0</td>\n",
       "    </tr>\n",
       "    <tr>\n",
       "      <th>245</th>\n",
       "      <td>Candidate_2</td>\n",
       "      <td>0.628</td>\n",
       "      <td>1</td>\n",
       "      <td>2</td>\n",
       "      <td>1</td>\n",
       "      <td>1</td>\n",
       "      <td>3</td>\n",
       "      <td>2</td>\n",
       "      <td>0</td>\n",
       "      <td>0</td>\n",
       "      <td>0</td>\n",
       "    </tr>\n",
       "    <tr>\n",
       "      <th>246</th>\n",
       "      <td>Candidate_167</td>\n",
       "      <td>0.624</td>\n",
       "      <td>1</td>\n",
       "      <td>2</td>\n",
       "      <td>1</td>\n",
       "      <td>1</td>\n",
       "      <td>3</td>\n",
       "      <td>2</td>\n",
       "      <td>1</td>\n",
       "      <td>0</td>\n",
       "      <td>1</td>\n",
       "    </tr>\n",
       "    <tr>\n",
       "      <th>247</th>\n",
       "      <td>Candidate_152</td>\n",
       "      <td>0.624</td>\n",
       "      <td>1</td>\n",
       "      <td>2</td>\n",
       "      <td>1</td>\n",
       "      <td>1</td>\n",
       "      <td>3</td>\n",
       "      <td>2</td>\n",
       "      <td>1</td>\n",
       "      <td>0</td>\n",
       "      <td>1</td>\n",
       "    </tr>\n",
       "    <tr>\n",
       "      <th>248</th>\n",
       "      <td>Candidate_181</td>\n",
       "      <td>0.624</td>\n",
       "      <td>1</td>\n",
       "      <td>2</td>\n",
       "      <td>1</td>\n",
       "      <td>1</td>\n",
       "      <td>3</td>\n",
       "      <td>2</td>\n",
       "      <td>1</td>\n",
       "      <td>0</td>\n",
       "      <td>1</td>\n",
       "    </tr>\n",
       "    <tr>\n",
       "      <th>249</th>\n",
       "      <td>Candidate_122</td>\n",
       "      <td>0.624</td>\n",
       "      <td>1</td>\n",
       "      <td>2</td>\n",
       "      <td>1</td>\n",
       "      <td>1</td>\n",
       "      <td>3</td>\n",
       "      <td>2</td>\n",
       "      <td>1</td>\n",
       "      <td>0</td>\n",
       "      <td>1</td>\n",
       "    </tr>\n",
       "    <tr>\n",
       "      <th>250</th>\n",
       "      <td>Candidate_121</td>\n",
       "      <td>0.624</td>\n",
       "      <td>1</td>\n",
       "      <td>2</td>\n",
       "      <td>1</td>\n",
       "      <td>1</td>\n",
       "      <td>3</td>\n",
       "      <td>2</td>\n",
       "      <td>1</td>\n",
       "      <td>0</td>\n",
       "      <td>1</td>\n",
       "    </tr>\n",
       "    <tr>\n",
       "      <th>251</th>\n",
       "      <td>Candidate_151</td>\n",
       "      <td>0.624</td>\n",
       "      <td>1</td>\n",
       "      <td>2</td>\n",
       "      <td>1</td>\n",
       "      <td>1</td>\n",
       "      <td>3</td>\n",
       "      <td>2</td>\n",
       "      <td>1</td>\n",
       "      <td>0</td>\n",
       "      <td>1</td>\n",
       "    </tr>\n",
       "    <tr>\n",
       "      <th>252</th>\n",
       "      <td>Candidate_196</td>\n",
       "      <td>0.624</td>\n",
       "      <td>1</td>\n",
       "      <td>2</td>\n",
       "      <td>1</td>\n",
       "      <td>1</td>\n",
       "      <td>3</td>\n",
       "      <td>2</td>\n",
       "      <td>1</td>\n",
       "      <td>0</td>\n",
       "      <td>1</td>\n",
       "    </tr>\n",
       "    <tr>\n",
       "      <th>253</th>\n",
       "      <td>Candidate_197</td>\n",
       "      <td>0.624</td>\n",
       "      <td>1</td>\n",
       "      <td>2</td>\n",
       "      <td>1</td>\n",
       "      <td>1</td>\n",
       "      <td>3</td>\n",
       "      <td>2</td>\n",
       "      <td>1</td>\n",
       "      <td>0</td>\n",
       "      <td>1</td>\n",
       "    </tr>\n",
       "    <tr>\n",
       "      <th>254</th>\n",
       "      <td>Candidate_166</td>\n",
       "      <td>0.624</td>\n",
       "      <td>1</td>\n",
       "      <td>2</td>\n",
       "      <td>1</td>\n",
       "      <td>1</td>\n",
       "      <td>3</td>\n",
       "      <td>2</td>\n",
       "      <td>1</td>\n",
       "      <td>0</td>\n",
       "      <td>1</td>\n",
       "    </tr>\n",
       "    <tr>\n",
       "      <th>255</th>\n",
       "      <td>Candidate_182</td>\n",
       "      <td>0.624</td>\n",
       "      <td>1</td>\n",
       "      <td>2</td>\n",
       "      <td>1</td>\n",
       "      <td>1</td>\n",
       "      <td>3</td>\n",
       "      <td>2</td>\n",
       "      <td>1</td>\n",
       "      <td>0</td>\n",
       "      <td>1</td>\n",
       "    </tr>\n",
       "    <tr>\n",
       "      <th>256</th>\n",
       "      <td>Candidate_106</td>\n",
       "      <td>0.624</td>\n",
       "      <td>1</td>\n",
       "      <td>2</td>\n",
       "      <td>1</td>\n",
       "      <td>1</td>\n",
       "      <td>3</td>\n",
       "      <td>2</td>\n",
       "      <td>1</td>\n",
       "      <td>0</td>\n",
       "      <td>1</td>\n",
       "    </tr>\n",
       "    <tr>\n",
       "      <th>257</th>\n",
       "      <td>Candidate_107</td>\n",
       "      <td>0.624</td>\n",
       "      <td>1</td>\n",
       "      <td>2</td>\n",
       "      <td>1</td>\n",
       "      <td>1</td>\n",
       "      <td>3</td>\n",
       "      <td>2</td>\n",
       "      <td>1</td>\n",
       "      <td>0</td>\n",
       "      <td>1</td>\n",
       "    </tr>\n",
       "    <tr>\n",
       "      <th>258</th>\n",
       "      <td>Candidate_347</td>\n",
       "      <td>0.620</td>\n",
       "      <td>1</td>\n",
       "      <td>2</td>\n",
       "      <td>1</td>\n",
       "      <td>1</td>\n",
       "      <td>3</td>\n",
       "      <td>2</td>\n",
       "      <td>2</td>\n",
       "      <td>0</td>\n",
       "      <td>2</td>\n",
       "    </tr>\n",
       "    <tr>\n",
       "      <th>259</th>\n",
       "      <td>Candidate_346</td>\n",
       "      <td>0.620</td>\n",
       "      <td>1</td>\n",
       "      <td>2</td>\n",
       "      <td>1</td>\n",
       "      <td>1</td>\n",
       "      <td>3</td>\n",
       "      <td>2</td>\n",
       "      <td>2</td>\n",
       "      <td>0</td>\n",
       "      <td>2</td>\n",
       "    </tr>\n",
       "    <tr>\n",
       "      <th>260</th>\n",
       "      <td>Candidate_302</td>\n",
       "      <td>0.620</td>\n",
       "      <td>1</td>\n",
       "      <td>2</td>\n",
       "      <td>1</td>\n",
       "      <td>1</td>\n",
       "      <td>3</td>\n",
       "      <td>2</td>\n",
       "      <td>2</td>\n",
       "      <td>0</td>\n",
       "      <td>2</td>\n",
       "    </tr>\n",
       "    <tr>\n",
       "      <th>261</th>\n",
       "      <td>Candidate_301</td>\n",
       "      <td>0.620</td>\n",
       "      <td>1</td>\n",
       "      <td>2</td>\n",
       "      <td>1</td>\n",
       "      <td>1</td>\n",
       "      <td>3</td>\n",
       "      <td>2</td>\n",
       "      <td>2</td>\n",
       "      <td>0</td>\n",
       "      <td>2</td>\n",
       "    </tr>\n",
       "    <tr>\n",
       "      <th>262</th>\n",
       "      <td>Candidate_362</td>\n",
       "      <td>0.620</td>\n",
       "      <td>1</td>\n",
       "      <td>2</td>\n",
       "      <td>1</td>\n",
       "      <td>1</td>\n",
       "      <td>3</td>\n",
       "      <td>2</td>\n",
       "      <td>2</td>\n",
       "      <td>0</td>\n",
       "      <td>2</td>\n",
       "    </tr>\n",
       "    <tr>\n",
       "      <th>263</th>\n",
       "      <td>Candidate_361</td>\n",
       "      <td>0.620</td>\n",
       "      <td>1</td>\n",
       "      <td>2</td>\n",
       "      <td>1</td>\n",
       "      <td>1</td>\n",
       "      <td>3</td>\n",
       "      <td>2</td>\n",
       "      <td>2</td>\n",
       "      <td>0</td>\n",
       "      <td>2</td>\n",
       "    </tr>\n",
       "    <tr>\n",
       "      <th>264</th>\n",
       "      <td>Candidate_23</td>\n",
       "      <td>0.619</td>\n",
       "      <td>1</td>\n",
       "      <td>2</td>\n",
       "      <td>1</td>\n",
       "      <td>1</td>\n",
       "      <td>3</td>\n",
       "      <td>2</td>\n",
       "      <td>0</td>\n",
       "      <td>1</td>\n",
       "      <td>1</td>\n",
       "    </tr>\n",
       "    <tr>\n",
       "      <th>265</th>\n",
       "      <td>Candidate_6</td>\n",
       "      <td>0.619</td>\n",
       "      <td>1</td>\n",
       "      <td>2</td>\n",
       "      <td>1</td>\n",
       "      <td>1</td>\n",
       "      <td>3</td>\n",
       "      <td>2</td>\n",
       "      <td>0</td>\n",
       "      <td>1</td>\n",
       "      <td>1</td>\n",
       "    </tr>\n",
       "    <tr>\n",
       "      <th>266</th>\n",
       "      <td>Candidate_21</td>\n",
       "      <td>0.619</td>\n",
       "      <td>1</td>\n",
       "      <td>2</td>\n",
       "      <td>1</td>\n",
       "      <td>1</td>\n",
       "      <td>3</td>\n",
       "      <td>2</td>\n",
       "      <td>0</td>\n",
       "      <td>1</td>\n",
       "      <td>1</td>\n",
       "    </tr>\n",
       "    <tr>\n",
       "      <th>267</th>\n",
       "      <td>Candidate_37</td>\n",
       "      <td>0.619</td>\n",
       "      <td>1</td>\n",
       "      <td>2</td>\n",
       "      <td>1</td>\n",
       "      <td>1</td>\n",
       "      <td>3</td>\n",
       "      <td>2</td>\n",
       "      <td>0</td>\n",
       "      <td>1</td>\n",
       "      <td>1</td>\n",
       "    </tr>\n",
       "    <tr>\n",
       "      <th>268</th>\n",
       "      <td>Candidate_39</td>\n",
       "      <td>0.619</td>\n",
       "      <td>1</td>\n",
       "      <td>2</td>\n",
       "      <td>1</td>\n",
       "      <td>1</td>\n",
       "      <td>3</td>\n",
       "      <td>2</td>\n",
       "      <td>0</td>\n",
       "      <td>1</td>\n",
       "      <td>1</td>\n",
       "    </tr>\n",
       "    <tr>\n",
       "      <th>269</th>\n",
       "      <td>Candidate_22</td>\n",
       "      <td>0.619</td>\n",
       "      <td>1</td>\n",
       "      <td>2</td>\n",
       "      <td>1</td>\n",
       "      <td>1</td>\n",
       "      <td>3</td>\n",
       "      <td>2</td>\n",
       "      <td>0</td>\n",
       "      <td>1</td>\n",
       "      <td>1</td>\n",
       "    </tr>\n",
       "    <tr>\n",
       "      <th>270</th>\n",
       "      <td>Candidate_7</td>\n",
       "      <td>0.619</td>\n",
       "      <td>1</td>\n",
       "      <td>2</td>\n",
       "      <td>1</td>\n",
       "      <td>1</td>\n",
       "      <td>3</td>\n",
       "      <td>2</td>\n",
       "      <td>0</td>\n",
       "      <td>1</td>\n",
       "      <td>1</td>\n",
       "    </tr>\n",
       "    <tr>\n",
       "      <th>271</th>\n",
       "      <td>Candidate_36</td>\n",
       "      <td>0.619</td>\n",
       "      <td>1</td>\n",
       "      <td>2</td>\n",
       "      <td>1</td>\n",
       "      <td>1</td>\n",
       "      <td>3</td>\n",
       "      <td>2</td>\n",
       "      <td>0</td>\n",
       "      <td>1</td>\n",
       "      <td>1</td>\n",
       "    </tr>\n",
       "    <tr>\n",
       "      <th>272</th>\n",
       "      <td>Candidate_8</td>\n",
       "      <td>0.619</td>\n",
       "      <td>1</td>\n",
       "      <td>2</td>\n",
       "      <td>1</td>\n",
       "      <td>1</td>\n",
       "      <td>3</td>\n",
       "      <td>2</td>\n",
       "      <td>0</td>\n",
       "      <td>1</td>\n",
       "      <td>1</td>\n",
       "    </tr>\n",
       "    <tr>\n",
       "      <th>273</th>\n",
       "      <td>Candidate_38</td>\n",
       "      <td>0.619</td>\n",
       "      <td>1</td>\n",
       "      <td>2</td>\n",
       "      <td>1</td>\n",
       "      <td>1</td>\n",
       "      <td>3</td>\n",
       "      <td>2</td>\n",
       "      <td>0</td>\n",
       "      <td>1</td>\n",
       "      <td>1</td>\n",
       "    </tr>\n",
       "    <tr>\n",
       "      <th>274</th>\n",
       "      <td>Candidate_9</td>\n",
       "      <td>0.619</td>\n",
       "      <td>1</td>\n",
       "      <td>2</td>\n",
       "      <td>1</td>\n",
       "      <td>1</td>\n",
       "      <td>3</td>\n",
       "      <td>2</td>\n",
       "      <td>0</td>\n",
       "      <td>1</td>\n",
       "      <td>1</td>\n",
       "    </tr>\n",
       "    <tr>\n",
       "      <th>275</th>\n",
       "      <td>Candidate_24</td>\n",
       "      <td>0.619</td>\n",
       "      <td>1</td>\n",
       "      <td>2</td>\n",
       "      <td>1</td>\n",
       "      <td>1</td>\n",
       "      <td>3</td>\n",
       "      <td>2</td>\n",
       "      <td>0</td>\n",
       "      <td>1</td>\n",
       "      <td>1</td>\n",
       "    </tr>\n",
       "    <tr>\n",
       "      <th>276</th>\n",
       "      <td>Candidate_187</td>\n",
       "      <td>0.615</td>\n",
       "      <td>1</td>\n",
       "      <td>2</td>\n",
       "      <td>1</td>\n",
       "      <td>1</td>\n",
       "      <td>3</td>\n",
       "      <td>2</td>\n",
       "      <td>1</td>\n",
       "      <td>1</td>\n",
       "      <td>2</td>\n",
       "    </tr>\n",
       "    <tr>\n",
       "      <th>277</th>\n",
       "      <td>Candidate_171</td>\n",
       "      <td>0.615</td>\n",
       "      <td>1</td>\n",
       "      <td>2</td>\n",
       "      <td>1</td>\n",
       "      <td>1</td>\n",
       "      <td>3</td>\n",
       "      <td>2</td>\n",
       "      <td>1</td>\n",
       "      <td>1</td>\n",
       "      <td>2</td>\n",
       "    </tr>\n",
       "    <tr>\n",
       "      <th>278</th>\n",
       "      <td>Candidate_156</td>\n",
       "      <td>0.615</td>\n",
       "      <td>1</td>\n",
       "      <td>2</td>\n",
       "      <td>1</td>\n",
       "      <td>1</td>\n",
       "      <td>3</td>\n",
       "      <td>2</td>\n",
       "      <td>1</td>\n",
       "      <td>1</td>\n",
       "      <td>2</td>\n",
       "    </tr>\n",
       "    <tr>\n",
       "      <th>279</th>\n",
       "      <td>Candidate_157</td>\n",
       "      <td>0.615</td>\n",
       "      <td>1</td>\n",
       "      <td>2</td>\n",
       "      <td>1</td>\n",
       "      <td>1</td>\n",
       "      <td>3</td>\n",
       "      <td>2</td>\n",
       "      <td>1</td>\n",
       "      <td>1</td>\n",
       "      <td>2</td>\n",
       "    </tr>\n",
       "    <tr>\n",
       "      <th>280</th>\n",
       "      <td>Candidate_158</td>\n",
       "      <td>0.615</td>\n",
       "      <td>1</td>\n",
       "      <td>2</td>\n",
       "      <td>1</td>\n",
       "      <td>1</td>\n",
       "      <td>3</td>\n",
       "      <td>2</td>\n",
       "      <td>1</td>\n",
       "      <td>1</td>\n",
       "      <td>2</td>\n",
       "    </tr>\n",
       "    <tr>\n",
       "      <th>281</th>\n",
       "      <td>Candidate_188</td>\n",
       "      <td>0.615</td>\n",
       "      <td>1</td>\n",
       "      <td>2</td>\n",
       "      <td>1</td>\n",
       "      <td>1</td>\n",
       "      <td>3</td>\n",
       "      <td>2</td>\n",
       "      <td>1</td>\n",
       "      <td>1</td>\n",
       "      <td>2</td>\n",
       "    </tr>\n",
       "    <tr>\n",
       "      <th>282</th>\n",
       "      <td>Candidate_172</td>\n",
       "      <td>0.615</td>\n",
       "      <td>1</td>\n",
       "      <td>2</td>\n",
       "      <td>1</td>\n",
       "      <td>1</td>\n",
       "      <td>3</td>\n",
       "      <td>2</td>\n",
       "      <td>1</td>\n",
       "      <td>1</td>\n",
       "      <td>2</td>\n",
       "    </tr>\n",
       "    <tr>\n",
       "      <th>283</th>\n",
       "      <td>Candidate_186</td>\n",
       "      <td>0.615</td>\n",
       "      <td>1</td>\n",
       "      <td>2</td>\n",
       "      <td>1</td>\n",
       "      <td>1</td>\n",
       "      <td>3</td>\n",
       "      <td>2</td>\n",
       "      <td>1</td>\n",
       "      <td>1</td>\n",
       "      <td>2</td>\n",
       "    </tr>\n",
       "    <tr>\n",
       "      <th>284</th>\n",
       "      <td>Candidate_159</td>\n",
       "      <td>0.615</td>\n",
       "      <td>1</td>\n",
       "      <td>2</td>\n",
       "      <td>1</td>\n",
       "      <td>1</td>\n",
       "      <td>3</td>\n",
       "      <td>2</td>\n",
       "      <td>1</td>\n",
       "      <td>1</td>\n",
       "      <td>2</td>\n",
       "    </tr>\n",
       "    <tr>\n",
       "      <th>285</th>\n",
       "      <td>Candidate_204</td>\n",
       "      <td>0.615</td>\n",
       "      <td>1</td>\n",
       "      <td>2</td>\n",
       "      <td>1</td>\n",
       "      <td>1</td>\n",
       "      <td>3</td>\n",
       "      <td>2</td>\n",
       "      <td>1</td>\n",
       "      <td>1</td>\n",
       "      <td>2</td>\n",
       "    </tr>\n",
       "    <tr>\n",
       "      <th>286</th>\n",
       "      <td>Candidate_203</td>\n",
       "      <td>0.615</td>\n",
       "      <td>1</td>\n",
       "      <td>2</td>\n",
       "      <td>1</td>\n",
       "      <td>1</td>\n",
       "      <td>3</td>\n",
       "      <td>2</td>\n",
       "      <td>1</td>\n",
       "      <td>1</td>\n",
       "      <td>2</td>\n",
       "    </tr>\n",
       "    <tr>\n",
       "      <th>287</th>\n",
       "      <td>Candidate_189</td>\n",
       "      <td>0.615</td>\n",
       "      <td>1</td>\n",
       "      <td>2</td>\n",
       "      <td>1</td>\n",
       "      <td>1</td>\n",
       "      <td>3</td>\n",
       "      <td>2</td>\n",
       "      <td>1</td>\n",
       "      <td>1</td>\n",
       "      <td>2</td>\n",
       "    </tr>\n",
       "    <tr>\n",
       "      <th>288</th>\n",
       "      <td>Candidate_201</td>\n",
       "      <td>0.615</td>\n",
       "      <td>1</td>\n",
       "      <td>2</td>\n",
       "      <td>1</td>\n",
       "      <td>1</td>\n",
       "      <td>3</td>\n",
       "      <td>2</td>\n",
       "      <td>1</td>\n",
       "      <td>1</td>\n",
       "      <td>2</td>\n",
       "    </tr>\n",
       "    <tr>\n",
       "      <th>289</th>\n",
       "      <td>Candidate_202</td>\n",
       "      <td>0.615</td>\n",
       "      <td>1</td>\n",
       "      <td>2</td>\n",
       "      <td>1</td>\n",
       "      <td>1</td>\n",
       "      <td>3</td>\n",
       "      <td>2</td>\n",
       "      <td>1</td>\n",
       "      <td>1</td>\n",
       "      <td>2</td>\n",
       "    </tr>\n",
       "    <tr>\n",
       "      <th>290</th>\n",
       "      <td>Candidate_114</td>\n",
       "      <td>0.615</td>\n",
       "      <td>1</td>\n",
       "      <td>2</td>\n",
       "      <td>1</td>\n",
       "      <td>1</td>\n",
       "      <td>3</td>\n",
       "      <td>2</td>\n",
       "      <td>1</td>\n",
       "      <td>1</td>\n",
       "      <td>2</td>\n",
       "    </tr>\n",
       "    <tr>\n",
       "      <th>291</th>\n",
       "      <td>Candidate_173</td>\n",
       "      <td>0.615</td>\n",
       "      <td>1</td>\n",
       "      <td>2</td>\n",
       "      <td>1</td>\n",
       "      <td>1</td>\n",
       "      <td>3</td>\n",
       "      <td>2</td>\n",
       "      <td>1</td>\n",
       "      <td>1</td>\n",
       "      <td>2</td>\n",
       "    </tr>\n",
       "    <tr>\n",
       "      <th>292</th>\n",
       "      <td>Candidate_111</td>\n",
       "      <td>0.615</td>\n",
       "      <td>1</td>\n",
       "      <td>2</td>\n",
       "      <td>1</td>\n",
       "      <td>1</td>\n",
       "      <td>3</td>\n",
       "      <td>2</td>\n",
       "      <td>1</td>\n",
       "      <td>1</td>\n",
       "      <td>2</td>\n",
       "    </tr>\n",
       "    <tr>\n",
       "      <th>293</th>\n",
       "      <td>Candidate_112</td>\n",
       "      <td>0.615</td>\n",
       "      <td>1</td>\n",
       "      <td>2</td>\n",
       "      <td>1</td>\n",
       "      <td>1</td>\n",
       "      <td>3</td>\n",
       "      <td>2</td>\n",
       "      <td>1</td>\n",
       "      <td>1</td>\n",
       "      <td>2</td>\n",
       "    </tr>\n",
       "    <tr>\n",
       "      <th>294</th>\n",
       "      <td>Candidate_113</td>\n",
       "      <td>0.615</td>\n",
       "      <td>1</td>\n",
       "      <td>2</td>\n",
       "      <td>1</td>\n",
       "      <td>1</td>\n",
       "      <td>3</td>\n",
       "      <td>2</td>\n",
       "      <td>1</td>\n",
       "      <td>1</td>\n",
       "      <td>2</td>\n",
       "    </tr>\n",
       "    <tr>\n",
       "      <th>295</th>\n",
       "      <td>Candidate_174</td>\n",
       "      <td>0.615</td>\n",
       "      <td>1</td>\n",
       "      <td>2</td>\n",
       "      <td>1</td>\n",
       "      <td>1</td>\n",
       "      <td>3</td>\n",
       "      <td>2</td>\n",
       "      <td>1</td>\n",
       "      <td>1</td>\n",
       "      <td>2</td>\n",
       "    </tr>\n",
       "    <tr>\n",
       "      <th>296</th>\n",
       "      <td>Candidate_126</td>\n",
       "      <td>0.615</td>\n",
       "      <td>1</td>\n",
       "      <td>2</td>\n",
       "      <td>1</td>\n",
       "      <td>1</td>\n",
       "      <td>3</td>\n",
       "      <td>2</td>\n",
       "      <td>1</td>\n",
       "      <td>1</td>\n",
       "      <td>2</td>\n",
       "    </tr>\n",
       "    <tr>\n",
       "      <th>297</th>\n",
       "      <td>Candidate_129</td>\n",
       "      <td>0.615</td>\n",
       "      <td>1</td>\n",
       "      <td>2</td>\n",
       "      <td>1</td>\n",
       "      <td>1</td>\n",
       "      <td>3</td>\n",
       "      <td>2</td>\n",
       "      <td>1</td>\n",
       "      <td>1</td>\n",
       "      <td>2</td>\n",
       "    </tr>\n",
       "    <tr>\n",
       "      <th>298</th>\n",
       "      <td>Candidate_128</td>\n",
       "      <td>0.615</td>\n",
       "      <td>1</td>\n",
       "      <td>2</td>\n",
       "      <td>1</td>\n",
       "      <td>1</td>\n",
       "      <td>3</td>\n",
       "      <td>2</td>\n",
       "      <td>1</td>\n",
       "      <td>1</td>\n",
       "      <td>2</td>\n",
       "    </tr>\n",
       "    <tr>\n",
       "      <th>299</th>\n",
       "      <td>Candidate_127</td>\n",
       "      <td>0.615</td>\n",
       "      <td>1</td>\n",
       "      <td>2</td>\n",
       "      <td>1</td>\n",
       "      <td>1</td>\n",
       "      <td>3</td>\n",
       "      <td>2</td>\n",
       "      <td>1</td>\n",
       "      <td>1</td>\n",
       "      <td>2</td>\n",
       "    </tr>\n",
       "  </tbody>\n",
       "</table>\n",
       "</div>"
      ],
      "text/plain": [
       "          Scenario  Scenario Similarity  Count_Main_Var_Given  \\\n",
       "0    Candidate_230                1.000                     3   \n",
       "1    Candidate_380                0.989                     3   \n",
       "2    Candidate_395                0.989                     3   \n",
       "3    Candidate_236                0.984                     3   \n",
       "4    Candidate_237                0.984                     3   \n",
       "5    Candidate_455                0.979                     3   \n",
       "6    Candidate_386                0.973                     3   \n",
       "7    Candidate_387                0.973                     3   \n",
       "8    Candidate_401                0.973                     3   \n",
       "9    Candidate_402                0.973                     3   \n",
       "10   Candidate_240                0.970                     3   \n",
       "11   Candidate_461                0.963                     3   \n",
       "12   Candidate_462                0.963                     3   \n",
       "13   Candidate_405                0.959                     3   \n",
       "14   Candidate_390                0.959                     3   \n",
       "15   Candidate_465                0.949                     3   \n",
       "16   Candidate_140                0.897                     2   \n",
       "17    Candidate_80                0.897                     2   \n",
       "18    Candidate_95                0.897                     2   \n",
       "19   Candidate_245                0.889                     2   \n",
       "20   Candidate_335                0.889                     2   \n",
       "21   Candidate_260                0.889                     2   \n",
       "22   Candidate_275                0.889                     2   \n",
       "23   Candidate_290                0.889                     2   \n",
       "24   Candidate_320                0.889                     2   \n",
       "25   Candidate_425                0.882                     2   \n",
       "26   Candidate_440                0.882                     2   \n",
       "27   Candidate_410                0.882                     2   \n",
       "28   Candidate_147                0.881                     2   \n",
       "29   Candidate_146                0.881                     2   \n",
       "30   Candidate_102                0.881                     2   \n",
       "31   Candidate_101                0.881                     2   \n",
       "32    Candidate_87                0.881                     2   \n",
       "33    Candidate_86                0.881                     2   \n",
       "34   Candidate_297                0.873                     2   \n",
       "35   Candidate_252                0.873                     2   \n",
       "36   Candidate_326                0.873                     2   \n",
       "37   Candidate_296                0.873                     2   \n",
       "38   Candidate_282                0.873                     2   \n",
       "39   Candidate_281                0.873                     2   \n",
       "40   Candidate_327                0.873                     2   \n",
       "41   Candidate_342                0.873                     2   \n",
       "42   Candidate_267                0.873                     2   \n",
       "43   Candidate_266                0.873                     2   \n",
       "44   Candidate_341                0.873                     2   \n",
       "45   Candidate_251                0.873                     2   \n",
       "46   Candidate_150                0.866                     2   \n",
       "47   Candidate_105                0.866                     2   \n",
       "48    Candidate_90                0.866                     2   \n",
       "49   Candidate_417                0.866                     2   \n",
       "50   Candidate_447                0.866                     2   \n",
       "51   Candidate_432                0.866                     2   \n",
       "52   Candidate_431                0.866                     2   \n",
       "53   Candidate_446                0.866                     2   \n",
       "54   Candidate_416                0.866                     2   \n",
       "55   Candidate_345                0.859                     2   \n",
       "56   Candidate_255                0.859                     2   \n",
       "57   Candidate_330                0.859                     2   \n",
       "58   Candidate_270                0.859                     2   \n",
       "59   Candidate_285                0.859                     2   \n",
       "60   Candidate_300                0.859                     2   \n",
       "61   Candidate_420                0.851                     2   \n",
       "62   Candidate_435                0.851                     2   \n",
       "63   Candidate_450                0.851                     2   \n",
       "64   Candidate_227                0.842                     3   \n",
       "65   Candidate_226                0.842                     3   \n",
       "66   Candidate_231                0.833                     3   \n",
       "67   Candidate_232                0.833                     3   \n",
       "68   Candidate_234                0.833                     3   \n",
       "69   Candidate_233                0.833                     3   \n",
       "70   Candidate_391                0.831                     3   \n",
       "71   Candidate_376                0.831                     3   \n",
       "72   Candidate_377                0.831                     3   \n",
       "73   Candidate_392                0.831                     3   \n",
       "74   Candidate_239                0.825                     3   \n",
       "75   Candidate_238                0.825                     3   \n",
       "76   Candidate_384                0.823                     3   \n",
       "77   Candidate_383                0.823                     3   \n",
       "78   Candidate_382                0.823                     3   \n",
       "79   Candidate_396                0.823                     3   \n",
       "80   Candidate_397                0.823                     3   \n",
       "81   Candidate_398                0.823                     3   \n",
       "82   Candidate_399                0.823                     3   \n",
       "83   Candidate_381                0.823                     3   \n",
       "84   Candidate_452                0.821                     3   \n",
       "85   Candidate_451                0.821                     3   \n",
       "86   Candidate_388                0.815                     3   \n",
       "87   Candidate_389                0.815                     3   \n",
       "88   Candidate_403                0.815                     3   \n",
       "89   Candidate_404                0.815                     3   \n",
       "90   Candidate_457                0.812                     3   \n",
       "91   Candidate_458                0.812                     3   \n",
       "92   Candidate_456                0.812                     3   \n",
       "93   Candidate_459                0.812                     3   \n",
       "94   Candidate_464                0.805                     3   \n",
       "95   Candidate_463                0.805                     3   \n",
       "96     Candidate_5                0.786                     1   \n",
       "97    Candidate_20                0.786                     1   \n",
       "98    Candidate_35                0.786                     1   \n",
       "99   Candidate_200                0.782                     1   \n",
       "100  Candidate_125                0.782                     1   \n",
       "101  Candidate_155                0.782                     1   \n",
       "102  Candidate_110                0.782                     1   \n",
       "103  Candidate_185                0.782                     1   \n",
       "104  Candidate_170                0.782                     1   \n",
       "105  Candidate_350                0.778                     1   \n",
       "106  Candidate_305                0.778                     1   \n",
       "107  Candidate_365                0.778                     1   \n",
       "108   Candidate_26                0.770                     1   \n",
       "109   Candidate_27                0.770                     1   \n",
       "110   Candidate_11                0.770                     1   \n",
       "111   Candidate_12                0.770                     1   \n",
       "112   Candidate_42                0.770                     1   \n",
       "113   Candidate_41                0.770                     1   \n",
       "114  Candidate_207                0.766                     1   \n",
       "115  Candidate_131                0.766                     1   \n",
       "116  Candidate_177                0.766                     1   \n",
       "117  Candidate_132                0.766                     1   \n",
       "118  Candidate_176                0.766                     1   \n",
       "119  Candidate_206                0.766                     1   \n",
       "120  Candidate_162                0.766                     1   \n",
       "121  Candidate_161                0.766                     1   \n",
       "122  Candidate_192                0.766                     1   \n",
       "123  Candidate_117                0.766                     1   \n",
       "124  Candidate_116                0.766                     1   \n",
       "125  Candidate_191                0.766                     1   \n",
       "126  Candidate_357                0.762                     1   \n",
       "127  Candidate_371                0.762                     1   \n",
       "128  Candidate_356                0.762                     1   \n",
       "129  Candidate_311                0.762                     1   \n",
       "130  Candidate_372                0.762                     1   \n",
       "131  Candidate_312                0.762                     1   \n",
       "132   Candidate_45                0.755                     1   \n",
       "133   Candidate_15                0.755                     1   \n",
       "134   Candidate_30                0.755                     1   \n",
       "135  Candidate_135                0.751                     1   \n",
       "136  Candidate_165                0.751                     1   \n",
       "137  Candidate_120                0.751                     1   \n",
       "138  Candidate_180                0.751                     1   \n",
       "139  Candidate_195                0.751                     1   \n",
       "140  Candidate_210                0.751                     1   \n",
       "141  Candidate_315                0.747                     1   \n",
       "142  Candidate_375                0.747                     1   \n",
       "143  Candidate_360                0.747                     1   \n",
       "144   Candidate_76                0.739                     2   \n",
       "145   Candidate_77                0.739                     2   \n",
       "146   Candidate_91                0.739                     2   \n",
       "147   Candidate_92                0.739                     2   \n",
       "148  Candidate_137                0.739                     2   \n",
       "149  Candidate_136                0.739                     2   \n",
       "150  Candidate_287                0.731                     2   \n",
       "151  Candidate_332                0.731                     2   \n",
       "152  Candidate_272                0.731                     2   \n",
       "153  Candidate_271                0.731                     2   \n",
       "154  Candidate_331                0.731                     2   \n",
       "155  Candidate_316                0.731                     2   \n",
       "156  Candidate_257                0.731                     2   \n",
       "157  Candidate_256                0.731                     2   \n",
       "158  Candidate_317                0.731                     2   \n",
       "159  Candidate_242                0.731                     2   \n",
       "160  Candidate_241                0.731                     2   \n",
       "161  Candidate_286                0.731                     2   \n",
       "162  Candidate_144                0.730                     2   \n",
       "163   Candidate_98                0.730                     2   \n",
       "164   Candidate_84                0.730                     2   \n",
       "165   Candidate_99                0.730                     2   \n",
       "166   Candidate_97                0.730                     2   \n",
       "167  Candidate_141                0.730                     2   \n",
       "168  Candidate_143                0.730                     2   \n",
       "169  Candidate_142                0.730                     2   \n",
       "170   Candidate_83                0.730                     2   \n",
       "171   Candidate_82                0.730                     2   \n",
       "172   Candidate_96                0.730                     2   \n",
       "173   Candidate_81                0.730                     2   \n",
       "174  Candidate_436                0.724                     2   \n",
       "175  Candidate_421                0.724                     2   \n",
       "176  Candidate_406                0.724                     2   \n",
       "177  Candidate_407                0.724                     2   \n",
       "178  Candidate_422                0.724                     2   \n",
       "179  Candidate_437                0.724                     2   \n",
       "180  Candidate_294                0.722                     2   \n",
       "181  Candidate_261                0.722                     2   \n",
       "182  Candidate_263                0.722                     2   \n",
       "183  Candidate_249                0.722                     2   \n",
       "184  Candidate_262                0.722                     2   \n",
       "185  Candidate_278                0.722                     2   \n",
       "186  Candidate_264                0.722                     2   \n",
       "187  Candidate_276                0.722                     2   \n",
       "188  Candidate_277                0.722                     2   \n",
       "189  Candidate_279                0.722                     2   \n",
       "190  Candidate_291                0.722                     2   \n",
       "191  Candidate_322                0.722                     2   \n",
       "192  Candidate_248                0.722                     2   \n",
       "193  Candidate_292                0.722                     2   \n",
       "194  Candidate_293                0.722                     2   \n",
       "195  Candidate_321                0.722                     2   \n",
       "196  Candidate_247                0.722                     2   \n",
       "197  Candidate_323                0.722                     2   \n",
       "198  Candidate_336                0.722                     2   \n",
       "199  Candidate_246                0.722                     2   \n",
       "200  Candidate_339                0.722                     2   \n",
       "201  Candidate_338                0.722                     2   \n",
       "202  Candidate_337                0.722                     2   \n",
       "203  Candidate_324                0.722                     2   \n",
       "204   Candidate_89                0.722                     2   \n",
       "205  Candidate_103                0.722                     2   \n",
       "206  Candidate_104                0.722                     2   \n",
       "207   Candidate_88                0.722                     2   \n",
       "208  Candidate_149                0.722                     2   \n",
       "209  Candidate_148                0.722                     2   \n",
       "210  Candidate_443                0.715                     2   \n",
       "211  Candidate_444                0.715                     2   \n",
       "212  Candidate_442                0.715                     2   \n",
       "213  Candidate_413                0.715                     2   \n",
       "214  Candidate_429                0.715                     2   \n",
       "215  Candidate_428                0.715                     2   \n",
       "216  Candidate_427                0.715                     2   \n",
       "217  Candidate_426                0.715                     2   \n",
       "218  Candidate_441                0.715                     2   \n",
       "219  Candidate_414                0.715                     2   \n",
       "220  Candidate_412                0.715                     2   \n",
       "221  Candidate_411                0.715                     2   \n",
       "222  Candidate_283                0.714                     2   \n",
       "223  Candidate_344                0.714                     2   \n",
       "224  Candidate_328                0.714                     2   \n",
       "225  Candidate_329                0.714                     2   \n",
       "226  Candidate_253                0.714                     2   \n",
       "227  Candidate_254                0.714                     2   \n",
       "228  Candidate_299                0.714                     2   \n",
       "229  Candidate_298                0.714                     2   \n",
       "230  Candidate_343                0.714                     2   \n",
       "231  Candidate_269                0.714                     2   \n",
       "232  Candidate_284                0.714                     2   \n",
       "233  Candidate_268                0.714                     2   \n",
       "234  Candidate_434                0.707                     2   \n",
       "235  Candidate_433                0.707                     2   \n",
       "236  Candidate_419                0.707                     2   \n",
       "237  Candidate_418                0.707                     2   \n",
       "238  Candidate_448                0.707                     2   \n",
       "239  Candidate_449                0.707                     2   \n",
       "240   Candidate_16                0.628                     1   \n",
       "241   Candidate_17                0.628                     1   \n",
       "242   Candidate_31                0.628                     1   \n",
       "243   Candidate_32                0.628                     1   \n",
       "244    Candidate_1                0.628                     1   \n",
       "245    Candidate_2                0.628                     1   \n",
       "246  Candidate_167                0.624                     1   \n",
       "247  Candidate_152                0.624                     1   \n",
       "248  Candidate_181                0.624                     1   \n",
       "249  Candidate_122                0.624                     1   \n",
       "250  Candidate_121                0.624                     1   \n",
       "251  Candidate_151                0.624                     1   \n",
       "252  Candidate_196                0.624                     1   \n",
       "253  Candidate_197                0.624                     1   \n",
       "254  Candidate_166                0.624                     1   \n",
       "255  Candidate_182                0.624                     1   \n",
       "256  Candidate_106                0.624                     1   \n",
       "257  Candidate_107                0.624                     1   \n",
       "258  Candidate_347                0.620                     1   \n",
       "259  Candidate_346                0.620                     1   \n",
       "260  Candidate_302                0.620                     1   \n",
       "261  Candidate_301                0.620                     1   \n",
       "262  Candidate_362                0.620                     1   \n",
       "263  Candidate_361                0.620                     1   \n",
       "264   Candidate_23                0.619                     1   \n",
       "265    Candidate_6                0.619                     1   \n",
       "266   Candidate_21                0.619                     1   \n",
       "267   Candidate_37                0.619                     1   \n",
       "268   Candidate_39                0.619                     1   \n",
       "269   Candidate_22                0.619                     1   \n",
       "270    Candidate_7                0.619                     1   \n",
       "271   Candidate_36                0.619                     1   \n",
       "272    Candidate_8                0.619                     1   \n",
       "273   Candidate_38                0.619                     1   \n",
       "274    Candidate_9                0.619                     1   \n",
       "275   Candidate_24                0.619                     1   \n",
       "276  Candidate_187                0.615                     1   \n",
       "277  Candidate_171                0.615                     1   \n",
       "278  Candidate_156                0.615                     1   \n",
       "279  Candidate_157                0.615                     1   \n",
       "280  Candidate_158                0.615                     1   \n",
       "281  Candidate_188                0.615                     1   \n",
       "282  Candidate_172                0.615                     1   \n",
       "283  Candidate_186                0.615                     1   \n",
       "284  Candidate_159                0.615                     1   \n",
       "285  Candidate_204                0.615                     1   \n",
       "286  Candidate_203                0.615                     1   \n",
       "287  Candidate_189                0.615                     1   \n",
       "288  Candidate_201                0.615                     1   \n",
       "289  Candidate_202                0.615                     1   \n",
       "290  Candidate_114                0.615                     1   \n",
       "291  Candidate_173                0.615                     1   \n",
       "292  Candidate_111                0.615                     1   \n",
       "293  Candidate_112                0.615                     1   \n",
       "294  Candidate_113                0.615                     1   \n",
       "295  Candidate_174                0.615                     1   \n",
       "296  Candidate_126                0.615                     1   \n",
       "297  Candidate_129                0.615                     1   \n",
       "298  Candidate_128                0.615                     1   \n",
       "299  Candidate_127                0.615                     1   \n",
       "\n",
       "     delta_main_given  Count_Main_Var_Then  delta_main_then  delta_main_total  \\\n",
       "0                   0                    2                0                 0   \n",
       "1                   0                    2                0                 0   \n",
       "2                   0                    2                0                 0   \n",
       "3                   0                    2                0                 0   \n",
       "4                   0                    2                0                 0   \n",
       "5                   0                    2                0                 0   \n",
       "6                   0                    2                0                 0   \n",
       "7                   0                    2                0                 0   \n",
       "8                   0                    2                0                 0   \n",
       "9                   0                    2                0                 0   \n",
       "10                  0                    2                0                 0   \n",
       "11                  0                    2                0                 0   \n",
       "12                  0                    2                0                 0   \n",
       "13                  0                    2                0                 0   \n",
       "14                  0                    2                0                 0   \n",
       "15                  0                    2                0                 0   \n",
       "16                  1                    2                0                 1   \n",
       "17                  1                    2                0                 1   \n",
       "18                  1                    2                0                 1   \n",
       "19                  1                    2                0                 1   \n",
       "20                  1                    2                0                 1   \n",
       "21                  1                    2                0                 1   \n",
       "22                  1                    2                0                 1   \n",
       "23                  1                    2                0                 1   \n",
       "24                  1                    2                0                 1   \n",
       "25                  1                    2                0                 1   \n",
       "26                  1                    2                0                 1   \n",
       "27                  1                    2                0                 1   \n",
       "28                  1                    2                0                 1   \n",
       "29                  1                    2                0                 1   \n",
       "30                  1                    2                0                 1   \n",
       "31                  1                    2                0                 1   \n",
       "32                  1                    2                0                 1   \n",
       "33                  1                    2                0                 1   \n",
       "34                  1                    2                0                 1   \n",
       "35                  1                    2                0                 1   \n",
       "36                  1                    2                0                 1   \n",
       "37                  1                    2                0                 1   \n",
       "38                  1                    2                0                 1   \n",
       "39                  1                    2                0                 1   \n",
       "40                  1                    2                0                 1   \n",
       "41                  1                    2                0                 1   \n",
       "42                  1                    2                0                 1   \n",
       "43                  1                    2                0                 1   \n",
       "44                  1                    2                0                 1   \n",
       "45                  1                    2                0                 1   \n",
       "46                  1                    2                0                 1   \n",
       "47                  1                    2                0                 1   \n",
       "48                  1                    2                0                 1   \n",
       "49                  1                    2                0                 1   \n",
       "50                  1                    2                0                 1   \n",
       "51                  1                    2                0                 1   \n",
       "52                  1                    2                0                 1   \n",
       "53                  1                    2                0                 1   \n",
       "54                  1                    2                0                 1   \n",
       "55                  1                    2                0                 1   \n",
       "56                  1                    2                0                 1   \n",
       "57                  1                    2                0                 1   \n",
       "58                  1                    2                0                 1   \n",
       "59                  1                    2                0                 1   \n",
       "60                  1                    2                0                 1   \n",
       "61                  1                    2                0                 1   \n",
       "62                  1                    2                0                 1   \n",
       "63                  1                    2                0                 1   \n",
       "64                  0                    1                1                 1   \n",
       "65                  0                    1                1                 1   \n",
       "66                  0                    1                1                 1   \n",
       "67                  0                    1                1                 1   \n",
       "68                  0                    1                1                 1   \n",
       "69                  0                    1                1                 1   \n",
       "70                  0                    1                1                 1   \n",
       "71                  0                    1                1                 1   \n",
       "72                  0                    1                1                 1   \n",
       "73                  0                    1                1                 1   \n",
       "74                  0                    1                1                 1   \n",
       "75                  0                    1                1                 1   \n",
       "76                  0                    1                1                 1   \n",
       "77                  0                    1                1                 1   \n",
       "78                  0                    1                1                 1   \n",
       "79                  0                    1                1                 1   \n",
       "80                  0                    1                1                 1   \n",
       "81                  0                    1                1                 1   \n",
       "82                  0                    1                1                 1   \n",
       "83                  0                    1                1                 1   \n",
       "84                  0                    1                1                 1   \n",
       "85                  0                    1                1                 1   \n",
       "86                  0                    1                1                 1   \n",
       "87                  0                    1                1                 1   \n",
       "88                  0                    1                1                 1   \n",
       "89                  0                    1                1                 1   \n",
       "90                  0                    1                1                 1   \n",
       "91                  0                    1                1                 1   \n",
       "92                  0                    1                1                 1   \n",
       "93                  0                    1                1                 1   \n",
       "94                  0                    1                1                 1   \n",
       "95                  0                    1                1                 1   \n",
       "96                  2                    2                0                 2   \n",
       "97                  2                    2                0                 2   \n",
       "98                  2                    2                0                 2   \n",
       "99                  2                    2                0                 2   \n",
       "100                 2                    2                0                 2   \n",
       "101                 2                    2                0                 2   \n",
       "102                 2                    2                0                 2   \n",
       "103                 2                    2                0                 2   \n",
       "104                 2                    2                0                 2   \n",
       "105                 2                    2                0                 2   \n",
       "106                 2                    2                0                 2   \n",
       "107                 2                    2                0                 2   \n",
       "108                 2                    2                0                 2   \n",
       "109                 2                    2                0                 2   \n",
       "110                 2                    2                0                 2   \n",
       "111                 2                    2                0                 2   \n",
       "112                 2                    2                0                 2   \n",
       "113                 2                    2                0                 2   \n",
       "114                 2                    2                0                 2   \n",
       "115                 2                    2                0                 2   \n",
       "116                 2                    2                0                 2   \n",
       "117                 2                    2                0                 2   \n",
       "118                 2                    2                0                 2   \n",
       "119                 2                    2                0                 2   \n",
       "120                 2                    2                0                 2   \n",
       "121                 2                    2                0                 2   \n",
       "122                 2                    2                0                 2   \n",
       "123                 2                    2                0                 2   \n",
       "124                 2                    2                0                 2   \n",
       "125                 2                    2                0                 2   \n",
       "126                 2                    2                0                 2   \n",
       "127                 2                    2                0                 2   \n",
       "128                 2                    2                0                 2   \n",
       "129                 2                    2                0                 2   \n",
       "130                 2                    2                0                 2   \n",
       "131                 2                    2                0                 2   \n",
       "132                 2                    2                0                 2   \n",
       "133                 2                    2                0                 2   \n",
       "134                 2                    2                0                 2   \n",
       "135                 2                    2                0                 2   \n",
       "136                 2                    2                0                 2   \n",
       "137                 2                    2                0                 2   \n",
       "138                 2                    2                0                 2   \n",
       "139                 2                    2                0                 2   \n",
       "140                 2                    2                0                 2   \n",
       "141                 2                    2                0                 2   \n",
       "142                 2                    2                0                 2   \n",
       "143                 2                    2                0                 2   \n",
       "144                 1                    1                1                 2   \n",
       "145                 1                    1                1                 2   \n",
       "146                 1                    1                1                 2   \n",
       "147                 1                    1                1                 2   \n",
       "148                 1                    1                1                 2   \n",
       "149                 1                    1                1                 2   \n",
       "150                 1                    1                1                 2   \n",
       "151                 1                    1                1                 2   \n",
       "152                 1                    1                1                 2   \n",
       "153                 1                    1                1                 2   \n",
       "154                 1                    1                1                 2   \n",
       "155                 1                    1                1                 2   \n",
       "156                 1                    1                1                 2   \n",
       "157                 1                    1                1                 2   \n",
       "158                 1                    1                1                 2   \n",
       "159                 1                    1                1                 2   \n",
       "160                 1                    1                1                 2   \n",
       "161                 1                    1                1                 2   \n",
       "162                 1                    1                1                 2   \n",
       "163                 1                    1                1                 2   \n",
       "164                 1                    1                1                 2   \n",
       "165                 1                    1                1                 2   \n",
       "166                 1                    1                1                 2   \n",
       "167                 1                    1                1                 2   \n",
       "168                 1                    1                1                 2   \n",
       "169                 1                    1                1                 2   \n",
       "170                 1                    1                1                 2   \n",
       "171                 1                    1                1                 2   \n",
       "172                 1                    1                1                 2   \n",
       "173                 1                    1                1                 2   \n",
       "174                 1                    1                1                 2   \n",
       "175                 1                    1                1                 2   \n",
       "176                 1                    1                1                 2   \n",
       "177                 1                    1                1                 2   \n",
       "178                 1                    1                1                 2   \n",
       "179                 1                    1                1                 2   \n",
       "180                 1                    1                1                 2   \n",
       "181                 1                    1                1                 2   \n",
       "182                 1                    1                1                 2   \n",
       "183                 1                    1                1                 2   \n",
       "184                 1                    1                1                 2   \n",
       "185                 1                    1                1                 2   \n",
       "186                 1                    1                1                 2   \n",
       "187                 1                    1                1                 2   \n",
       "188                 1                    1                1                 2   \n",
       "189                 1                    1                1                 2   \n",
       "190                 1                    1                1                 2   \n",
       "191                 1                    1                1                 2   \n",
       "192                 1                    1                1                 2   \n",
       "193                 1                    1                1                 2   \n",
       "194                 1                    1                1                 2   \n",
       "195                 1                    1                1                 2   \n",
       "196                 1                    1                1                 2   \n",
       "197                 1                    1                1                 2   \n",
       "198                 1                    1                1                 2   \n",
       "199                 1                    1                1                 2   \n",
       "200                 1                    1                1                 2   \n",
       "201                 1                    1                1                 2   \n",
       "202                 1                    1                1                 2   \n",
       "203                 1                    1                1                 2   \n",
       "204                 1                    1                1                 2   \n",
       "205                 1                    1                1                 2   \n",
       "206                 1                    1                1                 2   \n",
       "207                 1                    1                1                 2   \n",
       "208                 1                    1                1                 2   \n",
       "209                 1                    1                1                 2   \n",
       "210                 1                    1                1                 2   \n",
       "211                 1                    1                1                 2   \n",
       "212                 1                    1                1                 2   \n",
       "213                 1                    1                1                 2   \n",
       "214                 1                    1                1                 2   \n",
       "215                 1                    1                1                 2   \n",
       "216                 1                    1                1                 2   \n",
       "217                 1                    1                1                 2   \n",
       "218                 1                    1                1                 2   \n",
       "219                 1                    1                1                 2   \n",
       "220                 1                    1                1                 2   \n",
       "221                 1                    1                1                 2   \n",
       "222                 1                    1                1                 2   \n",
       "223                 1                    1                1                 2   \n",
       "224                 1                    1                1                 2   \n",
       "225                 1                    1                1                 2   \n",
       "226                 1                    1                1                 2   \n",
       "227                 1                    1                1                 2   \n",
       "228                 1                    1                1                 2   \n",
       "229                 1                    1                1                 2   \n",
       "230                 1                    1                1                 2   \n",
       "231                 1                    1                1                 2   \n",
       "232                 1                    1                1                 2   \n",
       "233                 1                    1                1                 2   \n",
       "234                 1                    1                1                 2   \n",
       "235                 1                    1                1                 2   \n",
       "236                 1                    1                1                 2   \n",
       "237                 1                    1                1                 2   \n",
       "238                 1                    1                1                 2   \n",
       "239                 1                    1                1                 2   \n",
       "240                 2                    1                1                 3   \n",
       "241                 2                    1                1                 3   \n",
       "242                 2                    1                1                 3   \n",
       "243                 2                    1                1                 3   \n",
       "244                 2                    1                1                 3   \n",
       "245                 2                    1                1                 3   \n",
       "246                 2                    1                1                 3   \n",
       "247                 2                    1                1                 3   \n",
       "248                 2                    1                1                 3   \n",
       "249                 2                    1                1                 3   \n",
       "250                 2                    1                1                 3   \n",
       "251                 2                    1                1                 3   \n",
       "252                 2                    1                1                 3   \n",
       "253                 2                    1                1                 3   \n",
       "254                 2                    1                1                 3   \n",
       "255                 2                    1                1                 3   \n",
       "256                 2                    1                1                 3   \n",
       "257                 2                    1                1                 3   \n",
       "258                 2                    1                1                 3   \n",
       "259                 2                    1                1                 3   \n",
       "260                 2                    1                1                 3   \n",
       "261                 2                    1                1                 3   \n",
       "262                 2                    1                1                 3   \n",
       "263                 2                    1                1                 3   \n",
       "264                 2                    1                1                 3   \n",
       "265                 2                    1                1                 3   \n",
       "266                 2                    1                1                 3   \n",
       "267                 2                    1                1                 3   \n",
       "268                 2                    1                1                 3   \n",
       "269                 2                    1                1                 3   \n",
       "270                 2                    1                1                 3   \n",
       "271                 2                    1                1                 3   \n",
       "272                 2                    1                1                 3   \n",
       "273                 2                    1                1                 3   \n",
       "274                 2                    1                1                 3   \n",
       "275                 2                    1                1                 3   \n",
       "276                 2                    1                1                 3   \n",
       "277                 2                    1                1                 3   \n",
       "278                 2                    1                1                 3   \n",
       "279                 2                    1                1                 3   \n",
       "280                 2                    1                1                 3   \n",
       "281                 2                    1                1                 3   \n",
       "282                 2                    1                1                 3   \n",
       "283                 2                    1                1                 3   \n",
       "284                 2                    1                1                 3   \n",
       "285                 2                    1                1                 3   \n",
       "286                 2                    1                1                 3   \n",
       "287                 2                    1                1                 3   \n",
       "288                 2                    1                1                 3   \n",
       "289                 2                    1                1                 3   \n",
       "290                 2                    1                1                 3   \n",
       "291                 2                    1                1                 3   \n",
       "292                 2                    1                1                 3   \n",
       "293                 2                    1                1                 3   \n",
       "294                 2                    1                1                 3   \n",
       "295                 2                    1                1                 3   \n",
       "296                 2                    1                1                 3   \n",
       "297                 2                    1                1                 3   \n",
       "298                 2                    1                1                 3   \n",
       "299                 2                    1                1                 3   \n",
       "\n",
       "     Count_Main_Var  Count_Extra_Var_Given  Count_Extra_Var_Then  \\\n",
       "0                 5                      0                     0   \n",
       "1                 5                      1                     0   \n",
       "2                 5                      1                     0   \n",
       "3                 5                      0                     1   \n",
       "4                 5                      0                     1   \n",
       "5                 5                      2                     0   \n",
       "6                 5                      1                     1   \n",
       "7                 5                      1                     1   \n",
       "8                 5                      1                     1   \n",
       "9                 5                      1                     1   \n",
       "10                5                      0                     2   \n",
       "11                5                      2                     1   \n",
       "12                5                      2                     1   \n",
       "13                5                      1                     2   \n",
       "14                5                      1                     2   \n",
       "15                5                      2                     2   \n",
       "16                4                      0                     0   \n",
       "17                4                      0                     0   \n",
       "18                4                      0                     0   \n",
       "19                4                      1                     0   \n",
       "20                4                      1                     0   \n",
       "21                4                      1                     0   \n",
       "22                4                      1                     0   \n",
       "23                4                      1                     0   \n",
       "24                4                      1                     0   \n",
       "25                4                      2                     0   \n",
       "26                4                      2                     0   \n",
       "27                4                      2                     0   \n",
       "28                4                      0                     1   \n",
       "29                4                      0                     1   \n",
       "30                4                      0                     1   \n",
       "31                4                      0                     1   \n",
       "32                4                      0                     1   \n",
       "33                4                      0                     1   \n",
       "34                4                      1                     1   \n",
       "35                4                      1                     1   \n",
       "36                4                      1                     1   \n",
       "37                4                      1                     1   \n",
       "38                4                      1                     1   \n",
       "39                4                      1                     1   \n",
       "40                4                      1                     1   \n",
       "41                4                      1                     1   \n",
       "42                4                      1                     1   \n",
       "43                4                      1                     1   \n",
       "44                4                      1                     1   \n",
       "45                4                      1                     1   \n",
       "46                4                      0                     2   \n",
       "47                4                      0                     2   \n",
       "48                4                      0                     2   \n",
       "49                4                      2                     1   \n",
       "50                4                      2                     1   \n",
       "51                4                      2                     1   \n",
       "52                4                      2                     1   \n",
       "53                4                      2                     1   \n",
       "54                4                      2                     1   \n",
       "55                4                      1                     2   \n",
       "56                4                      1                     2   \n",
       "57                4                      1                     2   \n",
       "58                4                      1                     2   \n",
       "59                4                      1                     2   \n",
       "60                4                      1                     2   \n",
       "61                4                      2                     2   \n",
       "62                4                      2                     2   \n",
       "63                4                      2                     2   \n",
       "64                4                      0                     0   \n",
       "65                4                      0                     0   \n",
       "66                4                      0                     1   \n",
       "67                4                      0                     1   \n",
       "68                4                      0                     1   \n",
       "69                4                      0                     1   \n",
       "70                4                      1                     0   \n",
       "71                4                      1                     0   \n",
       "72                4                      1                     0   \n",
       "73                4                      1                     0   \n",
       "74                4                      0                     2   \n",
       "75                4                      0                     2   \n",
       "76                4                      1                     1   \n",
       "77                4                      1                     1   \n",
       "78                4                      1                     1   \n",
       "79                4                      1                     1   \n",
       "80                4                      1                     1   \n",
       "81                4                      1                     1   \n",
       "82                4                      1                     1   \n",
       "83                4                      1                     1   \n",
       "84                4                      2                     0   \n",
       "85                4                      2                     0   \n",
       "86                4                      1                     2   \n",
       "87                4                      1                     2   \n",
       "88                4                      1                     2   \n",
       "89                4                      1                     2   \n",
       "90                4                      2                     1   \n",
       "91                4                      2                     1   \n",
       "92                4                      2                     1   \n",
       "93                4                      2                     1   \n",
       "94                4                      2                     2   \n",
       "95                4                      2                     2   \n",
       "96                3                      0                     0   \n",
       "97                3                      0                     0   \n",
       "98                3                      0                     0   \n",
       "99                3                      1                     0   \n",
       "100               3                      1                     0   \n",
       "101               3                      1                     0   \n",
       "102               3                      1                     0   \n",
       "103               3                      1                     0   \n",
       "104               3                      1                     0   \n",
       "105               3                      2                     0   \n",
       "106               3                      2                     0   \n",
       "107               3                      2                     0   \n",
       "108               3                      0                     1   \n",
       "109               3                      0                     1   \n",
       "110               3                      0                     1   \n",
       "111               3                      0                     1   \n",
       "112               3                      0                     1   \n",
       "113               3                      0                     1   \n",
       "114               3                      1                     1   \n",
       "115               3                      1                     1   \n",
       "116               3                      1                     1   \n",
       "117               3                      1                     1   \n",
       "118               3                      1                     1   \n",
       "119               3                      1                     1   \n",
       "120               3                      1                     1   \n",
       "121               3                      1                     1   \n",
       "122               3                      1                     1   \n",
       "123               3                      1                     1   \n",
       "124               3                      1                     1   \n",
       "125               3                      1                     1   \n",
       "126               3                      2                     1   \n",
       "127               3                      2                     1   \n",
       "128               3                      2                     1   \n",
       "129               3                      2                     1   \n",
       "130               3                      2                     1   \n",
       "131               3                      2                     1   \n",
       "132               3                      0                     2   \n",
       "133               3                      0                     2   \n",
       "134               3                      0                     2   \n",
       "135               3                      1                     2   \n",
       "136               3                      1                     2   \n",
       "137               3                      1                     2   \n",
       "138               3                      1                     2   \n",
       "139               3                      1                     2   \n",
       "140               3                      1                     2   \n",
       "141               3                      2                     2   \n",
       "142               3                      2                     2   \n",
       "143               3                      2                     2   \n",
       "144               3                      0                     0   \n",
       "145               3                      0                     0   \n",
       "146               3                      0                     0   \n",
       "147               3                      0                     0   \n",
       "148               3                      0                     0   \n",
       "149               3                      0                     0   \n",
       "150               3                      1                     0   \n",
       "151               3                      1                     0   \n",
       "152               3                      1                     0   \n",
       "153               3                      1                     0   \n",
       "154               3                      1                     0   \n",
       "155               3                      1                     0   \n",
       "156               3                      1                     0   \n",
       "157               3                      1                     0   \n",
       "158               3                      1                     0   \n",
       "159               3                      1                     0   \n",
       "160               3                      1                     0   \n",
       "161               3                      1                     0   \n",
       "162               3                      0                     1   \n",
       "163               3                      0                     1   \n",
       "164               3                      0                     1   \n",
       "165               3                      0                     1   \n",
       "166               3                      0                     1   \n",
       "167               3                      0                     1   \n",
       "168               3                      0                     1   \n",
       "169               3                      0                     1   \n",
       "170               3                      0                     1   \n",
       "171               3                      0                     1   \n",
       "172               3                      0                     1   \n",
       "173               3                      0                     1   \n",
       "174               3                      2                     0   \n",
       "175               3                      2                     0   \n",
       "176               3                      2                     0   \n",
       "177               3                      2                     0   \n",
       "178               3                      2                     0   \n",
       "179               3                      2                     0   \n",
       "180               3                      1                     1   \n",
       "181               3                      1                     1   \n",
       "182               3                      1                     1   \n",
       "183               3                      1                     1   \n",
       "184               3                      1                     1   \n",
       "185               3                      1                     1   \n",
       "186               3                      1                     1   \n",
       "187               3                      1                     1   \n",
       "188               3                      1                     1   \n",
       "189               3                      1                     1   \n",
       "190               3                      1                     1   \n",
       "191               3                      1                     1   \n",
       "192               3                      1                     1   \n",
       "193               3                      1                     1   \n",
       "194               3                      1                     1   \n",
       "195               3                      1                     1   \n",
       "196               3                      1                     1   \n",
       "197               3                      1                     1   \n",
       "198               3                      1                     1   \n",
       "199               3                      1                     1   \n",
       "200               3                      1                     1   \n",
       "201               3                      1                     1   \n",
       "202               3                      1                     1   \n",
       "203               3                      1                     1   \n",
       "204               3                      0                     2   \n",
       "205               3                      0                     2   \n",
       "206               3                      0                     2   \n",
       "207               3                      0                     2   \n",
       "208               3                      0                     2   \n",
       "209               3                      0                     2   \n",
       "210               3                      2                     1   \n",
       "211               3                      2                     1   \n",
       "212               3                      2                     1   \n",
       "213               3                      2                     1   \n",
       "214               3                      2                     1   \n",
       "215               3                      2                     1   \n",
       "216               3                      2                     1   \n",
       "217               3                      2                     1   \n",
       "218               3                      2                     1   \n",
       "219               3                      2                     1   \n",
       "220               3                      2                     1   \n",
       "221               3                      2                     1   \n",
       "222               3                      1                     2   \n",
       "223               3                      1                     2   \n",
       "224               3                      1                     2   \n",
       "225               3                      1                     2   \n",
       "226               3                      1                     2   \n",
       "227               3                      1                     2   \n",
       "228               3                      1                     2   \n",
       "229               3                      1                     2   \n",
       "230               3                      1                     2   \n",
       "231               3                      1                     2   \n",
       "232               3                      1                     2   \n",
       "233               3                      1                     2   \n",
       "234               3                      2                     2   \n",
       "235               3                      2                     2   \n",
       "236               3                      2                     2   \n",
       "237               3                      2                     2   \n",
       "238               3                      2                     2   \n",
       "239               3                      2                     2   \n",
       "240               2                      0                     0   \n",
       "241               2                      0                     0   \n",
       "242               2                      0                     0   \n",
       "243               2                      0                     0   \n",
       "244               2                      0                     0   \n",
       "245               2                      0                     0   \n",
       "246               2                      1                     0   \n",
       "247               2                      1                     0   \n",
       "248               2                      1                     0   \n",
       "249               2                      1                     0   \n",
       "250               2                      1                     0   \n",
       "251               2                      1                     0   \n",
       "252               2                      1                     0   \n",
       "253               2                      1                     0   \n",
       "254               2                      1                     0   \n",
       "255               2                      1                     0   \n",
       "256               2                      1                     0   \n",
       "257               2                      1                     0   \n",
       "258               2                      2                     0   \n",
       "259               2                      2                     0   \n",
       "260               2                      2                     0   \n",
       "261               2                      2                     0   \n",
       "262               2                      2                     0   \n",
       "263               2                      2                     0   \n",
       "264               2                      0                     1   \n",
       "265               2                      0                     1   \n",
       "266               2                      0                     1   \n",
       "267               2                      0                     1   \n",
       "268               2                      0                     1   \n",
       "269               2                      0                     1   \n",
       "270               2                      0                     1   \n",
       "271               2                      0                     1   \n",
       "272               2                      0                     1   \n",
       "273               2                      0                     1   \n",
       "274               2                      0                     1   \n",
       "275               2                      0                     1   \n",
       "276               2                      1                     1   \n",
       "277               2                      1                     1   \n",
       "278               2                      1                     1   \n",
       "279               2                      1                     1   \n",
       "280               2                      1                     1   \n",
       "281               2                      1                     1   \n",
       "282               2                      1                     1   \n",
       "283               2                      1                     1   \n",
       "284               2                      1                     1   \n",
       "285               2                      1                     1   \n",
       "286               2                      1                     1   \n",
       "287               2                      1                     1   \n",
       "288               2                      1                     1   \n",
       "289               2                      1                     1   \n",
       "290               2                      1                     1   \n",
       "291               2                      1                     1   \n",
       "292               2                      1                     1   \n",
       "293               2                      1                     1   \n",
       "294               2                      1                     1   \n",
       "295               2                      1                     1   \n",
       "296               2                      1                     1   \n",
       "297               2                      1                     1   \n",
       "298               2                      1                     1   \n",
       "299               2                      1                     1   \n",
       "\n",
       "     Count_Extra_Var  \n",
       "0                  0  \n",
       "1                  1  \n",
       "2                  1  \n",
       "3                  1  \n",
       "4                  1  \n",
       "5                  2  \n",
       "6                  2  \n",
       "7                  2  \n",
       "8                  2  \n",
       "9                  2  \n",
       "10                 2  \n",
       "11                 3  \n",
       "12                 3  \n",
       "13                 3  \n",
       "14                 3  \n",
       "15                 4  \n",
       "16                 0  \n",
       "17                 0  \n",
       "18                 0  \n",
       "19                 1  \n",
       "20                 1  \n",
       "21                 1  \n",
       "22                 1  \n",
       "23                 1  \n",
       "24                 1  \n",
       "25                 2  \n",
       "26                 2  \n",
       "27                 2  \n",
       "28                 1  \n",
       "29                 1  \n",
       "30                 1  \n",
       "31                 1  \n",
       "32                 1  \n",
       "33                 1  \n",
       "34                 2  \n",
       "35                 2  \n",
       "36                 2  \n",
       "37                 2  \n",
       "38                 2  \n",
       "39                 2  \n",
       "40                 2  \n",
       "41                 2  \n",
       "42                 2  \n",
       "43                 2  \n",
       "44                 2  \n",
       "45                 2  \n",
       "46                 2  \n",
       "47                 2  \n",
       "48                 2  \n",
       "49                 3  \n",
       "50                 3  \n",
       "51                 3  \n",
       "52                 3  \n",
       "53                 3  \n",
       "54                 3  \n",
       "55                 3  \n",
       "56                 3  \n",
       "57                 3  \n",
       "58                 3  \n",
       "59                 3  \n",
       "60                 3  \n",
       "61                 4  \n",
       "62                 4  \n",
       "63                 4  \n",
       "64                 0  \n",
       "65                 0  \n",
       "66                 1  \n",
       "67                 1  \n",
       "68                 1  \n",
       "69                 1  \n",
       "70                 1  \n",
       "71                 1  \n",
       "72                 1  \n",
       "73                 1  \n",
       "74                 2  \n",
       "75                 2  \n",
       "76                 2  \n",
       "77                 2  \n",
       "78                 2  \n",
       "79                 2  \n",
       "80                 2  \n",
       "81                 2  \n",
       "82                 2  \n",
       "83                 2  \n",
       "84                 2  \n",
       "85                 2  \n",
       "86                 3  \n",
       "87                 3  \n",
       "88                 3  \n",
       "89                 3  \n",
       "90                 3  \n",
       "91                 3  \n",
       "92                 3  \n",
       "93                 3  \n",
       "94                 4  \n",
       "95                 4  \n",
       "96                 0  \n",
       "97                 0  \n",
       "98                 0  \n",
       "99                 1  \n",
       "100                1  \n",
       "101                1  \n",
       "102                1  \n",
       "103                1  \n",
       "104                1  \n",
       "105                2  \n",
       "106                2  \n",
       "107                2  \n",
       "108                1  \n",
       "109                1  \n",
       "110                1  \n",
       "111                1  \n",
       "112                1  \n",
       "113                1  \n",
       "114                2  \n",
       "115                2  \n",
       "116                2  \n",
       "117                2  \n",
       "118                2  \n",
       "119                2  \n",
       "120                2  \n",
       "121                2  \n",
       "122                2  \n",
       "123                2  \n",
       "124                2  \n",
       "125                2  \n",
       "126                3  \n",
       "127                3  \n",
       "128                3  \n",
       "129                3  \n",
       "130                3  \n",
       "131                3  \n",
       "132                2  \n",
       "133                2  \n",
       "134                2  \n",
       "135                3  \n",
       "136                3  \n",
       "137                3  \n",
       "138                3  \n",
       "139                3  \n",
       "140                3  \n",
       "141                4  \n",
       "142                4  \n",
       "143                4  \n",
       "144                0  \n",
       "145                0  \n",
       "146                0  \n",
       "147                0  \n",
       "148                0  \n",
       "149                0  \n",
       "150                1  \n",
       "151                1  \n",
       "152                1  \n",
       "153                1  \n",
       "154                1  \n",
       "155                1  \n",
       "156                1  \n",
       "157                1  \n",
       "158                1  \n",
       "159                1  \n",
       "160                1  \n",
       "161                1  \n",
       "162                1  \n",
       "163                1  \n",
       "164                1  \n",
       "165                1  \n",
       "166                1  \n",
       "167                1  \n",
       "168                1  \n",
       "169                1  \n",
       "170                1  \n",
       "171                1  \n",
       "172                1  \n",
       "173                1  \n",
       "174                2  \n",
       "175                2  \n",
       "176                2  \n",
       "177                2  \n",
       "178                2  \n",
       "179                2  \n",
       "180                2  \n",
       "181                2  \n",
       "182                2  \n",
       "183                2  \n",
       "184                2  \n",
       "185                2  \n",
       "186                2  \n",
       "187                2  \n",
       "188                2  \n",
       "189                2  \n",
       "190                2  \n",
       "191                2  \n",
       "192                2  \n",
       "193                2  \n",
       "194                2  \n",
       "195                2  \n",
       "196                2  \n",
       "197                2  \n",
       "198                2  \n",
       "199                2  \n",
       "200                2  \n",
       "201                2  \n",
       "202                2  \n",
       "203                2  \n",
       "204                2  \n",
       "205                2  \n",
       "206                2  \n",
       "207                2  \n",
       "208                2  \n",
       "209                2  \n",
       "210                3  \n",
       "211                3  \n",
       "212                3  \n",
       "213                3  \n",
       "214                3  \n",
       "215                3  \n",
       "216                3  \n",
       "217                3  \n",
       "218                3  \n",
       "219                3  \n",
       "220                3  \n",
       "221                3  \n",
       "222                3  \n",
       "223                3  \n",
       "224                3  \n",
       "225                3  \n",
       "226                3  \n",
       "227                3  \n",
       "228                3  \n",
       "229                3  \n",
       "230                3  \n",
       "231                3  \n",
       "232                3  \n",
       "233                3  \n",
       "234                4  \n",
       "235                4  \n",
       "236                4  \n",
       "237                4  \n",
       "238                4  \n",
       "239                4  \n",
       "240                0  \n",
       "241                0  \n",
       "242                0  \n",
       "243                0  \n",
       "244                0  \n",
       "245                0  \n",
       "246                1  \n",
       "247                1  \n",
       "248                1  \n",
       "249                1  \n",
       "250                1  \n",
       "251                1  \n",
       "252                1  \n",
       "253                1  \n",
       "254                1  \n",
       "255                1  \n",
       "256                1  \n",
       "257                1  \n",
       "258                2  \n",
       "259                2  \n",
       "260                2  \n",
       "261                2  \n",
       "262                2  \n",
       "263                2  \n",
       "264                1  \n",
       "265                1  \n",
       "266                1  \n",
       "267                1  \n",
       "268                1  \n",
       "269                1  \n",
       "270                1  \n",
       "271                1  \n",
       "272                1  \n",
       "273                1  \n",
       "274                1  \n",
       "275                1  \n",
       "276                2  \n",
       "277                2  \n",
       "278                2  \n",
       "279                2  \n",
       "280                2  \n",
       "281                2  \n",
       "282                2  \n",
       "283                2  \n",
       "284                2  \n",
       "285                2  \n",
       "286                2  \n",
       "287                2  \n",
       "288                2  \n",
       "289                2  \n",
       "290                2  \n",
       "291                2  \n",
       "292                2  \n",
       "293                2  \n",
       "294                2  \n",
       "295                2  \n",
       "296                2  \n",
       "297                2  \n",
       "298                2  \n",
       "299                2  "
      ]
     },
     "execution_count": 280,
     "metadata": {},
     "output_type": "execute_result"
    }
   ],
   "source": [
    "df=df[['Scenario','Scenario Similarity',\n",
    "       'Count_Main_Var_Given','delta_main_given',\n",
    "       'Count_Main_Var_Then','delta_main_then',\n",
    "       'delta_main_total',\n",
    "       'Count_Main_Var',\n",
    "       'Count_Extra_Var_Given','Count_Extra_Var_Then','Count_Extra_Var']]\n",
    "df.head(300)"
   ]
  },
  {
   "cell_type": "code",
   "execution_count": 273,
   "metadata": {},
   "outputs": [
    {
     "data": {
      "text/html": [
       "<div>\n",
       "<style scoped>\n",
       "    .dataframe tbody tr th:only-of-type {\n",
       "        vertical-align: middle;\n",
       "    }\n",
       "\n",
       "    .dataframe tbody tr th {\n",
       "        vertical-align: top;\n",
       "    }\n",
       "\n",
       "    .dataframe thead th {\n",
       "        text-align: right;\n",
       "    }\n",
       "</style>\n",
       "<table border=\"1\" class=\"dataframe\">\n",
       "  <thead>\n",
       "    <tr style=\"text-align: right;\">\n",
       "      <th></th>\n",
       "      <th>Scenario Similarity</th>\n",
       "      <th>delta_main_total</th>\n",
       "      <th>Count_Extra_Var</th>\n",
       "    </tr>\n",
       "  </thead>\n",
       "  <tbody>\n",
       "    <tr>\n",
       "      <th>0</th>\n",
       "      <td>1.000</td>\n",
       "      <td>0</td>\n",
       "      <td>0</td>\n",
       "    </tr>\n",
       "    <tr>\n",
       "      <th>1</th>\n",
       "      <td>0.989</td>\n",
       "      <td>0</td>\n",
       "      <td>1</td>\n",
       "    </tr>\n",
       "    <tr>\n",
       "      <th>2</th>\n",
       "      <td>0.989</td>\n",
       "      <td>0</td>\n",
       "      <td>1</td>\n",
       "    </tr>\n",
       "    <tr>\n",
       "      <th>3</th>\n",
       "      <td>0.984</td>\n",
       "      <td>0</td>\n",
       "      <td>1</td>\n",
       "    </tr>\n",
       "    <tr>\n",
       "      <th>4</th>\n",
       "      <td>0.984</td>\n",
       "      <td>0</td>\n",
       "      <td>1</td>\n",
       "    </tr>\n",
       "    <tr>\n",
       "      <th>5</th>\n",
       "      <td>0.979</td>\n",
       "      <td>0</td>\n",
       "      <td>2</td>\n",
       "    </tr>\n",
       "    <tr>\n",
       "      <th>6</th>\n",
       "      <td>0.973</td>\n",
       "      <td>0</td>\n",
       "      <td>2</td>\n",
       "    </tr>\n",
       "    <tr>\n",
       "      <th>7</th>\n",
       "      <td>0.973</td>\n",
       "      <td>0</td>\n",
       "      <td>2</td>\n",
       "    </tr>\n",
       "    <tr>\n",
       "      <th>8</th>\n",
       "      <td>0.973</td>\n",
       "      <td>0</td>\n",
       "      <td>2</td>\n",
       "    </tr>\n",
       "    <tr>\n",
       "      <th>9</th>\n",
       "      <td>0.973</td>\n",
       "      <td>0</td>\n",
       "      <td>2</td>\n",
       "    </tr>\n",
       "    <tr>\n",
       "      <th>10</th>\n",
       "      <td>0.970</td>\n",
       "      <td>0</td>\n",
       "      <td>2</td>\n",
       "    </tr>\n",
       "    <tr>\n",
       "      <th>11</th>\n",
       "      <td>0.963</td>\n",
       "      <td>0</td>\n",
       "      <td>3</td>\n",
       "    </tr>\n",
       "    <tr>\n",
       "      <th>12</th>\n",
       "      <td>0.963</td>\n",
       "      <td>0</td>\n",
       "      <td>3</td>\n",
       "    </tr>\n",
       "    <tr>\n",
       "      <th>13</th>\n",
       "      <td>0.959</td>\n",
       "      <td>0</td>\n",
       "      <td>3</td>\n",
       "    </tr>\n",
       "    <tr>\n",
       "      <th>14</th>\n",
       "      <td>0.959</td>\n",
       "      <td>0</td>\n",
       "      <td>3</td>\n",
       "    </tr>\n",
       "    <tr>\n",
       "      <th>15</th>\n",
       "      <td>0.949</td>\n",
       "      <td>0</td>\n",
       "      <td>4</td>\n",
       "    </tr>\n",
       "    <tr>\n",
       "      <th>16</th>\n",
       "      <td>0.897</td>\n",
       "      <td>1</td>\n",
       "      <td>0</td>\n",
       "    </tr>\n",
       "    <tr>\n",
       "      <th>17</th>\n",
       "      <td>0.897</td>\n",
       "      <td>1</td>\n",
       "      <td>0</td>\n",
       "    </tr>\n",
       "    <tr>\n",
       "      <th>18</th>\n",
       "      <td>0.897</td>\n",
       "      <td>1</td>\n",
       "      <td>0</td>\n",
       "    </tr>\n",
       "    <tr>\n",
       "      <th>19</th>\n",
       "      <td>0.889</td>\n",
       "      <td>1</td>\n",
       "      <td>1</td>\n",
       "    </tr>\n",
       "    <tr>\n",
       "      <th>20</th>\n",
       "      <td>0.889</td>\n",
       "      <td>1</td>\n",
       "      <td>1</td>\n",
       "    </tr>\n",
       "    <tr>\n",
       "      <th>21</th>\n",
       "      <td>0.889</td>\n",
       "      <td>1</td>\n",
       "      <td>1</td>\n",
       "    </tr>\n",
       "    <tr>\n",
       "      <th>22</th>\n",
       "      <td>0.889</td>\n",
       "      <td>1</td>\n",
       "      <td>1</td>\n",
       "    </tr>\n",
       "    <tr>\n",
       "      <th>23</th>\n",
       "      <td>0.889</td>\n",
       "      <td>1</td>\n",
       "      <td>1</td>\n",
       "    </tr>\n",
       "    <tr>\n",
       "      <th>24</th>\n",
       "      <td>0.889</td>\n",
       "      <td>1</td>\n",
       "      <td>1</td>\n",
       "    </tr>\n",
       "    <tr>\n",
       "      <th>25</th>\n",
       "      <td>0.882</td>\n",
       "      <td>1</td>\n",
       "      <td>2</td>\n",
       "    </tr>\n",
       "    <tr>\n",
       "      <th>26</th>\n",
       "      <td>0.882</td>\n",
       "      <td>1</td>\n",
       "      <td>2</td>\n",
       "    </tr>\n",
       "    <tr>\n",
       "      <th>27</th>\n",
       "      <td>0.882</td>\n",
       "      <td>1</td>\n",
       "      <td>2</td>\n",
       "    </tr>\n",
       "    <tr>\n",
       "      <th>28</th>\n",
       "      <td>0.881</td>\n",
       "      <td>1</td>\n",
       "      <td>1</td>\n",
       "    </tr>\n",
       "    <tr>\n",
       "      <th>29</th>\n",
       "      <td>0.881</td>\n",
       "      <td>1</td>\n",
       "      <td>1</td>\n",
       "    </tr>\n",
       "    <tr>\n",
       "      <th>30</th>\n",
       "      <td>0.881</td>\n",
       "      <td>1</td>\n",
       "      <td>1</td>\n",
       "    </tr>\n",
       "    <tr>\n",
       "      <th>31</th>\n",
       "      <td>0.881</td>\n",
       "      <td>1</td>\n",
       "      <td>1</td>\n",
       "    </tr>\n",
       "    <tr>\n",
       "      <th>32</th>\n",
       "      <td>0.881</td>\n",
       "      <td>1</td>\n",
       "      <td>1</td>\n",
       "    </tr>\n",
       "    <tr>\n",
       "      <th>33</th>\n",
       "      <td>0.881</td>\n",
       "      <td>1</td>\n",
       "      <td>1</td>\n",
       "    </tr>\n",
       "    <tr>\n",
       "      <th>34</th>\n",
       "      <td>0.873</td>\n",
       "      <td>1</td>\n",
       "      <td>2</td>\n",
       "    </tr>\n",
       "    <tr>\n",
       "      <th>35</th>\n",
       "      <td>0.873</td>\n",
       "      <td>1</td>\n",
       "      <td>2</td>\n",
       "    </tr>\n",
       "    <tr>\n",
       "      <th>36</th>\n",
       "      <td>0.873</td>\n",
       "      <td>1</td>\n",
       "      <td>2</td>\n",
       "    </tr>\n",
       "    <tr>\n",
       "      <th>37</th>\n",
       "      <td>0.873</td>\n",
       "      <td>1</td>\n",
       "      <td>2</td>\n",
       "    </tr>\n",
       "    <tr>\n",
       "      <th>38</th>\n",
       "      <td>0.873</td>\n",
       "      <td>1</td>\n",
       "      <td>2</td>\n",
       "    </tr>\n",
       "    <tr>\n",
       "      <th>39</th>\n",
       "      <td>0.873</td>\n",
       "      <td>1</td>\n",
       "      <td>2</td>\n",
       "    </tr>\n",
       "    <tr>\n",
       "      <th>40</th>\n",
       "      <td>0.873</td>\n",
       "      <td>1</td>\n",
       "      <td>2</td>\n",
       "    </tr>\n",
       "    <tr>\n",
       "      <th>41</th>\n",
       "      <td>0.873</td>\n",
       "      <td>1</td>\n",
       "      <td>2</td>\n",
       "    </tr>\n",
       "    <tr>\n",
       "      <th>42</th>\n",
       "      <td>0.873</td>\n",
       "      <td>1</td>\n",
       "      <td>2</td>\n",
       "    </tr>\n",
       "    <tr>\n",
       "      <th>43</th>\n",
       "      <td>0.873</td>\n",
       "      <td>1</td>\n",
       "      <td>2</td>\n",
       "    </tr>\n",
       "    <tr>\n",
       "      <th>44</th>\n",
       "      <td>0.873</td>\n",
       "      <td>1</td>\n",
       "      <td>2</td>\n",
       "    </tr>\n",
       "    <tr>\n",
       "      <th>45</th>\n",
       "      <td>0.873</td>\n",
       "      <td>1</td>\n",
       "      <td>2</td>\n",
       "    </tr>\n",
       "    <tr>\n",
       "      <th>46</th>\n",
       "      <td>0.866</td>\n",
       "      <td>1</td>\n",
       "      <td>2</td>\n",
       "    </tr>\n",
       "    <tr>\n",
       "      <th>47</th>\n",
       "      <td>0.866</td>\n",
       "      <td>1</td>\n",
       "      <td>2</td>\n",
       "    </tr>\n",
       "    <tr>\n",
       "      <th>48</th>\n",
       "      <td>0.866</td>\n",
       "      <td>1</td>\n",
       "      <td>2</td>\n",
       "    </tr>\n",
       "    <tr>\n",
       "      <th>49</th>\n",
       "      <td>0.866</td>\n",
       "      <td>1</td>\n",
       "      <td>3</td>\n",
       "    </tr>\n",
       "    <tr>\n",
       "      <th>50</th>\n",
       "      <td>0.866</td>\n",
       "      <td>1</td>\n",
       "      <td>3</td>\n",
       "    </tr>\n",
       "    <tr>\n",
       "      <th>51</th>\n",
       "      <td>0.866</td>\n",
       "      <td>1</td>\n",
       "      <td>3</td>\n",
       "    </tr>\n",
       "    <tr>\n",
       "      <th>52</th>\n",
       "      <td>0.866</td>\n",
       "      <td>1</td>\n",
       "      <td>3</td>\n",
       "    </tr>\n",
       "    <tr>\n",
       "      <th>53</th>\n",
       "      <td>0.866</td>\n",
       "      <td>1</td>\n",
       "      <td>3</td>\n",
       "    </tr>\n",
       "    <tr>\n",
       "      <th>54</th>\n",
       "      <td>0.866</td>\n",
       "      <td>1</td>\n",
       "      <td>3</td>\n",
       "    </tr>\n",
       "    <tr>\n",
       "      <th>55</th>\n",
       "      <td>0.859</td>\n",
       "      <td>1</td>\n",
       "      <td>3</td>\n",
       "    </tr>\n",
       "    <tr>\n",
       "      <th>56</th>\n",
       "      <td>0.859</td>\n",
       "      <td>1</td>\n",
       "      <td>3</td>\n",
       "    </tr>\n",
       "    <tr>\n",
       "      <th>57</th>\n",
       "      <td>0.859</td>\n",
       "      <td>1</td>\n",
       "      <td>3</td>\n",
       "    </tr>\n",
       "    <tr>\n",
       "      <th>58</th>\n",
       "      <td>0.859</td>\n",
       "      <td>1</td>\n",
       "      <td>3</td>\n",
       "    </tr>\n",
       "    <tr>\n",
       "      <th>59</th>\n",
       "      <td>0.859</td>\n",
       "      <td>1</td>\n",
       "      <td>3</td>\n",
       "    </tr>\n",
       "    <tr>\n",
       "      <th>60</th>\n",
       "      <td>0.859</td>\n",
       "      <td>1</td>\n",
       "      <td>3</td>\n",
       "    </tr>\n",
       "    <tr>\n",
       "      <th>61</th>\n",
       "      <td>0.851</td>\n",
       "      <td>1</td>\n",
       "      <td>4</td>\n",
       "    </tr>\n",
       "    <tr>\n",
       "      <th>62</th>\n",
       "      <td>0.851</td>\n",
       "      <td>1</td>\n",
       "      <td>4</td>\n",
       "    </tr>\n",
       "    <tr>\n",
       "      <th>63</th>\n",
       "      <td>0.851</td>\n",
       "      <td>1</td>\n",
       "      <td>4</td>\n",
       "    </tr>\n",
       "    <tr>\n",
       "      <th>64</th>\n",
       "      <td>0.842</td>\n",
       "      <td>1</td>\n",
       "      <td>0</td>\n",
       "    </tr>\n",
       "    <tr>\n",
       "      <th>65</th>\n",
       "      <td>0.842</td>\n",
       "      <td>1</td>\n",
       "      <td>0</td>\n",
       "    </tr>\n",
       "    <tr>\n",
       "      <th>66</th>\n",
       "      <td>0.833</td>\n",
       "      <td>1</td>\n",
       "      <td>1</td>\n",
       "    </tr>\n",
       "    <tr>\n",
       "      <th>67</th>\n",
       "      <td>0.833</td>\n",
       "      <td>1</td>\n",
       "      <td>1</td>\n",
       "    </tr>\n",
       "    <tr>\n",
       "      <th>68</th>\n",
       "      <td>0.833</td>\n",
       "      <td>1</td>\n",
       "      <td>1</td>\n",
       "    </tr>\n",
       "    <tr>\n",
       "      <th>69</th>\n",
       "      <td>0.833</td>\n",
       "      <td>1</td>\n",
       "      <td>1</td>\n",
       "    </tr>\n",
       "    <tr>\n",
       "      <th>70</th>\n",
       "      <td>0.831</td>\n",
       "      <td>1</td>\n",
       "      <td>1</td>\n",
       "    </tr>\n",
       "    <tr>\n",
       "      <th>71</th>\n",
       "      <td>0.831</td>\n",
       "      <td>1</td>\n",
       "      <td>1</td>\n",
       "    </tr>\n",
       "    <tr>\n",
       "      <th>72</th>\n",
       "      <td>0.831</td>\n",
       "      <td>1</td>\n",
       "      <td>1</td>\n",
       "    </tr>\n",
       "    <tr>\n",
       "      <th>73</th>\n",
       "      <td>0.831</td>\n",
       "      <td>1</td>\n",
       "      <td>1</td>\n",
       "    </tr>\n",
       "    <tr>\n",
       "      <th>74</th>\n",
       "      <td>0.825</td>\n",
       "      <td>1</td>\n",
       "      <td>2</td>\n",
       "    </tr>\n",
       "    <tr>\n",
       "      <th>75</th>\n",
       "      <td>0.825</td>\n",
       "      <td>1</td>\n",
       "      <td>2</td>\n",
       "    </tr>\n",
       "    <tr>\n",
       "      <th>76</th>\n",
       "      <td>0.823</td>\n",
       "      <td>1</td>\n",
       "      <td>2</td>\n",
       "    </tr>\n",
       "    <tr>\n",
       "      <th>77</th>\n",
       "      <td>0.823</td>\n",
       "      <td>1</td>\n",
       "      <td>2</td>\n",
       "    </tr>\n",
       "    <tr>\n",
       "      <th>78</th>\n",
       "      <td>0.823</td>\n",
       "      <td>1</td>\n",
       "      <td>2</td>\n",
       "    </tr>\n",
       "    <tr>\n",
       "      <th>79</th>\n",
       "      <td>0.823</td>\n",
       "      <td>1</td>\n",
       "      <td>2</td>\n",
       "    </tr>\n",
       "    <tr>\n",
       "      <th>80</th>\n",
       "      <td>0.823</td>\n",
       "      <td>1</td>\n",
       "      <td>2</td>\n",
       "    </tr>\n",
       "    <tr>\n",
       "      <th>81</th>\n",
       "      <td>0.823</td>\n",
       "      <td>1</td>\n",
       "      <td>2</td>\n",
       "    </tr>\n",
       "    <tr>\n",
       "      <th>82</th>\n",
       "      <td>0.823</td>\n",
       "      <td>1</td>\n",
       "      <td>2</td>\n",
       "    </tr>\n",
       "    <tr>\n",
       "      <th>83</th>\n",
       "      <td>0.823</td>\n",
       "      <td>1</td>\n",
       "      <td>2</td>\n",
       "    </tr>\n",
       "    <tr>\n",
       "      <th>84</th>\n",
       "      <td>0.821</td>\n",
       "      <td>1</td>\n",
       "      <td>2</td>\n",
       "    </tr>\n",
       "    <tr>\n",
       "      <th>85</th>\n",
       "      <td>0.821</td>\n",
       "      <td>1</td>\n",
       "      <td>2</td>\n",
       "    </tr>\n",
       "    <tr>\n",
       "      <th>86</th>\n",
       "      <td>0.815</td>\n",
       "      <td>1</td>\n",
       "      <td>3</td>\n",
       "    </tr>\n",
       "    <tr>\n",
       "      <th>87</th>\n",
       "      <td>0.815</td>\n",
       "      <td>1</td>\n",
       "      <td>3</td>\n",
       "    </tr>\n",
       "    <tr>\n",
       "      <th>88</th>\n",
       "      <td>0.815</td>\n",
       "      <td>1</td>\n",
       "      <td>3</td>\n",
       "    </tr>\n",
       "    <tr>\n",
       "      <th>89</th>\n",
       "      <td>0.815</td>\n",
       "      <td>1</td>\n",
       "      <td>3</td>\n",
       "    </tr>\n",
       "    <tr>\n",
       "      <th>90</th>\n",
       "      <td>0.812</td>\n",
       "      <td>1</td>\n",
       "      <td>3</td>\n",
       "    </tr>\n",
       "    <tr>\n",
       "      <th>91</th>\n",
       "      <td>0.812</td>\n",
       "      <td>1</td>\n",
       "      <td>3</td>\n",
       "    </tr>\n",
       "    <tr>\n",
       "      <th>92</th>\n",
       "      <td>0.812</td>\n",
       "      <td>1</td>\n",
       "      <td>3</td>\n",
       "    </tr>\n",
       "    <tr>\n",
       "      <th>93</th>\n",
       "      <td>0.812</td>\n",
       "      <td>1</td>\n",
       "      <td>3</td>\n",
       "    </tr>\n",
       "    <tr>\n",
       "      <th>94</th>\n",
       "      <td>0.805</td>\n",
       "      <td>1</td>\n",
       "      <td>4</td>\n",
       "    </tr>\n",
       "    <tr>\n",
       "      <th>95</th>\n",
       "      <td>0.805</td>\n",
       "      <td>1</td>\n",
       "      <td>4</td>\n",
       "    </tr>\n",
       "    <tr>\n",
       "      <th>96</th>\n",
       "      <td>0.786</td>\n",
       "      <td>2</td>\n",
       "      <td>0</td>\n",
       "    </tr>\n",
       "    <tr>\n",
       "      <th>97</th>\n",
       "      <td>0.786</td>\n",
       "      <td>2</td>\n",
       "      <td>0</td>\n",
       "    </tr>\n",
       "    <tr>\n",
       "      <th>98</th>\n",
       "      <td>0.786</td>\n",
       "      <td>2</td>\n",
       "      <td>0</td>\n",
       "    </tr>\n",
       "    <tr>\n",
       "      <th>99</th>\n",
       "      <td>0.782</td>\n",
       "      <td>2</td>\n",
       "      <td>1</td>\n",
       "    </tr>\n",
       "  </tbody>\n",
       "</table>\n",
       "</div>"
      ],
      "text/plain": [
       "    Scenario Similarity  delta_main_total  Count_Extra_Var\n",
       "0                 1.000                 0                0\n",
       "1                 0.989                 0                1\n",
       "2                 0.989                 0                1\n",
       "3                 0.984                 0                1\n",
       "4                 0.984                 0                1\n",
       "5                 0.979                 0                2\n",
       "6                 0.973                 0                2\n",
       "7                 0.973                 0                2\n",
       "8                 0.973                 0                2\n",
       "9                 0.973                 0                2\n",
       "10                0.970                 0                2\n",
       "11                0.963                 0                3\n",
       "12                0.963                 0                3\n",
       "13                0.959                 0                3\n",
       "14                0.959                 0                3\n",
       "15                0.949                 0                4\n",
       "16                0.897                 1                0\n",
       "17                0.897                 1                0\n",
       "18                0.897                 1                0\n",
       "19                0.889                 1                1\n",
       "20                0.889                 1                1\n",
       "21                0.889                 1                1\n",
       "22                0.889                 1                1\n",
       "23                0.889                 1                1\n",
       "24                0.889                 1                1\n",
       "25                0.882                 1                2\n",
       "26                0.882                 1                2\n",
       "27                0.882                 1                2\n",
       "28                0.881                 1                1\n",
       "29                0.881                 1                1\n",
       "30                0.881                 1                1\n",
       "31                0.881                 1                1\n",
       "32                0.881                 1                1\n",
       "33                0.881                 1                1\n",
       "34                0.873                 1                2\n",
       "35                0.873                 1                2\n",
       "36                0.873                 1                2\n",
       "37                0.873                 1                2\n",
       "38                0.873                 1                2\n",
       "39                0.873                 1                2\n",
       "40                0.873                 1                2\n",
       "41                0.873                 1                2\n",
       "42                0.873                 1                2\n",
       "43                0.873                 1                2\n",
       "44                0.873                 1                2\n",
       "45                0.873                 1                2\n",
       "46                0.866                 1                2\n",
       "47                0.866                 1                2\n",
       "48                0.866                 1                2\n",
       "49                0.866                 1                3\n",
       "50                0.866                 1                3\n",
       "51                0.866                 1                3\n",
       "52                0.866                 1                3\n",
       "53                0.866                 1                3\n",
       "54                0.866                 1                3\n",
       "55                0.859                 1                3\n",
       "56                0.859                 1                3\n",
       "57                0.859                 1                3\n",
       "58                0.859                 1                3\n",
       "59                0.859                 1                3\n",
       "60                0.859                 1                3\n",
       "61                0.851                 1                4\n",
       "62                0.851                 1                4\n",
       "63                0.851                 1                4\n",
       "64                0.842                 1                0\n",
       "65                0.842                 1                0\n",
       "66                0.833                 1                1\n",
       "67                0.833                 1                1\n",
       "68                0.833                 1                1\n",
       "69                0.833                 1                1\n",
       "70                0.831                 1                1\n",
       "71                0.831                 1                1\n",
       "72                0.831                 1                1\n",
       "73                0.831                 1                1\n",
       "74                0.825                 1                2\n",
       "75                0.825                 1                2\n",
       "76                0.823                 1                2\n",
       "77                0.823                 1                2\n",
       "78                0.823                 1                2\n",
       "79                0.823                 1                2\n",
       "80                0.823                 1                2\n",
       "81                0.823                 1                2\n",
       "82                0.823                 1                2\n",
       "83                0.823                 1                2\n",
       "84                0.821                 1                2\n",
       "85                0.821                 1                2\n",
       "86                0.815                 1                3\n",
       "87                0.815                 1                3\n",
       "88                0.815                 1                3\n",
       "89                0.815                 1                3\n",
       "90                0.812                 1                3\n",
       "91                0.812                 1                3\n",
       "92                0.812                 1                3\n",
       "93                0.812                 1                3\n",
       "94                0.805                 1                4\n",
       "95                0.805                 1                4\n",
       "96                0.786                 2                0\n",
       "97                0.786                 2                0\n",
       "98                0.786                 2                0\n",
       "99                0.782                 2                1"
      ]
     },
     "execution_count": 273,
     "metadata": {},
     "output_type": "execute_result"
    }
   ],
   "source": [
    "df[[\"Scenario Similarity\",\"delta_main_total\",\"Count_Extra_Var\"]].head(100)"
   ]
  },
  {
   "cell_type": "code",
   "execution_count": 274,
   "metadata": {},
   "outputs": [
    {
     "data": {
      "application/vnd.plotly.v1+json": {
       "config": {
        "plotlyServerURL": "https://plot.ly"
       },
       "data": [
        {
         "hovertemplate": "Unmatched Extra Variables=%{x}<br>Similarity (with Jitter)=%{y}<br>delta_main_total=%{marker.color}<extra></extra>",
         "legendgroup": "",
         "marker": {
          "color": [
           0,
           0,
           0,
           0,
           0,
           0,
           0,
           0,
           0,
           0,
           0,
           0,
           0,
           0,
           0,
           0,
           1,
           1,
           1,
           1,
           1,
           1,
           1,
           1,
           1,
           1,
           1,
           1,
           1,
           1,
           1,
           1,
           1,
           1,
           1,
           1,
           1,
           1,
           1,
           1,
           1,
           1,
           1,
           1,
           1,
           1,
           1,
           1,
           1,
           1,
           1,
           1,
           1,
           1,
           1,
           1,
           1,
           1,
           1,
           1,
           1,
           1,
           1,
           1,
           1,
           1,
           1,
           1,
           1,
           1,
           1,
           1,
           1,
           1,
           1,
           1,
           1,
           1,
           1,
           1,
           1,
           1,
           1,
           1,
           1,
           1,
           1,
           1,
           1,
           1,
           1,
           1,
           1,
           1,
           1,
           1,
           2,
           2,
           2,
           2,
           2,
           2,
           2,
           2,
           2,
           2,
           2,
           2,
           2,
           2,
           2,
           2,
           2,
           2,
           2,
           2,
           2,
           2,
           2,
           2,
           2,
           2,
           2,
           2,
           2,
           2,
           2,
           2,
           2,
           2,
           2,
           2,
           2,
           2,
           2,
           2,
           2,
           2,
           2,
           2,
           2,
           2,
           2,
           2,
           2,
           2,
           2,
           2,
           2,
           2,
           2,
           2,
           2,
           2,
           2,
           2,
           2,
           2,
           2,
           2,
           2,
           2,
           2,
           2,
           2,
           2,
           2,
           2,
           2,
           2,
           2,
           2,
           2,
           2,
           2,
           2,
           2,
           2,
           2,
           2,
           2,
           2,
           2,
           2,
           2,
           2,
           2,
           2,
           2,
           2,
           2,
           2,
           2,
           2,
           2,
           2,
           2,
           2,
           2,
           2,
           2,
           2,
           2,
           2,
           2,
           2,
           2,
           2,
           2,
           2,
           2,
           2,
           2,
           2,
           2,
           2,
           2,
           2,
           2,
           2,
           2,
           2,
           2,
           2,
           2,
           2,
           2,
           2,
           2,
           2,
           2,
           2,
           2,
           2,
           2,
           2,
           2,
           2,
           2,
           2,
           3,
           3,
           3,
           3,
           3,
           3,
           3,
           3,
           3,
           3,
           3,
           3,
           3,
           3,
           3,
           3,
           3,
           3,
           3,
           3,
           3,
           3,
           3,
           3,
           3,
           3,
           3,
           3,
           3,
           3,
           3,
           3,
           3,
           3,
           3,
           3,
           3,
           3,
           3,
           3,
           3,
           3,
           3,
           3,
           3,
           3,
           3,
           3,
           3,
           3,
           3,
           3,
           3,
           3,
           3,
           3,
           3,
           3,
           3,
           3,
           3,
           3,
           3,
           3,
           3,
           3,
           3,
           3,
           3,
           3,
           3,
           3,
           3,
           3,
           3,
           3,
           3,
           3,
           3,
           3,
           3,
           3,
           3,
           3,
           3,
           3,
           3,
           3,
           3,
           3,
           3,
           3,
           3,
           3,
           3,
           3,
           2,
           3,
           3,
           2,
           2,
           3,
           2,
           2,
           2,
           2,
           2,
           2,
           3,
           3,
           3,
           3,
           3,
           3,
           2,
           2,
           2,
           3,
           3,
           3,
           3,
           3,
           3,
           3,
           3,
           3,
           3,
           3,
           3,
           3,
           3,
           3,
           3,
           3,
           3,
           3,
           3,
           3,
           3,
           3,
           3,
           3,
           3,
           3,
           3,
           3,
           3,
           3,
           3,
           3,
           3,
           3,
           3,
           3,
           3,
           3,
           4,
           4,
           4,
           4,
           4,
           4,
           4,
           4,
           4,
           4,
           4,
           4,
           4,
           4,
           4,
           4,
           4,
           4,
           4,
           4,
           4,
           4,
           4,
           4,
           4,
           4,
           4,
           4,
           4,
           4,
           4,
           4,
           4,
           4,
           4,
           4,
           4,
           4,
           4,
           4,
           4,
           4,
           4,
           4,
           4,
           4,
           4,
           4,
           4,
           4,
           4,
           4,
           4,
           4,
           4,
           4,
           4,
           4,
           4,
           4,
           5,
           5,
           5,
           5,
           5,
           5,
           5,
           5,
           5
          ],
          "coloraxis": "coloraxis",
          "symbol": "circle"
         },
         "mode": "markers",
         "name": "",
         "orientation": "v",
         "showlegend": false,
         "textposition": "top center",
         "type": "scatter",
         "x": [
          0,
          1,
          1,
          1,
          1,
          2,
          2,
          2,
          2,
          2,
          2,
          3,
          3,
          3,
          3,
          4,
          0,
          0,
          0,
          1,
          1,
          1,
          1,
          1,
          1,
          2,
          2,
          2,
          1,
          1,
          1,
          1,
          1,
          1,
          2,
          2,
          2,
          2,
          2,
          2,
          2,
          2,
          2,
          2,
          2,
          2,
          2,
          2,
          2,
          3,
          3,
          3,
          3,
          3,
          3,
          3,
          3,
          3,
          3,
          3,
          3,
          4,
          4,
          4,
          0,
          0,
          1,
          1,
          1,
          1,
          1,
          1,
          1,
          1,
          2,
          2,
          2,
          2,
          2,
          2,
          2,
          2,
          2,
          2,
          2,
          2,
          3,
          3,
          3,
          3,
          3,
          3,
          3,
          3,
          4,
          4,
          0,
          0,
          0,
          1,
          1,
          1,
          1,
          1,
          1,
          2,
          2,
          2,
          1,
          1,
          1,
          1,
          1,
          1,
          2,
          2,
          2,
          2,
          2,
          2,
          2,
          2,
          2,
          2,
          2,
          2,
          3,
          3,
          3,
          3,
          3,
          3,
          2,
          2,
          2,
          3,
          3,
          3,
          3,
          3,
          3,
          4,
          4,
          4,
          0,
          0,
          0,
          0,
          0,
          0,
          1,
          1,
          1,
          1,
          1,
          1,
          1,
          1,
          1,
          1,
          1,
          1,
          1,
          1,
          1,
          1,
          1,
          1,
          1,
          1,
          1,
          1,
          1,
          1,
          2,
          2,
          2,
          2,
          2,
          2,
          2,
          2,
          2,
          2,
          2,
          2,
          2,
          2,
          2,
          2,
          2,
          2,
          2,
          2,
          2,
          2,
          2,
          2,
          2,
          2,
          2,
          2,
          2,
          2,
          2,
          2,
          2,
          2,
          2,
          2,
          3,
          3,
          3,
          3,
          3,
          3,
          3,
          3,
          3,
          3,
          3,
          3,
          3,
          3,
          3,
          3,
          3,
          3,
          3,
          3,
          3,
          3,
          3,
          3,
          4,
          4,
          4,
          4,
          4,
          4,
          0,
          0,
          0,
          0,
          0,
          0,
          1,
          1,
          1,
          1,
          1,
          1,
          1,
          1,
          1,
          1,
          1,
          1,
          2,
          2,
          2,
          2,
          2,
          2,
          1,
          1,
          1,
          1,
          1,
          1,
          1,
          1,
          1,
          1,
          1,
          1,
          2,
          2,
          2,
          2,
          2,
          2,
          2,
          2,
          2,
          2,
          2,
          2,
          2,
          2,
          2,
          2,
          2,
          2,
          2,
          2,
          2,
          2,
          2,
          2,
          2,
          2,
          2,
          2,
          2,
          2,
          3,
          3,
          3,
          3,
          3,
          3,
          3,
          3,
          3,
          3,
          3,
          3,
          3,
          3,
          3,
          3,
          3,
          3,
          3,
          3,
          3,
          3,
          3,
          3,
          4,
          4,
          4,
          4,
          4,
          4,
          2,
          1,
          2,
          1,
          1,
          1,
          2,
          3,
          2,
          3,
          2,
          2,
          2,
          2,
          2,
          3,
          3,
          2,
          3,
          4,
          3,
          3,
          4,
          3,
          2,
          2,
          1,
          1,
          1,
          1,
          1,
          2,
          1,
          2,
          2,
          2,
          2,
          2,
          3,
          3,
          3,
          3,
          2,
          3,
          2,
          2,
          2,
          2,
          3,
          2,
          2,
          4,
          3,
          4,
          3,
          3,
          3,
          3,
          4,
          3,
          1,
          2,
          1,
          1,
          2,
          1,
          3,
          3,
          2,
          2,
          2,
          2,
          2,
          3,
          2,
          2,
          2,
          3,
          4,
          4,
          3,
          3,
          3,
          3,
          2,
          1,
          2,
          2,
          1,
          1,
          1,
          1,
          1,
          2,
          2,
          2,
          3,
          2,
          3,
          2,
          2,
          2,
          2,
          3,
          2,
          2,
          2,
          3,
          3,
          2,
          3,
          3,
          3,
          4,
          3,
          3,
          3,
          4,
          4,
          3,
          2,
          3,
          2,
          3,
          3,
          4,
          3,
          2,
          2
         ],
         "xaxis": "x",
         "y": [
          0.9937089054834062,
          0.9929901031337524,
          0.9873553319476197,
          0.9853207673276012,
          0.986334672360735,
          0.9773432037595062,
          0.9777299556342532,
          0.9787903592303014,
          0.9753681047342068,
          0.973541875390898,
          0.971601809971224,
          0.9623860792006018,
          0.9575909287854188,
          0.9576921829477376,
          0.9613650690990905,
          0.9514652433680737,
          0.8839927134749541,
          0.9061791386114444,
          0.8980458052447319,
          0.8935788150956184,
          0.8932140492349452,
          0.8869592081894203,
          0.8894385536983767,
          0.8902346972125537,
          0.8799657776822579,
          0.8884626939577069,
          0.8769562863598035,
          0.8808390378383952,
          0.8871319122760297,
          0.8763691723072747,
          0.8859936073129419,
          0.8827805802111386,
          0.876725509804198,
          0.883089171047992,
          0.8745193763080749,
          0.8674148862726594,
          0.8641093123255618,
          0.881478039152344,
          0.873202731156895,
          0.8751233759472692,
          0.8705186074299457,
          0.8712262423985073,
          0.8736706527572198,
          0.8630153981119566,
          0.8665812330966088,
          0.8627485665111126,
          0.8690720789714541,
          0.8674454816063186,
          0.8583385190386327,
          0.8573595109797137,
          0.8768563392926962,
          0.8595501930963552,
          0.8704310448284996,
          0.8725444553470968,
          0.86222875696918,
          0.8624467267030388,
          0.8570912219686595,
          0.8674248156827287,
          0.8628172397622424,
          0.8546907566736601,
          0.8565240050504247,
          0.8485933076528188,
          0.8572348980586103,
          0.8456898199880839,
          0.8403653791703695,
          0.8491242661437449,
          0.8366971357789491,
          0.8355426222580534,
          0.8342524848245132,
          0.8420361123459543,
          0.8348524808592893,
          0.8323977905970659,
          0.8244913960047354,
          0.8328789584306348,
          0.8289729020456426,
          0.8255319396180999,
          0.8260787651440807,
          0.8235074430204159,
          0.8161292940020678,
          0.8305582804510716,
          0.8223642683225169,
          0.8208559145738209,
          0.8136158631005159,
          0.8227500882710423,
          0.8246923023537578,
          0.8158459551768509,
          0.8221516698385594,
          0.8153882270474848,
          0.8140144252466145,
          0.8160546651302376,
          0.8046678209034458,
          0.8136834305458861,
          0.8082177098294829,
          0.8035232752006545,
          0.7947308006578802,
          0.8108211898241502,
          0.7854953070847772,
          0.7885247775535713,
          0.7855891633047547,
          0.789804386557415,
          0.7742541270022862,
          0.7870403878443931,
          0.7826035219099102,
          0.7829137011535869,
          0.7820317767442049,
          0.7793539125556369,
          0.7796315344259679,
          0.7829498993845688,
          0.7708220108020174,
          0.7700869515310523,
          0.7722349643670685,
          0.7725632452198895,
          0.7647638320393283,
          0.7683948791136794,
          0.7676545424950092,
          0.7595684674789183,
          0.7645463929436058,
          0.7673783615399514,
          0.7715021715332726,
          0.7654583225043072,
          0.7593976735451787,
          0.7693987223339276,
          0.766702687440643,
          0.7722917364450973,
          0.7555453156890978,
          0.7739326023041385,
          0.7611630729364348,
          0.7625864040705642,
          0.7566630222560486,
          0.7552885456328492,
          0.7551619640314936,
          0.7637207012042627,
          0.7458161025394549,
          0.7593415403738952,
          0.7505447578331405,
          0.7571904603208384,
          0.7548718340936131,
          0.7528346877818234,
          0.7514295561663721,
          0.7455613945250612,
          0.7550522660013025,
          0.7563983697217941,
          0.7460493740813695,
          0.7432767360106566,
          0.7395850544338802,
          0.7343396124482643,
          0.7435772502949345,
          0.742451674518164,
          0.7394245556731817,
          0.7426014519651373,
          0.7337607053770837,
          0.7319701842237873,
          0.7280086632446877,
          0.7244837407230107,
          0.7327561250362361,
          0.7362514168498117,
          0.725689520006254,
          0.7332281593285083,
          0.7322024137039673,
          0.7351650044217872,
          0.7207864962096062,
          0.7351911424951854,
          0.7331269843250199,
          0.7369514606349097,
          0.7325747893271156,
          0.7287182131205758,
          0.737667708302494,
          0.7289648860487564,
          0.7310049332964916,
          0.7255002151844026,
          0.7317227223294877,
          0.7360594041466477,
          0.740271561966001,
          0.734906301422356,
          0.725714170587887,
          0.7118772883440685,
          0.7288619354008626,
          0.7288620824210811,
          0.7208235880617498,
          0.7288847158629522,
          0.7325361135261333,
          0.721465333589649,
          0.717711660779044,
          0.7258565070570263,
          0.7261733149054279,
          0.7218106489525324,
          0.7269400324719697,
          0.7330227993715125,
          0.7227499683454776,
          0.7237476392118971,
          0.7162702623794274,
          0.7157332664635075,
          0.7279307024770948,
          0.7221560544135457,
          0.7250920655196945,
          0.7192517070242358,
          0.72889044296047,
          0.7260139593151127,
          0.7166380089100797,
          0.7207569665343061,
          0.717044790004266,
          0.7180231800077356,
          0.7226075781432056,
          0.7250269717253905,
          0.720223520478951,
          0.716600529899081,
          0.7197583490686854,
          0.7209104803089985,
          0.7195131145560925,
          0.7239154795644482,
          0.7164786510288613,
          0.7171920850845181,
          0.7160772815345993,
          0.7168807768167662,
          0.7165442875755262,
          0.7160623864643397,
          0.7107720487930966,
          0.720773150495033,
          0.721947627781269,
          0.714079302552871,
          0.7170098312431606,
          0.7068537483652259,
          0.7065885711132798,
          0.7205344751678694,
          0.7105218209785408,
          0.7130875372749126,
          0.7167134160683551,
          0.7137561546763601,
          0.7092310886884555,
          0.7105228064520076,
          0.7245405662247146,
          0.7244041395964674,
          0.7141831830974091,
          0.7194914391972911,
          0.7133945345294505,
          0.7100527147904464,
          0.7144211091797849,
          0.702855968014764,
          0.698410982230701,
          0.7045457119516331,
          0.62359141871429,
          0.6224850160587887,
          0.6190121866371233,
          0.6279489413422902,
          0.6284318248238359,
          0.6292421640964929,
          0.6217575947242197,
          0.6218545317739277,
          0.6215634245748578,
          0.6249563079327606,
          0.6192338440610415,
          0.6256903598075005,
          0.6235232848643532,
          0.6225945638403116,
          0.630936225936175,
          0.6259242608830251,
          0.6233980508117509,
          0.6229906353098739,
          0.6252272330448051,
          0.6248805374912991,
          0.6261784664379683,
          0.6295557459829206,
          0.6138993741113992,
          0.627022351104437,
          0.6101624579064112,
          0.6204400584585458,
          0.6209018509145178,
          0.6229663736249302,
          0.6237775080290476,
          0.6150493904739691,
          0.6273099483509412,
          0.6234485109422178,
          0.620926691091913,
          0.6125099761902313,
          0.6181298523217043,
          0.6250421367211313,
          0.6141675984368331,
          0.6092345323298262,
          0.6143767308234973,
          0.615964031955458,
          0.617279654188699,
          0.6128037638432143,
          0.6148518907229088,
          0.620167385984746,
          0.6306258819183547,
          0.6104041106162138,
          0.6093209019726965,
          0.6118525541990931,
          0.6147790593521533,
          0.618949845961211,
          0.6164273612274226,
          0.6136627768180698,
          0.6167368019899304,
          0.6147904070465429,
          0.6144047672621554,
          0.6209237357167724,
          0.6081463104170445,
          0.6187366808049665,
          0.6121701301296006,
          0.616135877665808,
          0.6113723371198929,
          0.6164437754400413,
          0.6077129317866421,
          0.61331795505454,
          0.6076100269261279,
          0.6159035769348276,
          0.6147531495459686,
          0.6073070139245529,
          0.6113319720522743,
          0.6132829554918675,
          0.6123179699175204,
          0.6094096881995581,
          0.6116226279536133,
          0.6141484937907697,
          0.6118827495781841,
          0.6156419952494164,
          0.60978124564681,
          0.6147590652323682,
          0.6026067321662141,
          0.5996849972585561,
          0.6011802714632583,
          0.6065335622381409,
          0.603337095931249,
          0.6009176346442765,
          0.6040230784015109,
          0.5979111519598284,
          0.6119100073173206,
          0.5995687115673735,
          0.608161097599154,
          0.6097329483281047,
          0.6084911749285377,
          0.6035582817642463,
          0.6030424892555056,
          0.5968293510613163,
          0.6022374908762875,
          0.599849623974436,
          0.3324887074750961,
          0.33603369380903625,
          0.33539927283573834,
          0.3281067669377513,
          0.33018527093615513,
          0.3321466079196355,
          0.3203448976265769,
          0.3331105639910194,
          0.3224538621054608,
          0.3248910052253447,
          0.32864556388712496,
          0.32788951796090343,
          0.31926537380571085,
          0.3135511735395336,
          0.32877921856233455,
          0.3158701366951396,
          0.31968294798938296,
          0.31737489076894815,
          0.32111897805295925,
          0.3158707773379351,
          0.31369620564253503,
          0.2997477919782189,
          0.3015444090907161,
          0.3013751450846891,
          0.22964956481842894,
          0.23244370636456083,
          0.23206752345321036,
          0.2389181249867357,
          0.2311002265100779,
          0.23427626257570272,
          0.23208891245907382,
          0.23084322460665058,
          0.23612557157918604,
          0.2161553217898958,
          0.21984701648151941,
          0.22293806285664022,
          0.22670887374804083,
          0.23092672428254968,
          0.20661496770205615,
          0.22114590322819436,
          0.22013126688812984,
          0.22073574774986537,
          0.21953810819514466,
          0.22324292319035688,
          0.23164357232166674,
          0.21426669660637354,
          0.2264978128711161,
          0.21247798399844123,
          0.22008859867004132,
          0.22099710934017575,
          0.22269039162889884,
          0.20981603143806024,
          0.21857271515473958,
          0.21334721118532995,
          0.21764255138614536,
          0.22239932347395838,
          0.21819677269030907,
          0.21925843528254255,
          0.21602411373798905,
          0.22099428634167917,
          0.17233489945484926,
          0.17344904436359146,
          0.17455863973640723,
          0.17556907292426152,
          0.1719757227245033,
          0.17943110771630102,
          0.1610590207996283,
          0.16855699966486176,
          0.1676586355362468,
          0.15540118741748898,
          0.17312843857831733,
          0.16937645626553466,
          0.16892399154459892,
          0.17409209260974176,
          0.1669202221276471,
          0.1734936754365768,
          0.16648350568431808,
          0.16784395199842522,
          0.159712424961953,
          0.16072219165482635,
          0.1629981350840786,
          0.16262672859134766,
          0.16501430633116934,
          0.1567112977308317,
          0.12138143710805319,
          0.12598114801533095,
          0.12099271670106189,
          0.1160196692194989,
          0.11716753891329253,
          0.1254108085067463,
          0.11603898876350786,
          0.1156467531182606,
          0.11756330089118897,
          0.11056171887392041,
          0.12063065543420025,
          0.11578508935549926,
          0.11857187387741475,
          0.10932597684234767,
          0.1151341325776441,
          0.11194038953598692,
          0.12445391273358282,
          0.12605104580834461,
          0.12195208066105873,
          0.11648354516168424,
          0.12137492289869843,
          0.11494904224839778,
          0.1212768108995795,
          0.11624727800833905,
          0.11718976591095258,
          0.11666647728033276,
          0.12317673419044492,
          0.12223843969118965,
          0.10954370365261526,
          0.10896282786975076,
          0.09784240047999007,
          0.110350675048428,
          0.10368801559863551,
          0.11674071137323028,
          0.09917686474556815,
          0.0977644805560056,
          -0.3301458970863943,
          -0.3290733571285683,
          -0.33342097416243166,
          -0.3373544601201752,
          -0.32859561174965934,
          -0.3289178180834634,
          -0.3303667110964359,
          -0.3293645005598394,
          -0.33698126610256923
         ],
         "yaxis": "y"
        }
       ],
       "layout": {
        "coloraxis": {
         "colorbar": {
          "title": {
           "text": "delta_main_total"
          }
         },
         "colorscale": [
          [
           0,
           "green"
          ],
          [
           0.5,
           "yellow"
          ],
          [
           1,
           "red"
          ]
         ]
        },
        "legend": {
         "tracegroupgap": 0
        },
        "template": {
         "data": {
          "bar": [
           {
            "error_x": {
             "color": "#2a3f5f"
            },
            "error_y": {
             "color": "#2a3f5f"
            },
            "marker": {
             "line": {
              "color": "#E5ECF6",
              "width": 0.5
             },
             "pattern": {
              "fillmode": "overlay",
              "size": 10,
              "solidity": 0.2
             }
            },
            "type": "bar"
           }
          ],
          "barpolar": [
           {
            "marker": {
             "line": {
              "color": "#E5ECF6",
              "width": 0.5
             },
             "pattern": {
              "fillmode": "overlay",
              "size": 10,
              "solidity": 0.2
             }
            },
            "type": "barpolar"
           }
          ],
          "carpet": [
           {
            "aaxis": {
             "endlinecolor": "#2a3f5f",
             "gridcolor": "white",
             "linecolor": "white",
             "minorgridcolor": "white",
             "startlinecolor": "#2a3f5f"
            },
            "baxis": {
             "endlinecolor": "#2a3f5f",
             "gridcolor": "white",
             "linecolor": "white",
             "minorgridcolor": "white",
             "startlinecolor": "#2a3f5f"
            },
            "type": "carpet"
           }
          ],
          "choropleth": [
           {
            "colorbar": {
             "outlinewidth": 0,
             "ticks": ""
            },
            "type": "choropleth"
           }
          ],
          "contour": [
           {
            "colorbar": {
             "outlinewidth": 0,
             "ticks": ""
            },
            "colorscale": [
             [
              0,
              "#0d0887"
             ],
             [
              0.1111111111111111,
              "#46039f"
             ],
             [
              0.2222222222222222,
              "#7201a8"
             ],
             [
              0.3333333333333333,
              "#9c179e"
             ],
             [
              0.4444444444444444,
              "#bd3786"
             ],
             [
              0.5555555555555556,
              "#d8576b"
             ],
             [
              0.6666666666666666,
              "#ed7953"
             ],
             [
              0.7777777777777778,
              "#fb9f3a"
             ],
             [
              0.8888888888888888,
              "#fdca26"
             ],
             [
              1,
              "#f0f921"
             ]
            ],
            "type": "contour"
           }
          ],
          "contourcarpet": [
           {
            "colorbar": {
             "outlinewidth": 0,
             "ticks": ""
            },
            "type": "contourcarpet"
           }
          ],
          "heatmap": [
           {
            "colorbar": {
             "outlinewidth": 0,
             "ticks": ""
            },
            "colorscale": [
             [
              0,
              "#0d0887"
             ],
             [
              0.1111111111111111,
              "#46039f"
             ],
             [
              0.2222222222222222,
              "#7201a8"
             ],
             [
              0.3333333333333333,
              "#9c179e"
             ],
             [
              0.4444444444444444,
              "#bd3786"
             ],
             [
              0.5555555555555556,
              "#d8576b"
             ],
             [
              0.6666666666666666,
              "#ed7953"
             ],
             [
              0.7777777777777778,
              "#fb9f3a"
             ],
             [
              0.8888888888888888,
              "#fdca26"
             ],
             [
              1,
              "#f0f921"
             ]
            ],
            "type": "heatmap"
           }
          ],
          "heatmapgl": [
           {
            "colorbar": {
             "outlinewidth": 0,
             "ticks": ""
            },
            "colorscale": [
             [
              0,
              "#0d0887"
             ],
             [
              0.1111111111111111,
              "#46039f"
             ],
             [
              0.2222222222222222,
              "#7201a8"
             ],
             [
              0.3333333333333333,
              "#9c179e"
             ],
             [
              0.4444444444444444,
              "#bd3786"
             ],
             [
              0.5555555555555556,
              "#d8576b"
             ],
             [
              0.6666666666666666,
              "#ed7953"
             ],
             [
              0.7777777777777778,
              "#fb9f3a"
             ],
             [
              0.8888888888888888,
              "#fdca26"
             ],
             [
              1,
              "#f0f921"
             ]
            ],
            "type": "heatmapgl"
           }
          ],
          "histogram": [
           {
            "marker": {
             "pattern": {
              "fillmode": "overlay",
              "size": 10,
              "solidity": 0.2
             }
            },
            "type": "histogram"
           }
          ],
          "histogram2d": [
           {
            "colorbar": {
             "outlinewidth": 0,
             "ticks": ""
            },
            "colorscale": [
             [
              0,
              "#0d0887"
             ],
             [
              0.1111111111111111,
              "#46039f"
             ],
             [
              0.2222222222222222,
              "#7201a8"
             ],
             [
              0.3333333333333333,
              "#9c179e"
             ],
             [
              0.4444444444444444,
              "#bd3786"
             ],
             [
              0.5555555555555556,
              "#d8576b"
             ],
             [
              0.6666666666666666,
              "#ed7953"
             ],
             [
              0.7777777777777778,
              "#fb9f3a"
             ],
             [
              0.8888888888888888,
              "#fdca26"
             ],
             [
              1,
              "#f0f921"
             ]
            ],
            "type": "histogram2d"
           }
          ],
          "histogram2dcontour": [
           {
            "colorbar": {
             "outlinewidth": 0,
             "ticks": ""
            },
            "colorscale": [
             [
              0,
              "#0d0887"
             ],
             [
              0.1111111111111111,
              "#46039f"
             ],
             [
              0.2222222222222222,
              "#7201a8"
             ],
             [
              0.3333333333333333,
              "#9c179e"
             ],
             [
              0.4444444444444444,
              "#bd3786"
             ],
             [
              0.5555555555555556,
              "#d8576b"
             ],
             [
              0.6666666666666666,
              "#ed7953"
             ],
             [
              0.7777777777777778,
              "#fb9f3a"
             ],
             [
              0.8888888888888888,
              "#fdca26"
             ],
             [
              1,
              "#f0f921"
             ]
            ],
            "type": "histogram2dcontour"
           }
          ],
          "mesh3d": [
           {
            "colorbar": {
             "outlinewidth": 0,
             "ticks": ""
            },
            "type": "mesh3d"
           }
          ],
          "parcoords": [
           {
            "line": {
             "colorbar": {
              "outlinewidth": 0,
              "ticks": ""
             }
            },
            "type": "parcoords"
           }
          ],
          "pie": [
           {
            "automargin": true,
            "type": "pie"
           }
          ],
          "scatter": [
           {
            "fillpattern": {
             "fillmode": "overlay",
             "size": 10,
             "solidity": 0.2
            },
            "type": "scatter"
           }
          ],
          "scatter3d": [
           {
            "line": {
             "colorbar": {
              "outlinewidth": 0,
              "ticks": ""
             }
            },
            "marker": {
             "colorbar": {
              "outlinewidth": 0,
              "ticks": ""
             }
            },
            "type": "scatter3d"
           }
          ],
          "scattercarpet": [
           {
            "marker": {
             "colorbar": {
              "outlinewidth": 0,
              "ticks": ""
             }
            },
            "type": "scattercarpet"
           }
          ],
          "scattergeo": [
           {
            "marker": {
             "colorbar": {
              "outlinewidth": 0,
              "ticks": ""
             }
            },
            "type": "scattergeo"
           }
          ],
          "scattergl": [
           {
            "marker": {
             "colorbar": {
              "outlinewidth": 0,
              "ticks": ""
             }
            },
            "type": "scattergl"
           }
          ],
          "scattermapbox": [
           {
            "marker": {
             "colorbar": {
              "outlinewidth": 0,
              "ticks": ""
             }
            },
            "type": "scattermapbox"
           }
          ],
          "scatterpolar": [
           {
            "marker": {
             "colorbar": {
              "outlinewidth": 0,
              "ticks": ""
             }
            },
            "type": "scatterpolar"
           }
          ],
          "scatterpolargl": [
           {
            "marker": {
             "colorbar": {
              "outlinewidth": 0,
              "ticks": ""
             }
            },
            "type": "scatterpolargl"
           }
          ],
          "scatterternary": [
           {
            "marker": {
             "colorbar": {
              "outlinewidth": 0,
              "ticks": ""
             }
            },
            "type": "scatterternary"
           }
          ],
          "surface": [
           {
            "colorbar": {
             "outlinewidth": 0,
             "ticks": ""
            },
            "colorscale": [
             [
              0,
              "#0d0887"
             ],
             [
              0.1111111111111111,
              "#46039f"
             ],
             [
              0.2222222222222222,
              "#7201a8"
             ],
             [
              0.3333333333333333,
              "#9c179e"
             ],
             [
              0.4444444444444444,
              "#bd3786"
             ],
             [
              0.5555555555555556,
              "#d8576b"
             ],
             [
              0.6666666666666666,
              "#ed7953"
             ],
             [
              0.7777777777777778,
              "#fb9f3a"
             ],
             [
              0.8888888888888888,
              "#fdca26"
             ],
             [
              1,
              "#f0f921"
             ]
            ],
            "type": "surface"
           }
          ],
          "table": [
           {
            "cells": {
             "fill": {
              "color": "#EBF0F8"
             },
             "line": {
              "color": "white"
             }
            },
            "header": {
             "fill": {
              "color": "#C8D4E3"
             },
             "line": {
              "color": "white"
             }
            },
            "type": "table"
           }
          ]
         },
         "layout": {
          "annotationdefaults": {
           "arrowcolor": "#2a3f5f",
           "arrowhead": 0,
           "arrowwidth": 1
          },
          "autotypenumbers": "strict",
          "coloraxis": {
           "colorbar": {
            "outlinewidth": 0,
            "ticks": ""
           }
          },
          "colorscale": {
           "diverging": [
            [
             0,
             "#8e0152"
            ],
            [
             0.1,
             "#c51b7d"
            ],
            [
             0.2,
             "#de77ae"
            ],
            [
             0.3,
             "#f1b6da"
            ],
            [
             0.4,
             "#fde0ef"
            ],
            [
             0.5,
             "#f7f7f7"
            ],
            [
             0.6,
             "#e6f5d0"
            ],
            [
             0.7,
             "#b8e186"
            ],
            [
             0.8,
             "#7fbc41"
            ],
            [
             0.9,
             "#4d9221"
            ],
            [
             1,
             "#276419"
            ]
           ],
           "sequential": [
            [
             0,
             "#0d0887"
            ],
            [
             0.1111111111111111,
             "#46039f"
            ],
            [
             0.2222222222222222,
             "#7201a8"
            ],
            [
             0.3333333333333333,
             "#9c179e"
            ],
            [
             0.4444444444444444,
             "#bd3786"
            ],
            [
             0.5555555555555556,
             "#d8576b"
            ],
            [
             0.6666666666666666,
             "#ed7953"
            ],
            [
             0.7777777777777778,
             "#fb9f3a"
            ],
            [
             0.8888888888888888,
             "#fdca26"
            ],
            [
             1,
             "#f0f921"
            ]
           ],
           "sequentialminus": [
            [
             0,
             "#0d0887"
            ],
            [
             0.1111111111111111,
             "#46039f"
            ],
            [
             0.2222222222222222,
             "#7201a8"
            ],
            [
             0.3333333333333333,
             "#9c179e"
            ],
            [
             0.4444444444444444,
             "#bd3786"
            ],
            [
             0.5555555555555556,
             "#d8576b"
            ],
            [
             0.6666666666666666,
             "#ed7953"
            ],
            [
             0.7777777777777778,
             "#fb9f3a"
            ],
            [
             0.8888888888888888,
             "#fdca26"
            ],
            [
             1,
             "#f0f921"
            ]
           ]
          },
          "colorway": [
           "#636efa",
           "#EF553B",
           "#00cc96",
           "#ab63fa",
           "#FFA15A",
           "#19d3f3",
           "#FF6692",
           "#B6E880",
           "#FF97FF",
           "#FECB52"
          ],
          "font": {
           "color": "#2a3f5f"
          },
          "geo": {
           "bgcolor": "white",
           "lakecolor": "white",
           "landcolor": "#E5ECF6",
           "showlakes": true,
           "showland": true,
           "subunitcolor": "white"
          },
          "hoverlabel": {
           "align": "left"
          },
          "hovermode": "closest",
          "mapbox": {
           "style": "light"
          },
          "paper_bgcolor": "white",
          "plot_bgcolor": "#E5ECF6",
          "polar": {
           "angularaxis": {
            "gridcolor": "white",
            "linecolor": "white",
            "ticks": ""
           },
           "bgcolor": "#E5ECF6",
           "radialaxis": {
            "gridcolor": "white",
            "linecolor": "white",
            "ticks": ""
           }
          },
          "scene": {
           "xaxis": {
            "backgroundcolor": "#E5ECF6",
            "gridcolor": "white",
            "gridwidth": 2,
            "linecolor": "white",
            "showbackground": true,
            "ticks": "",
            "zerolinecolor": "white"
           },
           "yaxis": {
            "backgroundcolor": "#E5ECF6",
            "gridcolor": "white",
            "gridwidth": 2,
            "linecolor": "white",
            "showbackground": true,
            "ticks": "",
            "zerolinecolor": "white"
           },
           "zaxis": {
            "backgroundcolor": "#E5ECF6",
            "gridcolor": "white",
            "gridwidth": 2,
            "linecolor": "white",
            "showbackground": true,
            "ticks": "",
            "zerolinecolor": "white"
           }
          },
          "shapedefaults": {
           "line": {
            "color": "#2a3f5f"
           }
          },
          "ternary": {
           "aaxis": {
            "gridcolor": "white",
            "linecolor": "white",
            "ticks": ""
           },
           "baxis": {
            "gridcolor": "white",
            "linecolor": "white",
            "ticks": ""
           },
           "bgcolor": "#E5ECF6",
           "caxis": {
            "gridcolor": "white",
            "linecolor": "white",
            "ticks": ""
           }
          },
          "title": {
           "x": 0.05
          },
          "xaxis": {
           "automargin": true,
           "gridcolor": "white",
           "linecolor": "white",
           "ticks": "",
           "title": {
            "standoff": 15
           },
           "zerolinecolor": "white",
           "zerolinewidth": 2
          },
          "yaxis": {
           "automargin": true,
           "gridcolor": "white",
           "linecolor": "white",
           "ticks": "",
           "title": {
            "standoff": 15
           },
           "zerolinecolor": "white",
           "zerolinewidth": 2
          }
         }
        },
        "title": {
         "text": "Candidate scenarios varying the number of variables from the Takeoff Scenario."
        },
        "xaxis": {
         "anchor": "y",
         "domain": [
          0,
          1
         ],
         "tickmode": "array",
         "tickvals": [
          0,
          1,
          2,
          3,
          4
         ],
         "title": {
          "text": "Unmatched Extra Variables"
         }
        },
        "yaxis": {
         "anchor": "x",
         "domain": [
          0,
          1
         ],
         "tickmode": "auto",
         "title": {
          "text": "Similarity (with Jitter)"
         }
        }
       }
      }
     },
     "metadata": {},
     "output_type": "display_data"
    }
   ],
   "source": [
    "import plotly.express as px\n",
    "import numpy as np\n",
    "\n",
    "# Criando um jitter nos valores de 'Scenario Similarity' para espalhar os pontos\n",
    "df['Scenario Similarity Jitter'] = df['Scenario Similarity'] + np.random.normal(0, 0.005, size=len(df))\n",
    "\n",
    "# Criando o scatter plot com jitter\n",
    "fig = px.scatter(\n",
    "    df,\n",
    "    x='Count_Extra_Var',\n",
    "    y='Scenario Similarity Jitter',  # Usando a coluna com jitter\n",
    "    color='delta_main_total',\n",
    "    title='Candidate scenarios varying the number of variables from the Takeoff Scenario.',\n",
    "    labels={\n",
    "        'Count_Extra_Var': 'Unmatched Extra Variables',\n",
    "        'Scenario Similarity Jitter': 'Similarity (with Jitter)'\n",
    "    },\n",
    "    hover_data=['Count_Extra_Var'],\n",
    "    color_continuous_scale=['green', 'yellow', 'red']\n",
    ")\n",
    "\n",
    "# Ajusta a posição do texto\n",
    "fig.update_traces(textposition='top center')\n",
    "\n",
    "# Ajusta os eixos para exibir apenas valores existentes\n",
    "fig.update_xaxes(\n",
    "    tickmode='array',\n",
    "    tickvals=df['Count_Extra_Var'].unique()\n",
    ")\n",
    "fig.update_yaxes(\n",
    "    tickmode='auto'\n",
    ")\n",
    "\n",
    "# Exibindo o gráfico\n",
    "fig.show()\n"
   ]
  },
  {
   "cell_type": "code",
   "execution_count": 275,
   "metadata": {},
   "outputs": [
    {
     "data": {
      "text/html": [
       "<div>\n",
       "<style scoped>\n",
       "    .dataframe tbody tr th:only-of-type {\n",
       "        vertical-align: middle;\n",
       "    }\n",
       "\n",
       "    .dataframe tbody tr th {\n",
       "        vertical-align: top;\n",
       "    }\n",
       "\n",
       "    .dataframe thead th {\n",
       "        text-align: right;\n",
       "    }\n",
       "</style>\n",
       "<table border=\"1\" class=\"dataframe\">\n",
       "  <thead>\n",
       "    <tr style=\"text-align: right;\">\n",
       "      <th></th>\n",
       "      <th>Scenario Similarity</th>\n",
       "      <th>extra_percent</th>\n",
       "    </tr>\n",
       "  </thead>\n",
       "  <tbody>\n",
       "    <tr>\n",
       "      <th>0</th>\n",
       "      <td>1.000</td>\n",
       "      <td>0.000000</td>\n",
       "    </tr>\n",
       "    <tr>\n",
       "      <th>1</th>\n",
       "      <td>0.989</td>\n",
       "      <td>0.166667</td>\n",
       "    </tr>\n",
       "    <tr>\n",
       "      <th>2</th>\n",
       "      <td>0.989</td>\n",
       "      <td>0.166667</td>\n",
       "    </tr>\n",
       "    <tr>\n",
       "      <th>3</th>\n",
       "      <td>0.984</td>\n",
       "      <td>0.166667</td>\n",
       "    </tr>\n",
       "    <tr>\n",
       "      <th>4</th>\n",
       "      <td>0.984</td>\n",
       "      <td>0.166667</td>\n",
       "    </tr>\n",
       "  </tbody>\n",
       "</table>\n",
       "</div>"
      ],
      "text/plain": [
       "   Scenario Similarity  extra_percent\n",
       "0                1.000       0.000000\n",
       "1                0.989       0.166667\n",
       "2                0.989       0.166667\n",
       "3                0.984       0.166667\n",
       "4                0.984       0.166667"
      ]
     },
     "execution_count": 275,
     "metadata": {},
     "output_type": "execute_result"
    }
   ],
   "source": [
    "df[\"extra_percent\"] = df[\"Count_Extra_Var\"] / (df[\"Count_Main_Var\"] + df[\"Count_Extra_Var\"])\n",
    "df[[\"Scenario Similarity\",\"extra_percent\"]].head()"
   ]
  },
  {
   "cell_type": "code",
   "execution_count": 276,
   "metadata": {},
   "outputs": [
    {
     "data": {
      "application/vnd.plotly.v1+json": {
       "config": {
        "plotlyServerURL": "https://plot.ly"
       },
       "data": [
        {
         "hovertemplate": "Unmatched Extra Variables=%{x}<br>Similarity (with Jitter)=%{y}<br>delta_main_total=%{marker.color}<extra></extra>",
         "legendgroup": "",
         "marker": {
          "color": [
           0,
           0,
           0,
           0,
           0,
           0,
           0,
           0,
           0,
           0,
           0,
           0,
           0,
           0,
           0,
           0,
           1,
           1,
           1,
           1,
           1,
           1,
           1,
           1,
           1,
           1,
           1,
           1,
           1,
           1,
           1,
           1,
           1,
           1,
           1,
           1,
           1,
           1,
           1,
           1,
           1,
           1,
           1,
           1,
           1,
           1,
           1,
           1,
           1,
           1,
           1,
           1,
           1,
           1,
           1,
           1,
           1,
           1,
           1,
           1,
           1,
           1,
           1,
           1,
           1,
           1,
           1,
           1,
           1,
           1,
           1,
           1,
           1,
           1,
           1,
           1,
           1,
           1,
           1,
           1,
           1,
           1,
           1,
           1,
           1,
           1,
           1,
           1,
           1,
           1,
           1,
           1,
           1,
           1,
           1,
           1,
           2,
           2,
           2,
           2,
           2,
           2,
           2,
           2,
           2,
           2,
           2,
           2,
           2,
           2,
           2,
           2,
           2,
           2,
           2,
           2,
           2,
           2,
           2,
           2,
           2,
           2,
           2,
           2,
           2,
           2,
           2,
           2,
           2,
           2,
           2,
           2,
           2,
           2,
           2,
           2,
           2,
           2,
           2,
           2,
           2,
           2,
           2,
           2,
           2,
           2,
           2,
           2,
           2,
           2,
           2,
           2,
           2,
           2,
           2,
           2,
           2,
           2,
           2,
           2,
           2,
           2,
           2,
           2,
           2,
           2,
           2,
           2,
           2,
           2,
           2,
           2,
           2,
           2,
           2,
           2,
           2,
           2,
           2,
           2,
           2,
           2,
           2,
           2,
           2,
           2,
           2,
           2,
           2,
           2,
           2,
           2,
           2,
           2,
           2,
           2,
           2,
           2,
           2,
           2,
           2,
           2,
           2,
           2,
           2,
           2,
           2,
           2,
           2,
           2,
           2,
           2,
           2,
           2,
           2,
           2,
           2,
           2,
           2,
           2,
           2,
           2,
           2,
           2,
           2,
           2,
           2,
           2,
           2,
           2,
           2,
           2,
           2,
           2,
           2,
           2,
           2,
           2,
           2,
           2,
           3,
           3,
           3,
           3,
           3,
           3,
           3,
           3,
           3,
           3,
           3,
           3,
           3,
           3,
           3,
           3,
           3,
           3,
           3,
           3,
           3,
           3,
           3,
           3,
           3,
           3,
           3,
           3,
           3,
           3,
           3,
           3,
           3,
           3,
           3,
           3,
           3,
           3,
           3,
           3,
           3,
           3,
           3,
           3,
           3,
           3,
           3,
           3,
           3,
           3,
           3,
           3,
           3,
           3,
           3,
           3,
           3,
           3,
           3,
           3,
           3,
           3,
           3,
           3,
           3,
           3,
           3,
           3,
           3,
           3,
           3,
           3,
           3,
           3,
           3,
           3,
           3,
           3,
           3,
           3,
           3,
           3,
           3,
           3,
           3,
           3,
           3,
           3,
           3,
           3,
           3,
           3,
           3,
           3,
           3,
           3,
           2,
           3,
           3,
           2,
           2,
           3,
           2,
           2,
           2,
           2,
           2,
           2,
           3,
           3,
           3,
           3,
           3,
           3,
           2,
           2,
           2,
           3,
           3,
           3,
           3,
           3,
           3,
           3,
           3,
           3,
           3,
           3,
           3,
           3,
           3,
           3,
           3,
           3,
           3,
           3,
           3,
           3,
           3,
           3,
           3,
           3,
           3,
           3,
           3,
           3,
           3,
           3,
           3,
           3,
           3,
           3,
           3,
           3,
           3,
           3,
           4,
           4,
           4,
           4,
           4,
           4,
           4,
           4,
           4,
           4,
           4,
           4,
           4,
           4,
           4,
           4,
           4,
           4,
           4,
           4,
           4,
           4,
           4,
           4,
           4,
           4,
           4,
           4,
           4,
           4,
           4,
           4,
           4,
           4,
           4,
           4,
           4,
           4,
           4,
           4,
           4,
           4,
           4,
           4,
           4,
           4,
           4,
           4,
           4,
           4,
           4,
           4,
           4,
           4,
           4,
           4,
           4,
           4,
           4,
           4,
           5,
           5,
           5,
           5,
           5,
           5,
           5,
           5,
           5
          ],
          "coloraxis": "coloraxis",
          "symbol": "circle"
         },
         "mode": "markers",
         "name": "",
         "orientation": "v",
         "showlegend": false,
         "textposition": "top center",
         "type": "scatter",
         "x": [
          0,
          0.16666666666666666,
          0.16666666666666666,
          0.16666666666666666,
          0.16666666666666666,
          0.2857142857142857,
          0.2857142857142857,
          0.2857142857142857,
          0.2857142857142857,
          0.2857142857142857,
          0.2857142857142857,
          0.375,
          0.375,
          0.375,
          0.375,
          0.4444444444444444,
          0,
          0,
          0,
          0.2,
          0.2,
          0.2,
          0.2,
          0.2,
          0.2,
          0.3333333333333333,
          0.3333333333333333,
          0.3333333333333333,
          0.2,
          0.2,
          0.2,
          0.2,
          0.2,
          0.2,
          0.3333333333333333,
          0.3333333333333333,
          0.3333333333333333,
          0.3333333333333333,
          0.3333333333333333,
          0.3333333333333333,
          0.3333333333333333,
          0.3333333333333333,
          0.3333333333333333,
          0.3333333333333333,
          0.3333333333333333,
          0.3333333333333333,
          0.3333333333333333,
          0.3333333333333333,
          0.3333333333333333,
          0.42857142857142855,
          0.42857142857142855,
          0.42857142857142855,
          0.42857142857142855,
          0.42857142857142855,
          0.42857142857142855,
          0.42857142857142855,
          0.42857142857142855,
          0.42857142857142855,
          0.42857142857142855,
          0.42857142857142855,
          0.42857142857142855,
          0.5,
          0.5,
          0.5,
          0,
          0,
          0.2,
          0.2,
          0.2,
          0.2,
          0.2,
          0.2,
          0.2,
          0.2,
          0.3333333333333333,
          0.3333333333333333,
          0.3333333333333333,
          0.3333333333333333,
          0.3333333333333333,
          0.3333333333333333,
          0.3333333333333333,
          0.3333333333333333,
          0.3333333333333333,
          0.3333333333333333,
          0.3333333333333333,
          0.3333333333333333,
          0.42857142857142855,
          0.42857142857142855,
          0.42857142857142855,
          0.42857142857142855,
          0.42857142857142855,
          0.42857142857142855,
          0.42857142857142855,
          0.42857142857142855,
          0.5,
          0.5,
          0,
          0,
          0,
          0.25,
          0.25,
          0.25,
          0.25,
          0.25,
          0.25,
          0.4,
          0.4,
          0.4,
          0.25,
          0.25,
          0.25,
          0.25,
          0.25,
          0.25,
          0.4,
          0.4,
          0.4,
          0.4,
          0.4,
          0.4,
          0.4,
          0.4,
          0.4,
          0.4,
          0.4,
          0.4,
          0.5,
          0.5,
          0.5,
          0.5,
          0.5,
          0.5,
          0.4,
          0.4,
          0.4,
          0.5,
          0.5,
          0.5,
          0.5,
          0.5,
          0.5,
          0.5714285714285714,
          0.5714285714285714,
          0.5714285714285714,
          0,
          0,
          0,
          0,
          0,
          0,
          0.25,
          0.25,
          0.25,
          0.25,
          0.25,
          0.25,
          0.25,
          0.25,
          0.25,
          0.25,
          0.25,
          0.25,
          0.25,
          0.25,
          0.25,
          0.25,
          0.25,
          0.25,
          0.25,
          0.25,
          0.25,
          0.25,
          0.25,
          0.25,
          0.4,
          0.4,
          0.4,
          0.4,
          0.4,
          0.4,
          0.4,
          0.4,
          0.4,
          0.4,
          0.4,
          0.4,
          0.4,
          0.4,
          0.4,
          0.4,
          0.4,
          0.4,
          0.4,
          0.4,
          0.4,
          0.4,
          0.4,
          0.4,
          0.4,
          0.4,
          0.4,
          0.4,
          0.4,
          0.4,
          0.4,
          0.4,
          0.4,
          0.4,
          0.4,
          0.4,
          0.5,
          0.5,
          0.5,
          0.5,
          0.5,
          0.5,
          0.5,
          0.5,
          0.5,
          0.5,
          0.5,
          0.5,
          0.5,
          0.5,
          0.5,
          0.5,
          0.5,
          0.5,
          0.5,
          0.5,
          0.5,
          0.5,
          0.5,
          0.5,
          0.5714285714285714,
          0.5714285714285714,
          0.5714285714285714,
          0.5714285714285714,
          0.5714285714285714,
          0.5714285714285714,
          0,
          0,
          0,
          0,
          0,
          0,
          0.3333333333333333,
          0.3333333333333333,
          0.3333333333333333,
          0.3333333333333333,
          0.3333333333333333,
          0.3333333333333333,
          0.3333333333333333,
          0.3333333333333333,
          0.3333333333333333,
          0.3333333333333333,
          0.3333333333333333,
          0.3333333333333333,
          0.5,
          0.5,
          0.5,
          0.5,
          0.5,
          0.5,
          0.3333333333333333,
          0.3333333333333333,
          0.3333333333333333,
          0.3333333333333333,
          0.3333333333333333,
          0.3333333333333333,
          0.3333333333333333,
          0.3333333333333333,
          0.3333333333333333,
          0.3333333333333333,
          0.3333333333333333,
          0.3333333333333333,
          0.5,
          0.5,
          0.5,
          0.5,
          0.5,
          0.5,
          0.5,
          0.5,
          0.5,
          0.5,
          0.5,
          0.5,
          0.5,
          0.5,
          0.5,
          0.5,
          0.5,
          0.5,
          0.5,
          0.5,
          0.5,
          0.5,
          0.5,
          0.5,
          0.5,
          0.5,
          0.5,
          0.5,
          0.5,
          0.5,
          0.6,
          0.6,
          0.6,
          0.6,
          0.6,
          0.6,
          0.6,
          0.6,
          0.6,
          0.6,
          0.6,
          0.6,
          0.6,
          0.6,
          0.6,
          0.6,
          0.6,
          0.6,
          0.6,
          0.6,
          0.6,
          0.6,
          0.6,
          0.6,
          0.6666666666666666,
          0.6666666666666666,
          0.6666666666666666,
          0.6666666666666666,
          0.6666666666666666,
          0.6666666666666666,
          0.4,
          0.3333333333333333,
          0.5,
          0.25,
          0.25,
          0.3333333333333333,
          0.4,
          0.5,
          0.4,
          0.5,
          0.4,
          0.4,
          0.5,
          0.5,
          0.5,
          0.6,
          0.6,
          0.5,
          0.5,
          0.5714285714285714,
          0.5,
          0.6,
          0.6666666666666666,
          0.6,
          0.5,
          0.5,
          0.3333333333333333,
          0.3333333333333333,
          0.3333333333333333,
          0.3333333333333333,
          0.3333333333333333,
          0.5,
          0.3333333333333333,
          0.5,
          0.5,
          0.5,
          0.5,
          0.5,
          0.6,
          0.6,
          0.6,
          0.6,
          0.5,
          0.6,
          0.5,
          0.5,
          0.5,
          0.5,
          0.6,
          0.5,
          0.5,
          0.6666666666666666,
          0.6,
          0.6666666666666666,
          0.6,
          0.6,
          0.6,
          0.6,
          0.6666666666666666,
          0.6,
          0.5,
          0.6666666666666666,
          0.5,
          0.5,
          0.6666666666666666,
          0.5,
          0.75,
          0.75,
          0.6666666666666666,
          0.6666666666666666,
          0.6666666666666666,
          0.6666666666666666,
          0.6666666666666666,
          0.75,
          0.6666666666666666,
          0.6666666666666666,
          0.6666666666666666,
          0.75,
          0.8,
          0.8,
          0.75,
          0.75,
          0.75,
          0.75,
          0.6666666666666666,
          0.5,
          0.6666666666666666,
          0.6666666666666666,
          0.5,
          0.5,
          0.5,
          0.5,
          0.5,
          0.6666666666666666,
          0.6666666666666666,
          0.6666666666666666,
          0.75,
          0.6666666666666666,
          0.75,
          0.6666666666666666,
          0.6666666666666666,
          0.6666666666666666,
          0.6666666666666666,
          0.75,
          0.6666666666666666,
          0.6666666666666666,
          0.6666666666666666,
          0.75,
          0.75,
          0.6666666666666666,
          0.75,
          0.75,
          0.75,
          0.8,
          0.75,
          0.75,
          0.75,
          0.8,
          0.8,
          0.75,
          1,
          1,
          1,
          1,
          1,
          1,
          1,
          1,
          1
         ],
         "xaxis": "x",
         "y": [
          1,
          0.989,
          0.989,
          0.984,
          0.984,
          0.979,
          0.973,
          0.973,
          0.973,
          0.973,
          0.97,
          0.963,
          0.963,
          0.959,
          0.959,
          0.949,
          0.897,
          0.897,
          0.897,
          0.889,
          0.889,
          0.889,
          0.889,
          0.889,
          0.889,
          0.882,
          0.882,
          0.882,
          0.881,
          0.881,
          0.881,
          0.881,
          0.881,
          0.881,
          0.873,
          0.873,
          0.873,
          0.873,
          0.873,
          0.873,
          0.873,
          0.873,
          0.873,
          0.873,
          0.873,
          0.873,
          0.866,
          0.866,
          0.866,
          0.866,
          0.866,
          0.866,
          0.866,
          0.866,
          0.866,
          0.859,
          0.859,
          0.859,
          0.859,
          0.859,
          0.859,
          0.851,
          0.851,
          0.851,
          0.842,
          0.842,
          0.833,
          0.833,
          0.833,
          0.833,
          0.831,
          0.831,
          0.831,
          0.831,
          0.825,
          0.825,
          0.823,
          0.823,
          0.823,
          0.823,
          0.823,
          0.823,
          0.823,
          0.823,
          0.821,
          0.821,
          0.815,
          0.815,
          0.815,
          0.815,
          0.812,
          0.812,
          0.812,
          0.812,
          0.805,
          0.805,
          0.786,
          0.786,
          0.786,
          0.782,
          0.782,
          0.782,
          0.782,
          0.782,
          0.782,
          0.778,
          0.778,
          0.778,
          0.77,
          0.77,
          0.77,
          0.77,
          0.77,
          0.77,
          0.766,
          0.766,
          0.766,
          0.766,
          0.766,
          0.766,
          0.766,
          0.766,
          0.766,
          0.766,
          0.766,
          0.766,
          0.762,
          0.762,
          0.762,
          0.762,
          0.762,
          0.762,
          0.755,
          0.755,
          0.755,
          0.751,
          0.751,
          0.751,
          0.751,
          0.751,
          0.751,
          0.747,
          0.747,
          0.747,
          0.739,
          0.739,
          0.739,
          0.739,
          0.739,
          0.739,
          0.731,
          0.731,
          0.731,
          0.731,
          0.731,
          0.731,
          0.731,
          0.731,
          0.731,
          0.731,
          0.731,
          0.731,
          0.73,
          0.73,
          0.73,
          0.73,
          0.73,
          0.73,
          0.73,
          0.73,
          0.73,
          0.73,
          0.73,
          0.73,
          0.724,
          0.724,
          0.724,
          0.724,
          0.724,
          0.724,
          0.722,
          0.722,
          0.722,
          0.722,
          0.722,
          0.722,
          0.722,
          0.722,
          0.722,
          0.722,
          0.722,
          0.722,
          0.722,
          0.722,
          0.722,
          0.722,
          0.722,
          0.722,
          0.722,
          0.722,
          0.722,
          0.722,
          0.722,
          0.722,
          0.722,
          0.722,
          0.722,
          0.722,
          0.722,
          0.722,
          0.715,
          0.715,
          0.715,
          0.715,
          0.715,
          0.715,
          0.715,
          0.715,
          0.715,
          0.715,
          0.715,
          0.715,
          0.714,
          0.714,
          0.714,
          0.714,
          0.714,
          0.714,
          0.714,
          0.714,
          0.714,
          0.714,
          0.714,
          0.714,
          0.707,
          0.707,
          0.707,
          0.707,
          0.707,
          0.707,
          0.628,
          0.628,
          0.628,
          0.628,
          0.628,
          0.628,
          0.624,
          0.624,
          0.624,
          0.624,
          0.624,
          0.624,
          0.624,
          0.624,
          0.624,
          0.624,
          0.624,
          0.624,
          0.62,
          0.62,
          0.62,
          0.62,
          0.62,
          0.62,
          0.619,
          0.619,
          0.619,
          0.619,
          0.619,
          0.619,
          0.619,
          0.619,
          0.619,
          0.619,
          0.619,
          0.619,
          0.615,
          0.615,
          0.615,
          0.615,
          0.615,
          0.615,
          0.615,
          0.615,
          0.615,
          0.615,
          0.615,
          0.615,
          0.615,
          0.615,
          0.615,
          0.615,
          0.615,
          0.615,
          0.615,
          0.615,
          0.615,
          0.615,
          0.615,
          0.615,
          0.611,
          0.611,
          0.611,
          0.611,
          0.611,
          0.611,
          0.611,
          0.611,
          0.611,
          0.611,
          0.611,
          0.611,
          0.611,
          0.611,
          0.611,
          0.611,
          0.611,
          0.611,
          0.607,
          0.607,
          0.607,
          0.607,
          0.607,
          0.607,
          0.607,
          0.607,
          0.607,
          0.607,
          0.607,
          0.607,
          0.603,
          0.603,
          0.603,
          0.603,
          0.603,
          0.603,
          0.333,
          0.333,
          0.333,
          0.333,
          0.333,
          0.333,
          0.323,
          0.323,
          0.323,
          0.323,
          0.323,
          0.323,
          0.317,
          0.317,
          0.317,
          0.317,
          0.317,
          0.317,
          0.312,
          0.312,
          0.312,
          0.303,
          0.303,
          0.303,
          0.23,
          0.23,
          0.23,
          0.23,
          0.23,
          0.23,
          0.23,
          0.23,
          0.23,
          0.222,
          0.222,
          0.222,
          0.222,
          0.222,
          0.222,
          0.222,
          0.222,
          0.222,
          0.222,
          0.222,
          0.222,
          0.222,
          0.222,
          0.222,
          0.222,
          0.222,
          0.222,
          0.215,
          0.215,
          0.215,
          0.215,
          0.215,
          0.215,
          0.215,
          0.215,
          0.215,
          0.175,
          0.175,
          0.175,
          0.175,
          0.175,
          0.175,
          0.167,
          0.167,
          0.167,
          0.167,
          0.167,
          0.167,
          0.167,
          0.167,
          0.167,
          0.167,
          0.167,
          0.167,
          0.159,
          0.159,
          0.159,
          0.159,
          0.159,
          0.159,
          0.119,
          0.119,
          0.119,
          0.119,
          0.119,
          0.119,
          0.119,
          0.119,
          0.119,
          0.115,
          0.115,
          0.115,
          0.115,
          0.115,
          0.115,
          0.115,
          0.115,
          0.115,
          0.115,
          0.115,
          0.115,
          0.115,
          0.115,
          0.115,
          0.115,
          0.115,
          0.115,
          0.111,
          0.111,
          0.111,
          0.111,
          0.111,
          0.111,
          0.111,
          0.111,
          0.111,
          -0.333,
          -0.333,
          -0.333,
          -0.333,
          -0.333,
          -0.333,
          -0.333,
          -0.333,
          -0.333
         ],
         "yaxis": "y"
        }
       ],
       "layout": {
        "coloraxis": {
         "colorbar": {
          "title": {
           "text": "delta_main_total"
          }
         },
         "colorscale": [
          [
           0,
           "green"
          ],
          [
           0.5,
           "yellow"
          ],
          [
           1,
           "red"
          ]
         ]
        },
        "legend": {
         "tracegroupgap": 0
        },
        "template": {
         "data": {
          "bar": [
           {
            "error_x": {
             "color": "#2a3f5f"
            },
            "error_y": {
             "color": "#2a3f5f"
            },
            "marker": {
             "line": {
              "color": "#E5ECF6",
              "width": 0.5
             },
             "pattern": {
              "fillmode": "overlay",
              "size": 10,
              "solidity": 0.2
             }
            },
            "type": "bar"
           }
          ],
          "barpolar": [
           {
            "marker": {
             "line": {
              "color": "#E5ECF6",
              "width": 0.5
             },
             "pattern": {
              "fillmode": "overlay",
              "size": 10,
              "solidity": 0.2
             }
            },
            "type": "barpolar"
           }
          ],
          "carpet": [
           {
            "aaxis": {
             "endlinecolor": "#2a3f5f",
             "gridcolor": "white",
             "linecolor": "white",
             "minorgridcolor": "white",
             "startlinecolor": "#2a3f5f"
            },
            "baxis": {
             "endlinecolor": "#2a3f5f",
             "gridcolor": "white",
             "linecolor": "white",
             "minorgridcolor": "white",
             "startlinecolor": "#2a3f5f"
            },
            "type": "carpet"
           }
          ],
          "choropleth": [
           {
            "colorbar": {
             "outlinewidth": 0,
             "ticks": ""
            },
            "type": "choropleth"
           }
          ],
          "contour": [
           {
            "colorbar": {
             "outlinewidth": 0,
             "ticks": ""
            },
            "colorscale": [
             [
              0,
              "#0d0887"
             ],
             [
              0.1111111111111111,
              "#46039f"
             ],
             [
              0.2222222222222222,
              "#7201a8"
             ],
             [
              0.3333333333333333,
              "#9c179e"
             ],
             [
              0.4444444444444444,
              "#bd3786"
             ],
             [
              0.5555555555555556,
              "#d8576b"
             ],
             [
              0.6666666666666666,
              "#ed7953"
             ],
             [
              0.7777777777777778,
              "#fb9f3a"
             ],
             [
              0.8888888888888888,
              "#fdca26"
             ],
             [
              1,
              "#f0f921"
             ]
            ],
            "type": "contour"
           }
          ],
          "contourcarpet": [
           {
            "colorbar": {
             "outlinewidth": 0,
             "ticks": ""
            },
            "type": "contourcarpet"
           }
          ],
          "heatmap": [
           {
            "colorbar": {
             "outlinewidth": 0,
             "ticks": ""
            },
            "colorscale": [
             [
              0,
              "#0d0887"
             ],
             [
              0.1111111111111111,
              "#46039f"
             ],
             [
              0.2222222222222222,
              "#7201a8"
             ],
             [
              0.3333333333333333,
              "#9c179e"
             ],
             [
              0.4444444444444444,
              "#bd3786"
             ],
             [
              0.5555555555555556,
              "#d8576b"
             ],
             [
              0.6666666666666666,
              "#ed7953"
             ],
             [
              0.7777777777777778,
              "#fb9f3a"
             ],
             [
              0.8888888888888888,
              "#fdca26"
             ],
             [
              1,
              "#f0f921"
             ]
            ],
            "type": "heatmap"
           }
          ],
          "heatmapgl": [
           {
            "colorbar": {
             "outlinewidth": 0,
             "ticks": ""
            },
            "colorscale": [
             [
              0,
              "#0d0887"
             ],
             [
              0.1111111111111111,
              "#46039f"
             ],
             [
              0.2222222222222222,
              "#7201a8"
             ],
             [
              0.3333333333333333,
              "#9c179e"
             ],
             [
              0.4444444444444444,
              "#bd3786"
             ],
             [
              0.5555555555555556,
              "#d8576b"
             ],
             [
              0.6666666666666666,
              "#ed7953"
             ],
             [
              0.7777777777777778,
              "#fb9f3a"
             ],
             [
              0.8888888888888888,
              "#fdca26"
             ],
             [
              1,
              "#f0f921"
             ]
            ],
            "type": "heatmapgl"
           }
          ],
          "histogram": [
           {
            "marker": {
             "pattern": {
              "fillmode": "overlay",
              "size": 10,
              "solidity": 0.2
             }
            },
            "type": "histogram"
           }
          ],
          "histogram2d": [
           {
            "colorbar": {
             "outlinewidth": 0,
             "ticks": ""
            },
            "colorscale": [
             [
              0,
              "#0d0887"
             ],
             [
              0.1111111111111111,
              "#46039f"
             ],
             [
              0.2222222222222222,
              "#7201a8"
             ],
             [
              0.3333333333333333,
              "#9c179e"
             ],
             [
              0.4444444444444444,
              "#bd3786"
             ],
             [
              0.5555555555555556,
              "#d8576b"
             ],
             [
              0.6666666666666666,
              "#ed7953"
             ],
             [
              0.7777777777777778,
              "#fb9f3a"
             ],
             [
              0.8888888888888888,
              "#fdca26"
             ],
             [
              1,
              "#f0f921"
             ]
            ],
            "type": "histogram2d"
           }
          ],
          "histogram2dcontour": [
           {
            "colorbar": {
             "outlinewidth": 0,
             "ticks": ""
            },
            "colorscale": [
             [
              0,
              "#0d0887"
             ],
             [
              0.1111111111111111,
              "#46039f"
             ],
             [
              0.2222222222222222,
              "#7201a8"
             ],
             [
              0.3333333333333333,
              "#9c179e"
             ],
             [
              0.4444444444444444,
              "#bd3786"
             ],
             [
              0.5555555555555556,
              "#d8576b"
             ],
             [
              0.6666666666666666,
              "#ed7953"
             ],
             [
              0.7777777777777778,
              "#fb9f3a"
             ],
             [
              0.8888888888888888,
              "#fdca26"
             ],
             [
              1,
              "#f0f921"
             ]
            ],
            "type": "histogram2dcontour"
           }
          ],
          "mesh3d": [
           {
            "colorbar": {
             "outlinewidth": 0,
             "ticks": ""
            },
            "type": "mesh3d"
           }
          ],
          "parcoords": [
           {
            "line": {
             "colorbar": {
              "outlinewidth": 0,
              "ticks": ""
             }
            },
            "type": "parcoords"
           }
          ],
          "pie": [
           {
            "automargin": true,
            "type": "pie"
           }
          ],
          "scatter": [
           {
            "fillpattern": {
             "fillmode": "overlay",
             "size": 10,
             "solidity": 0.2
            },
            "type": "scatter"
           }
          ],
          "scatter3d": [
           {
            "line": {
             "colorbar": {
              "outlinewidth": 0,
              "ticks": ""
             }
            },
            "marker": {
             "colorbar": {
              "outlinewidth": 0,
              "ticks": ""
             }
            },
            "type": "scatter3d"
           }
          ],
          "scattercarpet": [
           {
            "marker": {
             "colorbar": {
              "outlinewidth": 0,
              "ticks": ""
             }
            },
            "type": "scattercarpet"
           }
          ],
          "scattergeo": [
           {
            "marker": {
             "colorbar": {
              "outlinewidth": 0,
              "ticks": ""
             }
            },
            "type": "scattergeo"
           }
          ],
          "scattergl": [
           {
            "marker": {
             "colorbar": {
              "outlinewidth": 0,
              "ticks": ""
             }
            },
            "type": "scattergl"
           }
          ],
          "scattermapbox": [
           {
            "marker": {
             "colorbar": {
              "outlinewidth": 0,
              "ticks": ""
             }
            },
            "type": "scattermapbox"
           }
          ],
          "scatterpolar": [
           {
            "marker": {
             "colorbar": {
              "outlinewidth": 0,
              "ticks": ""
             }
            },
            "type": "scatterpolar"
           }
          ],
          "scatterpolargl": [
           {
            "marker": {
             "colorbar": {
              "outlinewidth": 0,
              "ticks": ""
             }
            },
            "type": "scatterpolargl"
           }
          ],
          "scatterternary": [
           {
            "marker": {
             "colorbar": {
              "outlinewidth": 0,
              "ticks": ""
             }
            },
            "type": "scatterternary"
           }
          ],
          "surface": [
           {
            "colorbar": {
             "outlinewidth": 0,
             "ticks": ""
            },
            "colorscale": [
             [
              0,
              "#0d0887"
             ],
             [
              0.1111111111111111,
              "#46039f"
             ],
             [
              0.2222222222222222,
              "#7201a8"
             ],
             [
              0.3333333333333333,
              "#9c179e"
             ],
             [
              0.4444444444444444,
              "#bd3786"
             ],
             [
              0.5555555555555556,
              "#d8576b"
             ],
             [
              0.6666666666666666,
              "#ed7953"
             ],
             [
              0.7777777777777778,
              "#fb9f3a"
             ],
             [
              0.8888888888888888,
              "#fdca26"
             ],
             [
              1,
              "#f0f921"
             ]
            ],
            "type": "surface"
           }
          ],
          "table": [
           {
            "cells": {
             "fill": {
              "color": "#EBF0F8"
             },
             "line": {
              "color": "white"
             }
            },
            "header": {
             "fill": {
              "color": "#C8D4E3"
             },
             "line": {
              "color": "white"
             }
            },
            "type": "table"
           }
          ]
         },
         "layout": {
          "annotationdefaults": {
           "arrowcolor": "#2a3f5f",
           "arrowhead": 0,
           "arrowwidth": 1
          },
          "autotypenumbers": "strict",
          "coloraxis": {
           "colorbar": {
            "outlinewidth": 0,
            "ticks": ""
           }
          },
          "colorscale": {
           "diverging": [
            [
             0,
             "#8e0152"
            ],
            [
             0.1,
             "#c51b7d"
            ],
            [
             0.2,
             "#de77ae"
            ],
            [
             0.3,
             "#f1b6da"
            ],
            [
             0.4,
             "#fde0ef"
            ],
            [
             0.5,
             "#f7f7f7"
            ],
            [
             0.6,
             "#e6f5d0"
            ],
            [
             0.7,
             "#b8e186"
            ],
            [
             0.8,
             "#7fbc41"
            ],
            [
             0.9,
             "#4d9221"
            ],
            [
             1,
             "#276419"
            ]
           ],
           "sequential": [
            [
             0,
             "#0d0887"
            ],
            [
             0.1111111111111111,
             "#46039f"
            ],
            [
             0.2222222222222222,
             "#7201a8"
            ],
            [
             0.3333333333333333,
             "#9c179e"
            ],
            [
             0.4444444444444444,
             "#bd3786"
            ],
            [
             0.5555555555555556,
             "#d8576b"
            ],
            [
             0.6666666666666666,
             "#ed7953"
            ],
            [
             0.7777777777777778,
             "#fb9f3a"
            ],
            [
             0.8888888888888888,
             "#fdca26"
            ],
            [
             1,
             "#f0f921"
            ]
           ],
           "sequentialminus": [
            [
             0,
             "#0d0887"
            ],
            [
             0.1111111111111111,
             "#46039f"
            ],
            [
             0.2222222222222222,
             "#7201a8"
            ],
            [
             0.3333333333333333,
             "#9c179e"
            ],
            [
             0.4444444444444444,
             "#bd3786"
            ],
            [
             0.5555555555555556,
             "#d8576b"
            ],
            [
             0.6666666666666666,
             "#ed7953"
            ],
            [
             0.7777777777777778,
             "#fb9f3a"
            ],
            [
             0.8888888888888888,
             "#fdca26"
            ],
            [
             1,
             "#f0f921"
            ]
           ]
          },
          "colorway": [
           "#636efa",
           "#EF553B",
           "#00cc96",
           "#ab63fa",
           "#FFA15A",
           "#19d3f3",
           "#FF6692",
           "#B6E880",
           "#FF97FF",
           "#FECB52"
          ],
          "font": {
           "color": "#2a3f5f"
          },
          "geo": {
           "bgcolor": "white",
           "lakecolor": "white",
           "landcolor": "#E5ECF6",
           "showlakes": true,
           "showland": true,
           "subunitcolor": "white"
          },
          "hoverlabel": {
           "align": "left"
          },
          "hovermode": "closest",
          "mapbox": {
           "style": "light"
          },
          "paper_bgcolor": "white",
          "plot_bgcolor": "#E5ECF6",
          "polar": {
           "angularaxis": {
            "gridcolor": "white",
            "linecolor": "white",
            "ticks": ""
           },
           "bgcolor": "#E5ECF6",
           "radialaxis": {
            "gridcolor": "white",
            "linecolor": "white",
            "ticks": ""
           }
          },
          "scene": {
           "xaxis": {
            "backgroundcolor": "#E5ECF6",
            "gridcolor": "white",
            "gridwidth": 2,
            "linecolor": "white",
            "showbackground": true,
            "ticks": "",
            "zerolinecolor": "white"
           },
           "yaxis": {
            "backgroundcolor": "#E5ECF6",
            "gridcolor": "white",
            "gridwidth": 2,
            "linecolor": "white",
            "showbackground": true,
            "ticks": "",
            "zerolinecolor": "white"
           },
           "zaxis": {
            "backgroundcolor": "#E5ECF6",
            "gridcolor": "white",
            "gridwidth": 2,
            "linecolor": "white",
            "showbackground": true,
            "ticks": "",
            "zerolinecolor": "white"
           }
          },
          "shapedefaults": {
           "line": {
            "color": "#2a3f5f"
           }
          },
          "ternary": {
           "aaxis": {
            "gridcolor": "white",
            "linecolor": "white",
            "ticks": ""
           },
           "baxis": {
            "gridcolor": "white",
            "linecolor": "white",
            "ticks": ""
           },
           "bgcolor": "#E5ECF6",
           "caxis": {
            "gridcolor": "white",
            "linecolor": "white",
            "ticks": ""
           }
          },
          "title": {
           "x": 0.05
          },
          "xaxis": {
           "automargin": true,
           "gridcolor": "white",
           "linecolor": "white",
           "ticks": "",
           "title": {
            "standoff": 15
           },
           "zerolinecolor": "white",
           "zerolinewidth": 2
          },
          "yaxis": {
           "automargin": true,
           "gridcolor": "white",
           "linecolor": "white",
           "ticks": "",
           "title": {
            "standoff": 15
           },
           "zerolinecolor": "white",
           "zerolinewidth": 2
          }
         }
        },
        "title": {
         "text": "Candidate scenarios varying the number of variables from the Takeoff Scenario."
        },
        "xaxis": {
         "anchor": "y",
         "domain": [
          0,
          1
         ],
         "title": {
          "text": "Unmatched Extra Variables"
         }
        },
        "yaxis": {
         "anchor": "x",
         "domain": [
          0,
          1
         ],
         "tickmode": "auto",
         "title": {
          "text": "Similarity (with Jitter)"
         }
        }
       }
      }
     },
     "metadata": {},
     "output_type": "display_data"
    }
   ],
   "source": [
    "import plotly.express as px\n",
    "import numpy as np\n",
    "\n",
    "# Criando um jitter nos valores de 'Scenario Similarity' para espalhar os pontos\n",
    "# df['Scenario Similarity Jitter'] = df['Scenario Similarity'] + np.random.normal(0, 0.005, size=len(df))\n",
    "\n",
    "# Criando o scatter plot com jitter\n",
    "fig = px.scatter(\n",
    "    df,\n",
    "    x='extra_percent',\n",
    "    y='Scenario Similarity',  # Usando a coluna com jitter\n",
    "    color='delta_main_total',\n",
    "    title='Candidate scenarios varying the number of variables from the Takeoff Scenario.',\n",
    "    labels={\n",
    "        'extra_percent': 'Unmatched Extra Variables',\n",
    "        'Scenario Similarity': 'Similarity (with Jitter)'\n",
    "    },\n",
    "    hover_data=['extra_percent'],\n",
    "    color_continuous_scale=['green', 'yellow', 'red']\n",
    ")\n",
    "\n",
    "# Ajusta a posição do texto\n",
    "fig.update_traces(textposition='top center')\n",
    "\n",
    "\n",
    "fig.update_yaxes(\n",
    "    tickmode='auto'\n",
    ")\n",
    "\n",
    "# Exibindo o gráfico\n",
    "fig.show()\n"
   ]
  },
  {
   "cell_type": "code",
   "execution_count": 277,
   "metadata": {},
   "outputs": [
    {
     "data": {
      "application/vnd.plotly.v1+json": {
       "config": {
        "plotlyServerURL": "https://plot.ly"
       },
       "data": [
        {
         "customdata": [
          [
           1
          ],
          [
           0.989
          ],
          [
           0.989
          ],
          [
           0.984
          ],
          [
           0.984
          ],
          [
           0.979
          ],
          [
           0.973
          ],
          [
           0.973
          ],
          [
           0.973
          ],
          [
           0.973
          ],
          [
           0.97
          ],
          [
           0.963
          ],
          [
           0.963
          ],
          [
           0.959
          ],
          [
           0.959
          ],
          [
           0.949
          ],
          [
           0.897
          ],
          [
           0.897
          ],
          [
           0.897
          ],
          [
           0.889
          ],
          [
           0.889
          ],
          [
           0.889
          ],
          [
           0.889
          ],
          [
           0.889
          ],
          [
           0.889
          ],
          [
           0.882
          ],
          [
           0.882
          ],
          [
           0.882
          ],
          [
           0.881
          ],
          [
           0.881
          ],
          [
           0.881
          ],
          [
           0.881
          ],
          [
           0.881
          ],
          [
           0.881
          ],
          [
           0.873
          ],
          [
           0.873
          ],
          [
           0.873
          ],
          [
           0.873
          ],
          [
           0.873
          ],
          [
           0.873
          ],
          [
           0.873
          ],
          [
           0.873
          ],
          [
           0.873
          ],
          [
           0.873
          ],
          [
           0.873
          ],
          [
           0.873
          ],
          [
           0.866
          ],
          [
           0.866
          ],
          [
           0.866
          ],
          [
           0.866
          ],
          [
           0.866
          ],
          [
           0.866
          ],
          [
           0.866
          ],
          [
           0.866
          ],
          [
           0.866
          ],
          [
           0.859
          ],
          [
           0.859
          ],
          [
           0.859
          ],
          [
           0.859
          ],
          [
           0.859
          ],
          [
           0.859
          ],
          [
           0.851
          ],
          [
           0.851
          ],
          [
           0.851
          ],
          [
           0.842
          ],
          [
           0.842
          ],
          [
           0.833
          ],
          [
           0.833
          ],
          [
           0.833
          ],
          [
           0.833
          ],
          [
           0.831
          ],
          [
           0.831
          ],
          [
           0.831
          ],
          [
           0.831
          ],
          [
           0.825
          ],
          [
           0.825
          ],
          [
           0.823
          ],
          [
           0.823
          ],
          [
           0.823
          ],
          [
           0.823
          ],
          [
           0.823
          ],
          [
           0.823
          ],
          [
           0.823
          ],
          [
           0.823
          ],
          [
           0.821
          ],
          [
           0.821
          ],
          [
           0.815
          ],
          [
           0.815
          ],
          [
           0.815
          ],
          [
           0.815
          ],
          [
           0.812
          ],
          [
           0.812
          ],
          [
           0.812
          ],
          [
           0.812
          ],
          [
           0.805
          ],
          [
           0.805
          ],
          [
           0.786
          ],
          [
           0.786
          ],
          [
           0.786
          ],
          [
           0.782
          ],
          [
           0.782
          ],
          [
           0.782
          ],
          [
           0.782
          ],
          [
           0.782
          ],
          [
           0.782
          ],
          [
           0.778
          ],
          [
           0.778
          ],
          [
           0.778
          ],
          [
           0.77
          ],
          [
           0.77
          ],
          [
           0.77
          ],
          [
           0.77
          ],
          [
           0.77
          ],
          [
           0.77
          ],
          [
           0.766
          ],
          [
           0.766
          ],
          [
           0.766
          ],
          [
           0.766
          ],
          [
           0.766
          ],
          [
           0.766
          ],
          [
           0.766
          ],
          [
           0.766
          ],
          [
           0.766
          ],
          [
           0.766
          ],
          [
           0.766
          ],
          [
           0.766
          ],
          [
           0.762
          ],
          [
           0.762
          ],
          [
           0.762
          ],
          [
           0.762
          ],
          [
           0.762
          ],
          [
           0.762
          ],
          [
           0.755
          ],
          [
           0.755
          ],
          [
           0.755
          ],
          [
           0.751
          ],
          [
           0.751
          ],
          [
           0.751
          ],
          [
           0.751
          ],
          [
           0.751
          ],
          [
           0.751
          ],
          [
           0.747
          ],
          [
           0.747
          ],
          [
           0.747
          ],
          [
           0.739
          ],
          [
           0.739
          ],
          [
           0.739
          ],
          [
           0.739
          ],
          [
           0.739
          ],
          [
           0.739
          ],
          [
           0.731
          ],
          [
           0.731
          ],
          [
           0.731
          ],
          [
           0.731
          ],
          [
           0.731
          ],
          [
           0.731
          ],
          [
           0.731
          ],
          [
           0.731
          ],
          [
           0.731
          ],
          [
           0.731
          ],
          [
           0.731
          ],
          [
           0.731
          ],
          [
           0.73
          ],
          [
           0.73
          ],
          [
           0.73
          ],
          [
           0.73
          ],
          [
           0.73
          ],
          [
           0.73
          ],
          [
           0.73
          ],
          [
           0.73
          ],
          [
           0.73
          ],
          [
           0.73
          ],
          [
           0.73
          ],
          [
           0.73
          ],
          [
           0.724
          ],
          [
           0.724
          ],
          [
           0.724
          ],
          [
           0.724
          ],
          [
           0.724
          ],
          [
           0.724
          ],
          [
           0.722
          ],
          [
           0.722
          ],
          [
           0.722
          ],
          [
           0.722
          ],
          [
           0.722
          ],
          [
           0.722
          ],
          [
           0.722
          ],
          [
           0.722
          ],
          [
           0.722
          ],
          [
           0.722
          ],
          [
           0.722
          ],
          [
           0.722
          ],
          [
           0.722
          ],
          [
           0.722
          ],
          [
           0.722
          ],
          [
           0.722
          ],
          [
           0.722
          ],
          [
           0.722
          ],
          [
           0.722
          ],
          [
           0.722
          ],
          [
           0.722
          ],
          [
           0.722
          ],
          [
           0.722
          ],
          [
           0.722
          ],
          [
           0.722
          ],
          [
           0.722
          ],
          [
           0.722
          ],
          [
           0.722
          ],
          [
           0.722
          ],
          [
           0.722
          ],
          [
           0.715
          ],
          [
           0.715
          ],
          [
           0.715
          ],
          [
           0.715
          ],
          [
           0.715
          ],
          [
           0.715
          ],
          [
           0.715
          ],
          [
           0.715
          ],
          [
           0.715
          ],
          [
           0.715
          ],
          [
           0.715
          ],
          [
           0.715
          ],
          [
           0.714
          ],
          [
           0.714
          ],
          [
           0.714
          ],
          [
           0.714
          ],
          [
           0.714
          ],
          [
           0.714
          ],
          [
           0.714
          ],
          [
           0.714
          ],
          [
           0.714
          ],
          [
           0.714
          ],
          [
           0.714
          ],
          [
           0.714
          ],
          [
           0.707
          ],
          [
           0.707
          ],
          [
           0.707
          ],
          [
           0.707
          ],
          [
           0.707
          ],
          [
           0.707
          ],
          [
           0.628
          ],
          [
           0.628
          ],
          [
           0.628
          ],
          [
           0.628
          ],
          [
           0.628
          ],
          [
           0.628
          ],
          [
           0.624
          ],
          [
           0.624
          ],
          [
           0.624
          ],
          [
           0.624
          ],
          [
           0.624
          ],
          [
           0.624
          ],
          [
           0.624
          ],
          [
           0.624
          ],
          [
           0.624
          ],
          [
           0.624
          ],
          [
           0.624
          ],
          [
           0.624
          ],
          [
           0.62
          ],
          [
           0.62
          ],
          [
           0.62
          ],
          [
           0.62
          ],
          [
           0.62
          ],
          [
           0.62
          ],
          [
           0.619
          ],
          [
           0.619
          ],
          [
           0.619
          ],
          [
           0.619
          ],
          [
           0.619
          ],
          [
           0.619
          ],
          [
           0.619
          ],
          [
           0.619
          ],
          [
           0.619
          ],
          [
           0.619
          ],
          [
           0.619
          ],
          [
           0.619
          ],
          [
           0.615
          ],
          [
           0.615
          ],
          [
           0.615
          ],
          [
           0.615
          ],
          [
           0.615
          ],
          [
           0.615
          ],
          [
           0.615
          ],
          [
           0.615
          ],
          [
           0.615
          ],
          [
           0.615
          ],
          [
           0.615
          ],
          [
           0.615
          ],
          [
           0.615
          ],
          [
           0.615
          ],
          [
           0.615
          ],
          [
           0.615
          ],
          [
           0.615
          ],
          [
           0.615
          ],
          [
           0.615
          ],
          [
           0.615
          ],
          [
           0.615
          ],
          [
           0.615
          ],
          [
           0.615
          ],
          [
           0.615
          ],
          [
           0.611
          ],
          [
           0.611
          ],
          [
           0.611
          ],
          [
           0.611
          ],
          [
           0.611
          ],
          [
           0.611
          ],
          [
           0.611
          ],
          [
           0.611
          ],
          [
           0.611
          ],
          [
           0.611
          ],
          [
           0.611
          ],
          [
           0.611
          ],
          [
           0.611
          ],
          [
           0.611
          ],
          [
           0.611
          ],
          [
           0.611
          ],
          [
           0.611
          ],
          [
           0.611
          ],
          [
           0.607
          ],
          [
           0.607
          ],
          [
           0.607
          ],
          [
           0.607
          ],
          [
           0.607
          ],
          [
           0.607
          ],
          [
           0.607
          ],
          [
           0.607
          ],
          [
           0.607
          ],
          [
           0.607
          ],
          [
           0.607
          ],
          [
           0.607
          ],
          [
           0.603
          ],
          [
           0.603
          ],
          [
           0.603
          ],
          [
           0.603
          ],
          [
           0.603
          ],
          [
           0.603
          ],
          [
           0.333
          ],
          [
           0.333
          ],
          [
           0.333
          ],
          [
           0.333
          ],
          [
           0.333
          ],
          [
           0.333
          ],
          [
           0.323
          ],
          [
           0.323
          ],
          [
           0.323
          ],
          [
           0.323
          ],
          [
           0.323
          ],
          [
           0.323
          ],
          [
           0.317
          ],
          [
           0.317
          ],
          [
           0.317
          ],
          [
           0.317
          ],
          [
           0.317
          ],
          [
           0.317
          ],
          [
           0.312
          ],
          [
           0.312
          ],
          [
           0.312
          ],
          [
           0.303
          ],
          [
           0.303
          ],
          [
           0.303
          ],
          [
           0.23
          ],
          [
           0.23
          ],
          [
           0.23
          ],
          [
           0.23
          ],
          [
           0.23
          ],
          [
           0.23
          ],
          [
           0.23
          ],
          [
           0.23
          ],
          [
           0.23
          ],
          [
           0.222
          ],
          [
           0.222
          ],
          [
           0.222
          ],
          [
           0.222
          ],
          [
           0.222
          ],
          [
           0.222
          ],
          [
           0.222
          ],
          [
           0.222
          ],
          [
           0.222
          ],
          [
           0.222
          ],
          [
           0.222
          ],
          [
           0.222
          ],
          [
           0.222
          ],
          [
           0.222
          ],
          [
           0.222
          ],
          [
           0.222
          ],
          [
           0.222
          ],
          [
           0.222
          ],
          [
           0.215
          ],
          [
           0.215
          ],
          [
           0.215
          ],
          [
           0.215
          ],
          [
           0.215
          ],
          [
           0.215
          ],
          [
           0.215
          ],
          [
           0.215
          ],
          [
           0.215
          ],
          [
           0.175
          ],
          [
           0.175
          ],
          [
           0.175
          ],
          [
           0.175
          ],
          [
           0.175
          ],
          [
           0.175
          ],
          [
           0.167
          ],
          [
           0.167
          ],
          [
           0.167
          ],
          [
           0.167
          ],
          [
           0.167
          ],
          [
           0.167
          ],
          [
           0.167
          ],
          [
           0.167
          ],
          [
           0.167
          ],
          [
           0.167
          ],
          [
           0.167
          ],
          [
           0.167
          ],
          [
           0.159
          ],
          [
           0.159
          ],
          [
           0.159
          ],
          [
           0.159
          ],
          [
           0.159
          ],
          [
           0.159
          ],
          [
           0.119
          ],
          [
           0.119
          ],
          [
           0.119
          ],
          [
           0.119
          ],
          [
           0.119
          ],
          [
           0.119
          ],
          [
           0.119
          ],
          [
           0.119
          ],
          [
           0.119
          ],
          [
           0.115
          ],
          [
           0.115
          ],
          [
           0.115
          ],
          [
           0.115
          ],
          [
           0.115
          ],
          [
           0.115
          ],
          [
           0.115
          ],
          [
           0.115
          ],
          [
           0.115
          ],
          [
           0.115
          ],
          [
           0.115
          ],
          [
           0.115
          ],
          [
           0.115
          ],
          [
           0.115
          ],
          [
           0.115
          ],
          [
           0.115
          ],
          [
           0.115
          ],
          [
           0.115
          ],
          [
           0.111
          ],
          [
           0.111
          ],
          [
           0.111
          ],
          [
           0.111
          ],
          [
           0.111
          ],
          [
           0.111
          ],
          [
           0.111
          ],
          [
           0.111
          ],
          [
           0.111
          ],
          [
           -0.333
          ],
          [
           -0.333
          ],
          [
           -0.333
          ],
          [
           -0.333
          ],
          [
           -0.333
          ],
          [
           -0.333
          ],
          [
           -0.333
          ],
          [
           -0.333
          ],
          [
           -0.333
          ]
         ],
         "hovertemplate": "Unmatched Extra Variables=%{x}<br>Binned Similarity=%{y}<br>Scenario Similarity=%{customdata[0]}<br>delta_main_total=%{marker.color}<extra></extra>",
         "legendgroup": "",
         "marker": {
          "color": [
           0,
           0,
           0,
           0,
           0,
           0,
           0,
           0,
           0,
           0,
           0,
           0,
           0,
           0,
           0,
           0,
           1,
           1,
           1,
           1,
           1,
           1,
           1,
           1,
           1,
           1,
           1,
           1,
           1,
           1,
           1,
           1,
           1,
           1,
           1,
           1,
           1,
           1,
           1,
           1,
           1,
           1,
           1,
           1,
           1,
           1,
           1,
           1,
           1,
           1,
           1,
           1,
           1,
           1,
           1,
           1,
           1,
           1,
           1,
           1,
           1,
           1,
           1,
           1,
           1,
           1,
           1,
           1,
           1,
           1,
           1,
           1,
           1,
           1,
           1,
           1,
           1,
           1,
           1,
           1,
           1,
           1,
           1,
           1,
           1,
           1,
           1,
           1,
           1,
           1,
           1,
           1,
           1,
           1,
           1,
           1,
           2,
           2,
           2,
           2,
           2,
           2,
           2,
           2,
           2,
           2,
           2,
           2,
           2,
           2,
           2,
           2,
           2,
           2,
           2,
           2,
           2,
           2,
           2,
           2,
           2,
           2,
           2,
           2,
           2,
           2,
           2,
           2,
           2,
           2,
           2,
           2,
           2,
           2,
           2,
           2,
           2,
           2,
           2,
           2,
           2,
           2,
           2,
           2,
           2,
           2,
           2,
           2,
           2,
           2,
           2,
           2,
           2,
           2,
           2,
           2,
           2,
           2,
           2,
           2,
           2,
           2,
           2,
           2,
           2,
           2,
           2,
           2,
           2,
           2,
           2,
           2,
           2,
           2,
           2,
           2,
           2,
           2,
           2,
           2,
           2,
           2,
           2,
           2,
           2,
           2,
           2,
           2,
           2,
           2,
           2,
           2,
           2,
           2,
           2,
           2,
           2,
           2,
           2,
           2,
           2,
           2,
           2,
           2,
           2,
           2,
           2,
           2,
           2,
           2,
           2,
           2,
           2,
           2,
           2,
           2,
           2,
           2,
           2,
           2,
           2,
           2,
           2,
           2,
           2,
           2,
           2,
           2,
           2,
           2,
           2,
           2,
           2,
           2,
           2,
           2,
           2,
           2,
           2,
           2,
           3,
           3,
           3,
           3,
           3,
           3,
           3,
           3,
           3,
           3,
           3,
           3,
           3,
           3,
           3,
           3,
           3,
           3,
           3,
           3,
           3,
           3,
           3,
           3,
           3,
           3,
           3,
           3,
           3,
           3,
           3,
           3,
           3,
           3,
           3,
           3,
           3,
           3,
           3,
           3,
           3,
           3,
           3,
           3,
           3,
           3,
           3,
           3,
           3,
           3,
           3,
           3,
           3,
           3,
           3,
           3,
           3,
           3,
           3,
           3,
           3,
           3,
           3,
           3,
           3,
           3,
           3,
           3,
           3,
           3,
           3,
           3,
           3,
           3,
           3,
           3,
           3,
           3,
           3,
           3,
           3,
           3,
           3,
           3,
           3,
           3,
           3,
           3,
           3,
           3,
           3,
           3,
           3,
           3,
           3,
           3,
           2,
           3,
           3,
           2,
           2,
           3,
           2,
           2,
           2,
           2,
           2,
           2,
           3,
           3,
           3,
           3,
           3,
           3,
           2,
           2,
           2,
           3,
           3,
           3,
           3,
           3,
           3,
           3,
           3,
           3,
           3,
           3,
           3,
           3,
           3,
           3,
           3,
           3,
           3,
           3,
           3,
           3,
           3,
           3,
           3,
           3,
           3,
           3,
           3,
           3,
           3,
           3,
           3,
           3,
           3,
           3,
           3,
           3,
           3,
           3,
           4,
           4,
           4,
           4,
           4,
           4,
           4,
           4,
           4,
           4,
           4,
           4,
           4,
           4,
           4,
           4,
           4,
           4,
           4,
           4,
           4,
           4,
           4,
           4,
           4,
           4,
           4,
           4,
           4,
           4,
           4,
           4,
           4,
           4,
           4,
           4,
           4,
           4,
           4,
           4,
           4,
           4,
           4,
           4,
           4,
           4,
           4,
           4,
           4,
           4,
           4,
           4,
           4,
           4,
           4,
           4,
           4,
           4,
           4,
           4,
           5,
           5,
           5,
           5,
           5,
           5,
           5,
           5,
           5
          ],
          "coloraxis": "coloraxis",
          "symbol": "circle"
         },
         "mode": "markers",
         "name": "",
         "orientation": "h",
         "showlegend": false,
         "type": "scatter",
         "x": [
          0,
          1,
          1,
          1,
          1,
          2,
          2,
          2,
          2,
          2,
          2,
          3,
          3,
          3,
          3,
          4,
          0,
          0,
          0,
          1,
          1,
          1,
          1,
          1,
          1,
          2,
          2,
          2,
          1,
          1,
          1,
          1,
          1,
          1,
          2,
          2,
          2,
          2,
          2,
          2,
          2,
          2,
          2,
          2,
          2,
          2,
          2,
          2,
          2,
          3,
          3,
          3,
          3,
          3,
          3,
          3,
          3,
          3,
          3,
          3,
          3,
          4,
          4,
          4,
          0,
          0,
          1,
          1,
          1,
          1,
          1,
          1,
          1,
          1,
          2,
          2,
          2,
          2,
          2,
          2,
          2,
          2,
          2,
          2,
          2,
          2,
          3,
          3,
          3,
          3,
          3,
          3,
          3,
          3,
          4,
          4,
          0,
          0,
          0,
          1,
          1,
          1,
          1,
          1,
          1,
          2,
          2,
          2,
          1,
          1,
          1,
          1,
          1,
          1,
          2,
          2,
          2,
          2,
          2,
          2,
          2,
          2,
          2,
          2,
          2,
          2,
          3,
          3,
          3,
          3,
          3,
          3,
          2,
          2,
          2,
          3,
          3,
          3,
          3,
          3,
          3,
          4,
          4,
          4,
          0,
          0,
          0,
          0,
          0,
          0,
          1,
          1,
          1,
          1,
          1,
          1,
          1,
          1,
          1,
          1,
          1,
          1,
          1,
          1,
          1,
          1,
          1,
          1,
          1,
          1,
          1,
          1,
          1,
          1,
          2,
          2,
          2,
          2,
          2,
          2,
          2,
          2,
          2,
          2,
          2,
          2,
          2,
          2,
          2,
          2,
          2,
          2,
          2,
          2,
          2,
          2,
          2,
          2,
          2,
          2,
          2,
          2,
          2,
          2,
          2,
          2,
          2,
          2,
          2,
          2,
          3,
          3,
          3,
          3,
          3,
          3,
          3,
          3,
          3,
          3,
          3,
          3,
          3,
          3,
          3,
          3,
          3,
          3,
          3,
          3,
          3,
          3,
          3,
          3,
          4,
          4,
          4,
          4,
          4,
          4,
          0,
          0,
          0,
          0,
          0,
          0,
          1,
          1,
          1,
          1,
          1,
          1,
          1,
          1,
          1,
          1,
          1,
          1,
          2,
          2,
          2,
          2,
          2,
          2,
          1,
          1,
          1,
          1,
          1,
          1,
          1,
          1,
          1,
          1,
          1,
          1,
          2,
          2,
          2,
          2,
          2,
          2,
          2,
          2,
          2,
          2,
          2,
          2,
          2,
          2,
          2,
          2,
          2,
          2,
          2,
          2,
          2,
          2,
          2,
          2,
          2,
          2,
          2,
          2,
          2,
          2,
          3,
          3,
          3,
          3,
          3,
          3,
          3,
          3,
          3,
          3,
          3,
          3,
          3,
          3,
          3,
          3,
          3,
          3,
          3,
          3,
          3,
          3,
          3,
          3,
          4,
          4,
          4,
          4,
          4,
          4,
          2,
          1,
          2,
          1,
          1,
          1,
          2,
          3,
          2,
          3,
          2,
          2,
          2,
          2,
          2,
          3,
          3,
          2,
          3,
          4,
          3,
          3,
          4,
          3,
          2,
          2,
          1,
          1,
          1,
          1,
          1,
          2,
          1,
          2,
          2,
          2,
          2,
          2,
          3,
          3,
          3,
          3,
          2,
          3,
          2,
          2,
          2,
          2,
          3,
          2,
          2,
          4,
          3,
          4,
          3,
          3,
          3,
          3,
          4,
          3,
          1,
          2,
          1,
          1,
          2,
          1,
          3,
          3,
          2,
          2,
          2,
          2,
          2,
          3,
          2,
          2,
          2,
          3,
          4,
          4,
          3,
          3,
          3,
          3,
          2,
          1,
          2,
          2,
          1,
          1,
          1,
          1,
          1,
          2,
          2,
          2,
          3,
          2,
          3,
          2,
          2,
          2,
          2,
          3,
          2,
          2,
          2,
          3,
          3,
          2,
          3,
          3,
          3,
          4,
          3,
          3,
          3,
          4,
          4,
          3,
          2,
          3,
          2,
          3,
          3,
          4,
          3,
          2,
          2
         ],
         "xaxis": "x",
         "y": [
          "(0.9733, 1.0]",
          "(0.9733, 1.0]",
          "(0.9733, 1.0]",
          "(0.9733, 1.0]",
          "(0.9733, 1.0]",
          "(0.9733, 1.0]",
          "(0.9467, 0.9733]",
          "(0.9467, 0.9733]",
          "(0.9467, 0.9733]",
          "(0.9467, 0.9733]",
          "(0.9467, 0.9733]",
          "(0.9467, 0.9733]",
          "(0.9467, 0.9733]",
          "(0.9467, 0.9733]",
          "(0.9467, 0.9733]",
          "(0.9467, 0.9733]",
          "(0.8934, 0.92]",
          "(0.8934, 0.92]",
          "(0.8934, 0.92]",
          "(0.8667, 0.8934]",
          "(0.8667, 0.8934]",
          "(0.8667, 0.8934]",
          "(0.8667, 0.8934]",
          "(0.8667, 0.8934]",
          "(0.8667, 0.8934]",
          "(0.8667, 0.8934]",
          "(0.8667, 0.8934]",
          "(0.8667, 0.8934]",
          "(0.8667, 0.8934]",
          "(0.8667, 0.8934]",
          "(0.8667, 0.8934]",
          "(0.8667, 0.8934]",
          "(0.8667, 0.8934]",
          "(0.8667, 0.8934]",
          "(0.8667, 0.8934]",
          "(0.8667, 0.8934]",
          "(0.8667, 0.8934]",
          "(0.8667, 0.8934]",
          "(0.8667, 0.8934]",
          "(0.8667, 0.8934]",
          "(0.8667, 0.8934]",
          "(0.8667, 0.8934]",
          "(0.8667, 0.8934]",
          "(0.8667, 0.8934]",
          "(0.8667, 0.8934]",
          "(0.8667, 0.8934]",
          "(0.84, 0.8667]",
          "(0.84, 0.8667]",
          "(0.84, 0.8667]",
          "(0.84, 0.8667]",
          "(0.84, 0.8667]",
          "(0.84, 0.8667]",
          "(0.84, 0.8667]",
          "(0.84, 0.8667]",
          "(0.84, 0.8667]",
          "(0.84, 0.8667]",
          "(0.84, 0.8667]",
          "(0.84, 0.8667]",
          "(0.84, 0.8667]",
          "(0.84, 0.8667]",
          "(0.84, 0.8667]",
          "(0.84, 0.8667]",
          "(0.84, 0.8667]",
          "(0.84, 0.8667]",
          "(0.84, 0.8667]",
          "(0.84, 0.8667]",
          "(0.8134, 0.84]",
          "(0.8134, 0.84]",
          "(0.8134, 0.84]",
          "(0.8134, 0.84]",
          "(0.8134, 0.84]",
          "(0.8134, 0.84]",
          "(0.8134, 0.84]",
          "(0.8134, 0.84]",
          "(0.8134, 0.84]",
          "(0.8134, 0.84]",
          "(0.8134, 0.84]",
          "(0.8134, 0.84]",
          "(0.8134, 0.84]",
          "(0.8134, 0.84]",
          "(0.8134, 0.84]",
          "(0.8134, 0.84]",
          "(0.8134, 0.84]",
          "(0.8134, 0.84]",
          "(0.8134, 0.84]",
          "(0.8134, 0.84]",
          "(0.8134, 0.84]",
          "(0.8134, 0.84]",
          "(0.8134, 0.84]",
          "(0.8134, 0.84]",
          "(0.7867, 0.8134]",
          "(0.7867, 0.8134]",
          "(0.7867, 0.8134]",
          "(0.7867, 0.8134]",
          "(0.7867, 0.8134]",
          "(0.7867, 0.8134]",
          "(0.7601, 0.7867]",
          "(0.7601, 0.7867]",
          "(0.7601, 0.7867]",
          "(0.7601, 0.7867]",
          "(0.7601, 0.7867]",
          "(0.7601, 0.7867]",
          "(0.7601, 0.7867]",
          "(0.7601, 0.7867]",
          "(0.7601, 0.7867]",
          "(0.7601, 0.7867]",
          "(0.7601, 0.7867]",
          "(0.7601, 0.7867]",
          "(0.7601, 0.7867]",
          "(0.7601, 0.7867]",
          "(0.7601, 0.7867]",
          "(0.7601, 0.7867]",
          "(0.7601, 0.7867]",
          "(0.7601, 0.7867]",
          "(0.7601, 0.7867]",
          "(0.7601, 0.7867]",
          "(0.7601, 0.7867]",
          "(0.7601, 0.7867]",
          "(0.7601, 0.7867]",
          "(0.7601, 0.7867]",
          "(0.7601, 0.7867]",
          "(0.7601, 0.7867]",
          "(0.7601, 0.7867]",
          "(0.7601, 0.7867]",
          "(0.7601, 0.7867]",
          "(0.7601, 0.7867]",
          "(0.7601, 0.7867]",
          "(0.7601, 0.7867]",
          "(0.7601, 0.7867]",
          "(0.7601, 0.7867]",
          "(0.7601, 0.7867]",
          "(0.7601, 0.7867]",
          "(0.7334, 0.7601]",
          "(0.7334, 0.7601]",
          "(0.7334, 0.7601]",
          "(0.7334, 0.7601]",
          "(0.7334, 0.7601]",
          "(0.7334, 0.7601]",
          "(0.7334, 0.7601]",
          "(0.7334, 0.7601]",
          "(0.7334, 0.7601]",
          "(0.7334, 0.7601]",
          "(0.7334, 0.7601]",
          "(0.7334, 0.7601]",
          "(0.7334, 0.7601]",
          "(0.7334, 0.7601]",
          "(0.7334, 0.7601]",
          "(0.7334, 0.7601]",
          "(0.7334, 0.7601]",
          "(0.7334, 0.7601]",
          "(0.7067, 0.7334]",
          "(0.7067, 0.7334]",
          "(0.7067, 0.7334]",
          "(0.7067, 0.7334]",
          "(0.7067, 0.7334]",
          "(0.7067, 0.7334]",
          "(0.7067, 0.7334]",
          "(0.7067, 0.7334]",
          "(0.7067, 0.7334]",
          "(0.7067, 0.7334]",
          "(0.7067, 0.7334]",
          "(0.7067, 0.7334]",
          "(0.7067, 0.7334]",
          "(0.7067, 0.7334]",
          "(0.7067, 0.7334]",
          "(0.7067, 0.7334]",
          "(0.7067, 0.7334]",
          "(0.7067, 0.7334]",
          "(0.7067, 0.7334]",
          "(0.7067, 0.7334]",
          "(0.7067, 0.7334]",
          "(0.7067, 0.7334]",
          "(0.7067, 0.7334]",
          "(0.7067, 0.7334]",
          "(0.7067, 0.7334]",
          "(0.7067, 0.7334]",
          "(0.7067, 0.7334]",
          "(0.7067, 0.7334]",
          "(0.7067, 0.7334]",
          "(0.7067, 0.7334]",
          "(0.7067, 0.7334]",
          "(0.7067, 0.7334]",
          "(0.7067, 0.7334]",
          "(0.7067, 0.7334]",
          "(0.7067, 0.7334]",
          "(0.7067, 0.7334]",
          "(0.7067, 0.7334]",
          "(0.7067, 0.7334]",
          "(0.7067, 0.7334]",
          "(0.7067, 0.7334]",
          "(0.7067, 0.7334]",
          "(0.7067, 0.7334]",
          "(0.7067, 0.7334]",
          "(0.7067, 0.7334]",
          "(0.7067, 0.7334]",
          "(0.7067, 0.7334]",
          "(0.7067, 0.7334]",
          "(0.7067, 0.7334]",
          "(0.7067, 0.7334]",
          "(0.7067, 0.7334]",
          "(0.7067, 0.7334]",
          "(0.7067, 0.7334]",
          "(0.7067, 0.7334]",
          "(0.7067, 0.7334]",
          "(0.7067, 0.7334]",
          "(0.7067, 0.7334]",
          "(0.7067, 0.7334]",
          "(0.7067, 0.7334]",
          "(0.7067, 0.7334]",
          "(0.7067, 0.7334]",
          "(0.7067, 0.7334]",
          "(0.7067, 0.7334]",
          "(0.7067, 0.7334]",
          "(0.7067, 0.7334]",
          "(0.7067, 0.7334]",
          "(0.7067, 0.7334]",
          "(0.7067, 0.7334]",
          "(0.7067, 0.7334]",
          "(0.7067, 0.7334]",
          "(0.7067, 0.7334]",
          "(0.7067, 0.7334]",
          "(0.7067, 0.7334]",
          "(0.7067, 0.7334]",
          "(0.7067, 0.7334]",
          "(0.7067, 0.7334]",
          "(0.7067, 0.7334]",
          "(0.7067, 0.7334]",
          "(0.7067, 0.7334]",
          "(0.7067, 0.7334]",
          "(0.7067, 0.7334]",
          "(0.7067, 0.7334]",
          "(0.7067, 0.7334]",
          "(0.7067, 0.7334]",
          "(0.7067, 0.7334]",
          "(0.7067, 0.7334]",
          "(0.7067, 0.7334]",
          "(0.7067, 0.7334]",
          "(0.7067, 0.7334]",
          "(0.7067, 0.7334]",
          "(0.7067, 0.7334]",
          "(0.6268, 0.6534]",
          "(0.6268, 0.6534]",
          "(0.6268, 0.6534]",
          "(0.6268, 0.6534]",
          "(0.6268, 0.6534]",
          "(0.6268, 0.6534]",
          "(0.6001, 0.6268]",
          "(0.6001, 0.6268]",
          "(0.6001, 0.6268]",
          "(0.6001, 0.6268]",
          "(0.6001, 0.6268]",
          "(0.6001, 0.6268]",
          "(0.6001, 0.6268]",
          "(0.6001, 0.6268]",
          "(0.6001, 0.6268]",
          "(0.6001, 0.6268]",
          "(0.6001, 0.6268]",
          "(0.6001, 0.6268]",
          "(0.6001, 0.6268]",
          "(0.6001, 0.6268]",
          "(0.6001, 0.6268]",
          "(0.6001, 0.6268]",
          "(0.6001, 0.6268]",
          "(0.6001, 0.6268]",
          "(0.6001, 0.6268]",
          "(0.6001, 0.6268]",
          "(0.6001, 0.6268]",
          "(0.6001, 0.6268]",
          "(0.6001, 0.6268]",
          "(0.6001, 0.6268]",
          "(0.6001, 0.6268]",
          "(0.6001, 0.6268]",
          "(0.6001, 0.6268]",
          "(0.6001, 0.6268]",
          "(0.6001, 0.6268]",
          "(0.6001, 0.6268]",
          "(0.6001, 0.6268]",
          "(0.6001, 0.6268]",
          "(0.6001, 0.6268]",
          "(0.6001, 0.6268]",
          "(0.6001, 0.6268]",
          "(0.6001, 0.6268]",
          "(0.6001, 0.6268]",
          "(0.6001, 0.6268]",
          "(0.6001, 0.6268]",
          "(0.6001, 0.6268]",
          "(0.6001, 0.6268]",
          "(0.6001, 0.6268]",
          "(0.6001, 0.6268]",
          "(0.6001, 0.6268]",
          "(0.6001, 0.6268]",
          "(0.6001, 0.6268]",
          "(0.6001, 0.6268]",
          "(0.6001, 0.6268]",
          "(0.6001, 0.6268]",
          "(0.6001, 0.6268]",
          "(0.6001, 0.6268]",
          "(0.6001, 0.6268]",
          "(0.6001, 0.6268]",
          "(0.6001, 0.6268]",
          "(0.6001, 0.6268]",
          "(0.6001, 0.6268]",
          "(0.6001, 0.6268]",
          "(0.6001, 0.6268]",
          "(0.6001, 0.6268]",
          "(0.6001, 0.6268]",
          "(0.6001, 0.6268]",
          "(0.6001, 0.6268]",
          "(0.6001, 0.6268]",
          "(0.6001, 0.6268]",
          "(0.6001, 0.6268]",
          "(0.6001, 0.6268]",
          "(0.6001, 0.6268]",
          "(0.6001, 0.6268]",
          "(0.6001, 0.6268]",
          "(0.6001, 0.6268]",
          "(0.6001, 0.6268]",
          "(0.6001, 0.6268]",
          "(0.6001, 0.6268]",
          "(0.6001, 0.6268]",
          "(0.6001, 0.6268]",
          "(0.6001, 0.6268]",
          "(0.6001, 0.6268]",
          "(0.6001, 0.6268]",
          "(0.6001, 0.6268]",
          "(0.6001, 0.6268]",
          "(0.6001, 0.6268]",
          "(0.6001, 0.6268]",
          "(0.6001, 0.6268]",
          "(0.6001, 0.6268]",
          "(0.6001, 0.6268]",
          "(0.6001, 0.6268]",
          "(0.6001, 0.6268]",
          "(0.6001, 0.6268]",
          "(0.6001, 0.6268]",
          "(0.6001, 0.6268]",
          "(0.3068, 0.3335]",
          "(0.3068, 0.3335]",
          "(0.3068, 0.3335]",
          "(0.3068, 0.3335]",
          "(0.3068, 0.3335]",
          "(0.3068, 0.3335]",
          "(0.3068, 0.3335]",
          "(0.3068, 0.3335]",
          "(0.3068, 0.3335]",
          "(0.3068, 0.3335]",
          "(0.3068, 0.3335]",
          "(0.3068, 0.3335]",
          "(0.3068, 0.3335]",
          "(0.3068, 0.3335]",
          "(0.3068, 0.3335]",
          "(0.3068, 0.3335]",
          "(0.3068, 0.3335]",
          "(0.3068, 0.3335]",
          "(0.3068, 0.3335]",
          "(0.3068, 0.3335]",
          "(0.3068, 0.3335]",
          "(0.2802, 0.3068]",
          "(0.2802, 0.3068]",
          "(0.2802, 0.3068]",
          "(0.2269, 0.2535]",
          "(0.2269, 0.2535]",
          "(0.2269, 0.2535]",
          "(0.2269, 0.2535]",
          "(0.2269, 0.2535]",
          "(0.2269, 0.2535]",
          "(0.2269, 0.2535]",
          "(0.2269, 0.2535]",
          "(0.2269, 0.2535]",
          "(0.2002, 0.2269]",
          "(0.2002, 0.2269]",
          "(0.2002, 0.2269]",
          "(0.2002, 0.2269]",
          "(0.2002, 0.2269]",
          "(0.2002, 0.2269]",
          "(0.2002, 0.2269]",
          "(0.2002, 0.2269]",
          "(0.2002, 0.2269]",
          "(0.2002, 0.2269]",
          "(0.2002, 0.2269]",
          "(0.2002, 0.2269]",
          "(0.2002, 0.2269]",
          "(0.2002, 0.2269]",
          "(0.2002, 0.2269]",
          "(0.2002, 0.2269]",
          "(0.2002, 0.2269]",
          "(0.2002, 0.2269]",
          "(0.2002, 0.2269]",
          "(0.2002, 0.2269]",
          "(0.2002, 0.2269]",
          "(0.2002, 0.2269]",
          "(0.2002, 0.2269]",
          "(0.2002, 0.2269]",
          "(0.2002, 0.2269]",
          "(0.2002, 0.2269]",
          "(0.2002, 0.2269]",
          "(0.1735, 0.2002]",
          "(0.1735, 0.2002]",
          "(0.1735, 0.2002]",
          "(0.1735, 0.2002]",
          "(0.1735, 0.2002]",
          "(0.1735, 0.2002]",
          "(0.1469, 0.1735]",
          "(0.1469, 0.1735]",
          "(0.1469, 0.1735]",
          "(0.1469, 0.1735]",
          "(0.1469, 0.1735]",
          "(0.1469, 0.1735]",
          "(0.1469, 0.1735]",
          "(0.1469, 0.1735]",
          "(0.1469, 0.1735]",
          "(0.1469, 0.1735]",
          "(0.1469, 0.1735]",
          "(0.1469, 0.1735]",
          "(0.1469, 0.1735]",
          "(0.1469, 0.1735]",
          "(0.1469, 0.1735]",
          "(0.1469, 0.1735]",
          "(0.1469, 0.1735]",
          "(0.1469, 0.1735]",
          "(0.09356, 0.1202]",
          "(0.09356, 0.1202]",
          "(0.09356, 0.1202]",
          "(0.09356, 0.1202]",
          "(0.09356, 0.1202]",
          "(0.09356, 0.1202]",
          "(0.09356, 0.1202]",
          "(0.09356, 0.1202]",
          "(0.09356, 0.1202]",
          "(0.09356, 0.1202]",
          "(0.09356, 0.1202]",
          "(0.09356, 0.1202]",
          "(0.09356, 0.1202]",
          "(0.09356, 0.1202]",
          "(0.09356, 0.1202]",
          "(0.09356, 0.1202]",
          "(0.09356, 0.1202]",
          "(0.09356, 0.1202]",
          "(0.09356, 0.1202]",
          "(0.09356, 0.1202]",
          "(0.09356, 0.1202]",
          "(0.09356, 0.1202]",
          "(0.09356, 0.1202]",
          "(0.09356, 0.1202]",
          "(0.09356, 0.1202]",
          "(0.09356, 0.1202]",
          "(0.09356, 0.1202]",
          "(0.09356, 0.1202]",
          "(0.09356, 0.1202]",
          "(0.09356, 0.1202]",
          "(0.09356, 0.1202]",
          "(0.09356, 0.1202]",
          "(0.09356, 0.1202]",
          "(0.09356, 0.1202]",
          "(0.09356, 0.1202]",
          "(0.09356, 0.1202]",
          "(-0.3343, -0.3063]",
          "(-0.3343, -0.3063]",
          "(-0.3343, -0.3063]",
          "(-0.3343, -0.3063]",
          "(-0.3343, -0.3063]",
          "(-0.3343, -0.3063]",
          "(-0.3343, -0.3063]",
          "(-0.3343, -0.3063]",
          "(-0.3343, -0.3063]"
         ],
         "yaxis": "y"
        }
       ],
       "layout": {
        "coloraxis": {
         "colorbar": {
          "title": {
           "text": "delta_main_total"
          }
         },
         "colorscale": [
          [
           0,
           "green"
          ],
          [
           0.5,
           "yellow"
          ],
          [
           1,
           "red"
          ]
         ]
        },
        "legend": {
         "tracegroupgap": 0
        },
        "template": {
         "data": {
          "bar": [
           {
            "error_x": {
             "color": "#2a3f5f"
            },
            "error_y": {
             "color": "#2a3f5f"
            },
            "marker": {
             "line": {
              "color": "#E5ECF6",
              "width": 0.5
             },
             "pattern": {
              "fillmode": "overlay",
              "size": 10,
              "solidity": 0.2
             }
            },
            "type": "bar"
           }
          ],
          "barpolar": [
           {
            "marker": {
             "line": {
              "color": "#E5ECF6",
              "width": 0.5
             },
             "pattern": {
              "fillmode": "overlay",
              "size": 10,
              "solidity": 0.2
             }
            },
            "type": "barpolar"
           }
          ],
          "carpet": [
           {
            "aaxis": {
             "endlinecolor": "#2a3f5f",
             "gridcolor": "white",
             "linecolor": "white",
             "minorgridcolor": "white",
             "startlinecolor": "#2a3f5f"
            },
            "baxis": {
             "endlinecolor": "#2a3f5f",
             "gridcolor": "white",
             "linecolor": "white",
             "minorgridcolor": "white",
             "startlinecolor": "#2a3f5f"
            },
            "type": "carpet"
           }
          ],
          "choropleth": [
           {
            "colorbar": {
             "outlinewidth": 0,
             "ticks": ""
            },
            "type": "choropleth"
           }
          ],
          "contour": [
           {
            "colorbar": {
             "outlinewidth": 0,
             "ticks": ""
            },
            "colorscale": [
             [
              0,
              "#0d0887"
             ],
             [
              0.1111111111111111,
              "#46039f"
             ],
             [
              0.2222222222222222,
              "#7201a8"
             ],
             [
              0.3333333333333333,
              "#9c179e"
             ],
             [
              0.4444444444444444,
              "#bd3786"
             ],
             [
              0.5555555555555556,
              "#d8576b"
             ],
             [
              0.6666666666666666,
              "#ed7953"
             ],
             [
              0.7777777777777778,
              "#fb9f3a"
             ],
             [
              0.8888888888888888,
              "#fdca26"
             ],
             [
              1,
              "#f0f921"
             ]
            ],
            "type": "contour"
           }
          ],
          "contourcarpet": [
           {
            "colorbar": {
             "outlinewidth": 0,
             "ticks": ""
            },
            "type": "contourcarpet"
           }
          ],
          "heatmap": [
           {
            "colorbar": {
             "outlinewidth": 0,
             "ticks": ""
            },
            "colorscale": [
             [
              0,
              "#0d0887"
             ],
             [
              0.1111111111111111,
              "#46039f"
             ],
             [
              0.2222222222222222,
              "#7201a8"
             ],
             [
              0.3333333333333333,
              "#9c179e"
             ],
             [
              0.4444444444444444,
              "#bd3786"
             ],
             [
              0.5555555555555556,
              "#d8576b"
             ],
             [
              0.6666666666666666,
              "#ed7953"
             ],
             [
              0.7777777777777778,
              "#fb9f3a"
             ],
             [
              0.8888888888888888,
              "#fdca26"
             ],
             [
              1,
              "#f0f921"
             ]
            ],
            "type": "heatmap"
           }
          ],
          "heatmapgl": [
           {
            "colorbar": {
             "outlinewidth": 0,
             "ticks": ""
            },
            "colorscale": [
             [
              0,
              "#0d0887"
             ],
             [
              0.1111111111111111,
              "#46039f"
             ],
             [
              0.2222222222222222,
              "#7201a8"
             ],
             [
              0.3333333333333333,
              "#9c179e"
             ],
             [
              0.4444444444444444,
              "#bd3786"
             ],
             [
              0.5555555555555556,
              "#d8576b"
             ],
             [
              0.6666666666666666,
              "#ed7953"
             ],
             [
              0.7777777777777778,
              "#fb9f3a"
             ],
             [
              0.8888888888888888,
              "#fdca26"
             ],
             [
              1,
              "#f0f921"
             ]
            ],
            "type": "heatmapgl"
           }
          ],
          "histogram": [
           {
            "marker": {
             "pattern": {
              "fillmode": "overlay",
              "size": 10,
              "solidity": 0.2
             }
            },
            "type": "histogram"
           }
          ],
          "histogram2d": [
           {
            "colorbar": {
             "outlinewidth": 0,
             "ticks": ""
            },
            "colorscale": [
             [
              0,
              "#0d0887"
             ],
             [
              0.1111111111111111,
              "#46039f"
             ],
             [
              0.2222222222222222,
              "#7201a8"
             ],
             [
              0.3333333333333333,
              "#9c179e"
             ],
             [
              0.4444444444444444,
              "#bd3786"
             ],
             [
              0.5555555555555556,
              "#d8576b"
             ],
             [
              0.6666666666666666,
              "#ed7953"
             ],
             [
              0.7777777777777778,
              "#fb9f3a"
             ],
             [
              0.8888888888888888,
              "#fdca26"
             ],
             [
              1,
              "#f0f921"
             ]
            ],
            "type": "histogram2d"
           }
          ],
          "histogram2dcontour": [
           {
            "colorbar": {
             "outlinewidth": 0,
             "ticks": ""
            },
            "colorscale": [
             [
              0,
              "#0d0887"
             ],
             [
              0.1111111111111111,
              "#46039f"
             ],
             [
              0.2222222222222222,
              "#7201a8"
             ],
             [
              0.3333333333333333,
              "#9c179e"
             ],
             [
              0.4444444444444444,
              "#bd3786"
             ],
             [
              0.5555555555555556,
              "#d8576b"
             ],
             [
              0.6666666666666666,
              "#ed7953"
             ],
             [
              0.7777777777777778,
              "#fb9f3a"
             ],
             [
              0.8888888888888888,
              "#fdca26"
             ],
             [
              1,
              "#f0f921"
             ]
            ],
            "type": "histogram2dcontour"
           }
          ],
          "mesh3d": [
           {
            "colorbar": {
             "outlinewidth": 0,
             "ticks": ""
            },
            "type": "mesh3d"
           }
          ],
          "parcoords": [
           {
            "line": {
             "colorbar": {
              "outlinewidth": 0,
              "ticks": ""
             }
            },
            "type": "parcoords"
           }
          ],
          "pie": [
           {
            "automargin": true,
            "type": "pie"
           }
          ],
          "scatter": [
           {
            "fillpattern": {
             "fillmode": "overlay",
             "size": 10,
             "solidity": 0.2
            },
            "type": "scatter"
           }
          ],
          "scatter3d": [
           {
            "line": {
             "colorbar": {
              "outlinewidth": 0,
              "ticks": ""
             }
            },
            "marker": {
             "colorbar": {
              "outlinewidth": 0,
              "ticks": ""
             }
            },
            "type": "scatter3d"
           }
          ],
          "scattercarpet": [
           {
            "marker": {
             "colorbar": {
              "outlinewidth": 0,
              "ticks": ""
             }
            },
            "type": "scattercarpet"
           }
          ],
          "scattergeo": [
           {
            "marker": {
             "colorbar": {
              "outlinewidth": 0,
              "ticks": ""
             }
            },
            "type": "scattergeo"
           }
          ],
          "scattergl": [
           {
            "marker": {
             "colorbar": {
              "outlinewidth": 0,
              "ticks": ""
             }
            },
            "type": "scattergl"
           }
          ],
          "scattermapbox": [
           {
            "marker": {
             "colorbar": {
              "outlinewidth": 0,
              "ticks": ""
             }
            },
            "type": "scattermapbox"
           }
          ],
          "scatterpolar": [
           {
            "marker": {
             "colorbar": {
              "outlinewidth": 0,
              "ticks": ""
             }
            },
            "type": "scatterpolar"
           }
          ],
          "scatterpolargl": [
           {
            "marker": {
             "colorbar": {
              "outlinewidth": 0,
              "ticks": ""
             }
            },
            "type": "scatterpolargl"
           }
          ],
          "scatterternary": [
           {
            "marker": {
             "colorbar": {
              "outlinewidth": 0,
              "ticks": ""
             }
            },
            "type": "scatterternary"
           }
          ],
          "surface": [
           {
            "colorbar": {
             "outlinewidth": 0,
             "ticks": ""
            },
            "colorscale": [
             [
              0,
              "#0d0887"
             ],
             [
              0.1111111111111111,
              "#46039f"
             ],
             [
              0.2222222222222222,
              "#7201a8"
             ],
             [
              0.3333333333333333,
              "#9c179e"
             ],
             [
              0.4444444444444444,
              "#bd3786"
             ],
             [
              0.5555555555555556,
              "#d8576b"
             ],
             [
              0.6666666666666666,
              "#ed7953"
             ],
             [
              0.7777777777777778,
              "#fb9f3a"
             ],
             [
              0.8888888888888888,
              "#fdca26"
             ],
             [
              1,
              "#f0f921"
             ]
            ],
            "type": "surface"
           }
          ],
          "table": [
           {
            "cells": {
             "fill": {
              "color": "#EBF0F8"
             },
             "line": {
              "color": "white"
             }
            },
            "header": {
             "fill": {
              "color": "#C8D4E3"
             },
             "line": {
              "color": "white"
             }
            },
            "type": "table"
           }
          ]
         },
         "layout": {
          "annotationdefaults": {
           "arrowcolor": "#2a3f5f",
           "arrowhead": 0,
           "arrowwidth": 1
          },
          "autotypenumbers": "strict",
          "coloraxis": {
           "colorbar": {
            "outlinewidth": 0,
            "ticks": ""
           }
          },
          "colorscale": {
           "diverging": [
            [
             0,
             "#8e0152"
            ],
            [
             0.1,
             "#c51b7d"
            ],
            [
             0.2,
             "#de77ae"
            ],
            [
             0.3,
             "#f1b6da"
            ],
            [
             0.4,
             "#fde0ef"
            ],
            [
             0.5,
             "#f7f7f7"
            ],
            [
             0.6,
             "#e6f5d0"
            ],
            [
             0.7,
             "#b8e186"
            ],
            [
             0.8,
             "#7fbc41"
            ],
            [
             0.9,
             "#4d9221"
            ],
            [
             1,
             "#276419"
            ]
           ],
           "sequential": [
            [
             0,
             "#0d0887"
            ],
            [
             0.1111111111111111,
             "#46039f"
            ],
            [
             0.2222222222222222,
             "#7201a8"
            ],
            [
             0.3333333333333333,
             "#9c179e"
            ],
            [
             0.4444444444444444,
             "#bd3786"
            ],
            [
             0.5555555555555556,
             "#d8576b"
            ],
            [
             0.6666666666666666,
             "#ed7953"
            ],
            [
             0.7777777777777778,
             "#fb9f3a"
            ],
            [
             0.8888888888888888,
             "#fdca26"
            ],
            [
             1,
             "#f0f921"
            ]
           ],
           "sequentialminus": [
            [
             0,
             "#0d0887"
            ],
            [
             0.1111111111111111,
             "#46039f"
            ],
            [
             0.2222222222222222,
             "#7201a8"
            ],
            [
             0.3333333333333333,
             "#9c179e"
            ],
            [
             0.4444444444444444,
             "#bd3786"
            ],
            [
             0.5555555555555556,
             "#d8576b"
            ],
            [
             0.6666666666666666,
             "#ed7953"
            ],
            [
             0.7777777777777778,
             "#fb9f3a"
            ],
            [
             0.8888888888888888,
             "#fdca26"
            ],
            [
             1,
             "#f0f921"
            ]
           ]
          },
          "colorway": [
           "#636efa",
           "#EF553B",
           "#00cc96",
           "#ab63fa",
           "#FFA15A",
           "#19d3f3",
           "#FF6692",
           "#B6E880",
           "#FF97FF",
           "#FECB52"
          ],
          "font": {
           "color": "#2a3f5f"
          },
          "geo": {
           "bgcolor": "white",
           "lakecolor": "white",
           "landcolor": "#E5ECF6",
           "showlakes": true,
           "showland": true,
           "subunitcolor": "white"
          },
          "hoverlabel": {
           "align": "left"
          },
          "hovermode": "closest",
          "mapbox": {
           "style": "light"
          },
          "paper_bgcolor": "white",
          "plot_bgcolor": "#E5ECF6",
          "polar": {
           "angularaxis": {
            "gridcolor": "white",
            "linecolor": "white",
            "ticks": ""
           },
           "bgcolor": "#E5ECF6",
           "radialaxis": {
            "gridcolor": "white",
            "linecolor": "white",
            "ticks": ""
           }
          },
          "scene": {
           "xaxis": {
            "backgroundcolor": "#E5ECF6",
            "gridcolor": "white",
            "gridwidth": 2,
            "linecolor": "white",
            "showbackground": true,
            "ticks": "",
            "zerolinecolor": "white"
           },
           "yaxis": {
            "backgroundcolor": "#E5ECF6",
            "gridcolor": "white",
            "gridwidth": 2,
            "linecolor": "white",
            "showbackground": true,
            "ticks": "",
            "zerolinecolor": "white"
           },
           "zaxis": {
            "backgroundcolor": "#E5ECF6",
            "gridcolor": "white",
            "gridwidth": 2,
            "linecolor": "white",
            "showbackground": true,
            "ticks": "",
            "zerolinecolor": "white"
           }
          },
          "shapedefaults": {
           "line": {
            "color": "#2a3f5f"
           }
          },
          "ternary": {
           "aaxis": {
            "gridcolor": "white",
            "linecolor": "white",
            "ticks": ""
           },
           "baxis": {
            "gridcolor": "white",
            "linecolor": "white",
            "ticks": ""
           },
           "bgcolor": "#E5ECF6",
           "caxis": {
            "gridcolor": "white",
            "linecolor": "white",
            "ticks": ""
           }
          },
          "title": {
           "x": 0.05
          },
          "xaxis": {
           "automargin": true,
           "gridcolor": "white",
           "linecolor": "white",
           "ticks": "",
           "title": {
            "standoff": 15
           },
           "zerolinecolor": "white",
           "zerolinewidth": 2
          },
          "yaxis": {
           "automargin": true,
           "gridcolor": "white",
           "linecolor": "white",
           "ticks": "",
           "title": {
            "standoff": 15
           },
           "zerolinecolor": "white",
           "zerolinewidth": 2
          }
         }
        },
        "title": {
         "text": "Candidate scenarios varying the number of variables from the Takeoff Scenario."
        },
        "xaxis": {
         "anchor": "y",
         "domain": [
          0,
          1
         ],
         "tickmode": "array",
         "tickvals": [
          0,
          1,
          2,
          3,
          4
         ],
         "title": {
          "text": "Unmatched Extra Variables"
         }
        },
        "yaxis": {
         "anchor": "x",
         "categoryorder": "category ascending",
         "domain": [
          0,
          1
         ],
         "title": {
          "text": "Binned Similarity"
         }
        }
       }
      }
     },
     "metadata": {},
     "output_type": "display_data"
    }
   ],
   "source": [
    "import pandas as pd\n",
    "import plotly.express as px\n",
    "\n",
    "# Suponha que df já esteja carregado com as colunas 'Scenario Similarity', 'delta_main_total', e 'Count_Extra_Var'\n",
    "\n",
    "# Criar bins para a coluna 'Scenario Similarity'\n",
    "df['Similarity Bin'] = pd.cut(df['Scenario Similarity'], bins=50, precision=4).astype(str)  # Convertendo para string\n",
    "\n",
    "# Criando o scatter plot usando a coluna de bins\n",
    "fig = px.scatter(\n",
    "    df,\n",
    "    x='Count_Extra_Var',\n",
    "    y='Similarity Bin',  # Usando a coluna de bins como categorias no eixo Y\n",
    "    color='delta_main_total',\n",
    "    title='Candidate scenarios varying the number of variables from the Takeoff Scenario.',\n",
    "    labels={\n",
    "        'Count_Extra_Var': 'Unmatched Extra Variables',\n",
    "        'Similarity Bin': 'Binned Similarity'\n",
    "    },\n",
    "    hover_data=['Scenario Similarity', 'Count_Extra_Var'],\n",
    "    color_continuous_scale=['green', 'yellow', 'red']\n",
    ")\n",
    "\n",
    "# Ajusta os eixos para exibir os valores únicos e organizar as categorias\n",
    "fig.update_xaxes(\n",
    "    tickmode='array',\n",
    "    tickvals=df['Count_Extra_Var'].unique()\n",
    ")\n",
    "fig.update_yaxes(\n",
    "    categoryorder='category ascending'  # Ordena as categorias de forma crescente\n",
    ")\n",
    "\n",
    "# Exibindo o gráfico\n",
    "fig.show()\n"
   ]
  },
  {
   "cell_type": "code",
   "execution_count": 278,
   "metadata": {},
   "outputs": [
    {
     "data": {
      "application/vnd.plotly.v1+json": {
       "config": {
        "plotlyServerURL": "https://plot.ly"
       },
       "data": [
        {
         "hovertemplate": "Count_Main_Var=5<br>Extra Percent=%{x}<br>Scenario Similarity=%{y}<extra></extra>",
         "legendgroup": "5",
         "marker": {
          "color": "#636efa",
          "line": {
           "color": "black",
           "width": 1
          },
          "opacity": 0.7,
          "symbol": "circle"
         },
         "mode": "markers",
         "name": "5",
         "orientation": "v",
         "showlegend": true,
         "type": "scatter",
         "x": [
          0,
          1,
          1,
          1,
          1,
          2,
          2,
          2,
          2,
          2,
          2,
          3,
          3,
          3,
          3,
          4
         ],
         "xaxis": "x",
         "y": [
          0.9762580829176064,
          1,
          1,
          1,
          0.9544947487176351,
          0.9738112246168482,
          1,
          0.9689436883636979,
          0.9395172505962998,
          0.9493541916063601,
          1,
          1,
          1,
          0.9832163332261535,
          1,
          0.9521260558133025
         ],
         "yaxis": "y"
        },
        {
         "hovertemplate": "Count_Main_Var=4<br>Extra Percent=%{x}<br>Scenario Similarity=%{y}<extra></extra>",
         "legendgroup": "4",
         "marker": {
          "color": "#EF553B",
          "line": {
           "color": "black",
           "width": 1
          },
          "opacity": 0.7,
          "symbol": "circle"
         },
         "mode": "markers",
         "name": "4",
         "orientation": "v",
         "showlegend": true,
         "type": "scatter",
         "x": [
          0,
          0,
          0,
          1,
          1,
          1,
          1,
          1,
          1,
          2,
          2,
          2,
          1,
          1,
          1,
          1,
          1,
          1,
          2,
          2,
          2,
          2,
          2,
          2,
          2,
          2,
          2,
          2,
          2,
          2,
          2,
          2,
          2,
          3,
          3,
          3,
          3,
          3,
          3,
          3,
          3,
          3,
          3,
          3,
          3,
          4,
          4,
          4,
          0,
          0,
          1,
          1,
          1,
          1,
          1,
          1,
          1,
          1,
          2,
          2,
          2,
          2,
          2,
          2,
          2,
          2,
          2,
          2,
          2,
          2,
          3,
          3,
          3,
          3,
          3,
          3,
          3,
          3,
          4,
          4
         ],
         "xaxis": "x",
         "y": [
          0.9468804240568034,
          0.9423554147290116,
          0.8960712689835904,
          0.8840057027612572,
          0.8413566454074729,
          0.8899099515449852,
          0.9047080787297317,
          0.8835291524329061,
          0.864825073772507,
          0.9072853441838623,
          0.900705715925529,
          0.8408236605043984,
          0.8778039439868712,
          0.8941676268525188,
          0.859132902947025,
          0.9130241715529155,
          0.8978417622402552,
          0.91298700146562,
          0.8801552786604081,
          0.9104614181502945,
          0.8607727676442819,
          0.8670452199620272,
          0.8840952576680761,
          0.8825213036699506,
          0.9147328519312234,
          0.8354217890073089,
          0.8296512835681327,
          0.9034668833799637,
          0.8848911045605041,
          0.859527275615975,
          0.8206756100906024,
          0.8972568019328372,
          0.8855714666505595,
          0.838552726937381,
          0.864628834918115,
          0.8322625882457662,
          0.8736067836369718,
          0.8937253870617345,
          0.8420513713592265,
          0.8588206858929298,
          0.8656296994173999,
          0.811148485605786,
          0.8995763219431537,
          0.846462874342228,
          0.8897604069025024,
          0.8161158002965853,
          0.820408459129684,
          0.8337950744308098,
          0.8357941199620766,
          0.8169478158825088,
          0.8027875135185005,
          0.8792003597292213,
          0.8378172548068382,
          0.8682364916371503,
          0.8635815285068869,
          0.8645096913096623,
          0.8288411155224089,
          0.8673536169652326,
          0.8352268540930665,
          0.8565380182830733,
          0.8451921912404408,
          0.8612972140978619,
          0.8678099959136187,
          0.8323283984669936,
          0.8096256019582383,
          0.8621066919292912,
          0.8429048898935104,
          0.8713477664055953,
          0.8576428296802344,
          0.866596032237591,
          0.7960919243742435,
          0.7987029316838732,
          0.795646560131702,
          0.8478577501074642,
          0.8070850813160351,
          0.8615109491928372,
          0.7721323822620798,
          0.8418502478122267,
          0.7772418280399009,
          0.8167824277507574
         ],
         "yaxis": "y"
        },
        {
         "hovertemplate": "Count_Main_Var=3<br>Extra Percent=%{x}<br>Scenario Similarity=%{y}<extra></extra>",
         "legendgroup": "3",
         "marker": {
          "color": "#00cc96",
          "line": {
           "color": "black",
           "width": 1
          },
          "opacity": 0.7,
          "symbol": "circle"
         },
         "mode": "markers",
         "name": "3",
         "orientation": "v",
         "showlegend": true,
         "type": "scatter",
         "x": [
          0,
          0,
          0,
          1,
          1,
          1,
          1,
          1,
          1,
          2,
          2,
          2,
          1,
          1,
          1,
          1,
          1,
          1,
          2,
          2,
          2,
          2,
          2,
          2,
          2,
          2,
          2,
          2,
          2,
          2,
          3,
          3,
          3,
          3,
          3,
          3,
          2,
          2,
          2,
          3,
          3,
          3,
          3,
          3,
          3,
          4,
          4,
          4,
          0,
          0,
          0,
          0,
          0,
          0,
          1,
          1,
          1,
          1,
          1,
          1,
          1,
          1,
          1,
          1,
          1,
          1,
          1,
          1,
          1,
          1,
          1,
          1,
          1,
          1,
          1,
          1,
          1,
          1,
          2,
          2,
          2,
          2,
          2,
          2,
          2,
          2,
          2,
          2,
          2,
          2,
          2,
          2,
          2,
          2,
          2,
          2,
          2,
          2,
          2,
          2,
          2,
          2,
          2,
          2,
          2,
          2,
          2,
          2,
          2,
          2,
          2,
          2,
          2,
          2,
          3,
          3,
          3,
          3,
          3,
          3,
          3,
          3,
          3,
          3,
          3,
          3,
          3,
          3,
          3,
          3,
          3,
          3,
          3,
          3,
          3,
          3,
          3,
          3,
          4,
          4,
          4,
          4,
          4,
          4,
          2,
          1,
          1,
          2,
          3,
          2,
          3,
          2,
          2,
          3,
          4,
          3
         ],
         "xaxis": "x",
         "y": [
          0.7464228309506851,
          0.8013749658739426,
          0.7813266714571194,
          0.7806674406586003,
          0.8020709182386437,
          0.8281430492198217,
          0.8179674653938305,
          0.8315779032472151,
          0.7402462784270953,
          0.7415059070061397,
          0.8157877449127011,
          0.7350912229266513,
          0.8068030962627646,
          0.7258234843650795,
          0.7460004290232605,
          0.760315386672607,
          0.7978502594654777,
          0.8103611354999033,
          0.7345649221688011,
          0.7920525194059577,
          0.7195439489033022,
          0.7690019711586475,
          0.8079584159754285,
          0.7314756038372027,
          0.7507928535156687,
          0.7822905192756249,
          0.8081677708119336,
          0.7515907621273255,
          0.7845263118405125,
          0.7927640948291905,
          0.732843284167,
          0.7252924238295468,
          0.7485091494823126,
          0.7797994947010131,
          0.7262951417362775,
          0.7283858119228653,
          0.7382463625977846,
          0.7214599216452852,
          0.7872065502434403,
          0.782394493517327,
          0.7280903440993307,
          0.7144188529634947,
          0.7269810415516085,
          0.7985493136941052,
          0.7920569729267566,
          0.784106920995167,
          0.7586245938386179,
          0.7379943498578762,
          0.7567764072129605,
          0.7199597056609672,
          0.7835623672359445,
          0.7641686608983345,
          0.7849813558296977,
          0.695769782632788,
          0.7495075507824746,
          0.7222706816800069,
          0.7650140405201216,
          0.7519613717771252,
          0.7570143782860019,
          0.7744380174838277,
          0.6867611040395873,
          0.7373224156519139,
          0.7155426276863517,
          0.7661562759680284,
          0.710719268056767,
          0.7196742039122159,
          0.7639569100068614,
          0.7011373527094095,
          0.7256477234567484,
          0.7118459873042918,
          0.7084658680222281,
          0.7107981660378033,
          0.7495742781252553,
          0.6810514259495444,
          0.6927217915498063,
          0.7349761124823535,
          0.7691216624903218,
          0.739016118643493,
          0.7406717047070194,
          0.7249017778441744,
          0.6858107829665631,
          0.699825142927407,
          0.6901436142135584,
          0.7706188994139682,
          0.7408851446924991,
          0.7697734689154808,
          0.7677550180146661,
          0.7320387650553278,
          0.6733139766811079,
          0.7015895431799566,
          0.6970888026958487,
          0.7318959454992984,
          0.7150499999448889,
          0.7333795641711869,
          0.715474793742514,
          0.710600372257559,
          0.6825881957916906,
          0.748868853633259,
          0.7426378934997879,
          0.7181685023772303,
          0.744931452366223,
          0.7076749763109829,
          0.6876239538420436,
          0.6924065200181021,
          0.7138743871178068,
          0.7609133758551704,
          0.7242266520587229,
          0.7536560913650638,
          0.7460914519969778,
          0.6827216262190797,
          0.7503179021777171,
          0.7089213568859287,
          0.7007244189215612,
          0.7363607399133948,
          0.7229155910155435,
          0.7517610667338988,
          0.685559396475038,
          0.6796471266811713,
          0.7009190236569404,
          0.7539310997596228,
          0.6663531728000718,
          0.6732524957076111,
          0.7421258642930105,
          0.7521423922293557,
          0.746648878809385,
          0.7373819426318982,
          0.6943948088050542,
          0.6835590933117058,
          0.691342467158329,
          0.7516225195038768,
          0.6861119888713372,
          0.7453529092931974,
          0.7351253321152635,
          0.7169058370523234,
          0.7383996056273406,
          0.7358130010037702,
          0.6979440764805976,
          0.6680667741203903,
          0.6934468198421675,
          0.6901558957369723,
          0.7370405322189779,
          0.6638308454821916,
          0.7515488675511888,
          0.7371418768762105,
          0.3778260020272342,
          0.3247787922036455,
          0.3797200701350283,
          0.35216523695262003,
          0.2827240939923607,
          0.3318273271808253,
          0.33281238193006896,
          0.293124465175507,
          0.32252634621834764,
          0.3268130229345819,
          0.3349971341064297,
          0.26535536348937544
         ],
         "yaxis": "y"
        },
        {
         "hovertemplate": "Count_Main_Var=2<br>Extra Percent=%{x}<br>Scenario Similarity=%{y}<extra></extra>",
         "legendgroup": "2",
         "marker": {
          "color": "#ab63fa",
          "line": {
           "color": "black",
           "width": 1
          },
          "opacity": 0.7,
          "symbol": "circle"
         },
         "mode": "markers",
         "name": "2",
         "orientation": "v",
         "showlegend": true,
         "type": "scatter",
         "x": [
          0,
          0,
          0,
          0,
          0,
          0,
          1,
          1,
          1,
          1,
          1,
          1,
          1,
          1,
          1,
          1,
          1,
          1,
          2,
          2,
          2,
          2,
          2,
          2,
          1,
          1,
          1,
          1,
          1,
          1,
          1,
          1,
          1,
          1,
          1,
          1,
          2,
          2,
          2,
          2,
          2,
          2,
          2,
          2,
          2,
          2,
          2,
          2,
          2,
          2,
          2,
          2,
          2,
          2,
          2,
          2,
          2,
          2,
          2,
          2,
          2,
          2,
          2,
          2,
          2,
          2,
          3,
          3,
          3,
          3,
          3,
          3,
          3,
          3,
          3,
          3,
          3,
          3,
          3,
          3,
          3,
          3,
          3,
          3,
          3,
          3,
          3,
          3,
          3,
          3,
          4,
          4,
          4,
          4,
          4,
          4,
          1,
          2,
          1,
          2,
          2,
          2,
          3,
          3,
          2,
          3,
          4,
          3,
          2,
          2,
          1,
          1,
          1,
          1,
          1,
          2,
          1,
          2,
          2,
          2,
          2,
          2,
          3,
          3,
          3,
          3,
          2,
          3,
          2,
          2,
          2,
          2,
          3,
          2,
          2,
          4,
          3,
          4,
          3,
          3,
          3,
          3,
          4,
          3
         ],
         "xaxis": "x",
         "y": [
          0.5906924863991382,
          0.6745076160275557,
          0.610182776068865,
          0.6644135727155068,
          0.6755147333963948,
          0.6117201580913304,
          0.6204584819488942,
          0.6324719916044942,
          0.6293786559235808,
          0.6302276532369243,
          0.6002520299877872,
          0.6224081643791218,
          0.5986095221522779,
          0.6077357180539067,
          0.6004395915093436,
          0.6711450984745893,
          0.6200401790652832,
          0.6439846424200584,
          0.57022967846068,
          0.6434251701374829,
          0.6430885661568666,
          0.6555559500198839,
          0.6545890370460772,
          0.6432393629702353,
          0.5711999933219359,
          0.5881295689359097,
          0.590345996334603,
          0.5802466877919087,
          0.6664356467649474,
          0.6319263593063138,
          0.5765049589358469,
          0.5707661665450536,
          0.6243272632085526,
          0.6442389534728582,
          0.6354279093465895,
          0.6320070430636349,
          0.6600577035868885,
          0.5720316476668098,
          0.5816810311423155,
          0.5770000013211163,
          0.6284283622303537,
          0.571318499221657,
          0.6192809501416331,
          0.6357935110554436,
          0.6547478350461218,
          0.6538632326954241,
          0.5689985359027321,
          0.6168745761596501,
          0.5760917873870571,
          0.6628396643823189,
          0.6360798184534863,
          0.6458363679099615,
          0.5967484875433244,
          0.6327270276954934,
          0.636446288159327,
          0.6043525067991861,
          0.5824872491488534,
          0.5727079819271627,
          0.5684244339023218,
          0.6631753995093759,
          0.6423436443469179,
          0.5717783527480955,
          0.6587193408696592,
          0.6426987433873748,
          0.6305687825439928,
          0.5905164149551725,
          0.5714883293004315,
          0.584744012360193,
          0.5830057282052901,
          0.651047898295259,
          0.6156628532347219,
          0.6478917730906122,
          0.6181924061185701,
          0.6493819524291532,
          0.6020658710655181,
          0.6358662261150304,
          0.591536619480026,
          0.6126866800585459,
          0.5844576034554414,
          0.5699888863874588,
          0.5596626785253953,
          0.5905054773106154,
          0.5977355579703516,
          0.6104453051514274,
          0.6434265512755311,
          0.6429028464075719,
          0.5643597425437792,
          0.5996077062947262,
          0.6303981815836278,
          0.63983111408691,
          0.6392796776667827,
          0.5738266586001505,
          0.5837350308980328,
          0.6158554537138317,
          0.617953832763029,
          0.5564286825105619,
          0.32811433885274893,
          0.372629152406036,
          0.37616114400539535,
          0.30067198066882944,
          0.3565872522533961,
          0.29494656057833496,
          0.2952102203920287,
          0.33022042582476024,
          0.3230555927626024,
          0.3483447629506536,
          0.25868769745305786,
          0.30633340222888084,
          0.27342708848665365,
          0.2049841487428065,
          0.20585283000583135,
          0.2785552680316475,
          0.2294234030613787,
          0.19391202050528694,
          0.2526954033304954,
          0.23011670410997398,
          0.21140257342351323,
          0.18989062451241562,
          0.204122128950448,
          0.24312039918438488,
          0.19870090274577554,
          0.21330887944407026,
          0.2113354332457464,
          0.24631919966608035,
          0.21840847165351956,
          0.2638878100240871,
          0.17669634107455137,
          0.22467793338006448,
          0.23555056215421422,
          0.26436966443581084,
          0.1896972994865675,
          0.2404217691092095,
          0.265224634886459,
          0.22968518008353545,
          0.26237824113033487,
          0.21837472426585228,
          0.1653892489611583,
          0.21025889280387222,
          0.17265438521700727,
          0.22725888214320267,
          0.22696351096387468,
          0.1699467466199444,
          0.23318096432583385,
          0.2299945633913485
         ],
         "yaxis": "y"
        },
        {
         "hovertemplate": "Count_Main_Var=1<br>Extra Percent=%{x}<br>Scenario Similarity=%{y}<extra></extra>",
         "legendgroup": "1",
         "marker": {
          "color": "#FFA15A",
          "line": {
           "color": "black",
           "width": 1
          },
          "opacity": 0.7,
          "symbol": "circle"
         },
         "mode": "markers",
         "name": "1",
         "orientation": "v",
         "showlegend": true,
         "type": "scatter",
         "x": [
          1,
          2,
          1,
          1,
          2,
          1,
          3,
          3,
          2,
          2,
          2,
          2,
          2,
          3,
          2,
          2,
          2,
          3,
          4,
          4,
          3,
          3,
          3,
          3,
          2,
          1,
          2,
          2,
          1,
          1,
          1,
          1,
          1,
          2,
          2,
          2,
          3,
          2,
          3,
          2,
          2,
          2,
          2,
          3,
          2,
          2,
          2,
          3,
          3,
          2,
          3,
          3,
          3,
          4,
          3,
          3,
          3,
          4,
          4,
          3
         ],
         "xaxis": "x",
         "y": [
          0.14106999231928863,
          0.17976977673820213,
          0.15726936970514374,
          0.201175972610454,
          0.12516191398687515,
          0.2005614049028499,
          0.19860807118824836,
          0.21017102041094726,
          0.16498870251908251,
          0.15727704396219444,
          0.1471894787776924,
          0.1767615985181199,
          0.1404546139763346,
          0.12152655987966061,
          0.16504495606339198,
          0.21144504357275828,
          0.15388794304094067,
          0.17352978497695676,
          0.19350693178726808,
          0.1586360078179744,
          0.12894452697913122,
          0.11751881244414414,
          0.20144176187737556,
          0.15531695803945428,
          0.08791154156007176,
          0.15696137869172416,
          0.091278768473296,
          0.10957488267513621,
          0.11969646300711072,
          0.1494046907745276,
          0.15795648410479776,
          0.09066422074427527,
          0.11493611189880969,
          0.1396306565875955,
          0.11487609961730988,
          0.13198928572932017,
          0.08302406474425786,
          0.1574888027371373,
          0.1270528558911712,
          0.16149415356415278,
          0.10801484247965915,
          0.08182983845425926,
          0.15758282994388545,
          0.1162372986143019,
          0.10951911871625475,
          0.13093158484332307,
          0.13830519558617854,
          0.13756573534459013,
          0.16423749039814234,
          0.09506755328747091,
          0.14849338501019443,
          0.08107900669627545,
          0.11751957331341922,
          0.07741221031247678,
          0.07640613934584507,
          0.1436858540603045,
          0.12911523439439057,
          0.12445819233876369,
          0.0917553575221167,
          0.1362774811504328
         ],
         "yaxis": "y"
        },
        {
         "hovertemplate": "Count_Main_Var=0<br>Extra Percent=%{x}<br>Scenario Similarity=%{y}<extra></extra>",
         "legendgroup": "0",
         "marker": {
          "color": "#19d3f3",
          "line": {
           "color": "black",
           "width": 1
          },
          "opacity": 0.7,
          "symbol": "circle"
         },
         "mode": "markers",
         "name": "0",
         "orientation": "v",
         "showlegend": true,
         "type": "scatter",
         "x": [
          2,
          3,
          2,
          3,
          3,
          4,
          3,
          2,
          2
         ],
         "xaxis": "x",
         "y": [
          0,
          0,
          0,
          0,
          0,
          0,
          0,
          0,
          0
         ],
         "yaxis": "y"
        }
       ],
       "layout": {
        "legend": {
         "title": {
          "text": "Count_Main_Var"
         },
         "tracegroupgap": 0
        },
        "template": {
         "data": {
          "bar": [
           {
            "error_x": {
             "color": "#2a3f5f"
            },
            "error_y": {
             "color": "#2a3f5f"
            },
            "marker": {
             "line": {
              "color": "#E5ECF6",
              "width": 0.5
             },
             "pattern": {
              "fillmode": "overlay",
              "size": 10,
              "solidity": 0.2
             }
            },
            "type": "bar"
           }
          ],
          "barpolar": [
           {
            "marker": {
             "line": {
              "color": "#E5ECF6",
              "width": 0.5
             },
             "pattern": {
              "fillmode": "overlay",
              "size": 10,
              "solidity": 0.2
             }
            },
            "type": "barpolar"
           }
          ],
          "carpet": [
           {
            "aaxis": {
             "endlinecolor": "#2a3f5f",
             "gridcolor": "white",
             "linecolor": "white",
             "minorgridcolor": "white",
             "startlinecolor": "#2a3f5f"
            },
            "baxis": {
             "endlinecolor": "#2a3f5f",
             "gridcolor": "white",
             "linecolor": "white",
             "minorgridcolor": "white",
             "startlinecolor": "#2a3f5f"
            },
            "type": "carpet"
           }
          ],
          "choropleth": [
           {
            "colorbar": {
             "outlinewidth": 0,
             "ticks": ""
            },
            "type": "choropleth"
           }
          ],
          "contour": [
           {
            "colorbar": {
             "outlinewidth": 0,
             "ticks": ""
            },
            "colorscale": [
             [
              0,
              "#0d0887"
             ],
             [
              0.1111111111111111,
              "#46039f"
             ],
             [
              0.2222222222222222,
              "#7201a8"
             ],
             [
              0.3333333333333333,
              "#9c179e"
             ],
             [
              0.4444444444444444,
              "#bd3786"
             ],
             [
              0.5555555555555556,
              "#d8576b"
             ],
             [
              0.6666666666666666,
              "#ed7953"
             ],
             [
              0.7777777777777778,
              "#fb9f3a"
             ],
             [
              0.8888888888888888,
              "#fdca26"
             ],
             [
              1,
              "#f0f921"
             ]
            ],
            "type": "contour"
           }
          ],
          "contourcarpet": [
           {
            "colorbar": {
             "outlinewidth": 0,
             "ticks": ""
            },
            "type": "contourcarpet"
           }
          ],
          "heatmap": [
           {
            "colorbar": {
             "outlinewidth": 0,
             "ticks": ""
            },
            "colorscale": [
             [
              0,
              "#0d0887"
             ],
             [
              0.1111111111111111,
              "#46039f"
             ],
             [
              0.2222222222222222,
              "#7201a8"
             ],
             [
              0.3333333333333333,
              "#9c179e"
             ],
             [
              0.4444444444444444,
              "#bd3786"
             ],
             [
              0.5555555555555556,
              "#d8576b"
             ],
             [
              0.6666666666666666,
              "#ed7953"
             ],
             [
              0.7777777777777778,
              "#fb9f3a"
             ],
             [
              0.8888888888888888,
              "#fdca26"
             ],
             [
              1,
              "#f0f921"
             ]
            ],
            "type": "heatmap"
           }
          ],
          "heatmapgl": [
           {
            "colorbar": {
             "outlinewidth": 0,
             "ticks": ""
            },
            "colorscale": [
             [
              0,
              "#0d0887"
             ],
             [
              0.1111111111111111,
              "#46039f"
             ],
             [
              0.2222222222222222,
              "#7201a8"
             ],
             [
              0.3333333333333333,
              "#9c179e"
             ],
             [
              0.4444444444444444,
              "#bd3786"
             ],
             [
              0.5555555555555556,
              "#d8576b"
             ],
             [
              0.6666666666666666,
              "#ed7953"
             ],
             [
              0.7777777777777778,
              "#fb9f3a"
             ],
             [
              0.8888888888888888,
              "#fdca26"
             ],
             [
              1,
              "#f0f921"
             ]
            ],
            "type": "heatmapgl"
           }
          ],
          "histogram": [
           {
            "marker": {
             "pattern": {
              "fillmode": "overlay",
              "size": 10,
              "solidity": 0.2
             }
            },
            "type": "histogram"
           }
          ],
          "histogram2d": [
           {
            "colorbar": {
             "outlinewidth": 0,
             "ticks": ""
            },
            "colorscale": [
             [
              0,
              "#0d0887"
             ],
             [
              0.1111111111111111,
              "#46039f"
             ],
             [
              0.2222222222222222,
              "#7201a8"
             ],
             [
              0.3333333333333333,
              "#9c179e"
             ],
             [
              0.4444444444444444,
              "#bd3786"
             ],
             [
              0.5555555555555556,
              "#d8576b"
             ],
             [
              0.6666666666666666,
              "#ed7953"
             ],
             [
              0.7777777777777778,
              "#fb9f3a"
             ],
             [
              0.8888888888888888,
              "#fdca26"
             ],
             [
              1,
              "#f0f921"
             ]
            ],
            "type": "histogram2d"
           }
          ],
          "histogram2dcontour": [
           {
            "colorbar": {
             "outlinewidth": 0,
             "ticks": ""
            },
            "colorscale": [
             [
              0,
              "#0d0887"
             ],
             [
              0.1111111111111111,
              "#46039f"
             ],
             [
              0.2222222222222222,
              "#7201a8"
             ],
             [
              0.3333333333333333,
              "#9c179e"
             ],
             [
              0.4444444444444444,
              "#bd3786"
             ],
             [
              0.5555555555555556,
              "#d8576b"
             ],
             [
              0.6666666666666666,
              "#ed7953"
             ],
             [
              0.7777777777777778,
              "#fb9f3a"
             ],
             [
              0.8888888888888888,
              "#fdca26"
             ],
             [
              1,
              "#f0f921"
             ]
            ],
            "type": "histogram2dcontour"
           }
          ],
          "mesh3d": [
           {
            "colorbar": {
             "outlinewidth": 0,
             "ticks": ""
            },
            "type": "mesh3d"
           }
          ],
          "parcoords": [
           {
            "line": {
             "colorbar": {
              "outlinewidth": 0,
              "ticks": ""
             }
            },
            "type": "parcoords"
           }
          ],
          "pie": [
           {
            "automargin": true,
            "type": "pie"
           }
          ],
          "scatter": [
           {
            "fillpattern": {
             "fillmode": "overlay",
             "size": 10,
             "solidity": 0.2
            },
            "type": "scatter"
           }
          ],
          "scatter3d": [
           {
            "line": {
             "colorbar": {
              "outlinewidth": 0,
              "ticks": ""
             }
            },
            "marker": {
             "colorbar": {
              "outlinewidth": 0,
              "ticks": ""
             }
            },
            "type": "scatter3d"
           }
          ],
          "scattercarpet": [
           {
            "marker": {
             "colorbar": {
              "outlinewidth": 0,
              "ticks": ""
             }
            },
            "type": "scattercarpet"
           }
          ],
          "scattergeo": [
           {
            "marker": {
             "colorbar": {
              "outlinewidth": 0,
              "ticks": ""
             }
            },
            "type": "scattergeo"
           }
          ],
          "scattergl": [
           {
            "marker": {
             "colorbar": {
              "outlinewidth": 0,
              "ticks": ""
             }
            },
            "type": "scattergl"
           }
          ],
          "scattermapbox": [
           {
            "marker": {
             "colorbar": {
              "outlinewidth": 0,
              "ticks": ""
             }
            },
            "type": "scattermapbox"
           }
          ],
          "scatterpolar": [
           {
            "marker": {
             "colorbar": {
              "outlinewidth": 0,
              "ticks": ""
             }
            },
            "type": "scatterpolar"
           }
          ],
          "scatterpolargl": [
           {
            "marker": {
             "colorbar": {
              "outlinewidth": 0,
              "ticks": ""
             }
            },
            "type": "scatterpolargl"
           }
          ],
          "scatterternary": [
           {
            "marker": {
             "colorbar": {
              "outlinewidth": 0,
              "ticks": ""
             }
            },
            "type": "scatterternary"
           }
          ],
          "surface": [
           {
            "colorbar": {
             "outlinewidth": 0,
             "ticks": ""
            },
            "colorscale": [
             [
              0,
              "#0d0887"
             ],
             [
              0.1111111111111111,
              "#46039f"
             ],
             [
              0.2222222222222222,
              "#7201a8"
             ],
             [
              0.3333333333333333,
              "#9c179e"
             ],
             [
              0.4444444444444444,
              "#bd3786"
             ],
             [
              0.5555555555555556,
              "#d8576b"
             ],
             [
              0.6666666666666666,
              "#ed7953"
             ],
             [
              0.7777777777777778,
              "#fb9f3a"
             ],
             [
              0.8888888888888888,
              "#fdca26"
             ],
             [
              1,
              "#f0f921"
             ]
            ],
            "type": "surface"
           }
          ],
          "table": [
           {
            "cells": {
             "fill": {
              "color": "#EBF0F8"
             },
             "line": {
              "color": "white"
             }
            },
            "header": {
             "fill": {
              "color": "#C8D4E3"
             },
             "line": {
              "color": "white"
             }
            },
            "type": "table"
           }
          ]
         },
         "layout": {
          "annotationdefaults": {
           "arrowcolor": "#2a3f5f",
           "arrowhead": 0,
           "arrowwidth": 1
          },
          "autotypenumbers": "strict",
          "coloraxis": {
           "colorbar": {
            "outlinewidth": 0,
            "ticks": ""
           }
          },
          "colorscale": {
           "diverging": [
            [
             0,
             "#8e0152"
            ],
            [
             0.1,
             "#c51b7d"
            ],
            [
             0.2,
             "#de77ae"
            ],
            [
             0.3,
             "#f1b6da"
            ],
            [
             0.4,
             "#fde0ef"
            ],
            [
             0.5,
             "#f7f7f7"
            ],
            [
             0.6,
             "#e6f5d0"
            ],
            [
             0.7,
             "#b8e186"
            ],
            [
             0.8,
             "#7fbc41"
            ],
            [
             0.9,
             "#4d9221"
            ],
            [
             1,
             "#276419"
            ]
           ],
           "sequential": [
            [
             0,
             "#0d0887"
            ],
            [
             0.1111111111111111,
             "#46039f"
            ],
            [
             0.2222222222222222,
             "#7201a8"
            ],
            [
             0.3333333333333333,
             "#9c179e"
            ],
            [
             0.4444444444444444,
             "#bd3786"
            ],
            [
             0.5555555555555556,
             "#d8576b"
            ],
            [
             0.6666666666666666,
             "#ed7953"
            ],
            [
             0.7777777777777778,
             "#fb9f3a"
            ],
            [
             0.8888888888888888,
             "#fdca26"
            ],
            [
             1,
             "#f0f921"
            ]
           ],
           "sequentialminus": [
            [
             0,
             "#0d0887"
            ],
            [
             0.1111111111111111,
             "#46039f"
            ],
            [
             0.2222222222222222,
             "#7201a8"
            ],
            [
             0.3333333333333333,
             "#9c179e"
            ],
            [
             0.4444444444444444,
             "#bd3786"
            ],
            [
             0.5555555555555556,
             "#d8576b"
            ],
            [
             0.6666666666666666,
             "#ed7953"
            ],
            [
             0.7777777777777778,
             "#fb9f3a"
            ],
            [
             0.8888888888888888,
             "#fdca26"
            ],
            [
             1,
             "#f0f921"
            ]
           ]
          },
          "colorway": [
           "#636efa",
           "#EF553B",
           "#00cc96",
           "#ab63fa",
           "#FFA15A",
           "#19d3f3",
           "#FF6692",
           "#B6E880",
           "#FF97FF",
           "#FECB52"
          ],
          "font": {
           "color": "#2a3f5f"
          },
          "geo": {
           "bgcolor": "white",
           "lakecolor": "white",
           "landcolor": "#E5ECF6",
           "showlakes": true,
           "showland": true,
           "subunitcolor": "white"
          },
          "hoverlabel": {
           "align": "left"
          },
          "hovermode": "closest",
          "mapbox": {
           "style": "light"
          },
          "paper_bgcolor": "white",
          "plot_bgcolor": "#E5ECF6",
          "polar": {
           "angularaxis": {
            "gridcolor": "white",
            "linecolor": "white",
            "ticks": ""
           },
           "bgcolor": "#E5ECF6",
           "radialaxis": {
            "gridcolor": "white",
            "linecolor": "white",
            "ticks": ""
           }
          },
          "scene": {
           "xaxis": {
            "backgroundcolor": "#E5ECF6",
            "gridcolor": "white",
            "gridwidth": 2,
            "linecolor": "white",
            "showbackground": true,
            "ticks": "",
            "zerolinecolor": "white"
           },
           "yaxis": {
            "backgroundcolor": "#E5ECF6",
            "gridcolor": "white",
            "gridwidth": 2,
            "linecolor": "white",
            "showbackground": true,
            "ticks": "",
            "zerolinecolor": "white"
           },
           "zaxis": {
            "backgroundcolor": "#E5ECF6",
            "gridcolor": "white",
            "gridwidth": 2,
            "linecolor": "white",
            "showbackground": true,
            "ticks": "",
            "zerolinecolor": "white"
           }
          },
          "shapedefaults": {
           "line": {
            "color": "#2a3f5f"
           }
          },
          "ternary": {
           "aaxis": {
            "gridcolor": "white",
            "linecolor": "white",
            "ticks": ""
           },
           "baxis": {
            "gridcolor": "white",
            "linecolor": "white",
            "ticks": ""
           },
           "bgcolor": "#E5ECF6",
           "caxis": {
            "gridcolor": "white",
            "linecolor": "white",
            "ticks": ""
           }
          },
          "title": {
           "x": 0.05
          },
          "xaxis": {
           "automargin": true,
           "gridcolor": "white",
           "linecolor": "white",
           "ticks": "",
           "title": {
            "standoff": 15
           },
           "zerolinecolor": "white",
           "zerolinewidth": 2
          },
          "yaxis": {
           "automargin": true,
           "gridcolor": "white",
           "linecolor": "white",
           "ticks": "",
           "title": {
            "standoff": 15
           },
           "zerolinecolor": "white",
           "zerolinewidth": 2
          }
         }
        },
        "title": {
         "text": "Scatter Plot: Scenario Similarity vs Extra Percent"
        },
        "xaxis": {
         "anchor": "y",
         "domain": [
          0,
          1
         ],
         "tickmode": "array",
         "tickvals": [
          0,
          1,
          2,
          3,
          4
         ],
         "title": {
          "text": "Extra Percent"
         }
        },
        "yaxis": {
         "anchor": "x",
         "domain": [
          0,
          1
         ],
         "title": {
          "text": "Scenario Similarity"
         }
        }
       }
      }
     },
     "metadata": {},
     "output_type": "display_data"
    }
   ],
   "source": [
    "import plotly.express as px\n",
    "import numpy as np\n",
    "\n",
    "# Copiando o dataframe e convertendo Count_Main_Var para string\n",
    "df1 = df.copy()\n",
    "df1['Count_Main_Var'] = df['Count_Main_Var'].astype(str)\n",
    "\n",
    "# Criando um jitter nos valores de 'Scenario Similarity' para espalhar os pontos\n",
    "# Garante que os valores de jitter fiquem dentro do intervalo [0, 1]\n",
    "jitter_strength = 0.05  # Ajuste o valor para controlar a amplitude do jitter\n",
    "df1['Scenario Similarity Jitter'] = df['Scenario Similarity'] + np.random.uniform(\n",
    "    -jitter_strength, jitter_strength, size=len(df)\n",
    ")\n",
    "df1['Scenario Similarity Jitter'] = df1['Scenario Similarity Jitter'].clip(0, 1)  # Limita o jitter para ficar entre 0 e 1\n",
    "\n",
    "# Criando o scatter plot com ajustes para lidar com sobreposição\n",
    "fig = px.scatter(\n",
    "    df1,\n",
    "    x='Count_Extra_Var',\n",
    "    y='Scenario Similarity Jitter',\n",
    "    color='Count_Main_Var',\n",
    "    title='Scatter Plot: Scenario Similarity vs Extra Percent',\n",
    "    labels={\n",
    "        'Count_Extra_Var': 'Extra Percent',\n",
    "        'Scenario Similarity Jitter': 'Scenario Similarity'\n",
    "    },\n",
    ")\n",
    "\n",
    "# Ajustando transparência e adicionando bordas para evidenciar sobreposição\n",
    "fig.update_traces(\n",
    "    marker=dict(\n",
    "        opacity=0.7,  # Ajusta a transparência das bolinhas\n",
    "        line=dict(width=1, color='black')  # Adiciona bordas pretas para destacar as bolinhas\n",
    "    )\n",
    ")\n",
    "\n",
    "# Ajusta os eixos para exibir apenas valores existentes\n",
    "fig.update_xaxes(\n",
    "    tickmode='array',\n",
    "    tickvals=df1['Count_Extra_Var'].unique()\n",
    ")\n",
    "\n",
    "# Exibindo o gráfico\n",
    "fig.show()\n"
   ]
  },
  {
   "cell_type": "code",
   "execution_count": 279,
   "metadata": {},
   "outputs": [
    {
     "data": {
      "application/vnd.plotly.v1+json": {
       "config": {
        "plotlyServerURL": "https://plot.ly"
       },
       "data": [
        {
         "customdata": [
          [
           "Candidate_230"
          ],
          [
           "Candidate_380"
          ],
          [
           "Candidate_395"
          ],
          [
           "Candidate_236"
          ],
          [
           "Candidate_237"
          ],
          [
           "Candidate_455"
          ],
          [
           "Candidate_386"
          ],
          [
           "Candidate_387"
          ],
          [
           "Candidate_401"
          ],
          [
           "Candidate_402"
          ],
          [
           "Candidate_240"
          ],
          [
           "Candidate_461"
          ],
          [
           "Candidate_462"
          ],
          [
           "Candidate_405"
          ],
          [
           "Candidate_390"
          ],
          [
           "Candidate_465"
          ]
         ],
         "hovertemplate": "Count_Main_Var=5<br>Extra Percent=%{x}<br>Scenario Similarity=%{y}<br>Scenario=%{customdata[0]}<extra></extra>",
         "legendgroup": "5",
         "marker": {
          "color": "#636efa",
          "symbol": "circle"
         },
         "mode": "markers",
         "name": "5",
         "orientation": "v",
         "showlegend": true,
         "type": "scatter",
         "x": [
          0,
          1,
          1,
          1,
          1,
          2,
          2,
          2,
          2,
          2,
          2,
          3,
          3,
          3,
          3,
          4
         ],
         "xaxis": "x",
         "y": [
          1,
          0.989,
          0.989,
          0.984,
          0.984,
          0.979,
          0.973,
          0.973,
          0.973,
          0.973,
          0.97,
          0.963,
          0.963,
          0.959,
          0.959,
          0.949
         ],
         "yaxis": "y"
        },
        {
         "customdata": [
          [
           "Candidate_140"
          ],
          [
           "Candidate_80"
          ],
          [
           "Candidate_95"
          ],
          [
           "Candidate_245"
          ],
          [
           "Candidate_335"
          ],
          [
           "Candidate_260"
          ],
          [
           "Candidate_275"
          ],
          [
           "Candidate_290"
          ],
          [
           "Candidate_320"
          ],
          [
           "Candidate_425"
          ],
          [
           "Candidate_440"
          ],
          [
           "Candidate_410"
          ],
          [
           "Candidate_147"
          ],
          [
           "Candidate_146"
          ],
          [
           "Candidate_102"
          ],
          [
           "Candidate_101"
          ],
          [
           "Candidate_87"
          ],
          [
           "Candidate_86"
          ],
          [
           "Candidate_297"
          ],
          [
           "Candidate_252"
          ],
          [
           "Candidate_326"
          ],
          [
           "Candidate_296"
          ],
          [
           "Candidate_282"
          ],
          [
           "Candidate_281"
          ],
          [
           "Candidate_327"
          ],
          [
           "Candidate_342"
          ],
          [
           "Candidate_267"
          ],
          [
           "Candidate_266"
          ],
          [
           "Candidate_341"
          ],
          [
           "Candidate_251"
          ],
          [
           "Candidate_150"
          ],
          [
           "Candidate_105"
          ],
          [
           "Candidate_90"
          ],
          [
           "Candidate_417"
          ],
          [
           "Candidate_447"
          ],
          [
           "Candidate_432"
          ],
          [
           "Candidate_431"
          ],
          [
           "Candidate_446"
          ],
          [
           "Candidate_416"
          ],
          [
           "Candidate_345"
          ],
          [
           "Candidate_255"
          ],
          [
           "Candidate_330"
          ],
          [
           "Candidate_270"
          ],
          [
           "Candidate_285"
          ],
          [
           "Candidate_300"
          ],
          [
           "Candidate_420"
          ],
          [
           "Candidate_435"
          ],
          [
           "Candidate_450"
          ],
          [
           "Candidate_227"
          ],
          [
           "Candidate_226"
          ],
          [
           "Candidate_231"
          ],
          [
           "Candidate_232"
          ],
          [
           "Candidate_234"
          ],
          [
           "Candidate_233"
          ],
          [
           "Candidate_391"
          ],
          [
           "Candidate_376"
          ],
          [
           "Candidate_377"
          ],
          [
           "Candidate_392"
          ],
          [
           "Candidate_239"
          ],
          [
           "Candidate_238"
          ],
          [
           "Candidate_384"
          ],
          [
           "Candidate_383"
          ],
          [
           "Candidate_382"
          ],
          [
           "Candidate_396"
          ],
          [
           "Candidate_397"
          ],
          [
           "Candidate_398"
          ],
          [
           "Candidate_399"
          ],
          [
           "Candidate_381"
          ],
          [
           "Candidate_452"
          ],
          [
           "Candidate_451"
          ],
          [
           "Candidate_388"
          ],
          [
           "Candidate_389"
          ],
          [
           "Candidate_403"
          ],
          [
           "Candidate_404"
          ],
          [
           "Candidate_457"
          ],
          [
           "Candidate_458"
          ],
          [
           "Candidate_456"
          ],
          [
           "Candidate_459"
          ],
          [
           "Candidate_464"
          ],
          [
           "Candidate_463"
          ]
         ],
         "hovertemplate": "Count_Main_Var=4<br>Extra Percent=%{x}<br>Scenario Similarity=%{y}<br>Scenario=%{customdata[0]}<extra></extra>",
         "legendgroup": "4",
         "marker": {
          "color": "#EF553B",
          "symbol": "circle"
         },
         "mode": "markers",
         "name": "4",
         "orientation": "v",
         "showlegend": true,
         "type": "scatter",
         "x": [
          0,
          0,
          0,
          1,
          1,
          1,
          1,
          1,
          1,
          2,
          2,
          2,
          1,
          1,
          1,
          1,
          1,
          1,
          2,
          2,
          2,
          2,
          2,
          2,
          2,
          2,
          2,
          2,
          2,
          2,
          2,
          2,
          2,
          3,
          3,
          3,
          3,
          3,
          3,
          3,
          3,
          3,
          3,
          3,
          3,
          4,
          4,
          4,
          0,
          0,
          1,
          1,
          1,
          1,
          1,
          1,
          1,
          1,
          2,
          2,
          2,
          2,
          2,
          2,
          2,
          2,
          2,
          2,
          2,
          2,
          3,
          3,
          3,
          3,
          3,
          3,
          3,
          3,
          4,
          4
         ],
         "xaxis": "x2",
         "y": [
          0.897,
          0.897,
          0.897,
          0.889,
          0.889,
          0.889,
          0.889,
          0.889,
          0.889,
          0.882,
          0.882,
          0.882,
          0.881,
          0.881,
          0.881,
          0.881,
          0.881,
          0.881,
          0.873,
          0.873,
          0.873,
          0.873,
          0.873,
          0.873,
          0.873,
          0.873,
          0.873,
          0.873,
          0.873,
          0.873,
          0.866,
          0.866,
          0.866,
          0.866,
          0.866,
          0.866,
          0.866,
          0.866,
          0.866,
          0.859,
          0.859,
          0.859,
          0.859,
          0.859,
          0.859,
          0.851,
          0.851,
          0.851,
          0.842,
          0.842,
          0.833,
          0.833,
          0.833,
          0.833,
          0.831,
          0.831,
          0.831,
          0.831,
          0.825,
          0.825,
          0.823,
          0.823,
          0.823,
          0.823,
          0.823,
          0.823,
          0.823,
          0.823,
          0.821,
          0.821,
          0.815,
          0.815,
          0.815,
          0.815,
          0.812,
          0.812,
          0.812,
          0.812,
          0.805,
          0.805
         ],
         "yaxis": "y2"
        },
        {
         "customdata": [
          [
           "Candidate_5"
          ],
          [
           "Candidate_20"
          ],
          [
           "Candidate_35"
          ],
          [
           "Candidate_200"
          ],
          [
           "Candidate_125"
          ],
          [
           "Candidate_155"
          ],
          [
           "Candidate_110"
          ],
          [
           "Candidate_185"
          ],
          [
           "Candidate_170"
          ],
          [
           "Candidate_350"
          ],
          [
           "Candidate_305"
          ],
          [
           "Candidate_365"
          ],
          [
           "Candidate_26"
          ],
          [
           "Candidate_27"
          ],
          [
           "Candidate_11"
          ],
          [
           "Candidate_12"
          ],
          [
           "Candidate_42"
          ],
          [
           "Candidate_41"
          ],
          [
           "Candidate_207"
          ],
          [
           "Candidate_131"
          ],
          [
           "Candidate_177"
          ],
          [
           "Candidate_132"
          ],
          [
           "Candidate_176"
          ],
          [
           "Candidate_206"
          ],
          [
           "Candidate_162"
          ],
          [
           "Candidate_161"
          ],
          [
           "Candidate_192"
          ],
          [
           "Candidate_117"
          ],
          [
           "Candidate_116"
          ],
          [
           "Candidate_191"
          ],
          [
           "Candidate_357"
          ],
          [
           "Candidate_371"
          ],
          [
           "Candidate_356"
          ],
          [
           "Candidate_311"
          ],
          [
           "Candidate_372"
          ],
          [
           "Candidate_312"
          ],
          [
           "Candidate_45"
          ],
          [
           "Candidate_15"
          ],
          [
           "Candidate_30"
          ],
          [
           "Candidate_135"
          ],
          [
           "Candidate_165"
          ],
          [
           "Candidate_120"
          ],
          [
           "Candidate_180"
          ],
          [
           "Candidate_195"
          ],
          [
           "Candidate_210"
          ],
          [
           "Candidate_315"
          ],
          [
           "Candidate_375"
          ],
          [
           "Candidate_360"
          ],
          [
           "Candidate_76"
          ],
          [
           "Candidate_77"
          ],
          [
           "Candidate_91"
          ],
          [
           "Candidate_92"
          ],
          [
           "Candidate_137"
          ],
          [
           "Candidate_136"
          ],
          [
           "Candidate_287"
          ],
          [
           "Candidate_332"
          ],
          [
           "Candidate_272"
          ],
          [
           "Candidate_271"
          ],
          [
           "Candidate_331"
          ],
          [
           "Candidate_316"
          ],
          [
           "Candidate_257"
          ],
          [
           "Candidate_256"
          ],
          [
           "Candidate_317"
          ],
          [
           "Candidate_242"
          ],
          [
           "Candidate_241"
          ],
          [
           "Candidate_286"
          ],
          [
           "Candidate_144"
          ],
          [
           "Candidate_98"
          ],
          [
           "Candidate_84"
          ],
          [
           "Candidate_99"
          ],
          [
           "Candidate_97"
          ],
          [
           "Candidate_141"
          ],
          [
           "Candidate_143"
          ],
          [
           "Candidate_142"
          ],
          [
           "Candidate_83"
          ],
          [
           "Candidate_82"
          ],
          [
           "Candidate_96"
          ],
          [
           "Candidate_81"
          ],
          [
           "Candidate_436"
          ],
          [
           "Candidate_421"
          ],
          [
           "Candidate_406"
          ],
          [
           "Candidate_407"
          ],
          [
           "Candidate_422"
          ],
          [
           "Candidate_437"
          ],
          [
           "Candidate_294"
          ],
          [
           "Candidate_261"
          ],
          [
           "Candidate_263"
          ],
          [
           "Candidate_249"
          ],
          [
           "Candidate_262"
          ],
          [
           "Candidate_278"
          ],
          [
           "Candidate_264"
          ],
          [
           "Candidate_276"
          ],
          [
           "Candidate_277"
          ],
          [
           "Candidate_279"
          ],
          [
           "Candidate_291"
          ],
          [
           "Candidate_322"
          ],
          [
           "Candidate_248"
          ],
          [
           "Candidate_292"
          ],
          [
           "Candidate_293"
          ],
          [
           "Candidate_321"
          ],
          [
           "Candidate_247"
          ],
          [
           "Candidate_323"
          ],
          [
           "Candidate_336"
          ],
          [
           "Candidate_246"
          ],
          [
           "Candidate_339"
          ],
          [
           "Candidate_338"
          ],
          [
           "Candidate_337"
          ],
          [
           "Candidate_324"
          ],
          [
           "Candidate_89"
          ],
          [
           "Candidate_103"
          ],
          [
           "Candidate_104"
          ],
          [
           "Candidate_88"
          ],
          [
           "Candidate_149"
          ],
          [
           "Candidate_148"
          ],
          [
           "Candidate_443"
          ],
          [
           "Candidate_444"
          ],
          [
           "Candidate_442"
          ],
          [
           "Candidate_413"
          ],
          [
           "Candidate_429"
          ],
          [
           "Candidate_428"
          ],
          [
           "Candidate_427"
          ],
          [
           "Candidate_426"
          ],
          [
           "Candidate_441"
          ],
          [
           "Candidate_414"
          ],
          [
           "Candidate_412"
          ],
          [
           "Candidate_411"
          ],
          [
           "Candidate_283"
          ],
          [
           "Candidate_344"
          ],
          [
           "Candidate_328"
          ],
          [
           "Candidate_329"
          ],
          [
           "Candidate_253"
          ],
          [
           "Candidate_254"
          ],
          [
           "Candidate_299"
          ],
          [
           "Candidate_298"
          ],
          [
           "Candidate_343"
          ],
          [
           "Candidate_269"
          ],
          [
           "Candidate_284"
          ],
          [
           "Candidate_268"
          ],
          [
           "Candidate_434"
          ],
          [
           "Candidate_433"
          ],
          [
           "Candidate_419"
          ],
          [
           "Candidate_418"
          ],
          [
           "Candidate_448"
          ],
          [
           "Candidate_449"
          ],
          [
           "Candidate_235"
          ],
          [
           "Candidate_229"
          ],
          [
           "Candidate_228"
          ],
          [
           "Candidate_393"
          ],
          [
           "Candidate_400"
          ],
          [
           "Candidate_394"
          ],
          [
           "Candidate_385"
          ],
          [
           "Candidate_379"
          ],
          [
           "Candidate_378"
          ],
          [
           "Candidate_453"
          ],
          [
           "Candidate_460"
          ],
          [
           "Candidate_454"
          ]
         ],
         "hovertemplate": "Count_Main_Var=3<br>Extra Percent=%{x}<br>Scenario Similarity=%{y}<br>Scenario=%{customdata[0]}<extra></extra>",
         "legendgroup": "3",
         "marker": {
          "color": "#00cc96",
          "symbol": "circle"
         },
         "mode": "markers",
         "name": "3",
         "orientation": "v",
         "showlegend": true,
         "type": "scatter",
         "x": [
          0,
          0,
          0,
          1,
          1,
          1,
          1,
          1,
          1,
          2,
          2,
          2,
          1,
          1,
          1,
          1,
          1,
          1,
          2,
          2,
          2,
          2,
          2,
          2,
          2,
          2,
          2,
          2,
          2,
          2,
          3,
          3,
          3,
          3,
          3,
          3,
          2,
          2,
          2,
          3,
          3,
          3,
          3,
          3,
          3,
          4,
          4,
          4,
          0,
          0,
          0,
          0,
          0,
          0,
          1,
          1,
          1,
          1,
          1,
          1,
          1,
          1,
          1,
          1,
          1,
          1,
          1,
          1,
          1,
          1,
          1,
          1,
          1,
          1,
          1,
          1,
          1,
          1,
          2,
          2,
          2,
          2,
          2,
          2,
          2,
          2,
          2,
          2,
          2,
          2,
          2,
          2,
          2,
          2,
          2,
          2,
          2,
          2,
          2,
          2,
          2,
          2,
          2,
          2,
          2,
          2,
          2,
          2,
          2,
          2,
          2,
          2,
          2,
          2,
          3,
          3,
          3,
          3,
          3,
          3,
          3,
          3,
          3,
          3,
          3,
          3,
          3,
          3,
          3,
          3,
          3,
          3,
          3,
          3,
          3,
          3,
          3,
          3,
          4,
          4,
          4,
          4,
          4,
          4,
          2,
          1,
          1,
          2,
          3,
          2,
          3,
          2,
          2,
          3,
          4,
          3
         ],
         "xaxis": "x3",
         "y": [
          0.786,
          0.786,
          0.786,
          0.782,
          0.782,
          0.782,
          0.782,
          0.782,
          0.782,
          0.778,
          0.778,
          0.778,
          0.77,
          0.77,
          0.77,
          0.77,
          0.77,
          0.77,
          0.766,
          0.766,
          0.766,
          0.766,
          0.766,
          0.766,
          0.766,
          0.766,
          0.766,
          0.766,
          0.766,
          0.766,
          0.762,
          0.762,
          0.762,
          0.762,
          0.762,
          0.762,
          0.755,
          0.755,
          0.755,
          0.751,
          0.751,
          0.751,
          0.751,
          0.751,
          0.751,
          0.747,
          0.747,
          0.747,
          0.739,
          0.739,
          0.739,
          0.739,
          0.739,
          0.739,
          0.731,
          0.731,
          0.731,
          0.731,
          0.731,
          0.731,
          0.731,
          0.731,
          0.731,
          0.731,
          0.731,
          0.731,
          0.73,
          0.73,
          0.73,
          0.73,
          0.73,
          0.73,
          0.73,
          0.73,
          0.73,
          0.73,
          0.73,
          0.73,
          0.724,
          0.724,
          0.724,
          0.724,
          0.724,
          0.724,
          0.722,
          0.722,
          0.722,
          0.722,
          0.722,
          0.722,
          0.722,
          0.722,
          0.722,
          0.722,
          0.722,
          0.722,
          0.722,
          0.722,
          0.722,
          0.722,
          0.722,
          0.722,
          0.722,
          0.722,
          0.722,
          0.722,
          0.722,
          0.722,
          0.722,
          0.722,
          0.722,
          0.722,
          0.722,
          0.722,
          0.715,
          0.715,
          0.715,
          0.715,
          0.715,
          0.715,
          0.715,
          0.715,
          0.715,
          0.715,
          0.715,
          0.715,
          0.714,
          0.714,
          0.714,
          0.714,
          0.714,
          0.714,
          0.714,
          0.714,
          0.714,
          0.714,
          0.714,
          0.714,
          0.707,
          0.707,
          0.707,
          0.707,
          0.707,
          0.707,
          0.333,
          0.333,
          0.333,
          0.323,
          0.323,
          0.323,
          0.323,
          0.323,
          0.323,
          0.312,
          0.312,
          0.312
         ],
         "yaxis": "y3"
        },
        {
         "customdata": [
          [
           "Candidate_16"
          ],
          [
           "Candidate_17"
          ],
          [
           "Candidate_31"
          ],
          [
           "Candidate_32"
          ],
          [
           "Candidate_1"
          ],
          [
           "Candidate_2"
          ],
          [
           "Candidate_167"
          ],
          [
           "Candidate_152"
          ],
          [
           "Candidate_181"
          ],
          [
           "Candidate_122"
          ],
          [
           "Candidate_121"
          ],
          [
           "Candidate_151"
          ],
          [
           "Candidate_196"
          ],
          [
           "Candidate_197"
          ],
          [
           "Candidate_166"
          ],
          [
           "Candidate_182"
          ],
          [
           "Candidate_106"
          ],
          [
           "Candidate_107"
          ],
          [
           "Candidate_347"
          ],
          [
           "Candidate_346"
          ],
          [
           "Candidate_302"
          ],
          [
           "Candidate_301"
          ],
          [
           "Candidate_362"
          ],
          [
           "Candidate_361"
          ],
          [
           "Candidate_23"
          ],
          [
           "Candidate_6"
          ],
          [
           "Candidate_21"
          ],
          [
           "Candidate_37"
          ],
          [
           "Candidate_39"
          ],
          [
           "Candidate_22"
          ],
          [
           "Candidate_7"
          ],
          [
           "Candidate_36"
          ],
          [
           "Candidate_8"
          ],
          [
           "Candidate_38"
          ],
          [
           "Candidate_9"
          ],
          [
           "Candidate_24"
          ],
          [
           "Candidate_187"
          ],
          [
           "Candidate_171"
          ],
          [
           "Candidate_156"
          ],
          [
           "Candidate_157"
          ],
          [
           "Candidate_158"
          ],
          [
           "Candidate_188"
          ],
          [
           "Candidate_172"
          ],
          [
           "Candidate_186"
          ],
          [
           "Candidate_159"
          ],
          [
           "Candidate_204"
          ],
          [
           "Candidate_203"
          ],
          [
           "Candidate_189"
          ],
          [
           "Candidate_201"
          ],
          [
           "Candidate_202"
          ],
          [
           "Candidate_114"
          ],
          [
           "Candidate_173"
          ],
          [
           "Candidate_111"
          ],
          [
           "Candidate_112"
          ],
          [
           "Candidate_113"
          ],
          [
           "Candidate_174"
          ],
          [
           "Candidate_126"
          ],
          [
           "Candidate_129"
          ],
          [
           "Candidate_128"
          ],
          [
           "Candidate_127"
          ],
          [
           "Candidate_13"
          ],
          [
           "Candidate_43"
          ],
          [
           "Candidate_28"
          ],
          [
           "Candidate_14"
          ],
          [
           "Candidate_44"
          ],
          [
           "Candidate_29"
          ],
          [
           "Candidate_353"
          ],
          [
           "Candidate_354"
          ],
          [
           "Candidate_366"
          ],
          [
           "Candidate_367"
          ],
          [
           "Candidate_368"
          ],
          [
           "Candidate_369"
          ],
          [
           "Candidate_352"
          ],
          [
           "Candidate_351"
          ],
          [
           "Candidate_309"
          ],
          [
           "Candidate_308"
          ],
          [
           "Candidate_307"
          ],
          [
           "Candidate_306"
          ],
          [
           "Candidate_178"
          ],
          [
           "Candidate_193"
          ],
          [
           "Candidate_118"
          ],
          [
           "Candidate_134"
          ],
          [
           "Candidate_133"
          ],
          [
           "Candidate_209"
          ],
          [
           "Candidate_208"
          ],
          [
           "Candidate_194"
          ],
          [
           "Candidate_163"
          ],
          [
           "Candidate_179"
          ],
          [
           "Candidate_119"
          ],
          [
           "Candidate_164"
          ],
          [
           "Candidate_359"
          ],
          [
           "Candidate_358"
          ],
          [
           "Candidate_314"
          ],
          [
           "Candidate_313"
          ],
          [
           "Candidate_374"
          ],
          [
           "Candidate_373"
          ],
          [
           "Candidate_65"
          ],
          [
           "Candidate_215"
          ],
          [
           "Candidate_50"
          ],
          [
           "Candidate_71"
          ],
          [
           "Candidate_72"
          ],
          [
           "Candidate_56"
          ],
          [
           "Candidate_221"
          ],
          [
           "Candidate_222"
          ],
          [
           "Candidate_57"
          ],
          [
           "Candidate_75"
          ],
          [
           "Candidate_225"
          ],
          [
           "Candidate_60"
          ],
          [
           "Candidate_100"
          ],
          [
           "Candidate_145"
          ],
          [
           "Candidate_93"
          ],
          [
           "Candidate_139"
          ],
          [
           "Candidate_138"
          ],
          [
           "Candidate_78"
          ],
          [
           "Candidate_94"
          ],
          [
           "Candidate_85"
          ],
          [
           "Candidate_79"
          ],
          [
           "Candidate_334"
          ],
          [
           "Candidate_273"
          ],
          [
           "Candidate_289"
          ],
          [
           "Candidate_274"
          ],
          [
           "Candidate_288"
          ],
          [
           "Candidate_340"
          ],
          [
           "Candidate_280"
          ],
          [
           "Candidate_295"
          ],
          [
           "Candidate_250"
          ],
          [
           "Candidate_333"
          ],
          [
           "Candidate_265"
          ],
          [
           "Candidate_318"
          ],
          [
           "Candidate_243"
          ],
          [
           "Candidate_319"
          ],
          [
           "Candidate_244"
          ],
          [
           "Candidate_325"
          ],
          [
           "Candidate_259"
          ],
          [
           "Candidate_258"
          ],
          [
           "Candidate_445"
          ],
          [
           "Candidate_438"
          ],
          [
           "Candidate_430"
          ],
          [
           "Candidate_424"
          ],
          [
           "Candidate_423"
          ],
          [
           "Candidate_409"
          ],
          [
           "Candidate_439"
          ],
          [
           "Candidate_415"
          ],
          [
           "Candidate_408"
          ]
         ],
         "hovertemplate": "Count_Main_Var=2<br>Extra Percent=%{x}<br>Scenario Similarity=%{y}<br>Scenario=%{customdata[0]}<extra></extra>",
         "legendgroup": "2",
         "marker": {
          "color": "#ab63fa",
          "symbol": "circle"
         },
         "mode": "markers",
         "name": "2",
         "orientation": "v",
         "showlegend": true,
         "type": "scatter",
         "x": [
          0,
          0,
          0,
          0,
          0,
          0,
          1,
          1,
          1,
          1,
          1,
          1,
          1,
          1,
          1,
          1,
          1,
          1,
          2,
          2,
          2,
          2,
          2,
          2,
          1,
          1,
          1,
          1,
          1,
          1,
          1,
          1,
          1,
          1,
          1,
          1,
          2,
          2,
          2,
          2,
          2,
          2,
          2,
          2,
          2,
          2,
          2,
          2,
          2,
          2,
          2,
          2,
          2,
          2,
          2,
          2,
          2,
          2,
          2,
          2,
          2,
          2,
          2,
          2,
          2,
          2,
          3,
          3,
          3,
          3,
          3,
          3,
          3,
          3,
          3,
          3,
          3,
          3,
          3,
          3,
          3,
          3,
          3,
          3,
          3,
          3,
          3,
          3,
          3,
          3,
          4,
          4,
          4,
          4,
          4,
          4,
          1,
          2,
          1,
          2,
          2,
          2,
          3,
          3,
          2,
          3,
          4,
          3,
          2,
          2,
          1,
          1,
          1,
          1,
          1,
          2,
          1,
          2,
          2,
          2,
          2,
          2,
          3,
          3,
          3,
          3,
          2,
          3,
          2,
          2,
          2,
          2,
          3,
          2,
          2,
          4,
          3,
          4,
          3,
          3,
          3,
          3,
          4,
          3
         ],
         "xaxis": "x4",
         "y": [
          0.628,
          0.628,
          0.628,
          0.628,
          0.628,
          0.628,
          0.624,
          0.624,
          0.624,
          0.624,
          0.624,
          0.624,
          0.624,
          0.624,
          0.624,
          0.624,
          0.624,
          0.624,
          0.62,
          0.62,
          0.62,
          0.62,
          0.62,
          0.62,
          0.619,
          0.619,
          0.619,
          0.619,
          0.619,
          0.619,
          0.619,
          0.619,
          0.619,
          0.619,
          0.619,
          0.619,
          0.615,
          0.615,
          0.615,
          0.615,
          0.615,
          0.615,
          0.615,
          0.615,
          0.615,
          0.615,
          0.615,
          0.615,
          0.615,
          0.615,
          0.615,
          0.615,
          0.615,
          0.615,
          0.615,
          0.615,
          0.615,
          0.615,
          0.615,
          0.615,
          0.611,
          0.611,
          0.611,
          0.611,
          0.611,
          0.611,
          0.611,
          0.611,
          0.611,
          0.611,
          0.611,
          0.611,
          0.611,
          0.611,
          0.611,
          0.611,
          0.611,
          0.611,
          0.607,
          0.607,
          0.607,
          0.607,
          0.607,
          0.607,
          0.607,
          0.607,
          0.607,
          0.607,
          0.607,
          0.607,
          0.603,
          0.603,
          0.603,
          0.603,
          0.603,
          0.603,
          0.333,
          0.333,
          0.333,
          0.317,
          0.317,
          0.317,
          0.317,
          0.317,
          0.317,
          0.303,
          0.303,
          0.303,
          0.23,
          0.23,
          0.23,
          0.23,
          0.23,
          0.23,
          0.23,
          0.23,
          0.23,
          0.222,
          0.222,
          0.222,
          0.222,
          0.222,
          0.222,
          0.222,
          0.222,
          0.222,
          0.222,
          0.222,
          0.222,
          0.222,
          0.222,
          0.222,
          0.222,
          0.222,
          0.222,
          0.215,
          0.215,
          0.215,
          0.215,
          0.215,
          0.215,
          0.215,
          0.215,
          0.215
         ],
         "yaxis": "y4"
        },
        {
         "customdata": [
          [
           "Candidate_61"
          ],
          [
           "Candidate_212"
          ],
          [
           "Candidate_47"
          ],
          [
           "Candidate_46"
          ],
          [
           "Candidate_211"
          ],
          [
           "Candidate_62"
          ],
          [
           "Candidate_217"
          ],
          [
           "Candidate_218"
          ],
          [
           "Candidate_67"
          ],
          [
           "Candidate_66"
          ],
          [
           "Candidate_51"
          ],
          [
           "Candidate_68"
          ],
          [
           "Candidate_52"
          ],
          [
           "Candidate_219"
          ],
          [
           "Candidate_53"
          ],
          [
           "Candidate_54"
          ],
          [
           "Candidate_69"
          ],
          [
           "Candidate_216"
          ],
          [
           "Candidate_223"
          ],
          [
           "Candidate_224"
          ],
          [
           "Candidate_74"
          ],
          [
           "Candidate_73"
          ],
          [
           "Candidate_59"
          ],
          [
           "Candidate_58"
          ],
          [
           "Candidate_40"
          ],
          [
           "Candidate_33"
          ],
          [
           "Candidate_10"
          ],
          [
           "Candidate_25"
          ],
          [
           "Candidate_3"
          ],
          [
           "Candidate_4"
          ],
          [
           "Candidate_19"
          ],
          [
           "Candidate_18"
          ],
          [
           "Candidate_34"
          ],
          [
           "Candidate_169"
          ],
          [
           "Candidate_168"
          ],
          [
           "Candidate_183"
          ],
          [
           "Candidate_130"
          ],
          [
           "Candidate_184"
          ],
          [
           "Candidate_175"
          ],
          [
           "Candidate_124"
          ],
          [
           "Candidate_109"
          ],
          [
           "Candidate_154"
          ],
          [
           "Candidate_108"
          ],
          [
           "Candidate_190"
          ],
          [
           "Candidate_153"
          ],
          [
           "Candidate_198"
          ],
          [
           "Candidate_199"
          ],
          [
           "Candidate_205"
          ],
          [
           "Candidate_160"
          ],
          [
           "Candidate_123"
          ],
          [
           "Candidate_115"
          ],
          [
           "Candidate_349"
          ],
          [
           "Candidate_303"
          ],
          [
           "Candidate_355"
          ],
          [
           "Candidate_363"
          ],
          [
           "Candidate_348"
          ],
          [
           "Candidate_364"
          ],
          [
           "Candidate_370"
          ],
          [
           "Candidate_310"
          ],
          [
           "Candidate_304"
          ]
         ],
         "hovertemplate": "Count_Main_Var=1<br>Extra Percent=%{x}<br>Scenario Similarity=%{y}<br>Scenario=%{customdata[0]}<extra></extra>",
         "legendgroup": "1",
         "marker": {
          "color": "#FFA15A",
          "symbol": "circle"
         },
         "mode": "markers",
         "name": "1",
         "orientation": "v",
         "showlegend": true,
         "type": "scatter",
         "x": [
          1,
          2,
          1,
          1,
          2,
          1,
          3,
          3,
          2,
          2,
          2,
          2,
          2,
          3,
          2,
          2,
          2,
          3,
          4,
          4,
          3,
          3,
          3,
          3,
          2,
          1,
          2,
          2,
          1,
          1,
          1,
          1,
          1,
          2,
          2,
          2,
          3,
          2,
          3,
          2,
          2,
          2,
          2,
          3,
          2,
          2,
          2,
          3,
          3,
          2,
          3,
          3,
          3,
          4,
          3,
          3,
          3,
          4,
          4,
          3
         ],
         "xaxis": "x5",
         "y": [
          0.175,
          0.175,
          0.175,
          0.175,
          0.175,
          0.175,
          0.167,
          0.167,
          0.167,
          0.167,
          0.167,
          0.167,
          0.167,
          0.167,
          0.167,
          0.167,
          0.167,
          0.167,
          0.159,
          0.159,
          0.159,
          0.159,
          0.159,
          0.159,
          0.119,
          0.119,
          0.119,
          0.119,
          0.119,
          0.119,
          0.119,
          0.119,
          0.119,
          0.115,
          0.115,
          0.115,
          0.115,
          0.115,
          0.115,
          0.115,
          0.115,
          0.115,
          0.115,
          0.115,
          0.115,
          0.115,
          0.115,
          0.115,
          0.115,
          0.115,
          0.115,
          0.111,
          0.111,
          0.111,
          0.111,
          0.111,
          0.111,
          0.111,
          0.111,
          0.111
         ],
         "yaxis": "y5"
        },
        {
         "customdata": [
          [
           "Candidate_48"
          ],
          [
           "Candidate_213"
          ],
          [
           "Candidate_64"
          ],
          [
           "Candidate_70"
          ],
          [
           "Candidate_214"
          ],
          [
           "Candidate_220"
          ],
          [
           "Candidate_55"
          ],
          [
           "Candidate_63"
          ],
          [
           "Candidate_49"
          ]
         ],
         "hovertemplate": "Count_Main_Var=0<br>Extra Percent=%{x}<br>Scenario Similarity=%{y}<br>Scenario=%{customdata[0]}<extra></extra>",
         "legendgroup": "0",
         "marker": {
          "color": "#19d3f3",
          "symbol": "circle"
         },
         "mode": "markers",
         "name": "0",
         "orientation": "v",
         "showlegend": true,
         "type": "scatter",
         "x": [
          2,
          3,
          2,
          3,
          3,
          4,
          3,
          2,
          2
         ],
         "xaxis": "x6",
         "y": [
          -0.333,
          -0.333,
          -0.333,
          -0.333,
          -0.333,
          -0.333,
          -0.333,
          -0.333,
          -0.333
         ],
         "yaxis": "y6"
        }
       ],
       "layout": {
        "annotations": [
         {
          "font": {},
          "showarrow": false,
          "text": "Count_Main_Var=5",
          "x": 0.075,
          "xanchor": "center",
          "xref": "paper",
          "y": 1,
          "yanchor": "bottom",
          "yref": "paper"
         },
         {
          "font": {},
          "showarrow": false,
          "text": "Count_Main_Var=4",
          "x": 0.24499999999999997,
          "xanchor": "center",
          "xref": "paper",
          "y": 1,
          "yanchor": "bottom",
          "yref": "paper"
         },
         {
          "font": {},
          "showarrow": false,
          "text": "Count_Main_Var=3",
          "x": 0.415,
          "xanchor": "center",
          "xref": "paper",
          "y": 1,
          "yanchor": "bottom",
          "yref": "paper"
         },
         {
          "font": {},
          "showarrow": false,
          "text": "Count_Main_Var=2",
          "x": 0.585,
          "xanchor": "center",
          "xref": "paper",
          "y": 1,
          "yanchor": "bottom",
          "yref": "paper"
         },
         {
          "font": {},
          "showarrow": false,
          "text": "Count_Main_Var=1",
          "x": 0.7549999999999999,
          "xanchor": "center",
          "xref": "paper",
          "y": 1,
          "yanchor": "bottom",
          "yref": "paper"
         },
         {
          "font": {},
          "showarrow": false,
          "text": "Count_Main_Var=0",
          "x": 0.925,
          "xanchor": "center",
          "xref": "paper",
          "y": 1,
          "yanchor": "bottom",
          "yref": "paper"
         }
        ],
        "legend": {
         "title": {
          "text": "Count_Main_Var"
         },
         "tracegroupgap": 0
        },
        "template": {
         "data": {
          "bar": [
           {
            "error_x": {
             "color": "#2a3f5f"
            },
            "error_y": {
             "color": "#2a3f5f"
            },
            "marker": {
             "line": {
              "color": "#E5ECF6",
              "width": 0.5
             },
             "pattern": {
              "fillmode": "overlay",
              "size": 10,
              "solidity": 0.2
             }
            },
            "type": "bar"
           }
          ],
          "barpolar": [
           {
            "marker": {
             "line": {
              "color": "#E5ECF6",
              "width": 0.5
             },
             "pattern": {
              "fillmode": "overlay",
              "size": 10,
              "solidity": 0.2
             }
            },
            "type": "barpolar"
           }
          ],
          "carpet": [
           {
            "aaxis": {
             "endlinecolor": "#2a3f5f",
             "gridcolor": "white",
             "linecolor": "white",
             "minorgridcolor": "white",
             "startlinecolor": "#2a3f5f"
            },
            "baxis": {
             "endlinecolor": "#2a3f5f",
             "gridcolor": "white",
             "linecolor": "white",
             "minorgridcolor": "white",
             "startlinecolor": "#2a3f5f"
            },
            "type": "carpet"
           }
          ],
          "choropleth": [
           {
            "colorbar": {
             "outlinewidth": 0,
             "ticks": ""
            },
            "type": "choropleth"
           }
          ],
          "contour": [
           {
            "colorbar": {
             "outlinewidth": 0,
             "ticks": ""
            },
            "colorscale": [
             [
              0,
              "#0d0887"
             ],
             [
              0.1111111111111111,
              "#46039f"
             ],
             [
              0.2222222222222222,
              "#7201a8"
             ],
             [
              0.3333333333333333,
              "#9c179e"
             ],
             [
              0.4444444444444444,
              "#bd3786"
             ],
             [
              0.5555555555555556,
              "#d8576b"
             ],
             [
              0.6666666666666666,
              "#ed7953"
             ],
             [
              0.7777777777777778,
              "#fb9f3a"
             ],
             [
              0.8888888888888888,
              "#fdca26"
             ],
             [
              1,
              "#f0f921"
             ]
            ],
            "type": "contour"
           }
          ],
          "contourcarpet": [
           {
            "colorbar": {
             "outlinewidth": 0,
             "ticks": ""
            },
            "type": "contourcarpet"
           }
          ],
          "heatmap": [
           {
            "colorbar": {
             "outlinewidth": 0,
             "ticks": ""
            },
            "colorscale": [
             [
              0,
              "#0d0887"
             ],
             [
              0.1111111111111111,
              "#46039f"
             ],
             [
              0.2222222222222222,
              "#7201a8"
             ],
             [
              0.3333333333333333,
              "#9c179e"
             ],
             [
              0.4444444444444444,
              "#bd3786"
             ],
             [
              0.5555555555555556,
              "#d8576b"
             ],
             [
              0.6666666666666666,
              "#ed7953"
             ],
             [
              0.7777777777777778,
              "#fb9f3a"
             ],
             [
              0.8888888888888888,
              "#fdca26"
             ],
             [
              1,
              "#f0f921"
             ]
            ],
            "type": "heatmap"
           }
          ],
          "heatmapgl": [
           {
            "colorbar": {
             "outlinewidth": 0,
             "ticks": ""
            },
            "colorscale": [
             [
              0,
              "#0d0887"
             ],
             [
              0.1111111111111111,
              "#46039f"
             ],
             [
              0.2222222222222222,
              "#7201a8"
             ],
             [
              0.3333333333333333,
              "#9c179e"
             ],
             [
              0.4444444444444444,
              "#bd3786"
             ],
             [
              0.5555555555555556,
              "#d8576b"
             ],
             [
              0.6666666666666666,
              "#ed7953"
             ],
             [
              0.7777777777777778,
              "#fb9f3a"
             ],
             [
              0.8888888888888888,
              "#fdca26"
             ],
             [
              1,
              "#f0f921"
             ]
            ],
            "type": "heatmapgl"
           }
          ],
          "histogram": [
           {
            "marker": {
             "pattern": {
              "fillmode": "overlay",
              "size": 10,
              "solidity": 0.2
             }
            },
            "type": "histogram"
           }
          ],
          "histogram2d": [
           {
            "colorbar": {
             "outlinewidth": 0,
             "ticks": ""
            },
            "colorscale": [
             [
              0,
              "#0d0887"
             ],
             [
              0.1111111111111111,
              "#46039f"
             ],
             [
              0.2222222222222222,
              "#7201a8"
             ],
             [
              0.3333333333333333,
              "#9c179e"
             ],
             [
              0.4444444444444444,
              "#bd3786"
             ],
             [
              0.5555555555555556,
              "#d8576b"
             ],
             [
              0.6666666666666666,
              "#ed7953"
             ],
             [
              0.7777777777777778,
              "#fb9f3a"
             ],
             [
              0.8888888888888888,
              "#fdca26"
             ],
             [
              1,
              "#f0f921"
             ]
            ],
            "type": "histogram2d"
           }
          ],
          "histogram2dcontour": [
           {
            "colorbar": {
             "outlinewidth": 0,
             "ticks": ""
            },
            "colorscale": [
             [
              0,
              "#0d0887"
             ],
             [
              0.1111111111111111,
              "#46039f"
             ],
             [
              0.2222222222222222,
              "#7201a8"
             ],
             [
              0.3333333333333333,
              "#9c179e"
             ],
             [
              0.4444444444444444,
              "#bd3786"
             ],
             [
              0.5555555555555556,
              "#d8576b"
             ],
             [
              0.6666666666666666,
              "#ed7953"
             ],
             [
              0.7777777777777778,
              "#fb9f3a"
             ],
             [
              0.8888888888888888,
              "#fdca26"
             ],
             [
              1,
              "#f0f921"
             ]
            ],
            "type": "histogram2dcontour"
           }
          ],
          "mesh3d": [
           {
            "colorbar": {
             "outlinewidth": 0,
             "ticks": ""
            },
            "type": "mesh3d"
           }
          ],
          "parcoords": [
           {
            "line": {
             "colorbar": {
              "outlinewidth": 0,
              "ticks": ""
             }
            },
            "type": "parcoords"
           }
          ],
          "pie": [
           {
            "automargin": true,
            "type": "pie"
           }
          ],
          "scatter": [
           {
            "fillpattern": {
             "fillmode": "overlay",
             "size": 10,
             "solidity": 0.2
            },
            "type": "scatter"
           }
          ],
          "scatter3d": [
           {
            "line": {
             "colorbar": {
              "outlinewidth": 0,
              "ticks": ""
             }
            },
            "marker": {
             "colorbar": {
              "outlinewidth": 0,
              "ticks": ""
             }
            },
            "type": "scatter3d"
           }
          ],
          "scattercarpet": [
           {
            "marker": {
             "colorbar": {
              "outlinewidth": 0,
              "ticks": ""
             }
            },
            "type": "scattercarpet"
           }
          ],
          "scattergeo": [
           {
            "marker": {
             "colorbar": {
              "outlinewidth": 0,
              "ticks": ""
             }
            },
            "type": "scattergeo"
           }
          ],
          "scattergl": [
           {
            "marker": {
             "colorbar": {
              "outlinewidth": 0,
              "ticks": ""
             }
            },
            "type": "scattergl"
           }
          ],
          "scattermapbox": [
           {
            "marker": {
             "colorbar": {
              "outlinewidth": 0,
              "ticks": ""
             }
            },
            "type": "scattermapbox"
           }
          ],
          "scatterpolar": [
           {
            "marker": {
             "colorbar": {
              "outlinewidth": 0,
              "ticks": ""
             }
            },
            "type": "scatterpolar"
           }
          ],
          "scatterpolargl": [
           {
            "marker": {
             "colorbar": {
              "outlinewidth": 0,
              "ticks": ""
             }
            },
            "type": "scatterpolargl"
           }
          ],
          "scatterternary": [
           {
            "marker": {
             "colorbar": {
              "outlinewidth": 0,
              "ticks": ""
             }
            },
            "type": "scatterternary"
           }
          ],
          "surface": [
           {
            "colorbar": {
             "outlinewidth": 0,
             "ticks": ""
            },
            "colorscale": [
             [
              0,
              "#0d0887"
             ],
             [
              0.1111111111111111,
              "#46039f"
             ],
             [
              0.2222222222222222,
              "#7201a8"
             ],
             [
              0.3333333333333333,
              "#9c179e"
             ],
             [
              0.4444444444444444,
              "#bd3786"
             ],
             [
              0.5555555555555556,
              "#d8576b"
             ],
             [
              0.6666666666666666,
              "#ed7953"
             ],
             [
              0.7777777777777778,
              "#fb9f3a"
             ],
             [
              0.8888888888888888,
              "#fdca26"
             ],
             [
              1,
              "#f0f921"
             ]
            ],
            "type": "surface"
           }
          ],
          "table": [
           {
            "cells": {
             "fill": {
              "color": "#EBF0F8"
             },
             "line": {
              "color": "white"
             }
            },
            "header": {
             "fill": {
              "color": "#C8D4E3"
             },
             "line": {
              "color": "white"
             }
            },
            "type": "table"
           }
          ]
         },
         "layout": {
          "annotationdefaults": {
           "arrowcolor": "#2a3f5f",
           "arrowhead": 0,
           "arrowwidth": 1
          },
          "autotypenumbers": "strict",
          "coloraxis": {
           "colorbar": {
            "outlinewidth": 0,
            "ticks": ""
           }
          },
          "colorscale": {
           "diverging": [
            [
             0,
             "#8e0152"
            ],
            [
             0.1,
             "#c51b7d"
            ],
            [
             0.2,
             "#de77ae"
            ],
            [
             0.3,
             "#f1b6da"
            ],
            [
             0.4,
             "#fde0ef"
            ],
            [
             0.5,
             "#f7f7f7"
            ],
            [
             0.6,
             "#e6f5d0"
            ],
            [
             0.7,
             "#b8e186"
            ],
            [
             0.8,
             "#7fbc41"
            ],
            [
             0.9,
             "#4d9221"
            ],
            [
             1,
             "#276419"
            ]
           ],
           "sequential": [
            [
             0,
             "#0d0887"
            ],
            [
             0.1111111111111111,
             "#46039f"
            ],
            [
             0.2222222222222222,
             "#7201a8"
            ],
            [
             0.3333333333333333,
             "#9c179e"
            ],
            [
             0.4444444444444444,
             "#bd3786"
            ],
            [
             0.5555555555555556,
             "#d8576b"
            ],
            [
             0.6666666666666666,
             "#ed7953"
            ],
            [
             0.7777777777777778,
             "#fb9f3a"
            ],
            [
             0.8888888888888888,
             "#fdca26"
            ],
            [
             1,
             "#f0f921"
            ]
           ],
           "sequentialminus": [
            [
             0,
             "#0d0887"
            ],
            [
             0.1111111111111111,
             "#46039f"
            ],
            [
             0.2222222222222222,
             "#7201a8"
            ],
            [
             0.3333333333333333,
             "#9c179e"
            ],
            [
             0.4444444444444444,
             "#bd3786"
            ],
            [
             0.5555555555555556,
             "#d8576b"
            ],
            [
             0.6666666666666666,
             "#ed7953"
            ],
            [
             0.7777777777777778,
             "#fb9f3a"
            ],
            [
             0.8888888888888888,
             "#fdca26"
            ],
            [
             1,
             "#f0f921"
            ]
           ]
          },
          "colorway": [
           "#636efa",
           "#EF553B",
           "#00cc96",
           "#ab63fa",
           "#FFA15A",
           "#19d3f3",
           "#FF6692",
           "#B6E880",
           "#FF97FF",
           "#FECB52"
          ],
          "font": {
           "color": "#2a3f5f"
          },
          "geo": {
           "bgcolor": "white",
           "lakecolor": "white",
           "landcolor": "#E5ECF6",
           "showlakes": true,
           "showland": true,
           "subunitcolor": "white"
          },
          "hoverlabel": {
           "align": "left"
          },
          "hovermode": "closest",
          "mapbox": {
           "style": "light"
          },
          "paper_bgcolor": "white",
          "plot_bgcolor": "#E5ECF6",
          "polar": {
           "angularaxis": {
            "gridcolor": "white",
            "linecolor": "white",
            "ticks": ""
           },
           "bgcolor": "#E5ECF6",
           "radialaxis": {
            "gridcolor": "white",
            "linecolor": "white",
            "ticks": ""
           }
          },
          "scene": {
           "xaxis": {
            "backgroundcolor": "#E5ECF6",
            "gridcolor": "white",
            "gridwidth": 2,
            "linecolor": "white",
            "showbackground": true,
            "ticks": "",
            "zerolinecolor": "white"
           },
           "yaxis": {
            "backgroundcolor": "#E5ECF6",
            "gridcolor": "white",
            "gridwidth": 2,
            "linecolor": "white",
            "showbackground": true,
            "ticks": "",
            "zerolinecolor": "white"
           },
           "zaxis": {
            "backgroundcolor": "#E5ECF6",
            "gridcolor": "white",
            "gridwidth": 2,
            "linecolor": "white",
            "showbackground": true,
            "ticks": "",
            "zerolinecolor": "white"
           }
          },
          "shapedefaults": {
           "line": {
            "color": "#2a3f5f"
           }
          },
          "ternary": {
           "aaxis": {
            "gridcolor": "white",
            "linecolor": "white",
            "ticks": ""
           },
           "baxis": {
            "gridcolor": "white",
            "linecolor": "white",
            "ticks": ""
           },
           "bgcolor": "#E5ECF6",
           "caxis": {
            "gridcolor": "white",
            "linecolor": "white",
            "ticks": ""
           }
          },
          "title": {
           "x": 0.05
          },
          "xaxis": {
           "automargin": true,
           "gridcolor": "white",
           "linecolor": "white",
           "ticks": "",
           "title": {
            "standoff": 15
           },
           "zerolinecolor": "white",
           "zerolinewidth": 2
          },
          "yaxis": {
           "automargin": true,
           "gridcolor": "white",
           "linecolor": "white",
           "ticks": "",
           "title": {
            "standoff": 15
           },
           "zerolinecolor": "white",
           "zerolinewidth": 2
          }
         }
        },
        "title": {
         "text": "Scatter Plot: Scenario Similarity vs Extra Percent"
        },
        "xaxis": {
         "anchor": "y",
         "domain": [
          0,
          0.15
         ],
         "tickmode": "array",
         "tickvals": [
          0,
          1,
          2,
          3,
          4
         ],
         "title": {
          "text": "Extra Percent"
         }
        },
        "xaxis2": {
         "anchor": "y2",
         "domain": [
          0.16999999999999998,
          0.31999999999999995
         ],
         "matches": "x",
         "tickmode": "array",
         "tickvals": [
          0,
          1,
          2,
          3,
          4
         ],
         "title": {
          "text": "Extra Percent"
         }
        },
        "xaxis3": {
         "anchor": "y3",
         "domain": [
          0.33999999999999997,
          0.49
         ],
         "matches": "x",
         "tickmode": "array",
         "tickvals": [
          0,
          1,
          2,
          3,
          4
         ],
         "title": {
          "text": "Extra Percent"
         }
        },
        "xaxis4": {
         "anchor": "y4",
         "domain": [
          0.51,
          0.66
         ],
         "matches": "x",
         "tickmode": "array",
         "tickvals": [
          0,
          1,
          2,
          3,
          4
         ],
         "title": {
          "text": "Extra Percent"
         }
        },
        "xaxis5": {
         "anchor": "y5",
         "domain": [
          0.6799999999999999,
          0.83
         ],
         "matches": "x",
         "tickmode": "array",
         "tickvals": [
          0,
          1,
          2,
          3,
          4
         ],
         "title": {
          "text": "Extra Percent"
         }
        },
        "xaxis6": {
         "anchor": "y6",
         "domain": [
          0.85,
          1
         ],
         "matches": "x",
         "tickmode": "array",
         "tickvals": [
          0,
          1,
          2,
          3,
          4
         ],
         "title": {
          "text": "Extra Percent"
         }
        },
        "yaxis": {
         "anchor": "x",
         "domain": [
          0,
          1
         ],
         "title": {
          "text": "Scenario Similarity"
         }
        },
        "yaxis2": {
         "anchor": "x2",
         "domain": [
          0,
          1
         ],
         "matches": "y",
         "showticklabels": false
        },
        "yaxis3": {
         "anchor": "x3",
         "domain": [
          0,
          1
         ],
         "matches": "y",
         "showticklabels": false
        },
        "yaxis4": {
         "anchor": "x4",
         "domain": [
          0,
          1
         ],
         "matches": "y",
         "showticklabels": false
        },
        "yaxis5": {
         "anchor": "x5",
         "domain": [
          0,
          1
         ],
         "matches": "y",
         "showticklabels": false
        },
        "yaxis6": {
         "anchor": "x6",
         "domain": [
          0,
          1
         ],
         "matches": "y",
         "showticklabels": false
        }
       }
      }
     },
     "metadata": {},
     "output_type": "display_data"
    }
   ],
   "source": [
    "import plotly.express as px\n",
    "import numpy as np\n",
    "\n",
    "# Copiando o dataframe e convertendo Count_Main_Var para string\n",
    "df1 = df.copy()\n",
    "df1['Count_Main_Var'] = df['Count_Main_Var'].astype(str)\n",
    "\n",
    "# Criando um jitter nos valores de 'Scenario Similarity' para espalhar os pontos\n",
    "df1['Scenario Similarity Jitter'] = df['Scenario Similarity'] + np.random.normal(0, 0.005, size=len(df))\n",
    "\n",
    "# Criando o scatter plot com subgráficos (facetas) por categoria de Count_Main_Var\n",
    "fig = px.scatter(\n",
    "    df1,\n",
    "    x='Count_Extra_Var',\n",
    "    y='Scenario Similarity',\n",
    "    color='Count_Main_Var',\n",
    "    facet_col='Count_Main_Var',  # Cria subgráficos para cada categoria\n",
    "    title='Scatter Plot: Scenario Similarity vs Extra Percent',\n",
    "    labels={\n",
    "        'Count_Extra_Var': 'Extra Percent',\n",
    "        'Scenario Similarity': 'Scenario Similarity'\n",
    "    },\n",
    "    hover_data={'Scenario': True}  # Adiciona a coluna 'Scenario' aos hints\n",
    ")\n",
    "\n",
    "# Ajusta os eixos para exibir apenas valores existentes\n",
    "fig.update_xaxes(\n",
    "    tickmode='array',\n",
    "    tickvals=df1['Count_Extra_Var'].unique()\n",
    ")\n",
    "\n",
    "# Exibindo o gráfico\n",
    "fig.show()\n"
   ]
  }
 ],
 "metadata": {
  "kernelspec": {
   "display_name": "USAS",
   "language": "python",
   "name": "python3"
  },
  "language_info": {
   "codemirror_mode": {
    "name": "ipython",
    "version": 3
   },
   "file_extension": ".py",
   "mimetype": "text/x-python",
   "name": "python",
   "nbconvert_exporter": "python",
   "pygments_lexer": "ipython3",
   "version": "3.11.9"
  }
 },
 "nbformat": 4,
 "nbformat_minor": 2
}
