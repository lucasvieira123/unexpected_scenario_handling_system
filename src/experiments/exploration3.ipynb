{
 "cells": [
  {
   "cell_type": "code",
   "execution_count": 920,
   "metadata": {},
   "outputs": [],
   "source": [
    "import pandas as pd\n",
    "import re\n",
    "import plotly.express as px\n",
    "import numpy as np\n",
    "from sklearn.preprocessing import MinMaxScaler\n",
    "# Configurar o Pandas para exibir todas as linhas do DataFrame\n",
    "pd.set_option('display.max_rows', None)"
   ]
  },
  {
   "cell_type": "markdown",
   "metadata": {},
   "source": [
    "### RQ2.3\n",
    "varying the number of the parameters in both the given and then clauses"
   ]
  },
  {
   "cell_type": "code",
   "execution_count": 921,
   "metadata": {},
   "outputs": [],
   "source": [
    "current_result = \"3_shared_scenarios_results\""
   ]
  },
  {
   "cell_type": "code",
   "execution_count": 922,
   "metadata": {},
   "outputs": [],
   "source": [
    "file_path = f'res/outcome/similarities/{current_result}.csv'\n",
    "df = pd.read_csv(file_path, sep=';')"
   ]
  },
  {
   "cell_type": "code",
   "execution_count": 923,
   "metadata": {},
   "outputs": [
    {
     "data": {
      "text/html": [
       "<div>\n",
       "<style scoped>\n",
       "    .dataframe tbody tr th:only-of-type {\n",
       "        vertical-align: middle;\n",
       "    }\n",
       "\n",
       "    .dataframe tbody tr th {\n",
       "        vertical-align: top;\n",
       "    }\n",
       "\n",
       "    .dataframe thead th {\n",
       "        text-align: right;\n",
       "    }\n",
       "</style>\n",
       "<table border=\"1\" class=\"dataframe\">\n",
       "  <thead>\n",
       "    <tr style=\"text-align: right;\">\n",
       "      <th></th>\n",
       "      <th>Scenario</th>\n",
       "      <th>Desired Given DNF</th>\n",
       "      <th>Shared Given DNF</th>\n",
       "      <th>Penality Given</th>\n",
       "      <th>Global Similarity Given</th>\n",
       "      <th>Final Similarity Given</th>\n",
       "      <th>Desired When DNF</th>\n",
       "      <th>Shared When DNF</th>\n",
       "      <th>Penality When</th>\n",
       "      <th>Global Similarity When</th>\n",
       "      <th>Final Similarity When</th>\n",
       "      <th>Desired Then DNF</th>\n",
       "      <th>Shared Then DNF</th>\n",
       "      <th>Penality Then</th>\n",
       "      <th>Global Similarity Then</th>\n",
       "      <th>Final Similarity Then</th>\n",
       "      <th>Scenario Similarity</th>\n",
       "      <th>Action</th>\n",
       "    </tr>\n",
       "  </thead>\n",
       "  <tbody>\n",
       "    <tr>\n",
       "      <th>0</th>\n",
       "      <td>Candidate_230</td>\n",
       "      <td>battery &gt; 10 AND satellite_count &gt; 7 AND wind_...</td>\n",
       "      <td>battery &gt;= 10 AND satellite_count &gt;= 7 AND win...</td>\n",
       "      <td>0.000000</td>\n",
       "      <td>1.0</td>\n",
       "      <td>1.000000</td>\n",
       "      <td>takeoff == 1</td>\n",
       "      <td>takeoff == 1</td>\n",
       "      <td>0.0</td>\n",
       "      <td>1.0</td>\n",
       "      <td>1.0</td>\n",
       "      <td>height &gt; 30 AND source_distance == 0</td>\n",
       "      <td>height &gt;= 30 AND source_distance == 0</td>\n",
       "      <td>0.000000</td>\n",
       "      <td>1.0</td>\n",
       "      <td>1.000000</td>\n",
       "      <td>1.000000</td>\n",
       "      <td>behavior_230</td>\n",
       "    </tr>\n",
       "    <tr>\n",
       "      <th>1</th>\n",
       "      <td>Candidate_380</td>\n",
       "      <td>battery &gt; 10 AND satellite_count &gt; 7 AND wind_...</td>\n",
       "      <td>battery &gt;= 10 AND satellite_count &gt;= 7 AND win...</td>\n",
       "      <td>0.032258</td>\n",
       "      <td>1.0</td>\n",
       "      <td>0.967742</td>\n",
       "      <td>takeoff == 1</td>\n",
       "      <td>takeoff == 1</td>\n",
       "      <td>0.0</td>\n",
       "      <td>1.0</td>\n",
       "      <td>1.0</td>\n",
       "      <td>height &gt; 30 AND source_distance == 0</td>\n",
       "      <td>height &gt;= 30 AND source_distance == 0</td>\n",
       "      <td>0.000000</td>\n",
       "      <td>1.0</td>\n",
       "      <td>1.000000</td>\n",
       "      <td>0.989247</td>\n",
       "      <td>behavior_380</td>\n",
       "    </tr>\n",
       "    <tr>\n",
       "      <th>2</th>\n",
       "      <td>Candidate_395</td>\n",
       "      <td>battery &gt; 10 AND satellite_count &gt; 7 AND wind_...</td>\n",
       "      <td>battery &gt;= 10 AND satellite_count &gt;= 7 AND win...</td>\n",
       "      <td>0.032258</td>\n",
       "      <td>1.0</td>\n",
       "      <td>0.967742</td>\n",
       "      <td>takeoff == 1</td>\n",
       "      <td>takeoff == 1</td>\n",
       "      <td>0.0</td>\n",
       "      <td>1.0</td>\n",
       "      <td>1.0</td>\n",
       "      <td>height &gt; 30 AND source_distance == 0</td>\n",
       "      <td>height &gt;= 30 AND source_distance == 0</td>\n",
       "      <td>0.000000</td>\n",
       "      <td>1.0</td>\n",
       "      <td>1.000000</td>\n",
       "      <td>0.989247</td>\n",
       "      <td>behavior_395</td>\n",
       "    </tr>\n",
       "    <tr>\n",
       "      <th>3</th>\n",
       "      <td>Candidate_236</td>\n",
       "      <td>battery &gt; 10 AND satellite_count &gt; 7 AND wind_...</td>\n",
       "      <td>battery &gt;= 10 AND satellite_count &gt;= 7 AND win...</td>\n",
       "      <td>0.000000</td>\n",
       "      <td>1.0</td>\n",
       "      <td>1.000000</td>\n",
       "      <td>takeoff == 1</td>\n",
       "      <td>takeoff == 1</td>\n",
       "      <td>0.0</td>\n",
       "      <td>1.0</td>\n",
       "      <td>1.0</td>\n",
       "      <td>height &gt; 30 AND source_distance == 0</td>\n",
       "      <td>height &gt;= 30 AND source_distance == 0 AND a &gt; 10</td>\n",
       "      <td>0.047619</td>\n",
       "      <td>1.0</td>\n",
       "      <td>0.952381</td>\n",
       "      <td>0.984127</td>\n",
       "      <td>behavior_236</td>\n",
       "    </tr>\n",
       "    <tr>\n",
       "      <th>4</th>\n",
       "      <td>Candidate_237</td>\n",
       "      <td>battery &gt; 10 AND satellite_count &gt; 7 AND wind_...</td>\n",
       "      <td>battery &gt;= 10 AND satellite_count &gt;= 7 AND win...</td>\n",
       "      <td>0.000000</td>\n",
       "      <td>1.0</td>\n",
       "      <td>1.000000</td>\n",
       "      <td>takeoff == 1</td>\n",
       "      <td>takeoff == 1</td>\n",
       "      <td>0.0</td>\n",
       "      <td>1.0</td>\n",
       "      <td>1.0</td>\n",
       "      <td>height &gt; 30 AND source_distance == 0</td>\n",
       "      <td>height &gt;= 30 AND source_distance == 0 AND b &gt; 10</td>\n",
       "      <td>0.047619</td>\n",
       "      <td>1.0</td>\n",
       "      <td>0.952381</td>\n",
       "      <td>0.984127</td>\n",
       "      <td>behavior_237</td>\n",
       "    </tr>\n",
       "    <tr>\n",
       "      <th>5</th>\n",
       "      <td>Candidate_455</td>\n",
       "      <td>battery &gt; 10 AND satellite_count &gt; 7 AND wind_...</td>\n",
       "      <td>battery &gt;= 10 AND satellite_count &gt;= 7 AND win...</td>\n",
       "      <td>0.062500</td>\n",
       "      <td>1.0</td>\n",
       "      <td>0.937500</td>\n",
       "      <td>takeoff == 1</td>\n",
       "      <td>takeoff == 1</td>\n",
       "      <td>0.0</td>\n",
       "      <td>1.0</td>\n",
       "      <td>1.0</td>\n",
       "      <td>height &gt; 30 AND source_distance == 0</td>\n",
       "      <td>height &gt;= 30 AND source_distance == 0</td>\n",
       "      <td>0.000000</td>\n",
       "      <td>1.0</td>\n",
       "      <td>1.000000</td>\n",
       "      <td>0.979167</td>\n",
       "      <td>behavior_455</td>\n",
       "    </tr>\n",
       "    <tr>\n",
       "      <th>6</th>\n",
       "      <td>Candidate_386</td>\n",
       "      <td>battery &gt; 10 AND satellite_count &gt; 7 AND wind_...</td>\n",
       "      <td>battery &gt;= 10 AND satellite_count &gt;= 7 AND win...</td>\n",
       "      <td>0.032258</td>\n",
       "      <td>1.0</td>\n",
       "      <td>0.967742</td>\n",
       "      <td>takeoff == 1</td>\n",
       "      <td>takeoff == 1</td>\n",
       "      <td>0.0</td>\n",
       "      <td>1.0</td>\n",
       "      <td>1.0</td>\n",
       "      <td>height &gt; 30 AND source_distance == 0</td>\n",
       "      <td>height &gt;= 30 AND source_distance == 0 AND a &gt; 10</td>\n",
       "      <td>0.047619</td>\n",
       "      <td>1.0</td>\n",
       "      <td>0.952381</td>\n",
       "      <td>0.973374</td>\n",
       "      <td>behavior_386</td>\n",
       "    </tr>\n",
       "    <tr>\n",
       "      <th>7</th>\n",
       "      <td>Candidate_387</td>\n",
       "      <td>battery &gt; 10 AND satellite_count &gt; 7 AND wind_...</td>\n",
       "      <td>battery &gt;= 10 AND satellite_count &gt;= 7 AND win...</td>\n",
       "      <td>0.032258</td>\n",
       "      <td>1.0</td>\n",
       "      <td>0.967742</td>\n",
       "      <td>takeoff == 1</td>\n",
       "      <td>takeoff == 1</td>\n",
       "      <td>0.0</td>\n",
       "      <td>1.0</td>\n",
       "      <td>1.0</td>\n",
       "      <td>height &gt; 30 AND source_distance == 0</td>\n",
       "      <td>height &gt;= 30 AND source_distance == 0 AND b &gt; 10</td>\n",
       "      <td>0.047619</td>\n",
       "      <td>1.0</td>\n",
       "      <td>0.952381</td>\n",
       "      <td>0.973374</td>\n",
       "      <td>behavior_387</td>\n",
       "    </tr>\n",
       "    <tr>\n",
       "      <th>8</th>\n",
       "      <td>Candidate_401</td>\n",
       "      <td>battery &gt; 10 AND satellite_count &gt; 7 AND wind_...</td>\n",
       "      <td>battery &gt;= 10 AND satellite_count &gt;= 7 AND win...</td>\n",
       "      <td>0.032258</td>\n",
       "      <td>1.0</td>\n",
       "      <td>0.967742</td>\n",
       "      <td>takeoff == 1</td>\n",
       "      <td>takeoff == 1</td>\n",
       "      <td>0.0</td>\n",
       "      <td>1.0</td>\n",
       "      <td>1.0</td>\n",
       "      <td>height &gt; 30 AND source_distance == 0</td>\n",
       "      <td>height &gt;= 30 AND source_distance == 0 AND a &gt; 10</td>\n",
       "      <td>0.047619</td>\n",
       "      <td>1.0</td>\n",
       "      <td>0.952381</td>\n",
       "      <td>0.973374</td>\n",
       "      <td>behavior_401</td>\n",
       "    </tr>\n",
       "    <tr>\n",
       "      <th>9</th>\n",
       "      <td>Candidate_402</td>\n",
       "      <td>battery &gt; 10 AND satellite_count &gt; 7 AND wind_...</td>\n",
       "      <td>battery &gt;= 10 AND satellite_count &gt;= 7 AND win...</td>\n",
       "      <td>0.032258</td>\n",
       "      <td>1.0</td>\n",
       "      <td>0.967742</td>\n",
       "      <td>takeoff == 1</td>\n",
       "      <td>takeoff == 1</td>\n",
       "      <td>0.0</td>\n",
       "      <td>1.0</td>\n",
       "      <td>1.0</td>\n",
       "      <td>height &gt; 30 AND source_distance == 0</td>\n",
       "      <td>height &gt;= 30 AND source_distance == 0 AND b &gt; 10</td>\n",
       "      <td>0.047619</td>\n",
       "      <td>1.0</td>\n",
       "      <td>0.952381</td>\n",
       "      <td>0.973374</td>\n",
       "      <td>behavior_402</td>\n",
       "    </tr>\n",
       "  </tbody>\n",
       "</table>\n",
       "</div>"
      ],
      "text/plain": [
       "        Scenario                                  Desired Given DNF  \\\n",
       "0  Candidate_230  battery > 10 AND satellite_count > 7 AND wind_...   \n",
       "1  Candidate_380  battery > 10 AND satellite_count > 7 AND wind_...   \n",
       "2  Candidate_395  battery > 10 AND satellite_count > 7 AND wind_...   \n",
       "3  Candidate_236  battery > 10 AND satellite_count > 7 AND wind_...   \n",
       "4  Candidate_237  battery > 10 AND satellite_count > 7 AND wind_...   \n",
       "5  Candidate_455  battery > 10 AND satellite_count > 7 AND wind_...   \n",
       "6  Candidate_386  battery > 10 AND satellite_count > 7 AND wind_...   \n",
       "7  Candidate_387  battery > 10 AND satellite_count > 7 AND wind_...   \n",
       "8  Candidate_401  battery > 10 AND satellite_count > 7 AND wind_...   \n",
       "9  Candidate_402  battery > 10 AND satellite_count > 7 AND wind_...   \n",
       "\n",
       "                                    Shared Given DNF  Penality Given  \\\n",
       "0  battery >= 10 AND satellite_count >= 7 AND win...        0.000000   \n",
       "1  battery >= 10 AND satellite_count >= 7 AND win...        0.032258   \n",
       "2  battery >= 10 AND satellite_count >= 7 AND win...        0.032258   \n",
       "3  battery >= 10 AND satellite_count >= 7 AND win...        0.000000   \n",
       "4  battery >= 10 AND satellite_count >= 7 AND win...        0.000000   \n",
       "5  battery >= 10 AND satellite_count >= 7 AND win...        0.062500   \n",
       "6  battery >= 10 AND satellite_count >= 7 AND win...        0.032258   \n",
       "7  battery >= 10 AND satellite_count >= 7 AND win...        0.032258   \n",
       "8  battery >= 10 AND satellite_count >= 7 AND win...        0.032258   \n",
       "9  battery >= 10 AND satellite_count >= 7 AND win...        0.032258   \n",
       "\n",
       "   Global Similarity Given  Final Similarity Given Desired When DNF  \\\n",
       "0                      1.0                1.000000     takeoff == 1   \n",
       "1                      1.0                0.967742     takeoff == 1   \n",
       "2                      1.0                0.967742     takeoff == 1   \n",
       "3                      1.0                1.000000     takeoff == 1   \n",
       "4                      1.0                1.000000     takeoff == 1   \n",
       "5                      1.0                0.937500     takeoff == 1   \n",
       "6                      1.0                0.967742     takeoff == 1   \n",
       "7                      1.0                0.967742     takeoff == 1   \n",
       "8                      1.0                0.967742     takeoff == 1   \n",
       "9                      1.0                0.967742     takeoff == 1   \n",
       "\n",
       "  Shared When DNF  Penality When  Global Similarity When  \\\n",
       "0    takeoff == 1            0.0                     1.0   \n",
       "1    takeoff == 1            0.0                     1.0   \n",
       "2    takeoff == 1            0.0                     1.0   \n",
       "3    takeoff == 1            0.0                     1.0   \n",
       "4    takeoff == 1            0.0                     1.0   \n",
       "5    takeoff == 1            0.0                     1.0   \n",
       "6    takeoff == 1            0.0                     1.0   \n",
       "7    takeoff == 1            0.0                     1.0   \n",
       "8    takeoff == 1            0.0                     1.0   \n",
       "9    takeoff == 1            0.0                     1.0   \n",
       "\n",
       "   Final Similarity When                      Desired Then DNF  \\\n",
       "0                    1.0  height > 30 AND source_distance == 0   \n",
       "1                    1.0  height > 30 AND source_distance == 0   \n",
       "2                    1.0  height > 30 AND source_distance == 0   \n",
       "3                    1.0  height > 30 AND source_distance == 0   \n",
       "4                    1.0  height > 30 AND source_distance == 0   \n",
       "5                    1.0  height > 30 AND source_distance == 0   \n",
       "6                    1.0  height > 30 AND source_distance == 0   \n",
       "7                    1.0  height > 30 AND source_distance == 0   \n",
       "8                    1.0  height > 30 AND source_distance == 0   \n",
       "9                    1.0  height > 30 AND source_distance == 0   \n",
       "\n",
       "                                    Shared Then DNF  Penality Then  \\\n",
       "0             height >= 30 AND source_distance == 0       0.000000   \n",
       "1             height >= 30 AND source_distance == 0       0.000000   \n",
       "2             height >= 30 AND source_distance == 0       0.000000   \n",
       "3  height >= 30 AND source_distance == 0 AND a > 10       0.047619   \n",
       "4  height >= 30 AND source_distance == 0 AND b > 10       0.047619   \n",
       "5             height >= 30 AND source_distance == 0       0.000000   \n",
       "6  height >= 30 AND source_distance == 0 AND a > 10       0.047619   \n",
       "7  height >= 30 AND source_distance == 0 AND b > 10       0.047619   \n",
       "8  height >= 30 AND source_distance == 0 AND a > 10       0.047619   \n",
       "9  height >= 30 AND source_distance == 0 AND b > 10       0.047619   \n",
       "\n",
       "   Global Similarity Then  Final Similarity Then  Scenario Similarity  \\\n",
       "0                     1.0               1.000000             1.000000   \n",
       "1                     1.0               1.000000             0.989247   \n",
       "2                     1.0               1.000000             0.989247   \n",
       "3                     1.0               0.952381             0.984127   \n",
       "4                     1.0               0.952381             0.984127   \n",
       "5                     1.0               1.000000             0.979167   \n",
       "6                     1.0               0.952381             0.973374   \n",
       "7                     1.0               0.952381             0.973374   \n",
       "8                     1.0               0.952381             0.973374   \n",
       "9                     1.0               0.952381             0.973374   \n",
       "\n",
       "         Action  \n",
       "0  behavior_230  \n",
       "1  behavior_380  \n",
       "2  behavior_395  \n",
       "3  behavior_236  \n",
       "4  behavior_237  \n",
       "5  behavior_455  \n",
       "6  behavior_386  \n",
       "7  behavior_387  \n",
       "8  behavior_401  \n",
       "9  behavior_402  "
      ]
     },
     "execution_count": 923,
     "metadata": {},
     "output_type": "execute_result"
    }
   ],
   "source": [
    "df.head(10)"
   ]
  },
  {
   "cell_type": "code",
   "execution_count": 924,
   "metadata": {},
   "outputs": [],
   "source": [
    "main_var = [\"battery\",\"satellite_count\",\"wind_speed\",\"height\",\"source_distance\"]\n",
    "extra_var = [\"a\", \"b\"]\n",
    "\n",
    "def count_vars(column, vars_list):\n",
    "    def match_structure(text):\n",
    "        # Regex para identificar \"variável operador valor\"\n",
    "        pattern = r'(\\b{}\\b\\s*[<>=!]+\\s*\\S+)'.format('|'.join(vars_list))\n",
    "        matches = re.findall(pattern, str(text))\n",
    "        return len(matches)\n",
    "\n",
    "    return column.apply(match_structure)\n",
    "\n",
    "# Criar colunas de contagem para 'Shared Given DNF' e 'Shared Then DNF'\n",
    "df['Count_Main_Var_Given'] = count_vars(df['Shared Given DNF'], main_var)\n",
    "df['Count_Extra_Var_Given'] = count_vars(df['Shared Given DNF'], extra_var)\n",
    "df['Count_Main_Var_Then'] = count_vars(df['Shared Then DNF'], main_var)\n",
    "df['Count_Extra_Var_Then'] = count_vars(df['Shared Then DNF'], extra_var)\n",
    "\n",
    "df[\"Count_Main_Var\"] = df[\"Count_Main_Var_Given\"] + df[\"Count_Main_Var_Then\"]\n",
    "df[\"Count_Extra_Var\"] = df[\"Count_Extra_Var_Given\"] + df[\"Count_Extra_Var_Then\"]"
   ]
  },
  {
   "cell_type": "code",
   "execution_count": 925,
   "metadata": {},
   "outputs": [],
   "source": [
    "# # aplicado a normalizacao para FICAR MAIS EVIDENTE A DIFERENÇA ENTRE AS SIMILARIDADES\n",
    "# scaler = MinMaxScaler(feature_range=(0, 1))  # Intervalo de 0 a 1\n",
    "# df['Normalized_Similarity'] = scaler.fit_transform(df[['Scenario Similarity']])"
   ]
  },
  {
   "cell_type": "code",
   "execution_count": 926,
   "metadata": {},
   "outputs": [],
   "source": [
    "# # ESCALA LOGARITMA PARA FICAR MAIS EVIDENTE A DIFERENÇA ENTRE AS SIMILARIDADES\n",
    "# df['Scaled_Similarity'] = np.power(df['Scenario Similarity'], 2)"
   ]
  },
  {
   "cell_type": "code",
   "execution_count": 927,
   "metadata": {},
   "outputs": [],
   "source": [
    "# def score_scale_fun(X, scores_old_min, scores_old_max, scores_new_min=0, scores_new_max=1):      \n",
    "#     X = scores_new_max - ((scores_new_max - scores_new_min) * (scores_old_max - X) / (scores_old_max - scores_old_min))      \n",
    "#     return X\n",
    "\n",
    "# def exp_scale_fun(X, exponent=-1):      \n",
    "#     X_transformed = (X + 1)**(exponent)      \n",
    "#     if exponent < 0:          \n",
    "#         X_transformed = 1 - X_transformed      \n",
    "#         X_transformed_scaled = score_scale_fun(X_transformed, X_transformed.min(), X_transformed.max(), X.min(), X.max())\n",
    "#     return X_transformed_scaled  "
   ]
  },
  {
   "cell_type": "code",
   "execution_count": 928,
   "metadata": {},
   "outputs": [],
   "source": [
    "# df['similarity_error'] = 1-df['Scenario Similarity']"
   ]
  },
  {
   "cell_type": "code",
   "execution_count": 929,
   "metadata": {},
   "outputs": [],
   "source": [
    "# # for exponent in [-1, -2.5, -5, -10, -20]:      \n",
    "# df['exponent_similarity_error'] = exp_scale_fun(df[\"similarity_error\"], exponent=-20)\n",
    "# # df.head()  "
   ]
  },
  {
   "cell_type": "code",
   "execution_count": 930,
   "metadata": {},
   "outputs": [],
   "source": [
    "# df['Count_Main_Var_Given'] = df['Count_Main_Var_Given'].astype(str)"
   ]
  },
  {
   "cell_type": "code",
   "execution_count": 931,
   "metadata": {},
   "outputs": [],
   "source": [
    "df['Scenario Similarity']=df['Scenario Similarity'].round(3)"
   ]
  },
  {
   "cell_type": "code",
   "execution_count": 932,
   "metadata": {},
   "outputs": [],
   "source": [
    "df[\"delta_main_given\"] = abs(df[\"Count_Main_Var_Given\"] - 3)\n",
    "df[\"delta_main_then\"] = abs(df[\"Count_Main_Var_Then\"] - 2)\n",
    "df[\"delta_main_total\"] = df[\"delta_main_given\"] + df[\"delta_main_then\"]"
   ]
  },
  {
   "cell_type": "code",
   "execution_count": 933,
   "metadata": {},
   "outputs": [
    {
     "data": {
      "text/html": [
       "<div>\n",
       "<style scoped>\n",
       "    .dataframe tbody tr th:only-of-type {\n",
       "        vertical-align: middle;\n",
       "    }\n",
       "\n",
       "    .dataframe tbody tr th {\n",
       "        vertical-align: top;\n",
       "    }\n",
       "\n",
       "    .dataframe thead th {\n",
       "        text-align: right;\n",
       "    }\n",
       "</style>\n",
       "<table border=\"1\" class=\"dataframe\">\n",
       "  <thead>\n",
       "    <tr style=\"text-align: right;\">\n",
       "      <th></th>\n",
       "      <th>Scenario Similarity</th>\n",
       "      <th>Count_Main_Var_Given</th>\n",
       "      <th>delta_main_given</th>\n",
       "      <th>Count_Main_Var_Then</th>\n",
       "      <th>delta_main_then</th>\n",
       "      <th>delta_main_total</th>\n",
       "      <th>Count_Main_Var</th>\n",
       "      <th>Count_Extra_Var_Given</th>\n",
       "      <th>Count_Extra_Var_Then</th>\n",
       "      <th>Count_Extra_Var</th>\n",
       "    </tr>\n",
       "  </thead>\n",
       "  <tbody>\n",
       "    <tr>\n",
       "      <th>0</th>\n",
       "      <td>1.000</td>\n",
       "      <td>3</td>\n",
       "      <td>0</td>\n",
       "      <td>2</td>\n",
       "      <td>0</td>\n",
       "      <td>0</td>\n",
       "      <td>5</td>\n",
       "      <td>0</td>\n",
       "      <td>0</td>\n",
       "      <td>0</td>\n",
       "    </tr>\n",
       "    <tr>\n",
       "      <th>1</th>\n",
       "      <td>0.989</td>\n",
       "      <td>3</td>\n",
       "      <td>0</td>\n",
       "      <td>2</td>\n",
       "      <td>0</td>\n",
       "      <td>0</td>\n",
       "      <td>5</td>\n",
       "      <td>1</td>\n",
       "      <td>0</td>\n",
       "      <td>1</td>\n",
       "    </tr>\n",
       "    <tr>\n",
       "      <th>2</th>\n",
       "      <td>0.989</td>\n",
       "      <td>3</td>\n",
       "      <td>0</td>\n",
       "      <td>2</td>\n",
       "      <td>0</td>\n",
       "      <td>0</td>\n",
       "      <td>5</td>\n",
       "      <td>1</td>\n",
       "      <td>0</td>\n",
       "      <td>1</td>\n",
       "    </tr>\n",
       "    <tr>\n",
       "      <th>3</th>\n",
       "      <td>0.984</td>\n",
       "      <td>3</td>\n",
       "      <td>0</td>\n",
       "      <td>2</td>\n",
       "      <td>0</td>\n",
       "      <td>0</td>\n",
       "      <td>5</td>\n",
       "      <td>0</td>\n",
       "      <td>1</td>\n",
       "      <td>1</td>\n",
       "    </tr>\n",
       "    <tr>\n",
       "      <th>4</th>\n",
       "      <td>0.984</td>\n",
       "      <td>3</td>\n",
       "      <td>0</td>\n",
       "      <td>2</td>\n",
       "      <td>0</td>\n",
       "      <td>0</td>\n",
       "      <td>5</td>\n",
       "      <td>0</td>\n",
       "      <td>1</td>\n",
       "      <td>1</td>\n",
       "    </tr>\n",
       "    <tr>\n",
       "      <th>5</th>\n",
       "      <td>0.979</td>\n",
       "      <td>3</td>\n",
       "      <td>0</td>\n",
       "      <td>2</td>\n",
       "      <td>0</td>\n",
       "      <td>0</td>\n",
       "      <td>5</td>\n",
       "      <td>2</td>\n",
       "      <td>0</td>\n",
       "      <td>2</td>\n",
       "    </tr>\n",
       "    <tr>\n",
       "      <th>6</th>\n",
       "      <td>0.973</td>\n",
       "      <td>3</td>\n",
       "      <td>0</td>\n",
       "      <td>2</td>\n",
       "      <td>0</td>\n",
       "      <td>0</td>\n",
       "      <td>5</td>\n",
       "      <td>1</td>\n",
       "      <td>1</td>\n",
       "      <td>2</td>\n",
       "    </tr>\n",
       "    <tr>\n",
       "      <th>7</th>\n",
       "      <td>0.973</td>\n",
       "      <td>3</td>\n",
       "      <td>0</td>\n",
       "      <td>2</td>\n",
       "      <td>0</td>\n",
       "      <td>0</td>\n",
       "      <td>5</td>\n",
       "      <td>1</td>\n",
       "      <td>1</td>\n",
       "      <td>2</td>\n",
       "    </tr>\n",
       "    <tr>\n",
       "      <th>8</th>\n",
       "      <td>0.973</td>\n",
       "      <td>3</td>\n",
       "      <td>0</td>\n",
       "      <td>2</td>\n",
       "      <td>0</td>\n",
       "      <td>0</td>\n",
       "      <td>5</td>\n",
       "      <td>1</td>\n",
       "      <td>1</td>\n",
       "      <td>2</td>\n",
       "    </tr>\n",
       "    <tr>\n",
       "      <th>9</th>\n",
       "      <td>0.973</td>\n",
       "      <td>3</td>\n",
       "      <td>0</td>\n",
       "      <td>2</td>\n",
       "      <td>0</td>\n",
       "      <td>0</td>\n",
       "      <td>5</td>\n",
       "      <td>1</td>\n",
       "      <td>1</td>\n",
       "      <td>2</td>\n",
       "    </tr>\n",
       "  </tbody>\n",
       "</table>\n",
       "</div>"
      ],
      "text/plain": [
       "   Scenario Similarity  Count_Main_Var_Given  delta_main_given  \\\n",
       "0                1.000                     3                 0   \n",
       "1                0.989                     3                 0   \n",
       "2                0.989                     3                 0   \n",
       "3                0.984                     3                 0   \n",
       "4                0.984                     3                 0   \n",
       "5                0.979                     3                 0   \n",
       "6                0.973                     3                 0   \n",
       "7                0.973                     3                 0   \n",
       "8                0.973                     3                 0   \n",
       "9                0.973                     3                 0   \n",
       "\n",
       "   Count_Main_Var_Then  delta_main_then  delta_main_total  Count_Main_Var  \\\n",
       "0                    2                0                 0               5   \n",
       "1                    2                0                 0               5   \n",
       "2                    2                0                 0               5   \n",
       "3                    2                0                 0               5   \n",
       "4                    2                0                 0               5   \n",
       "5                    2                0                 0               5   \n",
       "6                    2                0                 0               5   \n",
       "7                    2                0                 0               5   \n",
       "8                    2                0                 0               5   \n",
       "9                    2                0                 0               5   \n",
       "\n",
       "   Count_Extra_Var_Given  Count_Extra_Var_Then  Count_Extra_Var  \n",
       "0                      0                     0                0  \n",
       "1                      1                     0                1  \n",
       "2                      1                     0                1  \n",
       "3                      0                     1                1  \n",
       "4                      0                     1                1  \n",
       "5                      2                     0                2  \n",
       "6                      1                     1                2  \n",
       "7                      1                     1                2  \n",
       "8                      1                     1                2  \n",
       "9                      1                     1                2  "
      ]
     },
     "execution_count": 933,
     "metadata": {},
     "output_type": "execute_result"
    }
   ],
   "source": [
    "df=df[['Scenario Similarity',\n",
    "       'Count_Main_Var_Given','delta_main_given',\n",
    "       'Count_Main_Var_Then','delta_main_then',\n",
    "       'delta_main_total',\n",
    "       'Count_Main_Var',\n",
    "       'Count_Extra_Var_Given','Count_Extra_Var_Then','Count_Extra_Var']]\n",
    "df.head(10)"
   ]
  },
  {
   "cell_type": "code",
   "execution_count": 934,
   "metadata": {},
   "outputs": [
    {
     "data": {
      "text/html": [
       "<div>\n",
       "<style scoped>\n",
       "    .dataframe tbody tr th:only-of-type {\n",
       "        vertical-align: middle;\n",
       "    }\n",
       "\n",
       "    .dataframe tbody tr th {\n",
       "        vertical-align: top;\n",
       "    }\n",
       "\n",
       "    .dataframe thead th {\n",
       "        text-align: right;\n",
       "    }\n",
       "</style>\n",
       "<table border=\"1\" class=\"dataframe\">\n",
       "  <thead>\n",
       "    <tr style=\"text-align: right;\">\n",
       "      <th></th>\n",
       "      <th>Scenario Similarity</th>\n",
       "      <th>delta_main_total</th>\n",
       "      <th>Count_Extra_Var</th>\n",
       "    </tr>\n",
       "  </thead>\n",
       "  <tbody>\n",
       "    <tr>\n",
       "      <th>0</th>\n",
       "      <td>1.000</td>\n",
       "      <td>0</td>\n",
       "      <td>0</td>\n",
       "    </tr>\n",
       "    <tr>\n",
       "      <th>1</th>\n",
       "      <td>0.989</td>\n",
       "      <td>0</td>\n",
       "      <td>1</td>\n",
       "    </tr>\n",
       "    <tr>\n",
       "      <th>2</th>\n",
       "      <td>0.989</td>\n",
       "      <td>0</td>\n",
       "      <td>1</td>\n",
       "    </tr>\n",
       "    <tr>\n",
       "      <th>3</th>\n",
       "      <td>0.984</td>\n",
       "      <td>0</td>\n",
       "      <td>1</td>\n",
       "    </tr>\n",
       "    <tr>\n",
       "      <th>4</th>\n",
       "      <td>0.984</td>\n",
       "      <td>0</td>\n",
       "      <td>1</td>\n",
       "    </tr>\n",
       "    <tr>\n",
       "      <th>5</th>\n",
       "      <td>0.979</td>\n",
       "      <td>0</td>\n",
       "      <td>2</td>\n",
       "    </tr>\n",
       "    <tr>\n",
       "      <th>6</th>\n",
       "      <td>0.973</td>\n",
       "      <td>0</td>\n",
       "      <td>2</td>\n",
       "    </tr>\n",
       "    <tr>\n",
       "      <th>7</th>\n",
       "      <td>0.973</td>\n",
       "      <td>0</td>\n",
       "      <td>2</td>\n",
       "    </tr>\n",
       "    <tr>\n",
       "      <th>8</th>\n",
       "      <td>0.973</td>\n",
       "      <td>0</td>\n",
       "      <td>2</td>\n",
       "    </tr>\n",
       "    <tr>\n",
       "      <th>9</th>\n",
       "      <td>0.973</td>\n",
       "      <td>0</td>\n",
       "      <td>2</td>\n",
       "    </tr>\n",
       "  </tbody>\n",
       "</table>\n",
       "</div>"
      ],
      "text/plain": [
       "   Scenario Similarity  delta_main_total  Count_Extra_Var\n",
       "0                1.000                 0                0\n",
       "1                0.989                 0                1\n",
       "2                0.989                 0                1\n",
       "3                0.984                 0                1\n",
       "4                0.984                 0                1\n",
       "5                0.979                 0                2\n",
       "6                0.973                 0                2\n",
       "7                0.973                 0                2\n",
       "8                0.973                 0                2\n",
       "9                0.973                 0                2"
      ]
     },
     "execution_count": 934,
     "metadata": {},
     "output_type": "execute_result"
    }
   ],
   "source": [
    "df[[\"Scenario Similarity\",\"delta_main_total\",\"Count_Extra_Var\"]].head(10)"
   ]
  },
  {
   "cell_type": "code",
   "execution_count": 935,
   "metadata": {},
   "outputs": [
    {
     "data": {
      "application/vnd.plotly.v1+json": {
       "config": {
        "plotlyServerURL": "https://plot.ly"
       },
       "data": [
        {
         "hovertemplate": "Unmatched Extra Variables=%{x}<br>Similarity (with Jitter)=%{y}<br>delta_main_total=%{marker.color}<extra></extra>",
         "legendgroup": "",
         "marker": {
          "color": [
           0,
           0,
           0,
           0,
           0,
           0,
           0,
           0,
           0,
           0,
           0,
           0,
           0,
           0,
           0,
           0,
           1,
           1,
           1,
           1,
           1,
           1,
           1,
           1,
           1,
           1,
           1,
           1,
           1,
           1,
           1,
           1,
           1,
           1,
           1,
           1,
           1,
           1,
           1,
           1,
           1,
           1,
           1,
           1,
           1,
           1,
           1,
           1,
           1,
           1,
           1,
           1,
           1,
           1,
           1,
           1,
           1,
           1,
           1,
           1,
           1,
           1,
           1,
           1,
           1,
           1,
           1,
           1,
           1,
           1,
           1,
           1,
           1,
           1,
           1,
           1,
           1,
           1,
           1,
           1,
           1,
           1,
           1,
           1,
           1,
           1,
           1,
           1,
           1,
           1,
           1,
           1,
           1,
           1,
           1,
           1,
           2,
           2,
           2,
           2,
           2,
           2,
           2,
           2,
           2,
           2,
           2,
           2,
           2,
           2,
           2,
           2,
           2,
           2,
           2,
           2,
           2,
           2,
           2,
           2,
           2,
           2,
           2,
           2,
           2,
           2,
           2,
           2,
           2,
           2,
           2,
           2,
           2,
           2,
           2,
           2,
           2,
           2,
           2,
           2,
           2,
           2,
           2,
           2,
           2,
           2,
           2,
           2,
           2,
           2,
           2,
           2,
           2,
           2,
           2,
           2,
           2,
           2,
           2,
           2,
           2,
           2,
           2,
           2,
           2,
           2,
           2,
           2,
           2,
           2,
           2,
           2,
           2,
           2,
           2,
           2,
           2,
           2,
           2,
           2,
           2,
           2,
           2,
           2,
           2,
           2,
           2,
           2,
           2,
           2,
           2,
           2,
           2,
           2,
           2,
           2,
           2,
           2,
           2,
           2,
           2,
           2,
           2,
           2,
           2,
           2,
           2,
           2,
           2,
           2,
           2,
           2,
           2,
           2,
           2,
           2,
           2,
           2,
           2,
           2,
           2,
           2,
           2,
           2,
           2,
           2,
           2,
           2,
           2,
           2,
           2,
           2,
           2,
           2,
           2,
           2,
           2,
           2,
           2,
           2,
           3,
           3,
           3,
           3,
           3,
           3,
           3,
           3,
           3,
           3,
           3,
           3,
           3,
           3,
           3,
           3,
           3,
           3,
           3,
           3,
           3,
           3,
           3,
           3,
           3,
           3,
           3,
           3,
           3,
           3,
           3,
           3,
           3,
           3,
           3,
           3,
           3,
           3,
           3,
           3,
           3,
           3,
           3,
           3,
           3,
           3,
           3,
           3,
           3,
           3,
           3,
           3,
           3,
           3,
           3,
           3,
           3,
           3,
           3,
           3,
           3,
           3,
           3,
           3,
           3,
           3,
           3,
           3,
           3,
           3,
           3,
           3,
           3,
           3,
           3,
           3,
           3,
           3,
           3,
           3,
           3,
           3,
           3,
           3,
           3,
           3,
           3,
           3,
           3,
           3,
           3,
           3,
           3,
           3,
           3,
           3,
           2,
           3,
           3,
           2,
           2,
           3,
           2,
           2,
           2,
           2,
           2,
           2,
           3,
           3,
           3,
           3,
           3,
           3,
           2,
           2,
           2,
           3,
           3,
           3,
           3,
           3,
           3,
           3,
           3,
           3,
           3,
           3,
           3,
           3,
           3,
           3,
           3,
           3,
           3,
           3,
           3,
           3,
           3,
           3,
           3,
           3,
           3,
           3,
           3,
           3,
           3,
           3,
           3,
           3,
           3,
           3,
           3,
           3,
           3,
           3,
           4,
           4,
           4,
           4,
           4,
           4,
           4,
           4,
           4,
           4,
           4,
           4,
           4,
           4,
           4,
           4,
           4,
           4,
           4,
           4,
           4,
           4,
           4,
           4,
           4,
           4,
           4,
           4,
           4,
           4,
           4,
           4,
           4,
           4,
           4,
           4,
           4,
           4,
           4,
           4,
           4,
           4,
           4,
           4,
           4,
           4,
           4,
           4,
           4,
           4,
           4,
           4,
           4,
           4,
           4,
           4,
           4,
           4,
           4,
           4,
           5,
           5,
           5,
           5,
           5,
           5,
           5,
           5,
           5
          ],
          "coloraxis": "coloraxis",
          "symbol": "circle"
         },
         "mode": "markers",
         "name": "",
         "orientation": "v",
         "showlegend": false,
         "textposition": "top center",
         "type": "scatter",
         "x": [
          0,
          1,
          1,
          1,
          1,
          2,
          2,
          2,
          2,
          2,
          2,
          3,
          3,
          3,
          3,
          4,
          0,
          0,
          0,
          1,
          1,
          1,
          1,
          1,
          1,
          2,
          2,
          2,
          1,
          1,
          1,
          1,
          1,
          1,
          2,
          2,
          2,
          2,
          2,
          2,
          2,
          2,
          2,
          2,
          2,
          2,
          2,
          2,
          2,
          3,
          3,
          3,
          3,
          3,
          3,
          3,
          3,
          3,
          3,
          3,
          3,
          4,
          4,
          4,
          0,
          0,
          1,
          1,
          1,
          1,
          1,
          1,
          1,
          1,
          2,
          2,
          2,
          2,
          2,
          2,
          2,
          2,
          2,
          2,
          2,
          2,
          3,
          3,
          3,
          3,
          3,
          3,
          3,
          3,
          4,
          4,
          0,
          0,
          0,
          1,
          1,
          1,
          1,
          1,
          1,
          2,
          2,
          2,
          1,
          1,
          1,
          1,
          1,
          1,
          2,
          2,
          2,
          2,
          2,
          2,
          2,
          2,
          2,
          2,
          2,
          2,
          3,
          3,
          3,
          3,
          3,
          3,
          2,
          2,
          2,
          3,
          3,
          3,
          3,
          3,
          3,
          4,
          4,
          4,
          0,
          0,
          0,
          0,
          0,
          0,
          1,
          1,
          1,
          1,
          1,
          1,
          1,
          1,
          1,
          1,
          1,
          1,
          1,
          1,
          1,
          1,
          1,
          1,
          1,
          1,
          1,
          1,
          1,
          1,
          2,
          2,
          2,
          2,
          2,
          2,
          2,
          2,
          2,
          2,
          2,
          2,
          2,
          2,
          2,
          2,
          2,
          2,
          2,
          2,
          2,
          2,
          2,
          2,
          2,
          2,
          2,
          2,
          2,
          2,
          2,
          2,
          2,
          2,
          2,
          2,
          3,
          3,
          3,
          3,
          3,
          3,
          3,
          3,
          3,
          3,
          3,
          3,
          3,
          3,
          3,
          3,
          3,
          3,
          3,
          3,
          3,
          3,
          3,
          3,
          4,
          4,
          4,
          4,
          4,
          4,
          0,
          0,
          0,
          0,
          0,
          0,
          1,
          1,
          1,
          1,
          1,
          1,
          1,
          1,
          1,
          1,
          1,
          1,
          2,
          2,
          2,
          2,
          2,
          2,
          1,
          1,
          1,
          1,
          1,
          1,
          1,
          1,
          1,
          1,
          1,
          1,
          2,
          2,
          2,
          2,
          2,
          2,
          2,
          2,
          2,
          2,
          2,
          2,
          2,
          2,
          2,
          2,
          2,
          2,
          2,
          2,
          2,
          2,
          2,
          2,
          2,
          2,
          2,
          2,
          2,
          2,
          3,
          3,
          3,
          3,
          3,
          3,
          3,
          3,
          3,
          3,
          3,
          3,
          3,
          3,
          3,
          3,
          3,
          3,
          3,
          3,
          3,
          3,
          3,
          3,
          4,
          4,
          4,
          4,
          4,
          4,
          2,
          1,
          2,
          1,
          1,
          1,
          2,
          3,
          2,
          3,
          2,
          2,
          2,
          2,
          2,
          3,
          3,
          2,
          3,
          4,
          3,
          3,
          4,
          3,
          2,
          2,
          1,
          1,
          1,
          1,
          1,
          2,
          1,
          2,
          2,
          2,
          2,
          2,
          3,
          3,
          3,
          3,
          2,
          3,
          2,
          2,
          2,
          2,
          3,
          2,
          2,
          4,
          3,
          4,
          3,
          3,
          3,
          3,
          4,
          3,
          1,
          2,
          1,
          1,
          2,
          1,
          3,
          3,
          2,
          2,
          2,
          2,
          2,
          3,
          2,
          2,
          2,
          3,
          4,
          4,
          3,
          3,
          3,
          3,
          2,
          1,
          2,
          2,
          1,
          1,
          1,
          1,
          1,
          2,
          2,
          2,
          3,
          2,
          3,
          2,
          2,
          2,
          2,
          3,
          2,
          2,
          2,
          3,
          3,
          2,
          3,
          3,
          3,
          4,
          3,
          3,
          3,
          4,
          4,
          3,
          2,
          3,
          2,
          3,
          3,
          4,
          3,
          2,
          2
         ],
         "xaxis": "x",
         "y": [
          1.0050173615162628,
          0.9850667275949294,
          0.9936164711613116,
          0.9830981620404036,
          0.990263882310248,
          0.9771325224254336,
          0.9657047527733851,
          0.9681818419985141,
          0.9725511086527328,
          0.9700702672494087,
          0.9715550794593455,
          0.9571044847356994,
          0.9623455710190258,
          0.9619021824271706,
          0.9565413465088547,
          0.9534931881869039,
          0.894240563816424,
          0.9020006997956446,
          0.9048143781521211,
          0.8839938104316994,
          0.8820057805481369,
          0.8903718405160723,
          0.8877674746984159,
          0.8837748117738335,
          0.8870135041071416,
          0.8837300771762218,
          0.8837945642315104,
          0.8772592499822486,
          0.8762634226910352,
          0.8828068282973242,
          0.8737560665174584,
          0.8723389237275979,
          0.8811835291967641,
          0.8765430286311527,
          0.8817838041689392,
          0.877345633733247,
          0.8732522372492258,
          0.8681618205763942,
          0.8777503562693652,
          0.8744083908054993,
          0.8680365810402761,
          0.8787376677581616,
          0.8764004099810238,
          0.8666771924421477,
          0.8720288239001233,
          0.8737520978041177,
          0.8683540747982528,
          0.8651767452259487,
          0.8635428153044249,
          0.8633999641948168,
          0.8629589562758601,
          0.8628422709922735,
          0.8579378174174087,
          0.8675966767071025,
          0.8635617106681256,
          0.8602518198322459,
          0.8618722365359694,
          0.8590915645618953,
          0.851994561267145,
          0.8619604635447715,
          0.8565367628550666,
          0.8516857531892928,
          0.8531807835518599,
          0.8525451122468541,
          0.833888132832118,
          0.8428632874311456,
          0.8264654049379804,
          0.8348406114915338,
          0.8298425466380207,
          0.8459465275528386,
          0.8391675158020591,
          0.8370281526684027,
          0.8356219331286794,
          0.8285860530614975,
          0.8317200417257741,
          0.8240234384733264,
          0.8174764614074532,
          0.8215396811987672,
          0.8276419131178717,
          0.8168857024158228,
          0.827345084739206,
          0.8253034003360732,
          0.8286455478585274,
          0.8192044234698138,
          0.8266178019903564,
          0.8155222295260358,
          0.8159479413322988,
          0.8210183502638333,
          0.8195470691559038,
          0.8200628903793876,
          0.8136661592696216,
          0.8134679200283789,
          0.816970818604048,
          0.8182945523738312,
          0.8044258491321931,
          0.7933751434907435,
          0.7859270199329239,
          0.7799997456396998,
          0.7822681947384189,
          0.7891606669709816,
          0.7848474994905034,
          0.7704294708979305,
          0.7850826802610755,
          0.7882409243155055,
          0.7757630573101488,
          0.7812318954985614,
          0.7748536553809798,
          0.7748787327006502,
          0.7603634421743639,
          0.75905402354217,
          0.7630201497400984,
          0.7749002463516989,
          0.7685295069155326,
          0.7707847112632543,
          0.7622212635740332,
          0.767354017274613,
          0.7677755214778232,
          0.7736362695322928,
          0.770924122927173,
          0.7688519593893463,
          0.7690921890128797,
          0.7733058971327895,
          0.7616512763863121,
          0.762771508171473,
          0.7647331186672055,
          0.7636100866315683,
          0.7631743762774416,
          0.7627590517406122,
          0.7650042407900121,
          0.7586537286672519,
          0.7645118279917902,
          0.7652670699594877,
          0.7496682399684552,
          0.759951035994599,
          0.7494268608377769,
          0.7509343240093381,
          0.7392242312921731,
          0.7516721316197257,
          0.7466315215148918,
          0.7417041931826787,
          0.741249394790474,
          0.7433673572727032,
          0.745858195745551,
          0.7482390725286725,
          0.7427862284872975,
          0.743335891567118,
          0.7232377511484904,
          0.7406187759788984,
          0.7432554955696729,
          0.7400088074194289,
          0.7304639954473432,
          0.7310731043958274,
          0.7233706024628506,
          0.7317742616875011,
          0.7313398835484708,
          0.7290417530033674,
          0.7299621533122397,
          0.733732256459893,
          0.7321884499927153,
          0.7248121798490416,
          0.7241201058550727,
          0.7295390910137576,
          0.7300094586055984,
          0.7315614787534948,
          0.7330506943797577,
          0.7311056335951167,
          0.7366690691856854,
          0.7239404628037082,
          0.737396168555235,
          0.7276021349477956,
          0.7271648291629897,
          0.7317915625901282,
          0.7357926729241613,
          0.7342928836902635,
          0.7136225747668191,
          0.7252787157326638,
          0.7213503962860449,
          0.7174309200023534,
          0.7282320321316813,
          0.7235643672099081,
          0.7267975979340764,
          0.7144022996722009,
          0.722708826789566,
          0.7240146626061036,
          0.7194566393032149,
          0.7159802315626077,
          0.72301261530776,
          0.7220662330475477,
          0.7152676469691167,
          0.7291744504120912,
          0.7094880652411552,
          0.7227714733414595,
          0.7254145285995656,
          0.7144144283548803,
          0.7341782722252312,
          0.7269531480830953,
          0.7238484335472899,
          0.7262515988726295,
          0.7236710793655773,
          0.7206533547795024,
          0.7243598298858147,
          0.7222534634625966,
          0.7183332448407267,
          0.7243828586100204,
          0.7221869125578895,
          0.7234194334869368,
          0.7233072440790368,
          0.7128345707669064,
          0.7212605269962091,
          0.7261431709524492,
          0.7166722644371335,
          0.7140163793579914,
          0.7114094337945502,
          0.7114773266723541,
          0.7146600625043074,
          0.7111611039815644,
          0.7160423938976114,
          0.7158094966994212,
          0.7250653083677483,
          0.7170960817585942,
          0.7140828695485962,
          0.7081095058288729,
          0.7202814252205247,
          0.7102049246371852,
          0.7107882409971142,
          0.7087776771437618,
          0.7120783183998111,
          0.7121112944103279,
          0.7217934968320902,
          0.7182509566360421,
          0.721129312741724,
          0.7139505964501607,
          0.7153771148524856,
          0.7129767644736382,
          0.7160894373195215,
          0.7075561188862776,
          0.7037846939052259,
          0.7050880786890004,
          0.7106179397606103,
          0.6993989928928753,
          0.624755821841303,
          0.6245592562098703,
          0.6303362092140291,
          0.6277788294080541,
          0.622810163743524,
          0.6265316027832191,
          0.6226705867751665,
          0.6231338023116715,
          0.619992559960838,
          0.6201178049230607,
          0.6204419079006586,
          0.6219267124041892,
          0.625722130675088,
          0.624363424108077,
          0.6286996661197835,
          0.6219317244821089,
          0.6203167652305682,
          0.6260689290202398,
          0.6136463752515137,
          0.6168999107024289,
          0.6195659754906561,
          0.6153521947945791,
          0.6309240011073918,
          0.6242534843706177,
          0.6205293426578357,
          0.6115031994917356,
          0.6111773390622253,
          0.6272331103522282,
          0.6211103347787927,
          0.6192768871029947,
          0.6142161823996396,
          0.6148869379026244,
          0.6248275287941838,
          0.6197668633836967,
          0.6264217528514231,
          0.6167607006068292,
          0.6215405821723975,
          0.6279387076029846,
          0.616813072810173,
          0.6125639113004953,
          0.6160977256668204,
          0.622799592210536,
          0.6178502251382721,
          0.6127577037987234,
          0.6046923717311541,
          0.6172850138700028,
          0.6196824771457101,
          0.6191460517113868,
          0.6185973985870694,
          0.6175795384550429,
          0.6127062618191355,
          0.6081002626715005,
          0.6181128411589557,
          0.6097015744814103,
          0.6191239041691712,
          0.6150344364107229,
          0.6165823491207667,
          0.610814572925355,
          0.6122086327633467,
          0.6261173531970905,
          0.6094242031670296,
          0.6129008995617097,
          0.6044502502048665,
          0.6127018007167517,
          0.6148813182385922,
          0.604191664235146,
          0.6108088385627365,
          0.6074956713553917,
          0.6059102407343243,
          0.6130223497525397,
          0.6164506118457859,
          0.6095231553403142,
          0.6081419518009158,
          0.6023357700581182,
          0.6202828770649361,
          0.6111082368808143,
          0.6093953595024093,
          0.6085657381656888,
          0.6104844835247428,
          0.6043093684483146,
          0.5977155704919328,
          0.6012148477124909,
          0.6015210271438559,
          0.605208933654546,
          0.6045014138264713,
          0.6103888057766493,
          0.6048090815535746,
          0.6060189626857743,
          0.6057591015870719,
          0.6106522776136444,
          0.5984713864715545,
          0.6076817244796491,
          0.611855171121892,
          0.6046948560307298,
          0.5949519543407981,
          0.5997701972162535,
          0.3300818729105839,
          0.3375693674936695,
          0.34005535267382997,
          0.33508185171055,
          0.3270253277426711,
          0.32494696730383255,
          0.324364621795722,
          0.3248270467083048,
          0.33019411066023246,
          0.3230622989864002,
          0.32174773479336444,
          0.3256069310289348,
          0.32281277338937553,
          0.32502388453948566,
          0.30943481182120486,
          0.31117718684162965,
          0.3251584834055991,
          0.3160366251021744,
          0.3171379396079369,
          0.31679670086943784,
          0.3136875314460364,
          0.30511270468182666,
          0.3132031798197358,
          0.2988591420524662,
          0.2298376698311627,
          0.22789356428356694,
          0.22457197954398292,
          0.23392131934231467,
          0.22755448584274368,
          0.22296596284295686,
          0.2302471120450104,
          0.2319982912544365,
          0.23532745524392396,
          0.21929028637501585,
          0.21770907037897774,
          0.2177234901997809,
          0.22325517721354746,
          0.22001814205618075,
          0.22136136830607045,
          0.22327863455628968,
          0.22911620250743875,
          0.21748760463140238,
          0.22700873321476372,
          0.21812293689900852,
          0.2202208583032931,
          0.23101201563232232,
          0.22345841362408506,
          0.21730889880698875,
          0.22403615635589968,
          0.21833882422775613,
          0.2207069806650676,
          0.21756534565405924,
          0.21708762211383945,
          0.21353541966452008,
          0.21624041052808038,
          0.20928040150154228,
          0.20948268715306748,
          0.2235423786387739,
          0.21332654361925815,
          0.21391344835546083,
          0.17232408374285307,
          0.175407274874064,
          0.17898862279595362,
          0.17363861699222016,
          0.1714253697278473,
          0.17143717068283826,
          0.16837361608267573,
          0.1680417637112014,
          0.16169554161419872,
          0.16224170058826873,
          0.17714756170393298,
          0.16479916586612467,
          0.168406744452996,
          0.16640602910633526,
          0.16260628184559894,
          0.16476895174175576,
          0.17291676200988923,
          0.17030130505655422,
          0.16047963801237683,
          0.1510038276074688,
          0.15232831945506478,
          0.160561436042326,
          0.16111399044460872,
          0.159439478031509,
          0.11312650337348674,
          0.13154857869153117,
          0.12185204088331875,
          0.1192426737845124,
          0.12382860528337405,
          0.11843636268233419,
          0.1235975105275817,
          0.13523454269374224,
          0.12369465439147659,
          0.12136518690908883,
          0.11837680256513981,
          0.1181424804457579,
          0.11539080769385654,
          0.11708474744335957,
          0.11436659125398355,
          0.10603115296641692,
          0.11652664989776233,
          0.11275400557679506,
          0.11469875385506298,
          0.11208495171647603,
          0.11819330499910691,
          0.11762936936009429,
          0.10378455834258042,
          0.12197633333696183,
          0.11671669547969829,
          0.11560448377489593,
          0.1199363029941026,
          0.11067592336619879,
          0.11059219430917522,
          0.11429068115628163,
          0.11125013255164728,
          0.11743959547751526,
          0.11091810393545998,
          0.10164912028903228,
          0.1095685495146888,
          0.1145507628774245,
          -0.3320060909690755,
          -0.3332810205035466,
          -0.3312007141949167,
          -0.335568162527489,
          -0.3281497888343334,
          -0.33751156946999605,
          -0.33007659565489944,
          -0.3409362415320389,
          -0.3316854945079542
         ],
         "yaxis": "y"
        }
       ],
       "layout": {
        "coloraxis": {
         "colorbar": {
          "title": {
           "text": "delta_main_total"
          }
         },
         "colorscale": [
          [
           0,
           "green"
          ],
          [
           0.5,
           "yellow"
          ],
          [
           1,
           "red"
          ]
         ]
        },
        "legend": {
         "tracegroupgap": 0
        },
        "template": {
         "data": {
          "bar": [
           {
            "error_x": {
             "color": "#2a3f5f"
            },
            "error_y": {
             "color": "#2a3f5f"
            },
            "marker": {
             "line": {
              "color": "#E5ECF6",
              "width": 0.5
             },
             "pattern": {
              "fillmode": "overlay",
              "size": 10,
              "solidity": 0.2
             }
            },
            "type": "bar"
           }
          ],
          "barpolar": [
           {
            "marker": {
             "line": {
              "color": "#E5ECF6",
              "width": 0.5
             },
             "pattern": {
              "fillmode": "overlay",
              "size": 10,
              "solidity": 0.2
             }
            },
            "type": "barpolar"
           }
          ],
          "carpet": [
           {
            "aaxis": {
             "endlinecolor": "#2a3f5f",
             "gridcolor": "white",
             "linecolor": "white",
             "minorgridcolor": "white",
             "startlinecolor": "#2a3f5f"
            },
            "baxis": {
             "endlinecolor": "#2a3f5f",
             "gridcolor": "white",
             "linecolor": "white",
             "minorgridcolor": "white",
             "startlinecolor": "#2a3f5f"
            },
            "type": "carpet"
           }
          ],
          "choropleth": [
           {
            "colorbar": {
             "outlinewidth": 0,
             "ticks": ""
            },
            "type": "choropleth"
           }
          ],
          "contour": [
           {
            "colorbar": {
             "outlinewidth": 0,
             "ticks": ""
            },
            "colorscale": [
             [
              0,
              "#0d0887"
             ],
             [
              0.1111111111111111,
              "#46039f"
             ],
             [
              0.2222222222222222,
              "#7201a8"
             ],
             [
              0.3333333333333333,
              "#9c179e"
             ],
             [
              0.4444444444444444,
              "#bd3786"
             ],
             [
              0.5555555555555556,
              "#d8576b"
             ],
             [
              0.6666666666666666,
              "#ed7953"
             ],
             [
              0.7777777777777778,
              "#fb9f3a"
             ],
             [
              0.8888888888888888,
              "#fdca26"
             ],
             [
              1,
              "#f0f921"
             ]
            ],
            "type": "contour"
           }
          ],
          "contourcarpet": [
           {
            "colorbar": {
             "outlinewidth": 0,
             "ticks": ""
            },
            "type": "contourcarpet"
           }
          ],
          "heatmap": [
           {
            "colorbar": {
             "outlinewidth": 0,
             "ticks": ""
            },
            "colorscale": [
             [
              0,
              "#0d0887"
             ],
             [
              0.1111111111111111,
              "#46039f"
             ],
             [
              0.2222222222222222,
              "#7201a8"
             ],
             [
              0.3333333333333333,
              "#9c179e"
             ],
             [
              0.4444444444444444,
              "#bd3786"
             ],
             [
              0.5555555555555556,
              "#d8576b"
             ],
             [
              0.6666666666666666,
              "#ed7953"
             ],
             [
              0.7777777777777778,
              "#fb9f3a"
             ],
             [
              0.8888888888888888,
              "#fdca26"
             ],
             [
              1,
              "#f0f921"
             ]
            ],
            "type": "heatmap"
           }
          ],
          "heatmapgl": [
           {
            "colorbar": {
             "outlinewidth": 0,
             "ticks": ""
            },
            "colorscale": [
             [
              0,
              "#0d0887"
             ],
             [
              0.1111111111111111,
              "#46039f"
             ],
             [
              0.2222222222222222,
              "#7201a8"
             ],
             [
              0.3333333333333333,
              "#9c179e"
             ],
             [
              0.4444444444444444,
              "#bd3786"
             ],
             [
              0.5555555555555556,
              "#d8576b"
             ],
             [
              0.6666666666666666,
              "#ed7953"
             ],
             [
              0.7777777777777778,
              "#fb9f3a"
             ],
             [
              0.8888888888888888,
              "#fdca26"
             ],
             [
              1,
              "#f0f921"
             ]
            ],
            "type": "heatmapgl"
           }
          ],
          "histogram": [
           {
            "marker": {
             "pattern": {
              "fillmode": "overlay",
              "size": 10,
              "solidity": 0.2
             }
            },
            "type": "histogram"
           }
          ],
          "histogram2d": [
           {
            "colorbar": {
             "outlinewidth": 0,
             "ticks": ""
            },
            "colorscale": [
             [
              0,
              "#0d0887"
             ],
             [
              0.1111111111111111,
              "#46039f"
             ],
             [
              0.2222222222222222,
              "#7201a8"
             ],
             [
              0.3333333333333333,
              "#9c179e"
             ],
             [
              0.4444444444444444,
              "#bd3786"
             ],
             [
              0.5555555555555556,
              "#d8576b"
             ],
             [
              0.6666666666666666,
              "#ed7953"
             ],
             [
              0.7777777777777778,
              "#fb9f3a"
             ],
             [
              0.8888888888888888,
              "#fdca26"
             ],
             [
              1,
              "#f0f921"
             ]
            ],
            "type": "histogram2d"
           }
          ],
          "histogram2dcontour": [
           {
            "colorbar": {
             "outlinewidth": 0,
             "ticks": ""
            },
            "colorscale": [
             [
              0,
              "#0d0887"
             ],
             [
              0.1111111111111111,
              "#46039f"
             ],
             [
              0.2222222222222222,
              "#7201a8"
             ],
             [
              0.3333333333333333,
              "#9c179e"
             ],
             [
              0.4444444444444444,
              "#bd3786"
             ],
             [
              0.5555555555555556,
              "#d8576b"
             ],
             [
              0.6666666666666666,
              "#ed7953"
             ],
             [
              0.7777777777777778,
              "#fb9f3a"
             ],
             [
              0.8888888888888888,
              "#fdca26"
             ],
             [
              1,
              "#f0f921"
             ]
            ],
            "type": "histogram2dcontour"
           }
          ],
          "mesh3d": [
           {
            "colorbar": {
             "outlinewidth": 0,
             "ticks": ""
            },
            "type": "mesh3d"
           }
          ],
          "parcoords": [
           {
            "line": {
             "colorbar": {
              "outlinewidth": 0,
              "ticks": ""
             }
            },
            "type": "parcoords"
           }
          ],
          "pie": [
           {
            "automargin": true,
            "type": "pie"
           }
          ],
          "scatter": [
           {
            "fillpattern": {
             "fillmode": "overlay",
             "size": 10,
             "solidity": 0.2
            },
            "type": "scatter"
           }
          ],
          "scatter3d": [
           {
            "line": {
             "colorbar": {
              "outlinewidth": 0,
              "ticks": ""
             }
            },
            "marker": {
             "colorbar": {
              "outlinewidth": 0,
              "ticks": ""
             }
            },
            "type": "scatter3d"
           }
          ],
          "scattercarpet": [
           {
            "marker": {
             "colorbar": {
              "outlinewidth": 0,
              "ticks": ""
             }
            },
            "type": "scattercarpet"
           }
          ],
          "scattergeo": [
           {
            "marker": {
             "colorbar": {
              "outlinewidth": 0,
              "ticks": ""
             }
            },
            "type": "scattergeo"
           }
          ],
          "scattergl": [
           {
            "marker": {
             "colorbar": {
              "outlinewidth": 0,
              "ticks": ""
             }
            },
            "type": "scattergl"
           }
          ],
          "scattermapbox": [
           {
            "marker": {
             "colorbar": {
              "outlinewidth": 0,
              "ticks": ""
             }
            },
            "type": "scattermapbox"
           }
          ],
          "scatterpolar": [
           {
            "marker": {
             "colorbar": {
              "outlinewidth": 0,
              "ticks": ""
             }
            },
            "type": "scatterpolar"
           }
          ],
          "scatterpolargl": [
           {
            "marker": {
             "colorbar": {
              "outlinewidth": 0,
              "ticks": ""
             }
            },
            "type": "scatterpolargl"
           }
          ],
          "scatterternary": [
           {
            "marker": {
             "colorbar": {
              "outlinewidth": 0,
              "ticks": ""
             }
            },
            "type": "scatterternary"
           }
          ],
          "surface": [
           {
            "colorbar": {
             "outlinewidth": 0,
             "ticks": ""
            },
            "colorscale": [
             [
              0,
              "#0d0887"
             ],
             [
              0.1111111111111111,
              "#46039f"
             ],
             [
              0.2222222222222222,
              "#7201a8"
             ],
             [
              0.3333333333333333,
              "#9c179e"
             ],
             [
              0.4444444444444444,
              "#bd3786"
             ],
             [
              0.5555555555555556,
              "#d8576b"
             ],
             [
              0.6666666666666666,
              "#ed7953"
             ],
             [
              0.7777777777777778,
              "#fb9f3a"
             ],
             [
              0.8888888888888888,
              "#fdca26"
             ],
             [
              1,
              "#f0f921"
             ]
            ],
            "type": "surface"
           }
          ],
          "table": [
           {
            "cells": {
             "fill": {
              "color": "#EBF0F8"
             },
             "line": {
              "color": "white"
             }
            },
            "header": {
             "fill": {
              "color": "#C8D4E3"
             },
             "line": {
              "color": "white"
             }
            },
            "type": "table"
           }
          ]
         },
         "layout": {
          "annotationdefaults": {
           "arrowcolor": "#2a3f5f",
           "arrowhead": 0,
           "arrowwidth": 1
          },
          "autotypenumbers": "strict",
          "coloraxis": {
           "colorbar": {
            "outlinewidth": 0,
            "ticks": ""
           }
          },
          "colorscale": {
           "diverging": [
            [
             0,
             "#8e0152"
            ],
            [
             0.1,
             "#c51b7d"
            ],
            [
             0.2,
             "#de77ae"
            ],
            [
             0.3,
             "#f1b6da"
            ],
            [
             0.4,
             "#fde0ef"
            ],
            [
             0.5,
             "#f7f7f7"
            ],
            [
             0.6,
             "#e6f5d0"
            ],
            [
             0.7,
             "#b8e186"
            ],
            [
             0.8,
             "#7fbc41"
            ],
            [
             0.9,
             "#4d9221"
            ],
            [
             1,
             "#276419"
            ]
           ],
           "sequential": [
            [
             0,
             "#0d0887"
            ],
            [
             0.1111111111111111,
             "#46039f"
            ],
            [
             0.2222222222222222,
             "#7201a8"
            ],
            [
             0.3333333333333333,
             "#9c179e"
            ],
            [
             0.4444444444444444,
             "#bd3786"
            ],
            [
             0.5555555555555556,
             "#d8576b"
            ],
            [
             0.6666666666666666,
             "#ed7953"
            ],
            [
             0.7777777777777778,
             "#fb9f3a"
            ],
            [
             0.8888888888888888,
             "#fdca26"
            ],
            [
             1,
             "#f0f921"
            ]
           ],
           "sequentialminus": [
            [
             0,
             "#0d0887"
            ],
            [
             0.1111111111111111,
             "#46039f"
            ],
            [
             0.2222222222222222,
             "#7201a8"
            ],
            [
             0.3333333333333333,
             "#9c179e"
            ],
            [
             0.4444444444444444,
             "#bd3786"
            ],
            [
             0.5555555555555556,
             "#d8576b"
            ],
            [
             0.6666666666666666,
             "#ed7953"
            ],
            [
             0.7777777777777778,
             "#fb9f3a"
            ],
            [
             0.8888888888888888,
             "#fdca26"
            ],
            [
             1,
             "#f0f921"
            ]
           ]
          },
          "colorway": [
           "#636efa",
           "#EF553B",
           "#00cc96",
           "#ab63fa",
           "#FFA15A",
           "#19d3f3",
           "#FF6692",
           "#B6E880",
           "#FF97FF",
           "#FECB52"
          ],
          "font": {
           "color": "#2a3f5f"
          },
          "geo": {
           "bgcolor": "white",
           "lakecolor": "white",
           "landcolor": "#E5ECF6",
           "showlakes": true,
           "showland": true,
           "subunitcolor": "white"
          },
          "hoverlabel": {
           "align": "left"
          },
          "hovermode": "closest",
          "mapbox": {
           "style": "light"
          },
          "paper_bgcolor": "white",
          "plot_bgcolor": "#E5ECF6",
          "polar": {
           "angularaxis": {
            "gridcolor": "white",
            "linecolor": "white",
            "ticks": ""
           },
           "bgcolor": "#E5ECF6",
           "radialaxis": {
            "gridcolor": "white",
            "linecolor": "white",
            "ticks": ""
           }
          },
          "scene": {
           "xaxis": {
            "backgroundcolor": "#E5ECF6",
            "gridcolor": "white",
            "gridwidth": 2,
            "linecolor": "white",
            "showbackground": true,
            "ticks": "",
            "zerolinecolor": "white"
           },
           "yaxis": {
            "backgroundcolor": "#E5ECF6",
            "gridcolor": "white",
            "gridwidth": 2,
            "linecolor": "white",
            "showbackground": true,
            "ticks": "",
            "zerolinecolor": "white"
           },
           "zaxis": {
            "backgroundcolor": "#E5ECF6",
            "gridcolor": "white",
            "gridwidth": 2,
            "linecolor": "white",
            "showbackground": true,
            "ticks": "",
            "zerolinecolor": "white"
           }
          },
          "shapedefaults": {
           "line": {
            "color": "#2a3f5f"
           }
          },
          "ternary": {
           "aaxis": {
            "gridcolor": "white",
            "linecolor": "white",
            "ticks": ""
           },
           "baxis": {
            "gridcolor": "white",
            "linecolor": "white",
            "ticks": ""
           },
           "bgcolor": "#E5ECF6",
           "caxis": {
            "gridcolor": "white",
            "linecolor": "white",
            "ticks": ""
           }
          },
          "title": {
           "x": 0.05
          },
          "xaxis": {
           "automargin": true,
           "gridcolor": "white",
           "linecolor": "white",
           "ticks": "",
           "title": {
            "standoff": 15
           },
           "zerolinecolor": "white",
           "zerolinewidth": 2
          },
          "yaxis": {
           "automargin": true,
           "gridcolor": "white",
           "linecolor": "white",
           "ticks": "",
           "title": {
            "standoff": 15
           },
           "zerolinecolor": "white",
           "zerolinewidth": 2
          }
         }
        },
        "title": {
         "text": "Candidate scenarios varying the number of variables from the Takeoff Scenario."
        },
        "xaxis": {
         "anchor": "y",
         "domain": [
          0,
          1
         ],
         "tickmode": "array",
         "tickvals": [
          0,
          1,
          2,
          3,
          4
         ],
         "title": {
          "text": "Unmatched Extra Variables"
         }
        },
        "yaxis": {
         "anchor": "x",
         "domain": [
          0,
          1
         ],
         "tickmode": "auto",
         "title": {
          "text": "Similarity (with Jitter)"
         }
        }
       }
      }
     },
     "metadata": {},
     "output_type": "display_data"
    }
   ],
   "source": [
    "import plotly.express as px\n",
    "import numpy as np\n",
    "\n",
    "# Criando um jitter nos valores de 'Scenario Similarity' para espalhar os pontos\n",
    "df['Scenario Similarity Jitter'] = df['Scenario Similarity'] + np.random.normal(0, 0.005, size=len(df))\n",
    "\n",
    "# Criando o scatter plot com jitter\n",
    "fig = px.scatter(\n",
    "    df,\n",
    "    x='Count_Extra_Var',\n",
    "    y='Scenario Similarity Jitter',  # Usando a coluna com jitter\n",
    "    color='delta_main_total',\n",
    "    title='Candidate scenarios varying the number of variables from the Takeoff Scenario.',\n",
    "    labels={\n",
    "        'Count_Extra_Var': 'Unmatched Extra Variables',\n",
    "        'Scenario Similarity Jitter': 'Similarity (with Jitter)'\n",
    "    },\n",
    "    hover_data=['Count_Extra_Var'],\n",
    "    color_continuous_scale=['green', 'yellow', 'red']\n",
    ")\n",
    "\n",
    "# Ajusta a posição do texto\n",
    "fig.update_traces(textposition='top center')\n",
    "\n",
    "# Ajusta os eixos para exibir apenas valores existentes\n",
    "fig.update_xaxes(\n",
    "    tickmode='array',\n",
    "    tickvals=df['Count_Extra_Var'].unique()\n",
    ")\n",
    "fig.update_yaxes(\n",
    "    tickmode='auto'\n",
    ")\n",
    "\n",
    "# Exibindo o gráfico\n",
    "fig.show()\n"
   ]
  },
  {
   "cell_type": "code",
   "execution_count": 936,
   "metadata": {},
   "outputs": [
    {
     "data": {
      "application/vnd.plotly.v1+json": {
       "config": {
        "plotlyServerURL": "https://plot.ly"
       },
       "data": [
        {
         "customdata": [
          [
           1
          ],
          [
           0.989
          ],
          [
           0.989
          ],
          [
           0.984
          ],
          [
           0.984
          ],
          [
           0.979
          ],
          [
           0.973
          ],
          [
           0.973
          ],
          [
           0.973
          ],
          [
           0.973
          ],
          [
           0.97
          ],
          [
           0.963
          ],
          [
           0.963
          ],
          [
           0.959
          ],
          [
           0.959
          ],
          [
           0.949
          ],
          [
           0.897
          ],
          [
           0.897
          ],
          [
           0.897
          ],
          [
           0.889
          ],
          [
           0.889
          ],
          [
           0.889
          ],
          [
           0.889
          ],
          [
           0.889
          ],
          [
           0.889
          ],
          [
           0.882
          ],
          [
           0.882
          ],
          [
           0.882
          ],
          [
           0.881
          ],
          [
           0.881
          ],
          [
           0.881
          ],
          [
           0.881
          ],
          [
           0.881
          ],
          [
           0.881
          ],
          [
           0.873
          ],
          [
           0.873
          ],
          [
           0.873
          ],
          [
           0.873
          ],
          [
           0.873
          ],
          [
           0.873
          ],
          [
           0.873
          ],
          [
           0.873
          ],
          [
           0.873
          ],
          [
           0.873
          ],
          [
           0.873
          ],
          [
           0.873
          ],
          [
           0.866
          ],
          [
           0.866
          ],
          [
           0.866
          ],
          [
           0.866
          ],
          [
           0.866
          ],
          [
           0.866
          ],
          [
           0.866
          ],
          [
           0.866
          ],
          [
           0.866
          ],
          [
           0.859
          ],
          [
           0.859
          ],
          [
           0.859
          ],
          [
           0.859
          ],
          [
           0.859
          ],
          [
           0.859
          ],
          [
           0.851
          ],
          [
           0.851
          ],
          [
           0.851
          ],
          [
           0.842
          ],
          [
           0.842
          ],
          [
           0.833
          ],
          [
           0.833
          ],
          [
           0.833
          ],
          [
           0.833
          ],
          [
           0.831
          ],
          [
           0.831
          ],
          [
           0.831
          ],
          [
           0.831
          ],
          [
           0.825
          ],
          [
           0.825
          ],
          [
           0.823
          ],
          [
           0.823
          ],
          [
           0.823
          ],
          [
           0.823
          ],
          [
           0.823
          ],
          [
           0.823
          ],
          [
           0.823
          ],
          [
           0.823
          ],
          [
           0.821
          ],
          [
           0.821
          ],
          [
           0.815
          ],
          [
           0.815
          ],
          [
           0.815
          ],
          [
           0.815
          ],
          [
           0.812
          ],
          [
           0.812
          ],
          [
           0.812
          ],
          [
           0.812
          ],
          [
           0.805
          ],
          [
           0.805
          ],
          [
           0.786
          ],
          [
           0.786
          ],
          [
           0.786
          ],
          [
           0.782
          ],
          [
           0.782
          ],
          [
           0.782
          ],
          [
           0.782
          ],
          [
           0.782
          ],
          [
           0.782
          ],
          [
           0.778
          ],
          [
           0.778
          ],
          [
           0.778
          ],
          [
           0.77
          ],
          [
           0.77
          ],
          [
           0.77
          ],
          [
           0.77
          ],
          [
           0.77
          ],
          [
           0.77
          ],
          [
           0.766
          ],
          [
           0.766
          ],
          [
           0.766
          ],
          [
           0.766
          ],
          [
           0.766
          ],
          [
           0.766
          ],
          [
           0.766
          ],
          [
           0.766
          ],
          [
           0.766
          ],
          [
           0.766
          ],
          [
           0.766
          ],
          [
           0.766
          ],
          [
           0.762
          ],
          [
           0.762
          ],
          [
           0.762
          ],
          [
           0.762
          ],
          [
           0.762
          ],
          [
           0.762
          ],
          [
           0.755
          ],
          [
           0.755
          ],
          [
           0.755
          ],
          [
           0.751
          ],
          [
           0.751
          ],
          [
           0.751
          ],
          [
           0.751
          ],
          [
           0.751
          ],
          [
           0.751
          ],
          [
           0.747
          ],
          [
           0.747
          ],
          [
           0.747
          ],
          [
           0.739
          ],
          [
           0.739
          ],
          [
           0.739
          ],
          [
           0.739
          ],
          [
           0.739
          ],
          [
           0.739
          ],
          [
           0.731
          ],
          [
           0.731
          ],
          [
           0.731
          ],
          [
           0.731
          ],
          [
           0.731
          ],
          [
           0.731
          ],
          [
           0.731
          ],
          [
           0.731
          ],
          [
           0.731
          ],
          [
           0.731
          ],
          [
           0.731
          ],
          [
           0.731
          ],
          [
           0.73
          ],
          [
           0.73
          ],
          [
           0.73
          ],
          [
           0.73
          ],
          [
           0.73
          ],
          [
           0.73
          ],
          [
           0.73
          ],
          [
           0.73
          ],
          [
           0.73
          ],
          [
           0.73
          ],
          [
           0.73
          ],
          [
           0.73
          ],
          [
           0.724
          ],
          [
           0.724
          ],
          [
           0.724
          ],
          [
           0.724
          ],
          [
           0.724
          ],
          [
           0.724
          ],
          [
           0.722
          ],
          [
           0.722
          ],
          [
           0.722
          ],
          [
           0.722
          ],
          [
           0.722
          ],
          [
           0.722
          ],
          [
           0.722
          ],
          [
           0.722
          ],
          [
           0.722
          ],
          [
           0.722
          ],
          [
           0.722
          ],
          [
           0.722
          ],
          [
           0.722
          ],
          [
           0.722
          ],
          [
           0.722
          ],
          [
           0.722
          ],
          [
           0.722
          ],
          [
           0.722
          ],
          [
           0.722
          ],
          [
           0.722
          ],
          [
           0.722
          ],
          [
           0.722
          ],
          [
           0.722
          ],
          [
           0.722
          ],
          [
           0.722
          ],
          [
           0.722
          ],
          [
           0.722
          ],
          [
           0.722
          ],
          [
           0.722
          ],
          [
           0.722
          ],
          [
           0.715
          ],
          [
           0.715
          ],
          [
           0.715
          ],
          [
           0.715
          ],
          [
           0.715
          ],
          [
           0.715
          ],
          [
           0.715
          ],
          [
           0.715
          ],
          [
           0.715
          ],
          [
           0.715
          ],
          [
           0.715
          ],
          [
           0.715
          ],
          [
           0.714
          ],
          [
           0.714
          ],
          [
           0.714
          ],
          [
           0.714
          ],
          [
           0.714
          ],
          [
           0.714
          ],
          [
           0.714
          ],
          [
           0.714
          ],
          [
           0.714
          ],
          [
           0.714
          ],
          [
           0.714
          ],
          [
           0.714
          ],
          [
           0.707
          ],
          [
           0.707
          ],
          [
           0.707
          ],
          [
           0.707
          ],
          [
           0.707
          ],
          [
           0.707
          ],
          [
           0.628
          ],
          [
           0.628
          ],
          [
           0.628
          ],
          [
           0.628
          ],
          [
           0.628
          ],
          [
           0.628
          ],
          [
           0.624
          ],
          [
           0.624
          ],
          [
           0.624
          ],
          [
           0.624
          ],
          [
           0.624
          ],
          [
           0.624
          ],
          [
           0.624
          ],
          [
           0.624
          ],
          [
           0.624
          ],
          [
           0.624
          ],
          [
           0.624
          ],
          [
           0.624
          ],
          [
           0.62
          ],
          [
           0.62
          ],
          [
           0.62
          ],
          [
           0.62
          ],
          [
           0.62
          ],
          [
           0.62
          ],
          [
           0.619
          ],
          [
           0.619
          ],
          [
           0.619
          ],
          [
           0.619
          ],
          [
           0.619
          ],
          [
           0.619
          ],
          [
           0.619
          ],
          [
           0.619
          ],
          [
           0.619
          ],
          [
           0.619
          ],
          [
           0.619
          ],
          [
           0.619
          ],
          [
           0.615
          ],
          [
           0.615
          ],
          [
           0.615
          ],
          [
           0.615
          ],
          [
           0.615
          ],
          [
           0.615
          ],
          [
           0.615
          ],
          [
           0.615
          ],
          [
           0.615
          ],
          [
           0.615
          ],
          [
           0.615
          ],
          [
           0.615
          ],
          [
           0.615
          ],
          [
           0.615
          ],
          [
           0.615
          ],
          [
           0.615
          ],
          [
           0.615
          ],
          [
           0.615
          ],
          [
           0.615
          ],
          [
           0.615
          ],
          [
           0.615
          ],
          [
           0.615
          ],
          [
           0.615
          ],
          [
           0.615
          ],
          [
           0.611
          ],
          [
           0.611
          ],
          [
           0.611
          ],
          [
           0.611
          ],
          [
           0.611
          ],
          [
           0.611
          ],
          [
           0.611
          ],
          [
           0.611
          ],
          [
           0.611
          ],
          [
           0.611
          ],
          [
           0.611
          ],
          [
           0.611
          ],
          [
           0.611
          ],
          [
           0.611
          ],
          [
           0.611
          ],
          [
           0.611
          ],
          [
           0.611
          ],
          [
           0.611
          ],
          [
           0.607
          ],
          [
           0.607
          ],
          [
           0.607
          ],
          [
           0.607
          ],
          [
           0.607
          ],
          [
           0.607
          ],
          [
           0.607
          ],
          [
           0.607
          ],
          [
           0.607
          ],
          [
           0.607
          ],
          [
           0.607
          ],
          [
           0.607
          ],
          [
           0.603
          ],
          [
           0.603
          ],
          [
           0.603
          ],
          [
           0.603
          ],
          [
           0.603
          ],
          [
           0.603
          ],
          [
           0.333
          ],
          [
           0.333
          ],
          [
           0.333
          ],
          [
           0.333
          ],
          [
           0.333
          ],
          [
           0.333
          ],
          [
           0.323
          ],
          [
           0.323
          ],
          [
           0.323
          ],
          [
           0.323
          ],
          [
           0.323
          ],
          [
           0.323
          ],
          [
           0.317
          ],
          [
           0.317
          ],
          [
           0.317
          ],
          [
           0.317
          ],
          [
           0.317
          ],
          [
           0.317
          ],
          [
           0.312
          ],
          [
           0.312
          ],
          [
           0.312
          ],
          [
           0.303
          ],
          [
           0.303
          ],
          [
           0.303
          ],
          [
           0.23
          ],
          [
           0.23
          ],
          [
           0.23
          ],
          [
           0.23
          ],
          [
           0.23
          ],
          [
           0.23
          ],
          [
           0.23
          ],
          [
           0.23
          ],
          [
           0.23
          ],
          [
           0.222
          ],
          [
           0.222
          ],
          [
           0.222
          ],
          [
           0.222
          ],
          [
           0.222
          ],
          [
           0.222
          ],
          [
           0.222
          ],
          [
           0.222
          ],
          [
           0.222
          ],
          [
           0.222
          ],
          [
           0.222
          ],
          [
           0.222
          ],
          [
           0.222
          ],
          [
           0.222
          ],
          [
           0.222
          ],
          [
           0.222
          ],
          [
           0.222
          ],
          [
           0.222
          ],
          [
           0.215
          ],
          [
           0.215
          ],
          [
           0.215
          ],
          [
           0.215
          ],
          [
           0.215
          ],
          [
           0.215
          ],
          [
           0.215
          ],
          [
           0.215
          ],
          [
           0.215
          ],
          [
           0.175
          ],
          [
           0.175
          ],
          [
           0.175
          ],
          [
           0.175
          ],
          [
           0.175
          ],
          [
           0.175
          ],
          [
           0.167
          ],
          [
           0.167
          ],
          [
           0.167
          ],
          [
           0.167
          ],
          [
           0.167
          ],
          [
           0.167
          ],
          [
           0.167
          ],
          [
           0.167
          ],
          [
           0.167
          ],
          [
           0.167
          ],
          [
           0.167
          ],
          [
           0.167
          ],
          [
           0.159
          ],
          [
           0.159
          ],
          [
           0.159
          ],
          [
           0.159
          ],
          [
           0.159
          ],
          [
           0.159
          ],
          [
           0.119
          ],
          [
           0.119
          ],
          [
           0.119
          ],
          [
           0.119
          ],
          [
           0.119
          ],
          [
           0.119
          ],
          [
           0.119
          ],
          [
           0.119
          ],
          [
           0.119
          ],
          [
           0.115
          ],
          [
           0.115
          ],
          [
           0.115
          ],
          [
           0.115
          ],
          [
           0.115
          ],
          [
           0.115
          ],
          [
           0.115
          ],
          [
           0.115
          ],
          [
           0.115
          ],
          [
           0.115
          ],
          [
           0.115
          ],
          [
           0.115
          ],
          [
           0.115
          ],
          [
           0.115
          ],
          [
           0.115
          ],
          [
           0.115
          ],
          [
           0.115
          ],
          [
           0.115
          ],
          [
           0.111
          ],
          [
           0.111
          ],
          [
           0.111
          ],
          [
           0.111
          ],
          [
           0.111
          ],
          [
           0.111
          ],
          [
           0.111
          ],
          [
           0.111
          ],
          [
           0.111
          ],
          [
           -0.333
          ],
          [
           -0.333
          ],
          [
           -0.333
          ],
          [
           -0.333
          ],
          [
           -0.333
          ],
          [
           -0.333
          ],
          [
           -0.333
          ],
          [
           -0.333
          ],
          [
           -0.333
          ]
         ],
         "hovertemplate": "Unmatched Extra Variables=%{x}<br>Binned Similarity=%{y}<br>Scenario Similarity=%{customdata[0]}<br>delta_main_total=%{marker.color}<extra></extra>",
         "legendgroup": "",
         "marker": {
          "color": [
           0,
           0,
           0,
           0,
           0,
           0,
           0,
           0,
           0,
           0,
           0,
           0,
           0,
           0,
           0,
           0,
           1,
           1,
           1,
           1,
           1,
           1,
           1,
           1,
           1,
           1,
           1,
           1,
           1,
           1,
           1,
           1,
           1,
           1,
           1,
           1,
           1,
           1,
           1,
           1,
           1,
           1,
           1,
           1,
           1,
           1,
           1,
           1,
           1,
           1,
           1,
           1,
           1,
           1,
           1,
           1,
           1,
           1,
           1,
           1,
           1,
           1,
           1,
           1,
           1,
           1,
           1,
           1,
           1,
           1,
           1,
           1,
           1,
           1,
           1,
           1,
           1,
           1,
           1,
           1,
           1,
           1,
           1,
           1,
           1,
           1,
           1,
           1,
           1,
           1,
           1,
           1,
           1,
           1,
           1,
           1,
           2,
           2,
           2,
           2,
           2,
           2,
           2,
           2,
           2,
           2,
           2,
           2,
           2,
           2,
           2,
           2,
           2,
           2,
           2,
           2,
           2,
           2,
           2,
           2,
           2,
           2,
           2,
           2,
           2,
           2,
           2,
           2,
           2,
           2,
           2,
           2,
           2,
           2,
           2,
           2,
           2,
           2,
           2,
           2,
           2,
           2,
           2,
           2,
           2,
           2,
           2,
           2,
           2,
           2,
           2,
           2,
           2,
           2,
           2,
           2,
           2,
           2,
           2,
           2,
           2,
           2,
           2,
           2,
           2,
           2,
           2,
           2,
           2,
           2,
           2,
           2,
           2,
           2,
           2,
           2,
           2,
           2,
           2,
           2,
           2,
           2,
           2,
           2,
           2,
           2,
           2,
           2,
           2,
           2,
           2,
           2,
           2,
           2,
           2,
           2,
           2,
           2,
           2,
           2,
           2,
           2,
           2,
           2,
           2,
           2,
           2,
           2,
           2,
           2,
           2,
           2,
           2,
           2,
           2,
           2,
           2,
           2,
           2,
           2,
           2,
           2,
           2,
           2,
           2,
           2,
           2,
           2,
           2,
           2,
           2,
           2,
           2,
           2,
           2,
           2,
           2,
           2,
           2,
           2,
           3,
           3,
           3,
           3,
           3,
           3,
           3,
           3,
           3,
           3,
           3,
           3,
           3,
           3,
           3,
           3,
           3,
           3,
           3,
           3,
           3,
           3,
           3,
           3,
           3,
           3,
           3,
           3,
           3,
           3,
           3,
           3,
           3,
           3,
           3,
           3,
           3,
           3,
           3,
           3,
           3,
           3,
           3,
           3,
           3,
           3,
           3,
           3,
           3,
           3,
           3,
           3,
           3,
           3,
           3,
           3,
           3,
           3,
           3,
           3,
           3,
           3,
           3,
           3,
           3,
           3,
           3,
           3,
           3,
           3,
           3,
           3,
           3,
           3,
           3,
           3,
           3,
           3,
           3,
           3,
           3,
           3,
           3,
           3,
           3,
           3,
           3,
           3,
           3,
           3,
           3,
           3,
           3,
           3,
           3,
           3,
           2,
           3,
           3,
           2,
           2,
           3,
           2,
           2,
           2,
           2,
           2,
           2,
           3,
           3,
           3,
           3,
           3,
           3,
           2,
           2,
           2,
           3,
           3,
           3,
           3,
           3,
           3,
           3,
           3,
           3,
           3,
           3,
           3,
           3,
           3,
           3,
           3,
           3,
           3,
           3,
           3,
           3,
           3,
           3,
           3,
           3,
           3,
           3,
           3,
           3,
           3,
           3,
           3,
           3,
           3,
           3,
           3,
           3,
           3,
           3,
           4,
           4,
           4,
           4,
           4,
           4,
           4,
           4,
           4,
           4,
           4,
           4,
           4,
           4,
           4,
           4,
           4,
           4,
           4,
           4,
           4,
           4,
           4,
           4,
           4,
           4,
           4,
           4,
           4,
           4,
           4,
           4,
           4,
           4,
           4,
           4,
           4,
           4,
           4,
           4,
           4,
           4,
           4,
           4,
           4,
           4,
           4,
           4,
           4,
           4,
           4,
           4,
           4,
           4,
           4,
           4,
           4,
           4,
           4,
           4,
           5,
           5,
           5,
           5,
           5,
           5,
           5,
           5,
           5
          ],
          "coloraxis": "coloraxis",
          "symbol": "circle"
         },
         "mode": "markers",
         "name": "",
         "orientation": "h",
         "showlegend": false,
         "type": "scatter",
         "x": [
          0,
          1,
          1,
          1,
          1,
          2,
          2,
          2,
          2,
          2,
          2,
          3,
          3,
          3,
          3,
          4,
          0,
          0,
          0,
          1,
          1,
          1,
          1,
          1,
          1,
          2,
          2,
          2,
          1,
          1,
          1,
          1,
          1,
          1,
          2,
          2,
          2,
          2,
          2,
          2,
          2,
          2,
          2,
          2,
          2,
          2,
          2,
          2,
          2,
          3,
          3,
          3,
          3,
          3,
          3,
          3,
          3,
          3,
          3,
          3,
          3,
          4,
          4,
          4,
          0,
          0,
          1,
          1,
          1,
          1,
          1,
          1,
          1,
          1,
          2,
          2,
          2,
          2,
          2,
          2,
          2,
          2,
          2,
          2,
          2,
          2,
          3,
          3,
          3,
          3,
          3,
          3,
          3,
          3,
          4,
          4,
          0,
          0,
          0,
          1,
          1,
          1,
          1,
          1,
          1,
          2,
          2,
          2,
          1,
          1,
          1,
          1,
          1,
          1,
          2,
          2,
          2,
          2,
          2,
          2,
          2,
          2,
          2,
          2,
          2,
          2,
          3,
          3,
          3,
          3,
          3,
          3,
          2,
          2,
          2,
          3,
          3,
          3,
          3,
          3,
          3,
          4,
          4,
          4,
          0,
          0,
          0,
          0,
          0,
          0,
          1,
          1,
          1,
          1,
          1,
          1,
          1,
          1,
          1,
          1,
          1,
          1,
          1,
          1,
          1,
          1,
          1,
          1,
          1,
          1,
          1,
          1,
          1,
          1,
          2,
          2,
          2,
          2,
          2,
          2,
          2,
          2,
          2,
          2,
          2,
          2,
          2,
          2,
          2,
          2,
          2,
          2,
          2,
          2,
          2,
          2,
          2,
          2,
          2,
          2,
          2,
          2,
          2,
          2,
          2,
          2,
          2,
          2,
          2,
          2,
          3,
          3,
          3,
          3,
          3,
          3,
          3,
          3,
          3,
          3,
          3,
          3,
          3,
          3,
          3,
          3,
          3,
          3,
          3,
          3,
          3,
          3,
          3,
          3,
          4,
          4,
          4,
          4,
          4,
          4,
          0,
          0,
          0,
          0,
          0,
          0,
          1,
          1,
          1,
          1,
          1,
          1,
          1,
          1,
          1,
          1,
          1,
          1,
          2,
          2,
          2,
          2,
          2,
          2,
          1,
          1,
          1,
          1,
          1,
          1,
          1,
          1,
          1,
          1,
          1,
          1,
          2,
          2,
          2,
          2,
          2,
          2,
          2,
          2,
          2,
          2,
          2,
          2,
          2,
          2,
          2,
          2,
          2,
          2,
          2,
          2,
          2,
          2,
          2,
          2,
          2,
          2,
          2,
          2,
          2,
          2,
          3,
          3,
          3,
          3,
          3,
          3,
          3,
          3,
          3,
          3,
          3,
          3,
          3,
          3,
          3,
          3,
          3,
          3,
          3,
          3,
          3,
          3,
          3,
          3,
          4,
          4,
          4,
          4,
          4,
          4,
          2,
          1,
          2,
          1,
          1,
          1,
          2,
          3,
          2,
          3,
          2,
          2,
          2,
          2,
          2,
          3,
          3,
          2,
          3,
          4,
          3,
          3,
          4,
          3,
          2,
          2,
          1,
          1,
          1,
          1,
          1,
          2,
          1,
          2,
          2,
          2,
          2,
          2,
          3,
          3,
          3,
          3,
          2,
          3,
          2,
          2,
          2,
          2,
          3,
          2,
          2,
          4,
          3,
          4,
          3,
          3,
          3,
          3,
          4,
          3,
          1,
          2,
          1,
          1,
          2,
          1,
          3,
          3,
          2,
          2,
          2,
          2,
          2,
          3,
          2,
          2,
          2,
          3,
          4,
          4,
          3,
          3,
          3,
          3,
          2,
          1,
          2,
          2,
          1,
          1,
          1,
          1,
          1,
          2,
          2,
          2,
          3,
          2,
          3,
          2,
          2,
          2,
          2,
          3,
          2,
          2,
          2,
          3,
          3,
          2,
          3,
          3,
          3,
          4,
          3,
          3,
          3,
          4,
          4,
          3,
          2,
          3,
          2,
          3,
          3,
          4,
          3,
          2,
          2
         ],
         "xaxis": "x",
         "y": [
          "(0.9733, 1.0]",
          "(0.9733, 1.0]",
          "(0.9733, 1.0]",
          "(0.9733, 1.0]",
          "(0.9733, 1.0]",
          "(0.9733, 1.0]",
          "(0.9467, 0.9733]",
          "(0.9467, 0.9733]",
          "(0.9467, 0.9733]",
          "(0.9467, 0.9733]",
          "(0.9467, 0.9733]",
          "(0.9467, 0.9733]",
          "(0.9467, 0.9733]",
          "(0.9467, 0.9733]",
          "(0.9467, 0.9733]",
          "(0.9467, 0.9733]",
          "(0.8934, 0.92]",
          "(0.8934, 0.92]",
          "(0.8934, 0.92]",
          "(0.8667, 0.8934]",
          "(0.8667, 0.8934]",
          "(0.8667, 0.8934]",
          "(0.8667, 0.8934]",
          "(0.8667, 0.8934]",
          "(0.8667, 0.8934]",
          "(0.8667, 0.8934]",
          "(0.8667, 0.8934]",
          "(0.8667, 0.8934]",
          "(0.8667, 0.8934]",
          "(0.8667, 0.8934]",
          "(0.8667, 0.8934]",
          "(0.8667, 0.8934]",
          "(0.8667, 0.8934]",
          "(0.8667, 0.8934]",
          "(0.8667, 0.8934]",
          "(0.8667, 0.8934]",
          "(0.8667, 0.8934]",
          "(0.8667, 0.8934]",
          "(0.8667, 0.8934]",
          "(0.8667, 0.8934]",
          "(0.8667, 0.8934]",
          "(0.8667, 0.8934]",
          "(0.8667, 0.8934]",
          "(0.8667, 0.8934]",
          "(0.8667, 0.8934]",
          "(0.8667, 0.8934]",
          "(0.84, 0.8667]",
          "(0.84, 0.8667]",
          "(0.84, 0.8667]",
          "(0.84, 0.8667]",
          "(0.84, 0.8667]",
          "(0.84, 0.8667]",
          "(0.84, 0.8667]",
          "(0.84, 0.8667]",
          "(0.84, 0.8667]",
          "(0.84, 0.8667]",
          "(0.84, 0.8667]",
          "(0.84, 0.8667]",
          "(0.84, 0.8667]",
          "(0.84, 0.8667]",
          "(0.84, 0.8667]",
          "(0.84, 0.8667]",
          "(0.84, 0.8667]",
          "(0.84, 0.8667]",
          "(0.84, 0.8667]",
          "(0.84, 0.8667]",
          "(0.8134, 0.84]",
          "(0.8134, 0.84]",
          "(0.8134, 0.84]",
          "(0.8134, 0.84]",
          "(0.8134, 0.84]",
          "(0.8134, 0.84]",
          "(0.8134, 0.84]",
          "(0.8134, 0.84]",
          "(0.8134, 0.84]",
          "(0.8134, 0.84]",
          "(0.8134, 0.84]",
          "(0.8134, 0.84]",
          "(0.8134, 0.84]",
          "(0.8134, 0.84]",
          "(0.8134, 0.84]",
          "(0.8134, 0.84]",
          "(0.8134, 0.84]",
          "(0.8134, 0.84]",
          "(0.8134, 0.84]",
          "(0.8134, 0.84]",
          "(0.8134, 0.84]",
          "(0.8134, 0.84]",
          "(0.8134, 0.84]",
          "(0.8134, 0.84]",
          "(0.7867, 0.8134]",
          "(0.7867, 0.8134]",
          "(0.7867, 0.8134]",
          "(0.7867, 0.8134]",
          "(0.7867, 0.8134]",
          "(0.7867, 0.8134]",
          "(0.7601, 0.7867]",
          "(0.7601, 0.7867]",
          "(0.7601, 0.7867]",
          "(0.7601, 0.7867]",
          "(0.7601, 0.7867]",
          "(0.7601, 0.7867]",
          "(0.7601, 0.7867]",
          "(0.7601, 0.7867]",
          "(0.7601, 0.7867]",
          "(0.7601, 0.7867]",
          "(0.7601, 0.7867]",
          "(0.7601, 0.7867]",
          "(0.7601, 0.7867]",
          "(0.7601, 0.7867]",
          "(0.7601, 0.7867]",
          "(0.7601, 0.7867]",
          "(0.7601, 0.7867]",
          "(0.7601, 0.7867]",
          "(0.7601, 0.7867]",
          "(0.7601, 0.7867]",
          "(0.7601, 0.7867]",
          "(0.7601, 0.7867]",
          "(0.7601, 0.7867]",
          "(0.7601, 0.7867]",
          "(0.7601, 0.7867]",
          "(0.7601, 0.7867]",
          "(0.7601, 0.7867]",
          "(0.7601, 0.7867]",
          "(0.7601, 0.7867]",
          "(0.7601, 0.7867]",
          "(0.7601, 0.7867]",
          "(0.7601, 0.7867]",
          "(0.7601, 0.7867]",
          "(0.7601, 0.7867]",
          "(0.7601, 0.7867]",
          "(0.7601, 0.7867]",
          "(0.7334, 0.7601]",
          "(0.7334, 0.7601]",
          "(0.7334, 0.7601]",
          "(0.7334, 0.7601]",
          "(0.7334, 0.7601]",
          "(0.7334, 0.7601]",
          "(0.7334, 0.7601]",
          "(0.7334, 0.7601]",
          "(0.7334, 0.7601]",
          "(0.7334, 0.7601]",
          "(0.7334, 0.7601]",
          "(0.7334, 0.7601]",
          "(0.7334, 0.7601]",
          "(0.7334, 0.7601]",
          "(0.7334, 0.7601]",
          "(0.7334, 0.7601]",
          "(0.7334, 0.7601]",
          "(0.7334, 0.7601]",
          "(0.7067, 0.7334]",
          "(0.7067, 0.7334]",
          "(0.7067, 0.7334]",
          "(0.7067, 0.7334]",
          "(0.7067, 0.7334]",
          "(0.7067, 0.7334]",
          "(0.7067, 0.7334]",
          "(0.7067, 0.7334]",
          "(0.7067, 0.7334]",
          "(0.7067, 0.7334]",
          "(0.7067, 0.7334]",
          "(0.7067, 0.7334]",
          "(0.7067, 0.7334]",
          "(0.7067, 0.7334]",
          "(0.7067, 0.7334]",
          "(0.7067, 0.7334]",
          "(0.7067, 0.7334]",
          "(0.7067, 0.7334]",
          "(0.7067, 0.7334]",
          "(0.7067, 0.7334]",
          "(0.7067, 0.7334]",
          "(0.7067, 0.7334]",
          "(0.7067, 0.7334]",
          "(0.7067, 0.7334]",
          "(0.7067, 0.7334]",
          "(0.7067, 0.7334]",
          "(0.7067, 0.7334]",
          "(0.7067, 0.7334]",
          "(0.7067, 0.7334]",
          "(0.7067, 0.7334]",
          "(0.7067, 0.7334]",
          "(0.7067, 0.7334]",
          "(0.7067, 0.7334]",
          "(0.7067, 0.7334]",
          "(0.7067, 0.7334]",
          "(0.7067, 0.7334]",
          "(0.7067, 0.7334]",
          "(0.7067, 0.7334]",
          "(0.7067, 0.7334]",
          "(0.7067, 0.7334]",
          "(0.7067, 0.7334]",
          "(0.7067, 0.7334]",
          "(0.7067, 0.7334]",
          "(0.7067, 0.7334]",
          "(0.7067, 0.7334]",
          "(0.7067, 0.7334]",
          "(0.7067, 0.7334]",
          "(0.7067, 0.7334]",
          "(0.7067, 0.7334]",
          "(0.7067, 0.7334]",
          "(0.7067, 0.7334]",
          "(0.7067, 0.7334]",
          "(0.7067, 0.7334]",
          "(0.7067, 0.7334]",
          "(0.7067, 0.7334]",
          "(0.7067, 0.7334]",
          "(0.7067, 0.7334]",
          "(0.7067, 0.7334]",
          "(0.7067, 0.7334]",
          "(0.7067, 0.7334]",
          "(0.7067, 0.7334]",
          "(0.7067, 0.7334]",
          "(0.7067, 0.7334]",
          "(0.7067, 0.7334]",
          "(0.7067, 0.7334]",
          "(0.7067, 0.7334]",
          "(0.7067, 0.7334]",
          "(0.7067, 0.7334]",
          "(0.7067, 0.7334]",
          "(0.7067, 0.7334]",
          "(0.7067, 0.7334]",
          "(0.7067, 0.7334]",
          "(0.7067, 0.7334]",
          "(0.7067, 0.7334]",
          "(0.7067, 0.7334]",
          "(0.7067, 0.7334]",
          "(0.7067, 0.7334]",
          "(0.7067, 0.7334]",
          "(0.7067, 0.7334]",
          "(0.7067, 0.7334]",
          "(0.7067, 0.7334]",
          "(0.7067, 0.7334]",
          "(0.7067, 0.7334]",
          "(0.7067, 0.7334]",
          "(0.7067, 0.7334]",
          "(0.7067, 0.7334]",
          "(0.7067, 0.7334]",
          "(0.7067, 0.7334]",
          "(0.7067, 0.7334]",
          "(0.7067, 0.7334]",
          "(0.6268, 0.6534]",
          "(0.6268, 0.6534]",
          "(0.6268, 0.6534]",
          "(0.6268, 0.6534]",
          "(0.6268, 0.6534]",
          "(0.6268, 0.6534]",
          "(0.6001, 0.6268]",
          "(0.6001, 0.6268]",
          "(0.6001, 0.6268]",
          "(0.6001, 0.6268]",
          "(0.6001, 0.6268]",
          "(0.6001, 0.6268]",
          "(0.6001, 0.6268]",
          "(0.6001, 0.6268]",
          "(0.6001, 0.6268]",
          "(0.6001, 0.6268]",
          "(0.6001, 0.6268]",
          "(0.6001, 0.6268]",
          "(0.6001, 0.6268]",
          "(0.6001, 0.6268]",
          "(0.6001, 0.6268]",
          "(0.6001, 0.6268]",
          "(0.6001, 0.6268]",
          "(0.6001, 0.6268]",
          "(0.6001, 0.6268]",
          "(0.6001, 0.6268]",
          "(0.6001, 0.6268]",
          "(0.6001, 0.6268]",
          "(0.6001, 0.6268]",
          "(0.6001, 0.6268]",
          "(0.6001, 0.6268]",
          "(0.6001, 0.6268]",
          "(0.6001, 0.6268]",
          "(0.6001, 0.6268]",
          "(0.6001, 0.6268]",
          "(0.6001, 0.6268]",
          "(0.6001, 0.6268]",
          "(0.6001, 0.6268]",
          "(0.6001, 0.6268]",
          "(0.6001, 0.6268]",
          "(0.6001, 0.6268]",
          "(0.6001, 0.6268]",
          "(0.6001, 0.6268]",
          "(0.6001, 0.6268]",
          "(0.6001, 0.6268]",
          "(0.6001, 0.6268]",
          "(0.6001, 0.6268]",
          "(0.6001, 0.6268]",
          "(0.6001, 0.6268]",
          "(0.6001, 0.6268]",
          "(0.6001, 0.6268]",
          "(0.6001, 0.6268]",
          "(0.6001, 0.6268]",
          "(0.6001, 0.6268]",
          "(0.6001, 0.6268]",
          "(0.6001, 0.6268]",
          "(0.6001, 0.6268]",
          "(0.6001, 0.6268]",
          "(0.6001, 0.6268]",
          "(0.6001, 0.6268]",
          "(0.6001, 0.6268]",
          "(0.6001, 0.6268]",
          "(0.6001, 0.6268]",
          "(0.6001, 0.6268]",
          "(0.6001, 0.6268]",
          "(0.6001, 0.6268]",
          "(0.6001, 0.6268]",
          "(0.6001, 0.6268]",
          "(0.6001, 0.6268]",
          "(0.6001, 0.6268]",
          "(0.6001, 0.6268]",
          "(0.6001, 0.6268]",
          "(0.6001, 0.6268]",
          "(0.6001, 0.6268]",
          "(0.6001, 0.6268]",
          "(0.6001, 0.6268]",
          "(0.6001, 0.6268]",
          "(0.6001, 0.6268]",
          "(0.6001, 0.6268]",
          "(0.6001, 0.6268]",
          "(0.6001, 0.6268]",
          "(0.6001, 0.6268]",
          "(0.6001, 0.6268]",
          "(0.6001, 0.6268]",
          "(0.6001, 0.6268]",
          "(0.6001, 0.6268]",
          "(0.6001, 0.6268]",
          "(0.6001, 0.6268]",
          "(0.6001, 0.6268]",
          "(0.6001, 0.6268]",
          "(0.6001, 0.6268]",
          "(0.6001, 0.6268]",
          "(0.6001, 0.6268]",
          "(0.6001, 0.6268]",
          "(0.6001, 0.6268]",
          "(0.6001, 0.6268]",
          "(0.3068, 0.3335]",
          "(0.3068, 0.3335]",
          "(0.3068, 0.3335]",
          "(0.3068, 0.3335]",
          "(0.3068, 0.3335]",
          "(0.3068, 0.3335]",
          "(0.3068, 0.3335]",
          "(0.3068, 0.3335]",
          "(0.3068, 0.3335]",
          "(0.3068, 0.3335]",
          "(0.3068, 0.3335]",
          "(0.3068, 0.3335]",
          "(0.3068, 0.3335]",
          "(0.3068, 0.3335]",
          "(0.3068, 0.3335]",
          "(0.3068, 0.3335]",
          "(0.3068, 0.3335]",
          "(0.3068, 0.3335]",
          "(0.3068, 0.3335]",
          "(0.3068, 0.3335]",
          "(0.3068, 0.3335]",
          "(0.2802, 0.3068]",
          "(0.2802, 0.3068]",
          "(0.2802, 0.3068]",
          "(0.2269, 0.2535]",
          "(0.2269, 0.2535]",
          "(0.2269, 0.2535]",
          "(0.2269, 0.2535]",
          "(0.2269, 0.2535]",
          "(0.2269, 0.2535]",
          "(0.2269, 0.2535]",
          "(0.2269, 0.2535]",
          "(0.2269, 0.2535]",
          "(0.2002, 0.2269]",
          "(0.2002, 0.2269]",
          "(0.2002, 0.2269]",
          "(0.2002, 0.2269]",
          "(0.2002, 0.2269]",
          "(0.2002, 0.2269]",
          "(0.2002, 0.2269]",
          "(0.2002, 0.2269]",
          "(0.2002, 0.2269]",
          "(0.2002, 0.2269]",
          "(0.2002, 0.2269]",
          "(0.2002, 0.2269]",
          "(0.2002, 0.2269]",
          "(0.2002, 0.2269]",
          "(0.2002, 0.2269]",
          "(0.2002, 0.2269]",
          "(0.2002, 0.2269]",
          "(0.2002, 0.2269]",
          "(0.2002, 0.2269]",
          "(0.2002, 0.2269]",
          "(0.2002, 0.2269]",
          "(0.2002, 0.2269]",
          "(0.2002, 0.2269]",
          "(0.2002, 0.2269]",
          "(0.2002, 0.2269]",
          "(0.2002, 0.2269]",
          "(0.2002, 0.2269]",
          "(0.1735, 0.2002]",
          "(0.1735, 0.2002]",
          "(0.1735, 0.2002]",
          "(0.1735, 0.2002]",
          "(0.1735, 0.2002]",
          "(0.1735, 0.2002]",
          "(0.1469, 0.1735]",
          "(0.1469, 0.1735]",
          "(0.1469, 0.1735]",
          "(0.1469, 0.1735]",
          "(0.1469, 0.1735]",
          "(0.1469, 0.1735]",
          "(0.1469, 0.1735]",
          "(0.1469, 0.1735]",
          "(0.1469, 0.1735]",
          "(0.1469, 0.1735]",
          "(0.1469, 0.1735]",
          "(0.1469, 0.1735]",
          "(0.1469, 0.1735]",
          "(0.1469, 0.1735]",
          "(0.1469, 0.1735]",
          "(0.1469, 0.1735]",
          "(0.1469, 0.1735]",
          "(0.1469, 0.1735]",
          "(0.09356, 0.1202]",
          "(0.09356, 0.1202]",
          "(0.09356, 0.1202]",
          "(0.09356, 0.1202]",
          "(0.09356, 0.1202]",
          "(0.09356, 0.1202]",
          "(0.09356, 0.1202]",
          "(0.09356, 0.1202]",
          "(0.09356, 0.1202]",
          "(0.09356, 0.1202]",
          "(0.09356, 0.1202]",
          "(0.09356, 0.1202]",
          "(0.09356, 0.1202]",
          "(0.09356, 0.1202]",
          "(0.09356, 0.1202]",
          "(0.09356, 0.1202]",
          "(0.09356, 0.1202]",
          "(0.09356, 0.1202]",
          "(0.09356, 0.1202]",
          "(0.09356, 0.1202]",
          "(0.09356, 0.1202]",
          "(0.09356, 0.1202]",
          "(0.09356, 0.1202]",
          "(0.09356, 0.1202]",
          "(0.09356, 0.1202]",
          "(0.09356, 0.1202]",
          "(0.09356, 0.1202]",
          "(0.09356, 0.1202]",
          "(0.09356, 0.1202]",
          "(0.09356, 0.1202]",
          "(0.09356, 0.1202]",
          "(0.09356, 0.1202]",
          "(0.09356, 0.1202]",
          "(0.09356, 0.1202]",
          "(0.09356, 0.1202]",
          "(0.09356, 0.1202]",
          "(-0.3343, -0.3063]",
          "(-0.3343, -0.3063]",
          "(-0.3343, -0.3063]",
          "(-0.3343, -0.3063]",
          "(-0.3343, -0.3063]",
          "(-0.3343, -0.3063]",
          "(-0.3343, -0.3063]",
          "(-0.3343, -0.3063]",
          "(-0.3343, -0.3063]"
         ],
         "yaxis": "y"
        }
       ],
       "layout": {
        "coloraxis": {
         "colorbar": {
          "title": {
           "text": "delta_main_total"
          }
         },
         "colorscale": [
          [
           0,
           "green"
          ],
          [
           0.5,
           "yellow"
          ],
          [
           1,
           "red"
          ]
         ]
        },
        "legend": {
         "tracegroupgap": 0
        },
        "template": {
         "data": {
          "bar": [
           {
            "error_x": {
             "color": "#2a3f5f"
            },
            "error_y": {
             "color": "#2a3f5f"
            },
            "marker": {
             "line": {
              "color": "#E5ECF6",
              "width": 0.5
             },
             "pattern": {
              "fillmode": "overlay",
              "size": 10,
              "solidity": 0.2
             }
            },
            "type": "bar"
           }
          ],
          "barpolar": [
           {
            "marker": {
             "line": {
              "color": "#E5ECF6",
              "width": 0.5
             },
             "pattern": {
              "fillmode": "overlay",
              "size": 10,
              "solidity": 0.2
             }
            },
            "type": "barpolar"
           }
          ],
          "carpet": [
           {
            "aaxis": {
             "endlinecolor": "#2a3f5f",
             "gridcolor": "white",
             "linecolor": "white",
             "minorgridcolor": "white",
             "startlinecolor": "#2a3f5f"
            },
            "baxis": {
             "endlinecolor": "#2a3f5f",
             "gridcolor": "white",
             "linecolor": "white",
             "minorgridcolor": "white",
             "startlinecolor": "#2a3f5f"
            },
            "type": "carpet"
           }
          ],
          "choropleth": [
           {
            "colorbar": {
             "outlinewidth": 0,
             "ticks": ""
            },
            "type": "choropleth"
           }
          ],
          "contour": [
           {
            "colorbar": {
             "outlinewidth": 0,
             "ticks": ""
            },
            "colorscale": [
             [
              0,
              "#0d0887"
             ],
             [
              0.1111111111111111,
              "#46039f"
             ],
             [
              0.2222222222222222,
              "#7201a8"
             ],
             [
              0.3333333333333333,
              "#9c179e"
             ],
             [
              0.4444444444444444,
              "#bd3786"
             ],
             [
              0.5555555555555556,
              "#d8576b"
             ],
             [
              0.6666666666666666,
              "#ed7953"
             ],
             [
              0.7777777777777778,
              "#fb9f3a"
             ],
             [
              0.8888888888888888,
              "#fdca26"
             ],
             [
              1,
              "#f0f921"
             ]
            ],
            "type": "contour"
           }
          ],
          "contourcarpet": [
           {
            "colorbar": {
             "outlinewidth": 0,
             "ticks": ""
            },
            "type": "contourcarpet"
           }
          ],
          "heatmap": [
           {
            "colorbar": {
             "outlinewidth": 0,
             "ticks": ""
            },
            "colorscale": [
             [
              0,
              "#0d0887"
             ],
             [
              0.1111111111111111,
              "#46039f"
             ],
             [
              0.2222222222222222,
              "#7201a8"
             ],
             [
              0.3333333333333333,
              "#9c179e"
             ],
             [
              0.4444444444444444,
              "#bd3786"
             ],
             [
              0.5555555555555556,
              "#d8576b"
             ],
             [
              0.6666666666666666,
              "#ed7953"
             ],
             [
              0.7777777777777778,
              "#fb9f3a"
             ],
             [
              0.8888888888888888,
              "#fdca26"
             ],
             [
              1,
              "#f0f921"
             ]
            ],
            "type": "heatmap"
           }
          ],
          "heatmapgl": [
           {
            "colorbar": {
             "outlinewidth": 0,
             "ticks": ""
            },
            "colorscale": [
             [
              0,
              "#0d0887"
             ],
             [
              0.1111111111111111,
              "#46039f"
             ],
             [
              0.2222222222222222,
              "#7201a8"
             ],
             [
              0.3333333333333333,
              "#9c179e"
             ],
             [
              0.4444444444444444,
              "#bd3786"
             ],
             [
              0.5555555555555556,
              "#d8576b"
             ],
             [
              0.6666666666666666,
              "#ed7953"
             ],
             [
              0.7777777777777778,
              "#fb9f3a"
             ],
             [
              0.8888888888888888,
              "#fdca26"
             ],
             [
              1,
              "#f0f921"
             ]
            ],
            "type": "heatmapgl"
           }
          ],
          "histogram": [
           {
            "marker": {
             "pattern": {
              "fillmode": "overlay",
              "size": 10,
              "solidity": 0.2
             }
            },
            "type": "histogram"
           }
          ],
          "histogram2d": [
           {
            "colorbar": {
             "outlinewidth": 0,
             "ticks": ""
            },
            "colorscale": [
             [
              0,
              "#0d0887"
             ],
             [
              0.1111111111111111,
              "#46039f"
             ],
             [
              0.2222222222222222,
              "#7201a8"
             ],
             [
              0.3333333333333333,
              "#9c179e"
             ],
             [
              0.4444444444444444,
              "#bd3786"
             ],
             [
              0.5555555555555556,
              "#d8576b"
             ],
             [
              0.6666666666666666,
              "#ed7953"
             ],
             [
              0.7777777777777778,
              "#fb9f3a"
             ],
             [
              0.8888888888888888,
              "#fdca26"
             ],
             [
              1,
              "#f0f921"
             ]
            ],
            "type": "histogram2d"
           }
          ],
          "histogram2dcontour": [
           {
            "colorbar": {
             "outlinewidth": 0,
             "ticks": ""
            },
            "colorscale": [
             [
              0,
              "#0d0887"
             ],
             [
              0.1111111111111111,
              "#46039f"
             ],
             [
              0.2222222222222222,
              "#7201a8"
             ],
             [
              0.3333333333333333,
              "#9c179e"
             ],
             [
              0.4444444444444444,
              "#bd3786"
             ],
             [
              0.5555555555555556,
              "#d8576b"
             ],
             [
              0.6666666666666666,
              "#ed7953"
             ],
             [
              0.7777777777777778,
              "#fb9f3a"
             ],
             [
              0.8888888888888888,
              "#fdca26"
             ],
             [
              1,
              "#f0f921"
             ]
            ],
            "type": "histogram2dcontour"
           }
          ],
          "mesh3d": [
           {
            "colorbar": {
             "outlinewidth": 0,
             "ticks": ""
            },
            "type": "mesh3d"
           }
          ],
          "parcoords": [
           {
            "line": {
             "colorbar": {
              "outlinewidth": 0,
              "ticks": ""
             }
            },
            "type": "parcoords"
           }
          ],
          "pie": [
           {
            "automargin": true,
            "type": "pie"
           }
          ],
          "scatter": [
           {
            "fillpattern": {
             "fillmode": "overlay",
             "size": 10,
             "solidity": 0.2
            },
            "type": "scatter"
           }
          ],
          "scatter3d": [
           {
            "line": {
             "colorbar": {
              "outlinewidth": 0,
              "ticks": ""
             }
            },
            "marker": {
             "colorbar": {
              "outlinewidth": 0,
              "ticks": ""
             }
            },
            "type": "scatter3d"
           }
          ],
          "scattercarpet": [
           {
            "marker": {
             "colorbar": {
              "outlinewidth": 0,
              "ticks": ""
             }
            },
            "type": "scattercarpet"
           }
          ],
          "scattergeo": [
           {
            "marker": {
             "colorbar": {
              "outlinewidth": 0,
              "ticks": ""
             }
            },
            "type": "scattergeo"
           }
          ],
          "scattergl": [
           {
            "marker": {
             "colorbar": {
              "outlinewidth": 0,
              "ticks": ""
             }
            },
            "type": "scattergl"
           }
          ],
          "scattermapbox": [
           {
            "marker": {
             "colorbar": {
              "outlinewidth": 0,
              "ticks": ""
             }
            },
            "type": "scattermapbox"
           }
          ],
          "scatterpolar": [
           {
            "marker": {
             "colorbar": {
              "outlinewidth": 0,
              "ticks": ""
             }
            },
            "type": "scatterpolar"
           }
          ],
          "scatterpolargl": [
           {
            "marker": {
             "colorbar": {
              "outlinewidth": 0,
              "ticks": ""
             }
            },
            "type": "scatterpolargl"
           }
          ],
          "scatterternary": [
           {
            "marker": {
             "colorbar": {
              "outlinewidth": 0,
              "ticks": ""
             }
            },
            "type": "scatterternary"
           }
          ],
          "surface": [
           {
            "colorbar": {
             "outlinewidth": 0,
             "ticks": ""
            },
            "colorscale": [
             [
              0,
              "#0d0887"
             ],
             [
              0.1111111111111111,
              "#46039f"
             ],
             [
              0.2222222222222222,
              "#7201a8"
             ],
             [
              0.3333333333333333,
              "#9c179e"
             ],
             [
              0.4444444444444444,
              "#bd3786"
             ],
             [
              0.5555555555555556,
              "#d8576b"
             ],
             [
              0.6666666666666666,
              "#ed7953"
             ],
             [
              0.7777777777777778,
              "#fb9f3a"
             ],
             [
              0.8888888888888888,
              "#fdca26"
             ],
             [
              1,
              "#f0f921"
             ]
            ],
            "type": "surface"
           }
          ],
          "table": [
           {
            "cells": {
             "fill": {
              "color": "#EBF0F8"
             },
             "line": {
              "color": "white"
             }
            },
            "header": {
             "fill": {
              "color": "#C8D4E3"
             },
             "line": {
              "color": "white"
             }
            },
            "type": "table"
           }
          ]
         },
         "layout": {
          "annotationdefaults": {
           "arrowcolor": "#2a3f5f",
           "arrowhead": 0,
           "arrowwidth": 1
          },
          "autotypenumbers": "strict",
          "coloraxis": {
           "colorbar": {
            "outlinewidth": 0,
            "ticks": ""
           }
          },
          "colorscale": {
           "diverging": [
            [
             0,
             "#8e0152"
            ],
            [
             0.1,
             "#c51b7d"
            ],
            [
             0.2,
             "#de77ae"
            ],
            [
             0.3,
             "#f1b6da"
            ],
            [
             0.4,
             "#fde0ef"
            ],
            [
             0.5,
             "#f7f7f7"
            ],
            [
             0.6,
             "#e6f5d0"
            ],
            [
             0.7,
             "#b8e186"
            ],
            [
             0.8,
             "#7fbc41"
            ],
            [
             0.9,
             "#4d9221"
            ],
            [
             1,
             "#276419"
            ]
           ],
           "sequential": [
            [
             0,
             "#0d0887"
            ],
            [
             0.1111111111111111,
             "#46039f"
            ],
            [
             0.2222222222222222,
             "#7201a8"
            ],
            [
             0.3333333333333333,
             "#9c179e"
            ],
            [
             0.4444444444444444,
             "#bd3786"
            ],
            [
             0.5555555555555556,
             "#d8576b"
            ],
            [
             0.6666666666666666,
             "#ed7953"
            ],
            [
             0.7777777777777778,
             "#fb9f3a"
            ],
            [
             0.8888888888888888,
             "#fdca26"
            ],
            [
             1,
             "#f0f921"
            ]
           ],
           "sequentialminus": [
            [
             0,
             "#0d0887"
            ],
            [
             0.1111111111111111,
             "#46039f"
            ],
            [
             0.2222222222222222,
             "#7201a8"
            ],
            [
             0.3333333333333333,
             "#9c179e"
            ],
            [
             0.4444444444444444,
             "#bd3786"
            ],
            [
             0.5555555555555556,
             "#d8576b"
            ],
            [
             0.6666666666666666,
             "#ed7953"
            ],
            [
             0.7777777777777778,
             "#fb9f3a"
            ],
            [
             0.8888888888888888,
             "#fdca26"
            ],
            [
             1,
             "#f0f921"
            ]
           ]
          },
          "colorway": [
           "#636efa",
           "#EF553B",
           "#00cc96",
           "#ab63fa",
           "#FFA15A",
           "#19d3f3",
           "#FF6692",
           "#B6E880",
           "#FF97FF",
           "#FECB52"
          ],
          "font": {
           "color": "#2a3f5f"
          },
          "geo": {
           "bgcolor": "white",
           "lakecolor": "white",
           "landcolor": "#E5ECF6",
           "showlakes": true,
           "showland": true,
           "subunitcolor": "white"
          },
          "hoverlabel": {
           "align": "left"
          },
          "hovermode": "closest",
          "mapbox": {
           "style": "light"
          },
          "paper_bgcolor": "white",
          "plot_bgcolor": "#E5ECF6",
          "polar": {
           "angularaxis": {
            "gridcolor": "white",
            "linecolor": "white",
            "ticks": ""
           },
           "bgcolor": "#E5ECF6",
           "radialaxis": {
            "gridcolor": "white",
            "linecolor": "white",
            "ticks": ""
           }
          },
          "scene": {
           "xaxis": {
            "backgroundcolor": "#E5ECF6",
            "gridcolor": "white",
            "gridwidth": 2,
            "linecolor": "white",
            "showbackground": true,
            "ticks": "",
            "zerolinecolor": "white"
           },
           "yaxis": {
            "backgroundcolor": "#E5ECF6",
            "gridcolor": "white",
            "gridwidth": 2,
            "linecolor": "white",
            "showbackground": true,
            "ticks": "",
            "zerolinecolor": "white"
           },
           "zaxis": {
            "backgroundcolor": "#E5ECF6",
            "gridcolor": "white",
            "gridwidth": 2,
            "linecolor": "white",
            "showbackground": true,
            "ticks": "",
            "zerolinecolor": "white"
           }
          },
          "shapedefaults": {
           "line": {
            "color": "#2a3f5f"
           }
          },
          "ternary": {
           "aaxis": {
            "gridcolor": "white",
            "linecolor": "white",
            "ticks": ""
           },
           "baxis": {
            "gridcolor": "white",
            "linecolor": "white",
            "ticks": ""
           },
           "bgcolor": "#E5ECF6",
           "caxis": {
            "gridcolor": "white",
            "linecolor": "white",
            "ticks": ""
           }
          },
          "title": {
           "x": 0.05
          },
          "xaxis": {
           "automargin": true,
           "gridcolor": "white",
           "linecolor": "white",
           "ticks": "",
           "title": {
            "standoff": 15
           },
           "zerolinecolor": "white",
           "zerolinewidth": 2
          },
          "yaxis": {
           "automargin": true,
           "gridcolor": "white",
           "linecolor": "white",
           "ticks": "",
           "title": {
            "standoff": 15
           },
           "zerolinecolor": "white",
           "zerolinewidth": 2
          }
         }
        },
        "title": {
         "text": "Candidate scenarios varying the number of variables from the Takeoff Scenario."
        },
        "xaxis": {
         "anchor": "y",
         "domain": [
          0,
          1
         ],
         "tickmode": "array",
         "tickvals": [
          0,
          1,
          2,
          3,
          4
         ],
         "title": {
          "text": "Unmatched Extra Variables"
         }
        },
        "yaxis": {
         "anchor": "x",
         "categoryorder": "category ascending",
         "domain": [
          0,
          1
         ],
         "title": {
          "text": "Binned Similarity"
         }
        }
       }
      }
     },
     "metadata": {},
     "output_type": "display_data"
    }
   ],
   "source": [
    "import pandas as pd\n",
    "import plotly.express as px\n",
    "\n",
    "# Suponha que df já esteja carregado com as colunas 'Scenario Similarity', 'delta_main_total', e 'Count_Extra_Var'\n",
    "\n",
    "# Criar bins para a coluna 'Scenario Similarity'\n",
    "df['Similarity Bin'] = pd.cut(df['Scenario Similarity'], bins=50, precision=4).astype(str)  # Convertendo para string\n",
    "\n",
    "# Criando o scatter plot usando a coluna de bins\n",
    "fig = px.scatter(\n",
    "    df,\n",
    "    x='Count_Extra_Var',\n",
    "    y='Similarity Bin',  # Usando a coluna de bins como categorias no eixo Y\n",
    "    color='delta_main_total',\n",
    "    title='Candidate scenarios varying the number of variables from the Takeoff Scenario.',\n",
    "    labels={\n",
    "        'Count_Extra_Var': 'Unmatched Extra Variables',\n",
    "        'Similarity Bin': 'Binned Similarity'\n",
    "    },\n",
    "    hover_data=['Scenario Similarity', 'Count_Extra_Var'],\n",
    "    color_continuous_scale=['green', 'yellow', 'red']\n",
    ")\n",
    "\n",
    "# Ajusta os eixos para exibir os valores únicos e organizar as categorias\n",
    "fig.update_xaxes(\n",
    "    tickmode='array',\n",
    "    tickvals=df['Count_Extra_Var'].unique()\n",
    ")\n",
    "fig.update_yaxes(\n",
    "    categoryorder='category ascending'  # Ordena as categorias de forma crescente\n",
    ")\n",
    "\n",
    "# Exibindo o gráfico\n",
    "fig.show()\n"
   ]
  },
  {
   "cell_type": "code",
   "execution_count": 937,
   "metadata": {},
   "outputs": [
    {
     "data": {
      "text/html": [
       "<div>\n",
       "<style scoped>\n",
       "    .dataframe tbody tr th:only-of-type {\n",
       "        vertical-align: middle;\n",
       "    }\n",
       "\n",
       "    .dataframe tbody tr th {\n",
       "        vertical-align: top;\n",
       "    }\n",
       "\n",
       "    .dataframe thead th {\n",
       "        text-align: right;\n",
       "    }\n",
       "</style>\n",
       "<table border=\"1\" class=\"dataframe\">\n",
       "  <thead>\n",
       "    <tr style=\"text-align: right;\">\n",
       "      <th></th>\n",
       "      <th>Scenario Similarity</th>\n",
       "      <th>extra_percent</th>\n",
       "    </tr>\n",
       "  </thead>\n",
       "  <tbody>\n",
       "    <tr>\n",
       "      <th>0</th>\n",
       "      <td>1.000</td>\n",
       "      <td>0.000000</td>\n",
       "    </tr>\n",
       "    <tr>\n",
       "      <th>1</th>\n",
       "      <td>0.989</td>\n",
       "      <td>0.166667</td>\n",
       "    </tr>\n",
       "    <tr>\n",
       "      <th>2</th>\n",
       "      <td>0.989</td>\n",
       "      <td>0.166667</td>\n",
       "    </tr>\n",
       "    <tr>\n",
       "      <th>3</th>\n",
       "      <td>0.984</td>\n",
       "      <td>0.166667</td>\n",
       "    </tr>\n",
       "    <tr>\n",
       "      <th>4</th>\n",
       "      <td>0.984</td>\n",
       "      <td>0.166667</td>\n",
       "    </tr>\n",
       "  </tbody>\n",
       "</table>\n",
       "</div>"
      ],
      "text/plain": [
       "   Scenario Similarity  extra_percent\n",
       "0                1.000       0.000000\n",
       "1                0.989       0.166667\n",
       "2                0.989       0.166667\n",
       "3                0.984       0.166667\n",
       "4                0.984       0.166667"
      ]
     },
     "execution_count": 937,
     "metadata": {},
     "output_type": "execute_result"
    }
   ],
   "source": [
    "df[\"extra_percent\"] = df[\"Count_Extra_Var\"] / (df[\"Count_Main_Var\"] + df[\"Count_Extra_Var\"])\n",
    "df[[\"Scenario Similarity\",\"extra_percent\"]].head()"
   ]
  },
  {
   "cell_type": "code",
   "execution_count": 938,
   "metadata": {},
   "outputs": [
    {
     "data": {
      "application/vnd.plotly.v1+json": {
       "config": {
        "plotlyServerURL": "https://plot.ly"
       },
       "data": [
        {
         "hovertemplate": "Extra Percent=%{x}<br>Scenario Similarity=%{y}<br>Count_Main_Var=%{marker.color}<extra></extra>",
         "legendgroup": "",
         "marker": {
          "color": [
           5,
           5,
           5,
           5,
           5,
           5,
           5,
           5,
           5,
           5,
           5,
           5,
           5,
           5,
           5,
           5,
           4,
           4,
           4,
           4,
           4,
           4,
           4,
           4,
           4,
           4,
           4,
           4,
           4,
           4,
           4,
           4,
           4,
           4,
           4,
           4,
           4,
           4,
           4,
           4,
           4,
           4,
           4,
           4,
           4,
           4,
           4,
           4,
           4,
           4,
           4,
           4,
           4,
           4,
           4,
           4,
           4,
           4,
           4,
           4,
           4,
           4,
           4,
           4,
           4,
           4,
           4,
           4,
           4,
           4,
           4,
           4,
           4,
           4,
           4,
           4,
           4,
           4,
           4,
           4,
           4,
           4,
           4,
           4,
           4,
           4,
           4,
           4,
           4,
           4,
           4,
           4,
           4,
           4,
           4,
           4,
           3,
           3,
           3,
           3,
           3,
           3,
           3,
           3,
           3,
           3,
           3,
           3,
           3,
           3,
           3,
           3,
           3,
           3,
           3,
           3,
           3,
           3,
           3,
           3,
           3,
           3,
           3,
           3,
           3,
           3,
           3,
           3,
           3,
           3,
           3,
           3,
           3,
           3,
           3,
           3,
           3,
           3,
           3,
           3,
           3,
           3,
           3,
           3,
           3,
           3,
           3,
           3,
           3,
           3,
           3,
           3,
           3,
           3,
           3,
           3,
           3,
           3,
           3,
           3,
           3,
           3,
           3,
           3,
           3,
           3,
           3,
           3,
           3,
           3,
           3,
           3,
           3,
           3,
           3,
           3,
           3,
           3,
           3,
           3,
           3,
           3,
           3,
           3,
           3,
           3,
           3,
           3,
           3,
           3,
           3,
           3,
           3,
           3,
           3,
           3,
           3,
           3,
           3,
           3,
           3,
           3,
           3,
           3,
           3,
           3,
           3,
           3,
           3,
           3,
           3,
           3,
           3,
           3,
           3,
           3,
           3,
           3,
           3,
           3,
           3,
           3,
           3,
           3,
           3,
           3,
           3,
           3,
           3,
           3,
           3,
           3,
           3,
           3,
           3,
           3,
           3,
           3,
           3,
           3,
           2,
           2,
           2,
           2,
           2,
           2,
           2,
           2,
           2,
           2,
           2,
           2,
           2,
           2,
           2,
           2,
           2,
           2,
           2,
           2,
           2,
           2,
           2,
           2,
           2,
           2,
           2,
           2,
           2,
           2,
           2,
           2,
           2,
           2,
           2,
           2,
           2,
           2,
           2,
           2,
           2,
           2,
           2,
           2,
           2,
           2,
           2,
           2,
           2,
           2,
           2,
           2,
           2,
           2,
           2,
           2,
           2,
           2,
           2,
           2,
           2,
           2,
           2,
           2,
           2,
           2,
           2,
           2,
           2,
           2,
           2,
           2,
           2,
           2,
           2,
           2,
           2,
           2,
           2,
           2,
           2,
           2,
           2,
           2,
           2,
           2,
           2,
           2,
           2,
           2,
           2,
           2,
           2,
           2,
           2,
           2,
           3,
           2,
           2,
           3,
           3,
           2,
           3,
           3,
           3,
           3,
           3,
           3,
           2,
           2,
           2,
           2,
           2,
           2,
           3,
           3,
           3,
           2,
           2,
           2,
           2,
           2,
           2,
           2,
           2,
           2,
           2,
           2,
           2,
           2,
           2,
           2,
           2,
           2,
           2,
           2,
           2,
           2,
           2,
           2,
           2,
           2,
           2,
           2,
           2,
           2,
           2,
           2,
           2,
           2,
           2,
           2,
           2,
           2,
           2,
           2,
           1,
           1,
           1,
           1,
           1,
           1,
           1,
           1,
           1,
           1,
           1,
           1,
           1,
           1,
           1,
           1,
           1,
           1,
           1,
           1,
           1,
           1,
           1,
           1,
           1,
           1,
           1,
           1,
           1,
           1,
           1,
           1,
           1,
           1,
           1,
           1,
           1,
           1,
           1,
           1,
           1,
           1,
           1,
           1,
           1,
           1,
           1,
           1,
           1,
           1,
           1,
           1,
           1,
           1,
           1,
           1,
           1,
           1,
           1,
           1,
           0,
           0,
           0,
           0,
           0,
           0,
           0,
           0,
           0
          ],
          "coloraxis": "coloraxis",
          "symbol": "circle"
         },
         "mode": "markers",
         "name": "",
         "orientation": "v",
         "showlegend": false,
         "type": "scatter",
         "x": [
          0,
          0.16666666666666666,
          0.16666666666666666,
          0.16666666666666666,
          0.16666666666666666,
          0.2857142857142857,
          0.2857142857142857,
          0.2857142857142857,
          0.2857142857142857,
          0.2857142857142857,
          0.2857142857142857,
          0.375,
          0.375,
          0.375,
          0.375,
          0.4444444444444444,
          0,
          0,
          0,
          0.2,
          0.2,
          0.2,
          0.2,
          0.2,
          0.2,
          0.3333333333333333,
          0.3333333333333333,
          0.3333333333333333,
          0.2,
          0.2,
          0.2,
          0.2,
          0.2,
          0.2,
          0.3333333333333333,
          0.3333333333333333,
          0.3333333333333333,
          0.3333333333333333,
          0.3333333333333333,
          0.3333333333333333,
          0.3333333333333333,
          0.3333333333333333,
          0.3333333333333333,
          0.3333333333333333,
          0.3333333333333333,
          0.3333333333333333,
          0.3333333333333333,
          0.3333333333333333,
          0.3333333333333333,
          0.42857142857142855,
          0.42857142857142855,
          0.42857142857142855,
          0.42857142857142855,
          0.42857142857142855,
          0.42857142857142855,
          0.42857142857142855,
          0.42857142857142855,
          0.42857142857142855,
          0.42857142857142855,
          0.42857142857142855,
          0.42857142857142855,
          0.5,
          0.5,
          0.5,
          0,
          0,
          0.2,
          0.2,
          0.2,
          0.2,
          0.2,
          0.2,
          0.2,
          0.2,
          0.3333333333333333,
          0.3333333333333333,
          0.3333333333333333,
          0.3333333333333333,
          0.3333333333333333,
          0.3333333333333333,
          0.3333333333333333,
          0.3333333333333333,
          0.3333333333333333,
          0.3333333333333333,
          0.3333333333333333,
          0.3333333333333333,
          0.42857142857142855,
          0.42857142857142855,
          0.42857142857142855,
          0.42857142857142855,
          0.42857142857142855,
          0.42857142857142855,
          0.42857142857142855,
          0.42857142857142855,
          0.5,
          0.5,
          0,
          0,
          0,
          0.25,
          0.25,
          0.25,
          0.25,
          0.25,
          0.25,
          0.4,
          0.4,
          0.4,
          0.25,
          0.25,
          0.25,
          0.25,
          0.25,
          0.25,
          0.4,
          0.4,
          0.4,
          0.4,
          0.4,
          0.4,
          0.4,
          0.4,
          0.4,
          0.4,
          0.4,
          0.4,
          0.5,
          0.5,
          0.5,
          0.5,
          0.5,
          0.5,
          0.4,
          0.4,
          0.4,
          0.5,
          0.5,
          0.5,
          0.5,
          0.5,
          0.5,
          0.5714285714285714,
          0.5714285714285714,
          0.5714285714285714,
          0,
          0,
          0,
          0,
          0,
          0,
          0.25,
          0.25,
          0.25,
          0.25,
          0.25,
          0.25,
          0.25,
          0.25,
          0.25,
          0.25,
          0.25,
          0.25,
          0.25,
          0.25,
          0.25,
          0.25,
          0.25,
          0.25,
          0.25,
          0.25,
          0.25,
          0.25,
          0.25,
          0.25,
          0.4,
          0.4,
          0.4,
          0.4,
          0.4,
          0.4,
          0.4,
          0.4,
          0.4,
          0.4,
          0.4,
          0.4,
          0.4,
          0.4,
          0.4,
          0.4,
          0.4,
          0.4,
          0.4,
          0.4,
          0.4,
          0.4,
          0.4,
          0.4,
          0.4,
          0.4,
          0.4,
          0.4,
          0.4,
          0.4,
          0.4,
          0.4,
          0.4,
          0.4,
          0.4,
          0.4,
          0.5,
          0.5,
          0.5,
          0.5,
          0.5,
          0.5,
          0.5,
          0.5,
          0.5,
          0.5,
          0.5,
          0.5,
          0.5,
          0.5,
          0.5,
          0.5,
          0.5,
          0.5,
          0.5,
          0.5,
          0.5,
          0.5,
          0.5,
          0.5,
          0.5714285714285714,
          0.5714285714285714,
          0.5714285714285714,
          0.5714285714285714,
          0.5714285714285714,
          0.5714285714285714,
          0,
          0,
          0,
          0,
          0,
          0,
          0.3333333333333333,
          0.3333333333333333,
          0.3333333333333333,
          0.3333333333333333,
          0.3333333333333333,
          0.3333333333333333,
          0.3333333333333333,
          0.3333333333333333,
          0.3333333333333333,
          0.3333333333333333,
          0.3333333333333333,
          0.3333333333333333,
          0.5,
          0.5,
          0.5,
          0.5,
          0.5,
          0.5,
          0.3333333333333333,
          0.3333333333333333,
          0.3333333333333333,
          0.3333333333333333,
          0.3333333333333333,
          0.3333333333333333,
          0.3333333333333333,
          0.3333333333333333,
          0.3333333333333333,
          0.3333333333333333,
          0.3333333333333333,
          0.3333333333333333,
          0.5,
          0.5,
          0.5,
          0.5,
          0.5,
          0.5,
          0.5,
          0.5,
          0.5,
          0.5,
          0.5,
          0.5,
          0.5,
          0.5,
          0.5,
          0.5,
          0.5,
          0.5,
          0.5,
          0.5,
          0.5,
          0.5,
          0.5,
          0.5,
          0.5,
          0.5,
          0.5,
          0.5,
          0.5,
          0.5,
          0.6,
          0.6,
          0.6,
          0.6,
          0.6,
          0.6,
          0.6,
          0.6,
          0.6,
          0.6,
          0.6,
          0.6,
          0.6,
          0.6,
          0.6,
          0.6,
          0.6,
          0.6,
          0.6,
          0.6,
          0.6,
          0.6,
          0.6,
          0.6,
          0.6666666666666666,
          0.6666666666666666,
          0.6666666666666666,
          0.6666666666666666,
          0.6666666666666666,
          0.6666666666666666,
          0.4,
          0.3333333333333333,
          0.5,
          0.25,
          0.25,
          0.3333333333333333,
          0.4,
          0.5,
          0.4,
          0.5,
          0.4,
          0.4,
          0.5,
          0.5,
          0.5,
          0.6,
          0.6,
          0.5,
          0.5,
          0.5714285714285714,
          0.5,
          0.6,
          0.6666666666666666,
          0.6,
          0.5,
          0.5,
          0.3333333333333333,
          0.3333333333333333,
          0.3333333333333333,
          0.3333333333333333,
          0.3333333333333333,
          0.5,
          0.3333333333333333,
          0.5,
          0.5,
          0.5,
          0.5,
          0.5,
          0.6,
          0.6,
          0.6,
          0.6,
          0.5,
          0.6,
          0.5,
          0.5,
          0.5,
          0.5,
          0.6,
          0.5,
          0.5,
          0.6666666666666666,
          0.6,
          0.6666666666666666,
          0.6,
          0.6,
          0.6,
          0.6,
          0.6666666666666666,
          0.6,
          0.5,
          0.6666666666666666,
          0.5,
          0.5,
          0.6666666666666666,
          0.5,
          0.75,
          0.75,
          0.6666666666666666,
          0.6666666666666666,
          0.6666666666666666,
          0.6666666666666666,
          0.6666666666666666,
          0.75,
          0.6666666666666666,
          0.6666666666666666,
          0.6666666666666666,
          0.75,
          0.8,
          0.8,
          0.75,
          0.75,
          0.75,
          0.75,
          0.6666666666666666,
          0.5,
          0.6666666666666666,
          0.6666666666666666,
          0.5,
          0.5,
          0.5,
          0.5,
          0.5,
          0.6666666666666666,
          0.6666666666666666,
          0.6666666666666666,
          0.75,
          0.6666666666666666,
          0.75,
          0.6666666666666666,
          0.6666666666666666,
          0.6666666666666666,
          0.6666666666666666,
          0.75,
          0.6666666666666666,
          0.6666666666666666,
          0.6666666666666666,
          0.75,
          0.75,
          0.6666666666666666,
          0.75,
          0.75,
          0.75,
          0.8,
          0.75,
          0.75,
          0.75,
          0.8,
          0.8,
          0.75,
          1,
          1,
          1,
          1,
          1,
          1,
          1,
          1,
          1
         ],
         "xaxis": "x",
         "y": [
          1,
          0.989,
          0.989,
          0.984,
          0.984,
          0.979,
          0.973,
          0.973,
          0.973,
          0.973,
          0.97,
          0.963,
          0.963,
          0.959,
          0.959,
          0.949,
          0.897,
          0.897,
          0.897,
          0.889,
          0.889,
          0.889,
          0.889,
          0.889,
          0.889,
          0.882,
          0.882,
          0.882,
          0.881,
          0.881,
          0.881,
          0.881,
          0.881,
          0.881,
          0.873,
          0.873,
          0.873,
          0.873,
          0.873,
          0.873,
          0.873,
          0.873,
          0.873,
          0.873,
          0.873,
          0.873,
          0.866,
          0.866,
          0.866,
          0.866,
          0.866,
          0.866,
          0.866,
          0.866,
          0.866,
          0.859,
          0.859,
          0.859,
          0.859,
          0.859,
          0.859,
          0.851,
          0.851,
          0.851,
          0.842,
          0.842,
          0.833,
          0.833,
          0.833,
          0.833,
          0.831,
          0.831,
          0.831,
          0.831,
          0.825,
          0.825,
          0.823,
          0.823,
          0.823,
          0.823,
          0.823,
          0.823,
          0.823,
          0.823,
          0.821,
          0.821,
          0.815,
          0.815,
          0.815,
          0.815,
          0.812,
          0.812,
          0.812,
          0.812,
          0.805,
          0.805,
          0.786,
          0.786,
          0.786,
          0.782,
          0.782,
          0.782,
          0.782,
          0.782,
          0.782,
          0.778,
          0.778,
          0.778,
          0.77,
          0.77,
          0.77,
          0.77,
          0.77,
          0.77,
          0.766,
          0.766,
          0.766,
          0.766,
          0.766,
          0.766,
          0.766,
          0.766,
          0.766,
          0.766,
          0.766,
          0.766,
          0.762,
          0.762,
          0.762,
          0.762,
          0.762,
          0.762,
          0.755,
          0.755,
          0.755,
          0.751,
          0.751,
          0.751,
          0.751,
          0.751,
          0.751,
          0.747,
          0.747,
          0.747,
          0.739,
          0.739,
          0.739,
          0.739,
          0.739,
          0.739,
          0.731,
          0.731,
          0.731,
          0.731,
          0.731,
          0.731,
          0.731,
          0.731,
          0.731,
          0.731,
          0.731,
          0.731,
          0.73,
          0.73,
          0.73,
          0.73,
          0.73,
          0.73,
          0.73,
          0.73,
          0.73,
          0.73,
          0.73,
          0.73,
          0.724,
          0.724,
          0.724,
          0.724,
          0.724,
          0.724,
          0.722,
          0.722,
          0.722,
          0.722,
          0.722,
          0.722,
          0.722,
          0.722,
          0.722,
          0.722,
          0.722,
          0.722,
          0.722,
          0.722,
          0.722,
          0.722,
          0.722,
          0.722,
          0.722,
          0.722,
          0.722,
          0.722,
          0.722,
          0.722,
          0.722,
          0.722,
          0.722,
          0.722,
          0.722,
          0.722,
          0.715,
          0.715,
          0.715,
          0.715,
          0.715,
          0.715,
          0.715,
          0.715,
          0.715,
          0.715,
          0.715,
          0.715,
          0.714,
          0.714,
          0.714,
          0.714,
          0.714,
          0.714,
          0.714,
          0.714,
          0.714,
          0.714,
          0.714,
          0.714,
          0.707,
          0.707,
          0.707,
          0.707,
          0.707,
          0.707,
          0.628,
          0.628,
          0.628,
          0.628,
          0.628,
          0.628,
          0.624,
          0.624,
          0.624,
          0.624,
          0.624,
          0.624,
          0.624,
          0.624,
          0.624,
          0.624,
          0.624,
          0.624,
          0.62,
          0.62,
          0.62,
          0.62,
          0.62,
          0.62,
          0.619,
          0.619,
          0.619,
          0.619,
          0.619,
          0.619,
          0.619,
          0.619,
          0.619,
          0.619,
          0.619,
          0.619,
          0.615,
          0.615,
          0.615,
          0.615,
          0.615,
          0.615,
          0.615,
          0.615,
          0.615,
          0.615,
          0.615,
          0.615,
          0.615,
          0.615,
          0.615,
          0.615,
          0.615,
          0.615,
          0.615,
          0.615,
          0.615,
          0.615,
          0.615,
          0.615,
          0.611,
          0.611,
          0.611,
          0.611,
          0.611,
          0.611,
          0.611,
          0.611,
          0.611,
          0.611,
          0.611,
          0.611,
          0.611,
          0.611,
          0.611,
          0.611,
          0.611,
          0.611,
          0.607,
          0.607,
          0.607,
          0.607,
          0.607,
          0.607,
          0.607,
          0.607,
          0.607,
          0.607,
          0.607,
          0.607,
          0.603,
          0.603,
          0.603,
          0.603,
          0.603,
          0.603,
          0.333,
          0.333,
          0.333,
          0.333,
          0.333,
          0.333,
          0.323,
          0.323,
          0.323,
          0.323,
          0.323,
          0.323,
          0.317,
          0.317,
          0.317,
          0.317,
          0.317,
          0.317,
          0.312,
          0.312,
          0.312,
          0.303,
          0.303,
          0.303,
          0.23,
          0.23,
          0.23,
          0.23,
          0.23,
          0.23,
          0.23,
          0.23,
          0.23,
          0.222,
          0.222,
          0.222,
          0.222,
          0.222,
          0.222,
          0.222,
          0.222,
          0.222,
          0.222,
          0.222,
          0.222,
          0.222,
          0.222,
          0.222,
          0.222,
          0.222,
          0.222,
          0.215,
          0.215,
          0.215,
          0.215,
          0.215,
          0.215,
          0.215,
          0.215,
          0.215,
          0.175,
          0.175,
          0.175,
          0.175,
          0.175,
          0.175,
          0.167,
          0.167,
          0.167,
          0.167,
          0.167,
          0.167,
          0.167,
          0.167,
          0.167,
          0.167,
          0.167,
          0.167,
          0.159,
          0.159,
          0.159,
          0.159,
          0.159,
          0.159,
          0.119,
          0.119,
          0.119,
          0.119,
          0.119,
          0.119,
          0.119,
          0.119,
          0.119,
          0.115,
          0.115,
          0.115,
          0.115,
          0.115,
          0.115,
          0.115,
          0.115,
          0.115,
          0.115,
          0.115,
          0.115,
          0.115,
          0.115,
          0.115,
          0.115,
          0.115,
          0.115,
          0.111,
          0.111,
          0.111,
          0.111,
          0.111,
          0.111,
          0.111,
          0.111,
          0.111,
          -0.333,
          -0.333,
          -0.333,
          -0.333,
          -0.333,
          -0.333,
          -0.333,
          -0.333,
          -0.333
         ],
         "yaxis": "y"
        }
       ],
       "layout": {
        "coloraxis": {
         "colorbar": {
          "title": {
           "text": "Count_Main_Var"
          }
         },
         "colorscale": [
          [
           0,
           "red"
          ],
          [
           0.5,
           "yellow"
          ],
          [
           1,
           "green"
          ]
         ]
        },
        "legend": {
         "tracegroupgap": 0
        },
        "template": {
         "data": {
          "bar": [
           {
            "error_x": {
             "color": "#2a3f5f"
            },
            "error_y": {
             "color": "#2a3f5f"
            },
            "marker": {
             "line": {
              "color": "#E5ECF6",
              "width": 0.5
             },
             "pattern": {
              "fillmode": "overlay",
              "size": 10,
              "solidity": 0.2
             }
            },
            "type": "bar"
           }
          ],
          "barpolar": [
           {
            "marker": {
             "line": {
              "color": "#E5ECF6",
              "width": 0.5
             },
             "pattern": {
              "fillmode": "overlay",
              "size": 10,
              "solidity": 0.2
             }
            },
            "type": "barpolar"
           }
          ],
          "carpet": [
           {
            "aaxis": {
             "endlinecolor": "#2a3f5f",
             "gridcolor": "white",
             "linecolor": "white",
             "minorgridcolor": "white",
             "startlinecolor": "#2a3f5f"
            },
            "baxis": {
             "endlinecolor": "#2a3f5f",
             "gridcolor": "white",
             "linecolor": "white",
             "minorgridcolor": "white",
             "startlinecolor": "#2a3f5f"
            },
            "type": "carpet"
           }
          ],
          "choropleth": [
           {
            "colorbar": {
             "outlinewidth": 0,
             "ticks": ""
            },
            "type": "choropleth"
           }
          ],
          "contour": [
           {
            "colorbar": {
             "outlinewidth": 0,
             "ticks": ""
            },
            "colorscale": [
             [
              0,
              "#0d0887"
             ],
             [
              0.1111111111111111,
              "#46039f"
             ],
             [
              0.2222222222222222,
              "#7201a8"
             ],
             [
              0.3333333333333333,
              "#9c179e"
             ],
             [
              0.4444444444444444,
              "#bd3786"
             ],
             [
              0.5555555555555556,
              "#d8576b"
             ],
             [
              0.6666666666666666,
              "#ed7953"
             ],
             [
              0.7777777777777778,
              "#fb9f3a"
             ],
             [
              0.8888888888888888,
              "#fdca26"
             ],
             [
              1,
              "#f0f921"
             ]
            ],
            "type": "contour"
           }
          ],
          "contourcarpet": [
           {
            "colorbar": {
             "outlinewidth": 0,
             "ticks": ""
            },
            "type": "contourcarpet"
           }
          ],
          "heatmap": [
           {
            "colorbar": {
             "outlinewidth": 0,
             "ticks": ""
            },
            "colorscale": [
             [
              0,
              "#0d0887"
             ],
             [
              0.1111111111111111,
              "#46039f"
             ],
             [
              0.2222222222222222,
              "#7201a8"
             ],
             [
              0.3333333333333333,
              "#9c179e"
             ],
             [
              0.4444444444444444,
              "#bd3786"
             ],
             [
              0.5555555555555556,
              "#d8576b"
             ],
             [
              0.6666666666666666,
              "#ed7953"
             ],
             [
              0.7777777777777778,
              "#fb9f3a"
             ],
             [
              0.8888888888888888,
              "#fdca26"
             ],
             [
              1,
              "#f0f921"
             ]
            ],
            "type": "heatmap"
           }
          ],
          "heatmapgl": [
           {
            "colorbar": {
             "outlinewidth": 0,
             "ticks": ""
            },
            "colorscale": [
             [
              0,
              "#0d0887"
             ],
             [
              0.1111111111111111,
              "#46039f"
             ],
             [
              0.2222222222222222,
              "#7201a8"
             ],
             [
              0.3333333333333333,
              "#9c179e"
             ],
             [
              0.4444444444444444,
              "#bd3786"
             ],
             [
              0.5555555555555556,
              "#d8576b"
             ],
             [
              0.6666666666666666,
              "#ed7953"
             ],
             [
              0.7777777777777778,
              "#fb9f3a"
             ],
             [
              0.8888888888888888,
              "#fdca26"
             ],
             [
              1,
              "#f0f921"
             ]
            ],
            "type": "heatmapgl"
           }
          ],
          "histogram": [
           {
            "marker": {
             "pattern": {
              "fillmode": "overlay",
              "size": 10,
              "solidity": 0.2
             }
            },
            "type": "histogram"
           }
          ],
          "histogram2d": [
           {
            "colorbar": {
             "outlinewidth": 0,
             "ticks": ""
            },
            "colorscale": [
             [
              0,
              "#0d0887"
             ],
             [
              0.1111111111111111,
              "#46039f"
             ],
             [
              0.2222222222222222,
              "#7201a8"
             ],
             [
              0.3333333333333333,
              "#9c179e"
             ],
             [
              0.4444444444444444,
              "#bd3786"
             ],
             [
              0.5555555555555556,
              "#d8576b"
             ],
             [
              0.6666666666666666,
              "#ed7953"
             ],
             [
              0.7777777777777778,
              "#fb9f3a"
             ],
             [
              0.8888888888888888,
              "#fdca26"
             ],
             [
              1,
              "#f0f921"
             ]
            ],
            "type": "histogram2d"
           }
          ],
          "histogram2dcontour": [
           {
            "colorbar": {
             "outlinewidth": 0,
             "ticks": ""
            },
            "colorscale": [
             [
              0,
              "#0d0887"
             ],
             [
              0.1111111111111111,
              "#46039f"
             ],
             [
              0.2222222222222222,
              "#7201a8"
             ],
             [
              0.3333333333333333,
              "#9c179e"
             ],
             [
              0.4444444444444444,
              "#bd3786"
             ],
             [
              0.5555555555555556,
              "#d8576b"
             ],
             [
              0.6666666666666666,
              "#ed7953"
             ],
             [
              0.7777777777777778,
              "#fb9f3a"
             ],
             [
              0.8888888888888888,
              "#fdca26"
             ],
             [
              1,
              "#f0f921"
             ]
            ],
            "type": "histogram2dcontour"
           }
          ],
          "mesh3d": [
           {
            "colorbar": {
             "outlinewidth": 0,
             "ticks": ""
            },
            "type": "mesh3d"
           }
          ],
          "parcoords": [
           {
            "line": {
             "colorbar": {
              "outlinewidth": 0,
              "ticks": ""
             }
            },
            "type": "parcoords"
           }
          ],
          "pie": [
           {
            "automargin": true,
            "type": "pie"
           }
          ],
          "scatter": [
           {
            "fillpattern": {
             "fillmode": "overlay",
             "size": 10,
             "solidity": 0.2
            },
            "type": "scatter"
           }
          ],
          "scatter3d": [
           {
            "line": {
             "colorbar": {
              "outlinewidth": 0,
              "ticks": ""
             }
            },
            "marker": {
             "colorbar": {
              "outlinewidth": 0,
              "ticks": ""
             }
            },
            "type": "scatter3d"
           }
          ],
          "scattercarpet": [
           {
            "marker": {
             "colorbar": {
              "outlinewidth": 0,
              "ticks": ""
             }
            },
            "type": "scattercarpet"
           }
          ],
          "scattergeo": [
           {
            "marker": {
             "colorbar": {
              "outlinewidth": 0,
              "ticks": ""
             }
            },
            "type": "scattergeo"
           }
          ],
          "scattergl": [
           {
            "marker": {
             "colorbar": {
              "outlinewidth": 0,
              "ticks": ""
             }
            },
            "type": "scattergl"
           }
          ],
          "scattermapbox": [
           {
            "marker": {
             "colorbar": {
              "outlinewidth": 0,
              "ticks": ""
             }
            },
            "type": "scattermapbox"
           }
          ],
          "scatterpolar": [
           {
            "marker": {
             "colorbar": {
              "outlinewidth": 0,
              "ticks": ""
             }
            },
            "type": "scatterpolar"
           }
          ],
          "scatterpolargl": [
           {
            "marker": {
             "colorbar": {
              "outlinewidth": 0,
              "ticks": ""
             }
            },
            "type": "scatterpolargl"
           }
          ],
          "scatterternary": [
           {
            "marker": {
             "colorbar": {
              "outlinewidth": 0,
              "ticks": ""
             }
            },
            "type": "scatterternary"
           }
          ],
          "surface": [
           {
            "colorbar": {
             "outlinewidth": 0,
             "ticks": ""
            },
            "colorscale": [
             [
              0,
              "#0d0887"
             ],
             [
              0.1111111111111111,
              "#46039f"
             ],
             [
              0.2222222222222222,
              "#7201a8"
             ],
             [
              0.3333333333333333,
              "#9c179e"
             ],
             [
              0.4444444444444444,
              "#bd3786"
             ],
             [
              0.5555555555555556,
              "#d8576b"
             ],
             [
              0.6666666666666666,
              "#ed7953"
             ],
             [
              0.7777777777777778,
              "#fb9f3a"
             ],
             [
              0.8888888888888888,
              "#fdca26"
             ],
             [
              1,
              "#f0f921"
             ]
            ],
            "type": "surface"
           }
          ],
          "table": [
           {
            "cells": {
             "fill": {
              "color": "#EBF0F8"
             },
             "line": {
              "color": "white"
             }
            },
            "header": {
             "fill": {
              "color": "#C8D4E3"
             },
             "line": {
              "color": "white"
             }
            },
            "type": "table"
           }
          ]
         },
         "layout": {
          "annotationdefaults": {
           "arrowcolor": "#2a3f5f",
           "arrowhead": 0,
           "arrowwidth": 1
          },
          "autotypenumbers": "strict",
          "coloraxis": {
           "colorbar": {
            "outlinewidth": 0,
            "ticks": ""
           }
          },
          "colorscale": {
           "diverging": [
            [
             0,
             "#8e0152"
            ],
            [
             0.1,
             "#c51b7d"
            ],
            [
             0.2,
             "#de77ae"
            ],
            [
             0.3,
             "#f1b6da"
            ],
            [
             0.4,
             "#fde0ef"
            ],
            [
             0.5,
             "#f7f7f7"
            ],
            [
             0.6,
             "#e6f5d0"
            ],
            [
             0.7,
             "#b8e186"
            ],
            [
             0.8,
             "#7fbc41"
            ],
            [
             0.9,
             "#4d9221"
            ],
            [
             1,
             "#276419"
            ]
           ],
           "sequential": [
            [
             0,
             "#0d0887"
            ],
            [
             0.1111111111111111,
             "#46039f"
            ],
            [
             0.2222222222222222,
             "#7201a8"
            ],
            [
             0.3333333333333333,
             "#9c179e"
            ],
            [
             0.4444444444444444,
             "#bd3786"
            ],
            [
             0.5555555555555556,
             "#d8576b"
            ],
            [
             0.6666666666666666,
             "#ed7953"
            ],
            [
             0.7777777777777778,
             "#fb9f3a"
            ],
            [
             0.8888888888888888,
             "#fdca26"
            ],
            [
             1,
             "#f0f921"
            ]
           ],
           "sequentialminus": [
            [
             0,
             "#0d0887"
            ],
            [
             0.1111111111111111,
             "#46039f"
            ],
            [
             0.2222222222222222,
             "#7201a8"
            ],
            [
             0.3333333333333333,
             "#9c179e"
            ],
            [
             0.4444444444444444,
             "#bd3786"
            ],
            [
             0.5555555555555556,
             "#d8576b"
            ],
            [
             0.6666666666666666,
             "#ed7953"
            ],
            [
             0.7777777777777778,
             "#fb9f3a"
            ],
            [
             0.8888888888888888,
             "#fdca26"
            ],
            [
             1,
             "#f0f921"
            ]
           ]
          },
          "colorway": [
           "#636efa",
           "#EF553B",
           "#00cc96",
           "#ab63fa",
           "#FFA15A",
           "#19d3f3",
           "#FF6692",
           "#B6E880",
           "#FF97FF",
           "#FECB52"
          ],
          "font": {
           "color": "#2a3f5f"
          },
          "geo": {
           "bgcolor": "white",
           "lakecolor": "white",
           "landcolor": "#E5ECF6",
           "showlakes": true,
           "showland": true,
           "subunitcolor": "white"
          },
          "hoverlabel": {
           "align": "left"
          },
          "hovermode": "closest",
          "mapbox": {
           "style": "light"
          },
          "paper_bgcolor": "white",
          "plot_bgcolor": "#E5ECF6",
          "polar": {
           "angularaxis": {
            "gridcolor": "white",
            "linecolor": "white",
            "ticks": ""
           },
           "bgcolor": "#E5ECF6",
           "radialaxis": {
            "gridcolor": "white",
            "linecolor": "white",
            "ticks": ""
           }
          },
          "scene": {
           "xaxis": {
            "backgroundcolor": "#E5ECF6",
            "gridcolor": "white",
            "gridwidth": 2,
            "linecolor": "white",
            "showbackground": true,
            "ticks": "",
            "zerolinecolor": "white"
           },
           "yaxis": {
            "backgroundcolor": "#E5ECF6",
            "gridcolor": "white",
            "gridwidth": 2,
            "linecolor": "white",
            "showbackground": true,
            "ticks": "",
            "zerolinecolor": "white"
           },
           "zaxis": {
            "backgroundcolor": "#E5ECF6",
            "gridcolor": "white",
            "gridwidth": 2,
            "linecolor": "white",
            "showbackground": true,
            "ticks": "",
            "zerolinecolor": "white"
           }
          },
          "shapedefaults": {
           "line": {
            "color": "#2a3f5f"
           }
          },
          "ternary": {
           "aaxis": {
            "gridcolor": "white",
            "linecolor": "white",
            "ticks": ""
           },
           "baxis": {
            "gridcolor": "white",
            "linecolor": "white",
            "ticks": ""
           },
           "bgcolor": "#E5ECF6",
           "caxis": {
            "gridcolor": "white",
            "linecolor": "white",
            "ticks": ""
           }
          },
          "title": {
           "x": 0.05
          },
          "xaxis": {
           "automargin": true,
           "gridcolor": "white",
           "linecolor": "white",
           "ticks": "",
           "title": {
            "standoff": 15
           },
           "zerolinecolor": "white",
           "zerolinewidth": 2
          },
          "yaxis": {
           "automargin": true,
           "gridcolor": "white",
           "linecolor": "white",
           "ticks": "",
           "title": {
            "standoff": 15
           },
           "zerolinecolor": "white",
           "zerolinewidth": 2
          }
         }
        },
        "title": {
         "text": "Scatter Plot: Scenario Similarity vs Extra Percent"
        },
        "xaxis": {
         "anchor": "y",
         "domain": [
          0,
          1
         ],
         "title": {
          "text": "Extra Percent"
         }
        },
        "yaxis": {
         "anchor": "x",
         "domain": [
          0,
          1
         ],
         "title": {
          "text": "Scenario Similarity"
         }
        }
       }
      }
     },
     "metadata": {},
     "output_type": "display_data"
    }
   ],
   "source": [
    "fig = px.scatter(\n",
    "    df,\n",
    "    x='extra_percent',\n",
    "    y='Scenario Similarity',\n",
    "    color='Count_Main_Var',\n",
    "    title='Scatter Plot: Scenario Similarity vs Extra Percent',\n",
    "    labels={\n",
    "        'extra_percent': 'Extra Percent',\n",
    "        'Scenario Similarity': 'Scenario Similarity'\n",
    "    },\n",
    "    color_continuous_scale=['red', 'yellow', 'green']\n",
    ")\n",
    "\n",
    "# Exibindo o gráfico\n",
    "fig.show()"
   ]
  }
 ],
 "metadata": {
  "kernelspec": {
   "display_name": "USAS",
   "language": "python",
   "name": "python3"
  },
  "language_info": {
   "codemirror_mode": {
    "name": "ipython",
    "version": 3
   },
   "file_extension": ".py",
   "mimetype": "text/x-python",
   "name": "python",
   "nbconvert_exporter": "python",
   "pygments_lexer": "ipython3",
   "version": "3.11.9"
  }
 },
 "nbformat": 4,
 "nbformat_minor": 2
}
