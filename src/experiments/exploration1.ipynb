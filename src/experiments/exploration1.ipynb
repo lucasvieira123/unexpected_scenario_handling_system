{
 "cells": [
  {
   "cell_type": "code",
   "execution_count": 1,
   "metadata": {},
   "outputs": [],
   "source": [
    "import pandas as pd\n",
    "import re\n",
    "import plotly.express as px\n",
    "import numpy as np\n",
    "from sklearn.preprocessing import MinMaxScaler"
   ]
  },
  {
   "cell_type": "markdown",
   "metadata": {},
   "source": [
    "### RQ2.1\n",
    "varying the number of parameters in the given clause"
   ]
  },
  {
   "cell_type": "code",
   "execution_count": 2,
   "metadata": {},
   "outputs": [],
   "source": [
    "current_result = \"1_shared_scenarios_results\""
   ]
  },
  {
   "cell_type": "code",
   "execution_count": 3,
   "metadata": {},
   "outputs": [],
   "source": [
    "file_path = f'res/outcome/similarities/{current_result}.csv'\n",
    "df = pd.read_csv(file_path, sep=';')"
   ]
  },
  {
   "cell_type": "code",
   "execution_count": 4,
   "metadata": {},
   "outputs": [],
   "source": [
    "df.drop(columns=['Desired When DNF',\n",
    "       'Shared When DNF', 'Penality When', 'Global Similarity When',\n",
    "       'Final Similarity When',\"Desired Given DNF\",\"Desired Then DNF\",\"Shared Then DNF\",\"Penality Then\",\"Global Similarity Then\",\"Final Similarity Then\"], inplace=True)"
   ]
  },
  {
   "cell_type": "code",
   "execution_count": 5,
   "metadata": {},
   "outputs": [
    {
     "data": {
      "text/html": [
       "<div>\n",
       "<style scoped>\n",
       "    .dataframe tbody tr th:only-of-type {\n",
       "        vertical-align: middle;\n",
       "    }\n",
       "\n",
       "    .dataframe tbody tr th {\n",
       "        vertical-align: top;\n",
       "    }\n",
       "\n",
       "    .dataframe thead th {\n",
       "        text-align: right;\n",
       "    }\n",
       "</style>\n",
       "<table border=\"1\" class=\"dataframe\">\n",
       "  <thead>\n",
       "    <tr style=\"text-align: right;\">\n",
       "      <th></th>\n",
       "      <th>Scenario</th>\n",
       "      <th>Shared Given DNF</th>\n",
       "      <th>Penality Given</th>\n",
       "      <th>Global Similarity Given</th>\n",
       "      <th>Final Similarity Given</th>\n",
       "      <th>Scenario Similarity</th>\n",
       "      <th>Action</th>\n",
       "    </tr>\n",
       "  </thead>\n",
       "  <tbody>\n",
       "    <tr>\n",
       "      <th>0</th>\n",
       "      <td>Candidate_16</td>\n",
       "      <td>battery &gt;= 10 AND satellite_count &gt;= 7 AND win...</td>\n",
       "      <td>0.000000</td>\n",
       "      <td>1.0</td>\n",
       "      <td>1.000000</td>\n",
       "      <td>1.000000</td>\n",
       "      <td>behavior_16</td>\n",
       "    </tr>\n",
       "    <tr>\n",
       "      <th>1</th>\n",
       "      <td>Candidate_26</td>\n",
       "      <td>battery &gt;= 10 AND satellite_count &gt;= 7 AND win...</td>\n",
       "      <td>0.032258</td>\n",
       "      <td>1.0</td>\n",
       "      <td>0.967742</td>\n",
       "      <td>0.989247</td>\n",
       "      <td>behavior_26</td>\n",
       "    </tr>\n",
       "    <tr>\n",
       "      <th>2</th>\n",
       "      <td>Candidate_27</td>\n",
       "      <td>battery &gt;= 10 AND satellite_count &gt;= 7 AND win...</td>\n",
       "      <td>0.032258</td>\n",
       "      <td>1.0</td>\n",
       "      <td>0.967742</td>\n",
       "      <td>0.989247</td>\n",
       "      <td>behavior_27</td>\n",
       "    </tr>\n",
       "    <tr>\n",
       "      <th>3</th>\n",
       "      <td>Candidate_31</td>\n",
       "      <td>battery &gt;= 10 AND satellite_count &gt;= 7 AND win...</td>\n",
       "      <td>0.062500</td>\n",
       "      <td>1.0</td>\n",
       "      <td>0.937500</td>\n",
       "      <td>0.979167</td>\n",
       "      <td>behavior_31</td>\n",
       "    </tr>\n",
       "    <tr>\n",
       "      <th>4</th>\n",
       "      <td>Candidate_6</td>\n",
       "      <td>battery &gt;= 10 AND satellite_count &gt;= 7</td>\n",
       "      <td>0.310345</td>\n",
       "      <td>1.0</td>\n",
       "      <td>0.689655</td>\n",
       "      <td>0.896552</td>\n",
       "      <td>behavior_6</td>\n",
       "    </tr>\n",
       "    <tr>\n",
       "      <th>5</th>\n",
       "      <td>Candidate_7</td>\n",
       "      <td>battery &gt;= 10 AND wind_speed &lt;= 36</td>\n",
       "      <td>0.310345</td>\n",
       "      <td>1.0</td>\n",
       "      <td>0.689655</td>\n",
       "      <td>0.896552</td>\n",
       "      <td>behavior_7</td>\n",
       "    </tr>\n",
       "    <tr>\n",
       "      <th>6</th>\n",
       "      <td>Candidate_10</td>\n",
       "      <td>satellite_count &gt;= 7 AND wind_speed &lt;= 36</td>\n",
       "      <td>0.310345</td>\n",
       "      <td>1.0</td>\n",
       "      <td>0.689655</td>\n",
       "      <td>0.896552</td>\n",
       "      <td>behavior_10</td>\n",
       "    </tr>\n",
       "    <tr>\n",
       "      <th>7</th>\n",
       "      <td>Candidate_18</td>\n",
       "      <td>battery &gt;= 10 AND satellite_count &gt;= 7 AND b &gt; 10</td>\n",
       "      <td>0.333333</td>\n",
       "      <td>1.0</td>\n",
       "      <td>0.666667</td>\n",
       "      <td>0.888889</td>\n",
       "      <td>behavior_18</td>\n",
       "    </tr>\n",
       "    <tr>\n",
       "      <th>8</th>\n",
       "      <td>Candidate_23</td>\n",
       "      <td>satellite_count &gt;= 7 AND wind_speed &lt;= 36 AND ...</td>\n",
       "      <td>0.333333</td>\n",
       "      <td>1.0</td>\n",
       "      <td>0.666667</td>\n",
       "      <td>0.888889</td>\n",
       "      <td>behavior_23</td>\n",
       "    </tr>\n",
       "    <tr>\n",
       "      <th>9</th>\n",
       "      <td>Candidate_22</td>\n",
       "      <td>satellite_count &gt;= 7 AND wind_speed &lt;= 36 AND ...</td>\n",
       "      <td>0.333333</td>\n",
       "      <td>1.0</td>\n",
       "      <td>0.666667</td>\n",
       "      <td>0.888889</td>\n",
       "      <td>behavior_22</td>\n",
       "    </tr>\n",
       "    <tr>\n",
       "      <th>10</th>\n",
       "      <td>Candidate_20</td>\n",
       "      <td>battery &gt;= 10 AND wind_speed &lt;= 36 AND b &gt; 10</td>\n",
       "      <td>0.333333</td>\n",
       "      <td>1.0</td>\n",
       "      <td>0.666667</td>\n",
       "      <td>0.888889</td>\n",
       "      <td>behavior_20</td>\n",
       "    </tr>\n",
       "    <tr>\n",
       "      <th>11</th>\n",
       "      <td>Candidate_19</td>\n",
       "      <td>battery &gt;= 10 AND wind_speed &lt;= 36 AND a &gt; 10</td>\n",
       "      <td>0.333333</td>\n",
       "      <td>1.0</td>\n",
       "      <td>0.666667</td>\n",
       "      <td>0.888889</td>\n",
       "      <td>behavior_19</td>\n",
       "    </tr>\n",
       "    <tr>\n",
       "      <th>12</th>\n",
       "      <td>Candidate_17</td>\n",
       "      <td>battery &gt;= 10 AND satellite_count &gt;= 7 AND a &gt; 10</td>\n",
       "      <td>0.333333</td>\n",
       "      <td>1.0</td>\n",
       "      <td>0.666667</td>\n",
       "      <td>0.888889</td>\n",
       "      <td>behavior_17</td>\n",
       "    </tr>\n",
       "    <tr>\n",
       "      <th>13</th>\n",
       "      <td>Candidate_30</td>\n",
       "      <td>satellite_count &gt;= 7 AND wind_speed &lt;= 36 AND ...</td>\n",
       "      <td>0.354839</td>\n",
       "      <td>1.0</td>\n",
       "      <td>0.645161</td>\n",
       "      <td>0.881720</td>\n",
       "      <td>behavior_30</td>\n",
       "    </tr>\n",
       "    <tr>\n",
       "      <th>14</th>\n",
       "      <td>Candidate_29</td>\n",
       "      <td>battery &gt;= 10 AND wind_speed &lt;= 36 AND a &gt; 10 ...</td>\n",
       "      <td>0.354839</td>\n",
       "      <td>1.0</td>\n",
       "      <td>0.645161</td>\n",
       "      <td>0.881720</td>\n",
       "      <td>behavior_29</td>\n",
       "    </tr>\n",
       "    <tr>\n",
       "      <th>15</th>\n",
       "      <td>Candidate_28</td>\n",
       "      <td>battery &gt;= 10 AND satellite_count &gt;= 7 AND a &gt;...</td>\n",
       "      <td>0.354839</td>\n",
       "      <td>1.0</td>\n",
       "      <td>0.645161</td>\n",
       "      <td>0.881720</td>\n",
       "      <td>behavior_28</td>\n",
       "    </tr>\n",
       "    <tr>\n",
       "      <th>16</th>\n",
       "      <td>Candidate_3</td>\n",
       "      <td>wind_speed &lt;= 36</td>\n",
       "      <td>0.642857</td>\n",
       "      <td>1.0</td>\n",
       "      <td>0.357143</td>\n",
       "      <td>0.785714</td>\n",
       "      <td>behavior_3</td>\n",
       "    </tr>\n",
       "    <tr>\n",
       "      <th>17</th>\n",
       "      <td>Candidate_1</td>\n",
       "      <td>battery &gt;= 10</td>\n",
       "      <td>0.642857</td>\n",
       "      <td>1.0</td>\n",
       "      <td>0.357143</td>\n",
       "      <td>0.785714</td>\n",
       "      <td>behavior_1</td>\n",
       "    </tr>\n",
       "    <tr>\n",
       "      <th>18</th>\n",
       "      <td>Candidate_2</td>\n",
       "      <td>satellite_count &gt;= 7</td>\n",
       "      <td>0.642857</td>\n",
       "      <td>1.0</td>\n",
       "      <td>0.357143</td>\n",
       "      <td>0.785714</td>\n",
       "      <td>behavior_2</td>\n",
       "    </tr>\n",
       "    <tr>\n",
       "      <th>19</th>\n",
       "      <td>Candidate_14</td>\n",
       "      <td>wind_speed &lt;= 36 AND b &gt; 10</td>\n",
       "      <td>0.655172</td>\n",
       "      <td>1.0</td>\n",
       "      <td>0.344828</td>\n",
       "      <td>0.781609</td>\n",
       "      <td>behavior_14</td>\n",
       "    </tr>\n",
       "    <tr>\n",
       "      <th>20</th>\n",
       "      <td>Candidate_13</td>\n",
       "      <td>wind_speed &lt;= 36 AND a &gt; 10</td>\n",
       "      <td>0.655172</td>\n",
       "      <td>1.0</td>\n",
       "      <td>0.344828</td>\n",
       "      <td>0.781609</td>\n",
       "      <td>behavior_13</td>\n",
       "    </tr>\n",
       "    <tr>\n",
       "      <th>21</th>\n",
       "      <td>Candidate_12</td>\n",
       "      <td>satellite_count &gt;= 7 AND b &gt; 10</td>\n",
       "      <td>0.655172</td>\n",
       "      <td>1.0</td>\n",
       "      <td>0.344828</td>\n",
       "      <td>0.781609</td>\n",
       "      <td>behavior_12</td>\n",
       "    </tr>\n",
       "    <tr>\n",
       "      <th>22</th>\n",
       "      <td>Candidate_11</td>\n",
       "      <td>satellite_count &gt;= 7 AND a &gt; 10</td>\n",
       "      <td>0.655172</td>\n",
       "      <td>1.0</td>\n",
       "      <td>0.344828</td>\n",
       "      <td>0.781609</td>\n",
       "      <td>behavior_11</td>\n",
       "    </tr>\n",
       "    <tr>\n",
       "      <th>23</th>\n",
       "      <td>Candidate_9</td>\n",
       "      <td>battery &gt;= 10 AND b &gt; 10</td>\n",
       "      <td>0.655172</td>\n",
       "      <td>1.0</td>\n",
       "      <td>0.344828</td>\n",
       "      <td>0.781609</td>\n",
       "      <td>behavior_9</td>\n",
       "    </tr>\n",
       "    <tr>\n",
       "      <th>24</th>\n",
       "      <td>Candidate_8</td>\n",
       "      <td>battery &gt;= 10 AND a &gt; 10</td>\n",
       "      <td>0.655172</td>\n",
       "      <td>1.0</td>\n",
       "      <td>0.344828</td>\n",
       "      <td>0.781609</td>\n",
       "      <td>behavior_8</td>\n",
       "    </tr>\n",
       "    <tr>\n",
       "      <th>25</th>\n",
       "      <td>Candidate_21</td>\n",
       "      <td>battery &gt;= 10 AND a &gt; 10 AND b &gt; 10</td>\n",
       "      <td>0.666667</td>\n",
       "      <td>1.0</td>\n",
       "      <td>0.333333</td>\n",
       "      <td>0.777778</td>\n",
       "      <td>behavior_21</td>\n",
       "    </tr>\n",
       "    <tr>\n",
       "      <th>26</th>\n",
       "      <td>Candidate_24</td>\n",
       "      <td>satellite_count &gt;= 7 AND a &gt; 10 AND b &gt; 10</td>\n",
       "      <td>0.666667</td>\n",
       "      <td>1.0</td>\n",
       "      <td>0.333333</td>\n",
       "      <td>0.777778</td>\n",
       "      <td>behavior_24</td>\n",
       "    </tr>\n",
       "    <tr>\n",
       "      <th>27</th>\n",
       "      <td>Candidate_25</td>\n",
       "      <td>wind_speed &lt;= 36 AND a &gt; 10 AND b &gt; 10</td>\n",
       "      <td>0.666667</td>\n",
       "      <td>1.0</td>\n",
       "      <td>0.333333</td>\n",
       "      <td>0.777778</td>\n",
       "      <td>behavior_25</td>\n",
       "    </tr>\n",
       "    <tr>\n",
       "      <th>28</th>\n",
       "      <td>Candidate_15</td>\n",
       "      <td>a &gt; 10 AND b &gt; 10</td>\n",
       "      <td>1.000000</td>\n",
       "      <td>0.0</td>\n",
       "      <td>-1.000000</td>\n",
       "      <td>0.333333</td>\n",
       "      <td>behavior_15</td>\n",
       "    </tr>\n",
       "    <tr>\n",
       "      <th>29</th>\n",
       "      <td>Candidate_4</td>\n",
       "      <td>a &gt; 10</td>\n",
       "      <td>1.000000</td>\n",
       "      <td>0.0</td>\n",
       "      <td>-1.000000</td>\n",
       "      <td>0.333333</td>\n",
       "      <td>behavior_4</td>\n",
       "    </tr>\n",
       "    <tr>\n",
       "      <th>30</th>\n",
       "      <td>Candidate_5</td>\n",
       "      <td>b &gt; 10</td>\n",
       "      <td>1.000000</td>\n",
       "      <td>0.0</td>\n",
       "      <td>-1.000000</td>\n",
       "      <td>0.333333</td>\n",
       "      <td>behavior_5</td>\n",
       "    </tr>\n",
       "  </tbody>\n",
       "</table>\n",
       "</div>"
      ],
      "text/plain": [
       "        Scenario                                   Shared Given DNF  \\\n",
       "0   Candidate_16  battery >= 10 AND satellite_count >= 7 AND win...   \n",
       "1   Candidate_26  battery >= 10 AND satellite_count >= 7 AND win...   \n",
       "2   Candidate_27  battery >= 10 AND satellite_count >= 7 AND win...   \n",
       "3   Candidate_31  battery >= 10 AND satellite_count >= 7 AND win...   \n",
       "4    Candidate_6             battery >= 10 AND satellite_count >= 7   \n",
       "5    Candidate_7                 battery >= 10 AND wind_speed <= 36   \n",
       "6   Candidate_10          satellite_count >= 7 AND wind_speed <= 36   \n",
       "7   Candidate_18  battery >= 10 AND satellite_count >= 7 AND b > 10   \n",
       "8   Candidate_23  satellite_count >= 7 AND wind_speed <= 36 AND ...   \n",
       "9   Candidate_22  satellite_count >= 7 AND wind_speed <= 36 AND ...   \n",
       "10  Candidate_20      battery >= 10 AND wind_speed <= 36 AND b > 10   \n",
       "11  Candidate_19      battery >= 10 AND wind_speed <= 36 AND a > 10   \n",
       "12  Candidate_17  battery >= 10 AND satellite_count >= 7 AND a > 10   \n",
       "13  Candidate_30  satellite_count >= 7 AND wind_speed <= 36 AND ...   \n",
       "14  Candidate_29  battery >= 10 AND wind_speed <= 36 AND a > 10 ...   \n",
       "15  Candidate_28  battery >= 10 AND satellite_count >= 7 AND a >...   \n",
       "16   Candidate_3                                   wind_speed <= 36   \n",
       "17   Candidate_1                                      battery >= 10   \n",
       "18   Candidate_2                               satellite_count >= 7   \n",
       "19  Candidate_14                        wind_speed <= 36 AND b > 10   \n",
       "20  Candidate_13                        wind_speed <= 36 AND a > 10   \n",
       "21  Candidate_12                    satellite_count >= 7 AND b > 10   \n",
       "22  Candidate_11                    satellite_count >= 7 AND a > 10   \n",
       "23   Candidate_9                           battery >= 10 AND b > 10   \n",
       "24   Candidate_8                           battery >= 10 AND a > 10   \n",
       "25  Candidate_21                battery >= 10 AND a > 10 AND b > 10   \n",
       "26  Candidate_24         satellite_count >= 7 AND a > 10 AND b > 10   \n",
       "27  Candidate_25             wind_speed <= 36 AND a > 10 AND b > 10   \n",
       "28  Candidate_15                                  a > 10 AND b > 10   \n",
       "29   Candidate_4                                             a > 10   \n",
       "30   Candidate_5                                             b > 10   \n",
       "\n",
       "    Penality Given  Global Similarity Given  Final Similarity Given  \\\n",
       "0         0.000000                      1.0                1.000000   \n",
       "1         0.032258                      1.0                0.967742   \n",
       "2         0.032258                      1.0                0.967742   \n",
       "3         0.062500                      1.0                0.937500   \n",
       "4         0.310345                      1.0                0.689655   \n",
       "5         0.310345                      1.0                0.689655   \n",
       "6         0.310345                      1.0                0.689655   \n",
       "7         0.333333                      1.0                0.666667   \n",
       "8         0.333333                      1.0                0.666667   \n",
       "9         0.333333                      1.0                0.666667   \n",
       "10        0.333333                      1.0                0.666667   \n",
       "11        0.333333                      1.0                0.666667   \n",
       "12        0.333333                      1.0                0.666667   \n",
       "13        0.354839                      1.0                0.645161   \n",
       "14        0.354839                      1.0                0.645161   \n",
       "15        0.354839                      1.0                0.645161   \n",
       "16        0.642857                      1.0                0.357143   \n",
       "17        0.642857                      1.0                0.357143   \n",
       "18        0.642857                      1.0                0.357143   \n",
       "19        0.655172                      1.0                0.344828   \n",
       "20        0.655172                      1.0                0.344828   \n",
       "21        0.655172                      1.0                0.344828   \n",
       "22        0.655172                      1.0                0.344828   \n",
       "23        0.655172                      1.0                0.344828   \n",
       "24        0.655172                      1.0                0.344828   \n",
       "25        0.666667                      1.0                0.333333   \n",
       "26        0.666667                      1.0                0.333333   \n",
       "27        0.666667                      1.0                0.333333   \n",
       "28        1.000000                      0.0               -1.000000   \n",
       "29        1.000000                      0.0               -1.000000   \n",
       "30        1.000000                      0.0               -1.000000   \n",
       "\n",
       "    Scenario Similarity       Action  \n",
       "0              1.000000  behavior_16  \n",
       "1              0.989247  behavior_26  \n",
       "2              0.989247  behavior_27  \n",
       "3              0.979167  behavior_31  \n",
       "4              0.896552   behavior_6  \n",
       "5              0.896552   behavior_7  \n",
       "6              0.896552  behavior_10  \n",
       "7              0.888889  behavior_18  \n",
       "8              0.888889  behavior_23  \n",
       "9              0.888889  behavior_22  \n",
       "10             0.888889  behavior_20  \n",
       "11             0.888889  behavior_19  \n",
       "12             0.888889  behavior_17  \n",
       "13             0.881720  behavior_30  \n",
       "14             0.881720  behavior_29  \n",
       "15             0.881720  behavior_28  \n",
       "16             0.785714   behavior_3  \n",
       "17             0.785714   behavior_1  \n",
       "18             0.785714   behavior_2  \n",
       "19             0.781609  behavior_14  \n",
       "20             0.781609  behavior_13  \n",
       "21             0.781609  behavior_12  \n",
       "22             0.781609  behavior_11  \n",
       "23             0.781609   behavior_9  \n",
       "24             0.781609   behavior_8  \n",
       "25             0.777778  behavior_21  \n",
       "26             0.777778  behavior_24  \n",
       "27             0.777778  behavior_25  \n",
       "28             0.333333  behavior_15  \n",
       "29             0.333333   behavior_4  \n",
       "30             0.333333   behavior_5  "
      ]
     },
     "execution_count": 5,
     "metadata": {},
     "output_type": "execute_result"
    }
   ],
   "source": [
    "df"
   ]
  },
  {
   "cell_type": "code",
   "execution_count": 6,
   "metadata": {},
   "outputs": [],
   "source": [
    "main_var = [\"battery\",\"satellite_count\",\"wind_speed\"]\n",
    "extra_var = [\"a\", \"b\"]\n",
    "\n",
    "def count_vars(column, vars_list):\n",
    "    def match_structure(text):\n",
    "        # Regex para identificar \"variável operador valor\"\n",
    "        pattern = r'(\\b{}\\b\\s*[<>=!]+\\s*\\S+)'.format('|'.join(vars_list))\n",
    "        matches = re.findall(pattern, str(text))\n",
    "        return len(matches)\n",
    "\n",
    "    return column.apply(match_structure)\n",
    "\n",
    "# Criar colunas de contagem para 'Shared Given DNF' e 'Shared Then DNF'\n",
    "df['Count_Main_Var_Given'] = count_vars(df['Shared Given DNF'], main_var)\n",
    "df['Count_Extra_Var_Given'] = count_vars(df['Shared Given DNF'], extra_var)"
   ]
  },
  {
   "cell_type": "code",
   "execution_count": 7,
   "metadata": {},
   "outputs": [],
   "source": [
    "# # aplicado a normalizacao para FICAR MAIS EVIDENTE A DIFERENÇA ENTRE AS SIMILARIDADES\n",
    "# scaler = MinMaxScaler(feature_range=(0, 1))  # Intervalo de 0 a 1\n",
    "# df['Normalized_Similarity'] = scaler.fit_transform(df[['Scenario Similarity']])"
   ]
  },
  {
   "cell_type": "code",
   "execution_count": 8,
   "metadata": {},
   "outputs": [],
   "source": [
    "# # ESCALA LOGARITMA PARA FICAR MAIS EVIDENTE A DIFERENÇA ENTRE AS SIMILARIDADES\n",
    "# df['Scaled_Similarity'] = np.power(df['Scenario Similarity'], 2)"
   ]
  },
  {
   "cell_type": "code",
   "execution_count": 9,
   "metadata": {},
   "outputs": [],
   "source": [
    "# def score_scale_fun(X, scores_old_min, scores_old_max, scores_new_min=0, scores_new_max=1):      \n",
    "#     X = scores_new_max - ((scores_new_max - scores_new_min) * (scores_old_max - X) / (scores_old_max - scores_old_min))      \n",
    "#     return X\n",
    "\n",
    "# def exp_scale_fun(X, exponent=-1):      \n",
    "#     X_transformed = (X + 1)**(exponent)      \n",
    "#     if exponent < 0:          \n",
    "#         X_transformed = 1 - X_transformed      \n",
    "#         X_transformed_scaled = score_scale_fun(X_transformed, X_transformed.min(), X_transformed.max(), X.min(), X.max())\n",
    "#     return X_transformed_scaled  "
   ]
  },
  {
   "cell_type": "code",
   "execution_count": 10,
   "metadata": {},
   "outputs": [],
   "source": [
    "# df['similarity_error'] = 1-df['Scenario Similarity']"
   ]
  },
  {
   "cell_type": "code",
   "execution_count": 11,
   "metadata": {},
   "outputs": [],
   "source": [
    "# # for exponent in [-1, -2.5, -5, -10, -20]:      \n",
    "# df['exponent_similarity_error'] = exp_scale_fun(df[\"similarity_error\"], exponent=-20)\n",
    "# # df.head()  "
   ]
  },
  {
   "cell_type": "code",
   "execution_count": 12,
   "metadata": {},
   "outputs": [],
   "source": [
    "# df['Count_Main_Var_Given'] = df['Count_Main_Var_Given'].astype(str)"
   ]
  },
  {
   "cell_type": "code",
   "execution_count": 13,
   "metadata": {},
   "outputs": [],
   "source": [
    "df['Scenario Similarity']=df['Scenario Similarity'].round(3)"
   ]
  },
  {
   "cell_type": "code",
   "execution_count": 14,
   "metadata": {},
   "outputs": [
    {
     "data": {
      "text/html": [
       "<div>\n",
       "<style scoped>\n",
       "    .dataframe tbody tr th:only-of-type {\n",
       "        vertical-align: middle;\n",
       "    }\n",
       "\n",
       "    .dataframe tbody tr th {\n",
       "        vertical-align: top;\n",
       "    }\n",
       "\n",
       "    .dataframe thead th {\n",
       "        text-align: right;\n",
       "    }\n",
       "</style>\n",
       "<table border=\"1\" class=\"dataframe\">\n",
       "  <thead>\n",
       "    <tr style=\"text-align: right;\">\n",
       "      <th></th>\n",
       "      <th>Scenario Similarity</th>\n",
       "      <th>Count_Main_Var_Given</th>\n",
       "      <th>Count_Extra_Var_Given</th>\n",
       "    </tr>\n",
       "  </thead>\n",
       "  <tbody>\n",
       "    <tr>\n",
       "      <th>0</th>\n",
       "      <td>1.000</td>\n",
       "      <td>3</td>\n",
       "      <td>0</td>\n",
       "    </tr>\n",
       "    <tr>\n",
       "      <th>1</th>\n",
       "      <td>0.989</td>\n",
       "      <td>3</td>\n",
       "      <td>1</td>\n",
       "    </tr>\n",
       "    <tr>\n",
       "      <th>2</th>\n",
       "      <td>0.989</td>\n",
       "      <td>3</td>\n",
       "      <td>1</td>\n",
       "    </tr>\n",
       "    <tr>\n",
       "      <th>3</th>\n",
       "      <td>0.979</td>\n",
       "      <td>3</td>\n",
       "      <td>2</td>\n",
       "    </tr>\n",
       "    <tr>\n",
       "      <th>4</th>\n",
       "      <td>0.897</td>\n",
       "      <td>2</td>\n",
       "      <td>0</td>\n",
       "    </tr>\n",
       "    <tr>\n",
       "      <th>5</th>\n",
       "      <td>0.897</td>\n",
       "      <td>2</td>\n",
       "      <td>0</td>\n",
       "    </tr>\n",
       "    <tr>\n",
       "      <th>6</th>\n",
       "      <td>0.897</td>\n",
       "      <td>2</td>\n",
       "      <td>0</td>\n",
       "    </tr>\n",
       "    <tr>\n",
       "      <th>7</th>\n",
       "      <td>0.889</td>\n",
       "      <td>2</td>\n",
       "      <td>1</td>\n",
       "    </tr>\n",
       "    <tr>\n",
       "      <th>8</th>\n",
       "      <td>0.889</td>\n",
       "      <td>2</td>\n",
       "      <td>1</td>\n",
       "    </tr>\n",
       "    <tr>\n",
       "      <th>9</th>\n",
       "      <td>0.889</td>\n",
       "      <td>2</td>\n",
       "      <td>1</td>\n",
       "    </tr>\n",
       "    <tr>\n",
       "      <th>10</th>\n",
       "      <td>0.889</td>\n",
       "      <td>2</td>\n",
       "      <td>1</td>\n",
       "    </tr>\n",
       "    <tr>\n",
       "      <th>11</th>\n",
       "      <td>0.889</td>\n",
       "      <td>2</td>\n",
       "      <td>1</td>\n",
       "    </tr>\n",
       "    <tr>\n",
       "      <th>12</th>\n",
       "      <td>0.889</td>\n",
       "      <td>2</td>\n",
       "      <td>1</td>\n",
       "    </tr>\n",
       "    <tr>\n",
       "      <th>13</th>\n",
       "      <td>0.882</td>\n",
       "      <td>2</td>\n",
       "      <td>2</td>\n",
       "    </tr>\n",
       "    <tr>\n",
       "      <th>14</th>\n",
       "      <td>0.882</td>\n",
       "      <td>2</td>\n",
       "      <td>2</td>\n",
       "    </tr>\n",
       "    <tr>\n",
       "      <th>15</th>\n",
       "      <td>0.882</td>\n",
       "      <td>2</td>\n",
       "      <td>2</td>\n",
       "    </tr>\n",
       "    <tr>\n",
       "      <th>16</th>\n",
       "      <td>0.786</td>\n",
       "      <td>1</td>\n",
       "      <td>0</td>\n",
       "    </tr>\n",
       "    <tr>\n",
       "      <th>17</th>\n",
       "      <td>0.786</td>\n",
       "      <td>1</td>\n",
       "      <td>0</td>\n",
       "    </tr>\n",
       "    <tr>\n",
       "      <th>18</th>\n",
       "      <td>0.786</td>\n",
       "      <td>1</td>\n",
       "      <td>0</td>\n",
       "    </tr>\n",
       "    <tr>\n",
       "      <th>19</th>\n",
       "      <td>0.782</td>\n",
       "      <td>1</td>\n",
       "      <td>1</td>\n",
       "    </tr>\n",
       "    <tr>\n",
       "      <th>20</th>\n",
       "      <td>0.782</td>\n",
       "      <td>1</td>\n",
       "      <td>1</td>\n",
       "    </tr>\n",
       "    <tr>\n",
       "      <th>21</th>\n",
       "      <td>0.782</td>\n",
       "      <td>1</td>\n",
       "      <td>1</td>\n",
       "    </tr>\n",
       "    <tr>\n",
       "      <th>22</th>\n",
       "      <td>0.782</td>\n",
       "      <td>1</td>\n",
       "      <td>1</td>\n",
       "    </tr>\n",
       "    <tr>\n",
       "      <th>23</th>\n",
       "      <td>0.782</td>\n",
       "      <td>1</td>\n",
       "      <td>1</td>\n",
       "    </tr>\n",
       "    <tr>\n",
       "      <th>24</th>\n",
       "      <td>0.782</td>\n",
       "      <td>1</td>\n",
       "      <td>1</td>\n",
       "    </tr>\n",
       "    <tr>\n",
       "      <th>25</th>\n",
       "      <td>0.778</td>\n",
       "      <td>1</td>\n",
       "      <td>2</td>\n",
       "    </tr>\n",
       "    <tr>\n",
       "      <th>26</th>\n",
       "      <td>0.778</td>\n",
       "      <td>1</td>\n",
       "      <td>2</td>\n",
       "    </tr>\n",
       "    <tr>\n",
       "      <th>27</th>\n",
       "      <td>0.778</td>\n",
       "      <td>1</td>\n",
       "      <td>2</td>\n",
       "    </tr>\n",
       "    <tr>\n",
       "      <th>28</th>\n",
       "      <td>0.333</td>\n",
       "      <td>0</td>\n",
       "      <td>2</td>\n",
       "    </tr>\n",
       "    <tr>\n",
       "      <th>29</th>\n",
       "      <td>0.333</td>\n",
       "      <td>0</td>\n",
       "      <td>1</td>\n",
       "    </tr>\n",
       "    <tr>\n",
       "      <th>30</th>\n",
       "      <td>0.333</td>\n",
       "      <td>0</td>\n",
       "      <td>1</td>\n",
       "    </tr>\n",
       "  </tbody>\n",
       "</table>\n",
       "</div>"
      ],
      "text/plain": [
       "    Scenario Similarity  Count_Main_Var_Given  Count_Extra_Var_Given\n",
       "0                 1.000                     3                      0\n",
       "1                 0.989                     3                      1\n",
       "2                 0.989                     3                      1\n",
       "3                 0.979                     3                      2\n",
       "4                 0.897                     2                      0\n",
       "5                 0.897                     2                      0\n",
       "6                 0.897                     2                      0\n",
       "7                 0.889                     2                      1\n",
       "8                 0.889                     2                      1\n",
       "9                 0.889                     2                      1\n",
       "10                0.889                     2                      1\n",
       "11                0.889                     2                      1\n",
       "12                0.889                     2                      1\n",
       "13                0.882                     2                      2\n",
       "14                0.882                     2                      2\n",
       "15                0.882                     2                      2\n",
       "16                0.786                     1                      0\n",
       "17                0.786                     1                      0\n",
       "18                0.786                     1                      0\n",
       "19                0.782                     1                      1\n",
       "20                0.782                     1                      1\n",
       "21                0.782                     1                      1\n",
       "22                0.782                     1                      1\n",
       "23                0.782                     1                      1\n",
       "24                0.782                     1                      1\n",
       "25                0.778                     1                      2\n",
       "26                0.778                     1                      2\n",
       "27                0.778                     1                      2\n",
       "28                0.333                     0                      2\n",
       "29                0.333                     0                      1\n",
       "30                0.333                     0                      1"
      ]
     },
     "execution_count": 14,
     "metadata": {},
     "output_type": "execute_result"
    }
   ],
   "source": [
    "df=df[['Scenario Similarity','Count_Main_Var_Given',\n",
    "       'Count_Extra_Var_Given']]\n",
    "df"
   ]
  },
  {
   "cell_type": "code",
   "execution_count": 15,
   "metadata": {},
   "outputs": [
    {
     "data": {
      "application/vnd.plotly.v1+json": {
       "config": {
        "plotlyServerURL": "https://plot.ly"
       },
       "data": [
        {
         "hovertemplate": "Unmatched Extra Variables=%{x}<br>Matched Desired Variables=%{y}<br>Similarity=%{marker.color}<extra></extra>",
         "legendgroup": "",
         "marker": {
          "color": [
           1,
           0.989,
           0.989,
           0.979,
           0.897,
           0.897,
           0.897,
           0.889,
           0.889,
           0.889,
           0.889,
           0.889,
           0.889,
           0.882,
           0.882,
           0.882,
           0.786,
           0.786,
           0.786,
           0.782,
           0.782,
           0.782,
           0.782,
           0.782,
           0.782,
           0.778,
           0.778,
           0.778,
           0.333,
           0.333,
           0.333
          ],
          "coloraxis": "coloraxis",
          "size": [
           1,
           0.989,
           0.989,
           0.979,
           0.897,
           0.897,
           0.897,
           0.889,
           0.889,
           0.889,
           0.889,
           0.889,
           0.889,
           0.882,
           0.882,
           0.882,
           0.786,
           0.786,
           0.786,
           0.782,
           0.782,
           0.782,
           0.782,
           0.782,
           0.782,
           0.778,
           0.778,
           0.778,
           0.333,
           0.333,
           0.333
          ],
          "sizemode": "area",
          "sizeref": 0.0025,
          "symbol": "circle"
         },
         "mode": "markers+text",
         "name": "",
         "orientation": "v",
         "showlegend": false,
         "text": [
          1,
          0.989,
          0.989,
          0.979,
          0.897,
          0.897,
          0.897,
          0.889,
          0.889,
          0.889,
          0.889,
          0.889,
          0.889,
          0.882,
          0.882,
          0.882,
          0.786,
          0.786,
          0.786,
          0.782,
          0.782,
          0.782,
          0.782,
          0.782,
          0.782,
          0.778,
          0.778,
          0.778,
          0.333,
          0.333,
          0.333
         ],
         "textposition": "top center",
         "type": "scatter",
         "x": [
          0,
          1,
          1,
          2,
          0,
          0,
          0,
          1,
          1,
          1,
          1,
          1,
          1,
          2,
          2,
          2,
          0,
          0,
          0,
          1,
          1,
          1,
          1,
          1,
          1,
          2,
          2,
          2,
          2,
          1,
          1
         ],
         "xaxis": "x",
         "y": [
          3,
          3,
          3,
          3,
          2,
          2,
          2,
          2,
          2,
          2,
          2,
          2,
          2,
          2,
          2,
          2,
          1,
          1,
          1,
          1,
          1,
          1,
          1,
          1,
          1,
          1,
          1,
          1,
          0,
          0,
          0
         ],
         "yaxis": "y"
        }
       ],
       "layout": {
        "coloraxis": {
         "colorbar": {
          "title": {
           "text": "Similarity"
          }
         },
         "colorscale": [
          [
           0,
           "red"
          ],
          [
           0.5,
           "yellow"
          ],
          [
           1,
           "green"
          ]
         ]
        },
        "legend": {
         "itemsizing": "constant",
         "tracegroupgap": 0
        },
        "template": {
         "data": {
          "bar": [
           {
            "error_x": {
             "color": "#2a3f5f"
            },
            "error_y": {
             "color": "#2a3f5f"
            },
            "marker": {
             "line": {
              "color": "#E5ECF6",
              "width": 0.5
             },
             "pattern": {
              "fillmode": "overlay",
              "size": 10,
              "solidity": 0.2
             }
            },
            "type": "bar"
           }
          ],
          "barpolar": [
           {
            "marker": {
             "line": {
              "color": "#E5ECF6",
              "width": 0.5
             },
             "pattern": {
              "fillmode": "overlay",
              "size": 10,
              "solidity": 0.2
             }
            },
            "type": "barpolar"
           }
          ],
          "carpet": [
           {
            "aaxis": {
             "endlinecolor": "#2a3f5f",
             "gridcolor": "white",
             "linecolor": "white",
             "minorgridcolor": "white",
             "startlinecolor": "#2a3f5f"
            },
            "baxis": {
             "endlinecolor": "#2a3f5f",
             "gridcolor": "white",
             "linecolor": "white",
             "minorgridcolor": "white",
             "startlinecolor": "#2a3f5f"
            },
            "type": "carpet"
           }
          ],
          "choropleth": [
           {
            "colorbar": {
             "outlinewidth": 0,
             "ticks": ""
            },
            "type": "choropleth"
           }
          ],
          "contour": [
           {
            "colorbar": {
             "outlinewidth": 0,
             "ticks": ""
            },
            "colorscale": [
             [
              0,
              "#0d0887"
             ],
             [
              0.1111111111111111,
              "#46039f"
             ],
             [
              0.2222222222222222,
              "#7201a8"
             ],
             [
              0.3333333333333333,
              "#9c179e"
             ],
             [
              0.4444444444444444,
              "#bd3786"
             ],
             [
              0.5555555555555556,
              "#d8576b"
             ],
             [
              0.6666666666666666,
              "#ed7953"
             ],
             [
              0.7777777777777778,
              "#fb9f3a"
             ],
             [
              0.8888888888888888,
              "#fdca26"
             ],
             [
              1,
              "#f0f921"
             ]
            ],
            "type": "contour"
           }
          ],
          "contourcarpet": [
           {
            "colorbar": {
             "outlinewidth": 0,
             "ticks": ""
            },
            "type": "contourcarpet"
           }
          ],
          "heatmap": [
           {
            "colorbar": {
             "outlinewidth": 0,
             "ticks": ""
            },
            "colorscale": [
             [
              0,
              "#0d0887"
             ],
             [
              0.1111111111111111,
              "#46039f"
             ],
             [
              0.2222222222222222,
              "#7201a8"
             ],
             [
              0.3333333333333333,
              "#9c179e"
             ],
             [
              0.4444444444444444,
              "#bd3786"
             ],
             [
              0.5555555555555556,
              "#d8576b"
             ],
             [
              0.6666666666666666,
              "#ed7953"
             ],
             [
              0.7777777777777778,
              "#fb9f3a"
             ],
             [
              0.8888888888888888,
              "#fdca26"
             ],
             [
              1,
              "#f0f921"
             ]
            ],
            "type": "heatmap"
           }
          ],
          "heatmapgl": [
           {
            "colorbar": {
             "outlinewidth": 0,
             "ticks": ""
            },
            "colorscale": [
             [
              0,
              "#0d0887"
             ],
             [
              0.1111111111111111,
              "#46039f"
             ],
             [
              0.2222222222222222,
              "#7201a8"
             ],
             [
              0.3333333333333333,
              "#9c179e"
             ],
             [
              0.4444444444444444,
              "#bd3786"
             ],
             [
              0.5555555555555556,
              "#d8576b"
             ],
             [
              0.6666666666666666,
              "#ed7953"
             ],
             [
              0.7777777777777778,
              "#fb9f3a"
             ],
             [
              0.8888888888888888,
              "#fdca26"
             ],
             [
              1,
              "#f0f921"
             ]
            ],
            "type": "heatmapgl"
           }
          ],
          "histogram": [
           {
            "marker": {
             "pattern": {
              "fillmode": "overlay",
              "size": 10,
              "solidity": 0.2
             }
            },
            "type": "histogram"
           }
          ],
          "histogram2d": [
           {
            "colorbar": {
             "outlinewidth": 0,
             "ticks": ""
            },
            "colorscale": [
             [
              0,
              "#0d0887"
             ],
             [
              0.1111111111111111,
              "#46039f"
             ],
             [
              0.2222222222222222,
              "#7201a8"
             ],
             [
              0.3333333333333333,
              "#9c179e"
             ],
             [
              0.4444444444444444,
              "#bd3786"
             ],
             [
              0.5555555555555556,
              "#d8576b"
             ],
             [
              0.6666666666666666,
              "#ed7953"
             ],
             [
              0.7777777777777778,
              "#fb9f3a"
             ],
             [
              0.8888888888888888,
              "#fdca26"
             ],
             [
              1,
              "#f0f921"
             ]
            ],
            "type": "histogram2d"
           }
          ],
          "histogram2dcontour": [
           {
            "colorbar": {
             "outlinewidth": 0,
             "ticks": ""
            },
            "colorscale": [
             [
              0,
              "#0d0887"
             ],
             [
              0.1111111111111111,
              "#46039f"
             ],
             [
              0.2222222222222222,
              "#7201a8"
             ],
             [
              0.3333333333333333,
              "#9c179e"
             ],
             [
              0.4444444444444444,
              "#bd3786"
             ],
             [
              0.5555555555555556,
              "#d8576b"
             ],
             [
              0.6666666666666666,
              "#ed7953"
             ],
             [
              0.7777777777777778,
              "#fb9f3a"
             ],
             [
              0.8888888888888888,
              "#fdca26"
             ],
             [
              1,
              "#f0f921"
             ]
            ],
            "type": "histogram2dcontour"
           }
          ],
          "mesh3d": [
           {
            "colorbar": {
             "outlinewidth": 0,
             "ticks": ""
            },
            "type": "mesh3d"
           }
          ],
          "parcoords": [
           {
            "line": {
             "colorbar": {
              "outlinewidth": 0,
              "ticks": ""
             }
            },
            "type": "parcoords"
           }
          ],
          "pie": [
           {
            "automargin": true,
            "type": "pie"
           }
          ],
          "scatter": [
           {
            "fillpattern": {
             "fillmode": "overlay",
             "size": 10,
             "solidity": 0.2
            },
            "type": "scatter"
           }
          ],
          "scatter3d": [
           {
            "line": {
             "colorbar": {
              "outlinewidth": 0,
              "ticks": ""
             }
            },
            "marker": {
             "colorbar": {
              "outlinewidth": 0,
              "ticks": ""
             }
            },
            "type": "scatter3d"
           }
          ],
          "scattercarpet": [
           {
            "marker": {
             "colorbar": {
              "outlinewidth": 0,
              "ticks": ""
             }
            },
            "type": "scattercarpet"
           }
          ],
          "scattergeo": [
           {
            "marker": {
             "colorbar": {
              "outlinewidth": 0,
              "ticks": ""
             }
            },
            "type": "scattergeo"
           }
          ],
          "scattergl": [
           {
            "marker": {
             "colorbar": {
              "outlinewidth": 0,
              "ticks": ""
             }
            },
            "type": "scattergl"
           }
          ],
          "scattermapbox": [
           {
            "marker": {
             "colorbar": {
              "outlinewidth": 0,
              "ticks": ""
             }
            },
            "type": "scattermapbox"
           }
          ],
          "scatterpolar": [
           {
            "marker": {
             "colorbar": {
              "outlinewidth": 0,
              "ticks": ""
             }
            },
            "type": "scatterpolar"
           }
          ],
          "scatterpolargl": [
           {
            "marker": {
             "colorbar": {
              "outlinewidth": 0,
              "ticks": ""
             }
            },
            "type": "scatterpolargl"
           }
          ],
          "scatterternary": [
           {
            "marker": {
             "colorbar": {
              "outlinewidth": 0,
              "ticks": ""
             }
            },
            "type": "scatterternary"
           }
          ],
          "surface": [
           {
            "colorbar": {
             "outlinewidth": 0,
             "ticks": ""
            },
            "colorscale": [
             [
              0,
              "#0d0887"
             ],
             [
              0.1111111111111111,
              "#46039f"
             ],
             [
              0.2222222222222222,
              "#7201a8"
             ],
             [
              0.3333333333333333,
              "#9c179e"
             ],
             [
              0.4444444444444444,
              "#bd3786"
             ],
             [
              0.5555555555555556,
              "#d8576b"
             ],
             [
              0.6666666666666666,
              "#ed7953"
             ],
             [
              0.7777777777777778,
              "#fb9f3a"
             ],
             [
              0.8888888888888888,
              "#fdca26"
             ],
             [
              1,
              "#f0f921"
             ]
            ],
            "type": "surface"
           }
          ],
          "table": [
           {
            "cells": {
             "fill": {
              "color": "#EBF0F8"
             },
             "line": {
              "color": "white"
             }
            },
            "header": {
             "fill": {
              "color": "#C8D4E3"
             },
             "line": {
              "color": "white"
             }
            },
            "type": "table"
           }
          ]
         },
         "layout": {
          "annotationdefaults": {
           "arrowcolor": "#2a3f5f",
           "arrowhead": 0,
           "arrowwidth": 1
          },
          "autotypenumbers": "strict",
          "coloraxis": {
           "colorbar": {
            "outlinewidth": 0,
            "ticks": ""
           }
          },
          "colorscale": {
           "diverging": [
            [
             0,
             "#8e0152"
            ],
            [
             0.1,
             "#c51b7d"
            ],
            [
             0.2,
             "#de77ae"
            ],
            [
             0.3,
             "#f1b6da"
            ],
            [
             0.4,
             "#fde0ef"
            ],
            [
             0.5,
             "#f7f7f7"
            ],
            [
             0.6,
             "#e6f5d0"
            ],
            [
             0.7,
             "#b8e186"
            ],
            [
             0.8,
             "#7fbc41"
            ],
            [
             0.9,
             "#4d9221"
            ],
            [
             1,
             "#276419"
            ]
           ],
           "sequential": [
            [
             0,
             "#0d0887"
            ],
            [
             0.1111111111111111,
             "#46039f"
            ],
            [
             0.2222222222222222,
             "#7201a8"
            ],
            [
             0.3333333333333333,
             "#9c179e"
            ],
            [
             0.4444444444444444,
             "#bd3786"
            ],
            [
             0.5555555555555556,
             "#d8576b"
            ],
            [
             0.6666666666666666,
             "#ed7953"
            ],
            [
             0.7777777777777778,
             "#fb9f3a"
            ],
            [
             0.8888888888888888,
             "#fdca26"
            ],
            [
             1,
             "#f0f921"
            ]
           ],
           "sequentialminus": [
            [
             0,
             "#0d0887"
            ],
            [
             0.1111111111111111,
             "#46039f"
            ],
            [
             0.2222222222222222,
             "#7201a8"
            ],
            [
             0.3333333333333333,
             "#9c179e"
            ],
            [
             0.4444444444444444,
             "#bd3786"
            ],
            [
             0.5555555555555556,
             "#d8576b"
            ],
            [
             0.6666666666666666,
             "#ed7953"
            ],
            [
             0.7777777777777778,
             "#fb9f3a"
            ],
            [
             0.8888888888888888,
             "#fdca26"
            ],
            [
             1,
             "#f0f921"
            ]
           ]
          },
          "colorway": [
           "#636efa",
           "#EF553B",
           "#00cc96",
           "#ab63fa",
           "#FFA15A",
           "#19d3f3",
           "#FF6692",
           "#B6E880",
           "#FF97FF",
           "#FECB52"
          ],
          "font": {
           "color": "#2a3f5f"
          },
          "geo": {
           "bgcolor": "white",
           "lakecolor": "white",
           "landcolor": "#E5ECF6",
           "showlakes": true,
           "showland": true,
           "subunitcolor": "white"
          },
          "hoverlabel": {
           "align": "left"
          },
          "hovermode": "closest",
          "mapbox": {
           "style": "light"
          },
          "paper_bgcolor": "white",
          "plot_bgcolor": "#E5ECF6",
          "polar": {
           "angularaxis": {
            "gridcolor": "white",
            "linecolor": "white",
            "ticks": ""
           },
           "bgcolor": "#E5ECF6",
           "radialaxis": {
            "gridcolor": "white",
            "linecolor": "white",
            "ticks": ""
           }
          },
          "scene": {
           "xaxis": {
            "backgroundcolor": "#E5ECF6",
            "gridcolor": "white",
            "gridwidth": 2,
            "linecolor": "white",
            "showbackground": true,
            "ticks": "",
            "zerolinecolor": "white"
           },
           "yaxis": {
            "backgroundcolor": "#E5ECF6",
            "gridcolor": "white",
            "gridwidth": 2,
            "linecolor": "white",
            "showbackground": true,
            "ticks": "",
            "zerolinecolor": "white"
           },
           "zaxis": {
            "backgroundcolor": "#E5ECF6",
            "gridcolor": "white",
            "gridwidth": 2,
            "linecolor": "white",
            "showbackground": true,
            "ticks": "",
            "zerolinecolor": "white"
           }
          },
          "shapedefaults": {
           "line": {
            "color": "#2a3f5f"
           }
          },
          "ternary": {
           "aaxis": {
            "gridcolor": "white",
            "linecolor": "white",
            "ticks": ""
           },
           "baxis": {
            "gridcolor": "white",
            "linecolor": "white",
            "ticks": ""
           },
           "bgcolor": "#E5ECF6",
           "caxis": {
            "gridcolor": "white",
            "linecolor": "white",
            "ticks": ""
           }
          },
          "title": {
           "x": 0.05
          },
          "xaxis": {
           "automargin": true,
           "gridcolor": "white",
           "linecolor": "white",
           "ticks": "",
           "title": {
            "standoff": 15
           },
           "zerolinecolor": "white",
           "zerolinewidth": 2
          },
          "yaxis": {
           "automargin": true,
           "gridcolor": "white",
           "linecolor": "white",
           "ticks": "",
           "title": {
            "standoff": 15
           },
           "zerolinecolor": "white",
           "zerolinewidth": 2
          }
         }
        },
        "title": {
         "text": "Candidate scenarios varying the number of variables from the Takeoff Scenario (Given)."
        },
        "xaxis": {
         "anchor": "y",
         "domain": [
          0,
          1
         ],
         "tickmode": "array",
         "tickvals": [
          0,
          1,
          2
         ],
         "title": {
          "text": "Unmatched Extra Variables"
         }
        },
        "yaxis": {
         "anchor": "x",
         "domain": [
          0,
          1
         ],
         "tickmode": "array",
         "tickvals": [
          3,
          2,
          1,
          0
         ],
         "title": {
          "text": "Matched Desired Variables"
         }
        }
       }
      }
     },
     "metadata": {},
     "output_type": "display_data"
    }
   ],
   "source": [
    "import plotly.express as px\n",
    "\n",
    "# Criando o scatter plot\n",
    "fig = px.scatter(\n",
    "    df,\n",
    "    x='Count_Extra_Var_Given',\n",
    "    y='Count_Main_Var_Given',\n",
    "    size='Scenario Similarity',\n",
    "    color='Scenario Similarity',\n",
    "    title='Candidate scenarios varying the number of variables from the Takeoff Scenario (Given).',\n",
    "    labels={\n",
    "        'Count_Main_Var_Given': 'Matched Desired Variables',  # Novo título do eixo Y\n",
    "        'Count_Extra_Var_Given': 'Unmatched Extra Variables',  # Novo título do eixo X\n",
    "        'Scenario Similarity': 'Similarity'\n",
    "    },\n",
    "    hover_data=['Count_Extra_Var_Given'],\n",
    "    text='Scenario Similarity',  # Adiciona o valor da similaridade como texto na bolinha\n",
    "    color_continuous_scale=['red', 'yellow', 'green']\n",
    ")\n",
    "\n",
    "# Ajusta a posição do texto\n",
    "fig.update_traces(textposition='top center')\n",
    "\n",
    "# Ajusta os eixos para exibir apenas valores existentes\n",
    "fig.update_xaxes(\n",
    "    tickmode='array',\n",
    "    tickvals=df['Count_Extra_Var_Given'].unique()  # Define os valores únicos do eixo X\n",
    ")\n",
    "fig.update_yaxes(\n",
    "    tickmode='array',\n",
    "    tickvals=df['Count_Main_Var_Given'].unique()  # Define os valores únicos do eixo Y\n",
    ")\n",
    "\n",
    "# Exibindo o gráfico\n",
    "fig.show()\n"
   ]
  },
  {
   "cell_type": "markdown",
   "metadata": {},
   "source": [
    "Similarity gradually decreases with an increasing number of Unmatched Extra Variables. In contrast, a notable reduction in similarity is observed when the number of Matched Desired Variables decreases. The top-left region of the chart, where similarity is highest, describes candidate scenarios with optimal alignment to the desired variables.\n",
    "\n",
    "Portanto candidatos com caracteristicas e contexto semelhantes "
   ]
  },
  {
   "cell_type": "markdown",
   "metadata": {},
   "source": [
    "Se o conjunto de variáveis do main são as mesmas e vai ser adicionando variaveis extra, a similaridade é decrescida de forma suave, pois é esperado que o candidato mais similar tenha variáveis extras;\n",
    "Mas se o conjunto de variaveis do main não for a mesma, a similaridade cai de forma mais acentuada, a medida que vai se reduzendo as variáveis main."
   ]
  },
  {
   "cell_type": "markdown",
   "metadata": {},
   "source": [
    "### RQ2.2\n",
    "varying the number of parameters in the then caluse"
   ]
  },
  {
   "cell_type": "code",
   "execution_count": null,
   "metadata": {},
   "outputs": [],
   "source": []
  },
  {
   "cell_type": "markdown",
   "metadata": {},
   "source": [
    "### RQ2.3\n",
    "varying the number of the parameters in both the given and then clauses"
   ]
  },
  {
   "cell_type": "code",
   "execution_count": null,
   "metadata": {},
   "outputs": [],
   "source": []
  },
  {
   "cell_type": "markdown",
   "metadata": {},
   "source": [
    "### RQ2.4\n",
    "varying the values (context) of the parameters in the given clause"
   ]
  },
  {
   "cell_type": "code",
   "execution_count": null,
   "metadata": {},
   "outputs": [],
   "source": []
  },
  {
   "cell_type": "markdown",
   "metadata": {},
   "source": [
    "### RQ2.5\n",
    "varying the values (context) of the parameters in the then clause"
   ]
  },
  {
   "cell_type": "code",
   "execution_count": null,
   "metadata": {},
   "outputs": [],
   "source": []
  },
  {
   "cell_type": "markdown",
   "metadata": {},
   "source": [
    "### RQ2.6\n",
    "varying the values (context) of the parameters in both the then and then clauses"
   ]
  },
  {
   "cell_type": "code",
   "execution_count": null,
   "metadata": {},
   "outputs": [],
   "source": []
  },
  {
   "cell_type": "markdown",
   "metadata": {},
   "source": [
    "### RQ2.7\n",
    "varying the number and values (context) of the parameters in both the given and then clauses"
   ]
  },
  {
   "cell_type": "code",
   "execution_count": null,
   "metadata": {},
   "outputs": [],
   "source": []
  }
 ],
 "metadata": {
  "kernelspec": {
   "display_name": "USAS",
   "language": "python",
   "name": "python3"
  },
  "language_info": {
   "codemirror_mode": {
    "name": "ipython",
    "version": 3
   },
   "file_extension": ".py",
   "mimetype": "text/x-python",
   "name": "python",
   "nbconvert_exporter": "python",
   "pygments_lexer": "ipython3",
   "version": "3.11.9"
  }
 },
 "nbformat": 4,
 "nbformat_minor": 2
}
