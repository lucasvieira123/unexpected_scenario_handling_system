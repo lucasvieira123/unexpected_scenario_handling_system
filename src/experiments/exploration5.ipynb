{
 "cells": [
  {
   "cell_type": "code",
   "execution_count": 15,
   "metadata": {},
   "outputs": [],
   "source": [
    "import pandas as pd\n",
    "import json\n",
    "import re\n",
    "import plotly.express as px\n",
    "import numpy as np\n",
    "from sklearn.preprocessing import MinMaxScaler\n",
    "pd.set_option('display.max_columns', None)"
   ]
  },
  {
   "cell_type": "markdown",
   "metadata": {},
   "source": [
    "### RQ2.5\n",
    "varying the values (context) of the parameters in the then clause"
   ]
  },
  {
   "cell_type": "code",
   "execution_count": 16,
   "metadata": {},
   "outputs": [],
   "source": [
    "current_result = \"5_shared_scenarios_results\""
   ]
  },
  {
   "cell_type": "code",
   "execution_count": 17,
   "metadata": {},
   "outputs": [],
   "source": [
    "file_path = f'res/outcome/similarities/{current_result}.csv'\n",
    "df = pd.read_csv(file_path, sep=';')"
   ]
  },
  {
   "cell_type": "code",
   "execution_count": 18,
   "metadata": {},
   "outputs": [
    {
     "data": {
      "text/html": [
       "<div>\n",
       "<style scoped>\n",
       "    .dataframe tbody tr th:only-of-type {\n",
       "        vertical-align: middle;\n",
       "    }\n",
       "\n",
       "    .dataframe tbody tr th {\n",
       "        vertical-align: top;\n",
       "    }\n",
       "\n",
       "    .dataframe thead th {\n",
       "        text-align: right;\n",
       "    }\n",
       "</style>\n",
       "<table border=\"1\" class=\"dataframe\">\n",
       "  <thead>\n",
       "    <tr style=\"text-align: right;\">\n",
       "      <th></th>\n",
       "      <th>Scenario</th>\n",
       "      <th>Desired Then DNF</th>\n",
       "      <th>Shared Then DNF</th>\n",
       "      <th>Penality Then</th>\n",
       "      <th>Global Similarity Then</th>\n",
       "      <th>Final Similarity Then</th>\n",
       "      <th>Scenario Similarity</th>\n",
       "      <th>Action</th>\n",
       "    </tr>\n",
       "  </thead>\n",
       "  <tbody>\n",
       "    <tr>\n",
       "      <th>0</th>\n",
       "      <td>Candidate_1</td>\n",
       "      <td>height &gt;= 30 AND source_distance == 0</td>\n",
       "      <td>height &gt;= 30 AND source_distance == 0</td>\n",
       "      <td>0.0</td>\n",
       "      <td>1.000000</td>\n",
       "      <td>1.000000</td>\n",
       "      <td>1.000000</td>\n",
       "      <td>behavior_1</td>\n",
       "    </tr>\n",
       "    <tr>\n",
       "      <th>1</th>\n",
       "      <td>Candidate_23</td>\n",
       "      <td>height &gt;= 30 AND source_distance == 0</td>\n",
       "      <td>height &gt;= 25 AND source_distance == 0</td>\n",
       "      <td>0.0</td>\n",
       "      <td>0.966665</td>\n",
       "      <td>0.966665</td>\n",
       "      <td>0.988888</td>\n",
       "      <td>behavior_23</td>\n",
       "    </tr>\n",
       "    <tr>\n",
       "      <th>2</th>\n",
       "      <td>Candidate_34</td>\n",
       "      <td>height &gt;= 30 AND source_distance == 0</td>\n",
       "      <td>height &gt;= 50 AND source_distance == 0</td>\n",
       "      <td>0.0</td>\n",
       "      <td>0.857145</td>\n",
       "      <td>0.857145</td>\n",
       "      <td>0.952382</td>\n",
       "      <td>behavior_34</td>\n",
       "    </tr>\n",
       "    <tr>\n",
       "      <th>3</th>\n",
       "      <td>Candidate_122</td>\n",
       "      <td>height &gt;= 30 AND source_distance == 0</td>\n",
       "      <td>height &lt;= 100 AND source_distance == 0</td>\n",
       "      <td>0.0</td>\n",
       "      <td>0.850000</td>\n",
       "      <td>0.850000</td>\n",
       "      <td>0.950000</td>\n",
       "      <td>behavior_122</td>\n",
       "    </tr>\n",
       "    <tr>\n",
       "      <th>4</th>\n",
       "      <td>Candidate_12</td>\n",
       "      <td>height &gt;= 30 AND source_distance == 0</td>\n",
       "      <td>height &gt;= 0 AND source_distance == 0</td>\n",
       "      <td>0.0</td>\n",
       "      <td>0.850000</td>\n",
       "      <td>0.850000</td>\n",
       "      <td>0.950000</td>\n",
       "      <td>behavior_12</td>\n",
       "    </tr>\n",
       "    <tr>\n",
       "      <th>...</th>\n",
       "      <td>...</td>\n",
       "      <td>...</td>\n",
       "      <td>...</td>\n",
       "      <td>...</td>\n",
       "      <td>...</td>\n",
       "      <td>...</td>\n",
       "      <td>...</td>\n",
       "      <td>...</td>\n",
       "    </tr>\n",
       "    <tr>\n",
       "      <th>127</th>\n",
       "      <td>Candidate_93</td>\n",
       "      <td>height &gt;= 30 AND source_distance == 0</td>\n",
       "      <td>height &lt;= 25 AND source_distance &gt;= 75</td>\n",
       "      <td>0.0</td>\n",
       "      <td>0.000000</td>\n",
       "      <td>0.000000</td>\n",
       "      <td>0.666667</td>\n",
       "      <td>behavior_93</td>\n",
       "    </tr>\n",
       "    <tr>\n",
       "      <th>128</th>\n",
       "      <td>Candidate_94</td>\n",
       "      <td>height &gt;= 30 AND source_distance == 0</td>\n",
       "      <td>height &lt;= 25 AND source_distance &gt;= 100</td>\n",
       "      <td>0.0</td>\n",
       "      <td>0.000000</td>\n",
       "      <td>0.000000</td>\n",
       "      <td>0.666667</td>\n",
       "      <td>behavior_94</td>\n",
       "    </tr>\n",
       "    <tr>\n",
       "      <th>129</th>\n",
       "      <td>Candidate_95</td>\n",
       "      <td>height &gt;= 30 AND source_distance == 0</td>\n",
       "      <td>height &lt;= 25 AND source_distance &lt;= 0</td>\n",
       "      <td>0.0</td>\n",
       "      <td>0.000000</td>\n",
       "      <td>0.000000</td>\n",
       "      <td>0.666667</td>\n",
       "      <td>behavior_95</td>\n",
       "    </tr>\n",
       "    <tr>\n",
       "      <th>130</th>\n",
       "      <td>Candidate_60</td>\n",
       "      <td>height &gt;= 30 AND source_distance == 0</td>\n",
       "      <td>height &gt;= 100 AND source_distance &gt;= 75</td>\n",
       "      <td>0.0</td>\n",
       "      <td>0.000000</td>\n",
       "      <td>0.000000</td>\n",
       "      <td>0.666667</td>\n",
       "      <td>behavior_60</td>\n",
       "    </tr>\n",
       "    <tr>\n",
       "      <th>131</th>\n",
       "      <td>Candidate_59</td>\n",
       "      <td>height &gt;= 30 AND source_distance == 0</td>\n",
       "      <td>height &gt;= 100 AND source_distance &gt;= 50</td>\n",
       "      <td>0.0</td>\n",
       "      <td>0.000000</td>\n",
       "      <td>0.000000</td>\n",
       "      <td>0.666667</td>\n",
       "      <td>behavior_59</td>\n",
       "    </tr>\n",
       "  </tbody>\n",
       "</table>\n",
       "<p>132 rows × 8 columns</p>\n",
       "</div>"
      ],
      "text/plain": [
       "          Scenario                       Desired Then DNF  \\\n",
       "0      Candidate_1  height >= 30 AND source_distance == 0   \n",
       "1     Candidate_23  height >= 30 AND source_distance == 0   \n",
       "2     Candidate_34  height >= 30 AND source_distance == 0   \n",
       "3    Candidate_122  height >= 30 AND source_distance == 0   \n",
       "4     Candidate_12  height >= 30 AND source_distance == 0   \n",
       "..             ...                                    ...   \n",
       "127   Candidate_93  height >= 30 AND source_distance == 0   \n",
       "128   Candidate_94  height >= 30 AND source_distance == 0   \n",
       "129   Candidate_95  height >= 30 AND source_distance == 0   \n",
       "130   Candidate_60  height >= 30 AND source_distance == 0   \n",
       "131   Candidate_59  height >= 30 AND source_distance == 0   \n",
       "\n",
       "                             Shared Then DNF  Penality Then  \\\n",
       "0      height >= 30 AND source_distance == 0            0.0   \n",
       "1      height >= 25 AND source_distance == 0            0.0   \n",
       "2      height >= 50 AND source_distance == 0            0.0   \n",
       "3     height <= 100 AND source_distance == 0            0.0   \n",
       "4       height >= 0 AND source_distance == 0            0.0   \n",
       "..                                       ...            ...   \n",
       "127   height <= 25 AND source_distance >= 75            0.0   \n",
       "128  height <= 25 AND source_distance >= 100            0.0   \n",
       "129    height <= 25 AND source_distance <= 0            0.0   \n",
       "130  height >= 100 AND source_distance >= 75            0.0   \n",
       "131  height >= 100 AND source_distance >= 50            0.0   \n",
       "\n",
       "     Global Similarity Then  Final Similarity Then  Scenario Similarity  \\\n",
       "0                  1.000000               1.000000             1.000000   \n",
       "1                  0.966665               0.966665             0.988888   \n",
       "2                  0.857145               0.857145             0.952382   \n",
       "3                  0.850000               0.850000             0.950000   \n",
       "4                  0.850000               0.850000             0.950000   \n",
       "..                      ...                    ...                  ...   \n",
       "127                0.000000               0.000000             0.666667   \n",
       "128                0.000000               0.000000             0.666667   \n",
       "129                0.000000               0.000000             0.666667   \n",
       "130                0.000000               0.000000             0.666667   \n",
       "131                0.000000               0.000000             0.666667   \n",
       "\n",
       "           Action  \n",
       "0      behavior_1  \n",
       "1     behavior_23  \n",
       "2     behavior_34  \n",
       "3    behavior_122  \n",
       "4     behavior_12  \n",
       "..            ...  \n",
       "127   behavior_93  \n",
       "128   behavior_94  \n",
       "129   behavior_95  \n",
       "130   behavior_60  \n",
       "131   behavior_59  \n",
       "\n",
       "[132 rows x 8 columns]"
      ]
     },
     "execution_count": 18,
     "metadata": {},
     "output_type": "execute_result"
    }
   ],
   "source": [
    "df.drop(columns=['Desired When DNF',\n",
    "       'Shared When DNF', 'Penality When', 'Global Similarity When',\n",
    "       'Final Similarity When',\"Desired Given DNF\",\"Shared Given DNF\",\"Penality Given\",\"Global Similarity Given\",\"Final Similarity Given\"], inplace=True)\n",
    "df"
   ]
  },
  {
   "cell_type": "code",
   "execution_count": 19,
   "metadata": {},
   "outputs": [
    {
     "data": {
      "text/html": [
       "<div>\n",
       "<style scoped>\n",
       "    .dataframe tbody tr th:only-of-type {\n",
       "        vertical-align: middle;\n",
       "    }\n",
       "\n",
       "    .dataframe tbody tr th {\n",
       "        vertical-align: top;\n",
       "    }\n",
       "\n",
       "    .dataframe thead th {\n",
       "        text-align: right;\n",
       "    }\n",
       "</style>\n",
       "<table border=\"1\" class=\"dataframe\">\n",
       "  <thead>\n",
       "    <tr style=\"text-align: right;\">\n",
       "      <th></th>\n",
       "      <th>Desired Then DNF</th>\n",
       "      <th>Shared Then DNF</th>\n",
       "      <th>Pairs</th>\n",
       "    </tr>\n",
       "  </thead>\n",
       "  <tbody>\n",
       "    <tr>\n",
       "      <th>0</th>\n",
       "      <td>height &gt;= 30 AND source_distance == 0</td>\n",
       "      <td>height &gt;= 30 AND source_distance == 0</td>\n",
       "      <td>[((source_distance, ==, 0.0), (source_distance...</td>\n",
       "    </tr>\n",
       "    <tr>\n",
       "      <th>1</th>\n",
       "      <td>height &gt;= 30 AND source_distance == 0</td>\n",
       "      <td>height &gt;= 25 AND source_distance == 0</td>\n",
       "      <td>[((source_distance, ==, 0.0), (source_distance...</td>\n",
       "    </tr>\n",
       "    <tr>\n",
       "      <th>2</th>\n",
       "      <td>height &gt;= 30 AND source_distance == 0</td>\n",
       "      <td>height &gt;= 50 AND source_distance == 0</td>\n",
       "      <td>[((source_distance, ==, 0.0), (source_distance...</td>\n",
       "    </tr>\n",
       "    <tr>\n",
       "      <th>3</th>\n",
       "      <td>height &gt;= 30 AND source_distance == 0</td>\n",
       "      <td>height &lt;= 100 AND source_distance == 0</td>\n",
       "      <td>[((source_distance, ==, 0.0), (source_distance...</td>\n",
       "    </tr>\n",
       "    <tr>\n",
       "      <th>4</th>\n",
       "      <td>height &gt;= 30 AND source_distance == 0</td>\n",
       "      <td>height &gt;= 0 AND source_distance == 0</td>\n",
       "      <td>[((source_distance, ==, 0.0), (source_distance...</td>\n",
       "    </tr>\n",
       "    <tr>\n",
       "      <th>...</th>\n",
       "      <td>...</td>\n",
       "      <td>...</td>\n",
       "      <td>...</td>\n",
       "    </tr>\n",
       "    <tr>\n",
       "      <th>127</th>\n",
       "      <td>height &gt;= 30 AND source_distance == 0</td>\n",
       "      <td>height &lt;= 25 AND source_distance &gt;= 75</td>\n",
       "      <td>[((source_distance, ==, 0.0), (source_distance...</td>\n",
       "    </tr>\n",
       "    <tr>\n",
       "      <th>128</th>\n",
       "      <td>height &gt;= 30 AND source_distance == 0</td>\n",
       "      <td>height &lt;= 25 AND source_distance &gt;= 100</td>\n",
       "      <td>[((source_distance, ==, 0.0), (source_distance...</td>\n",
       "    </tr>\n",
       "    <tr>\n",
       "      <th>129</th>\n",
       "      <td>height &gt;= 30 AND source_distance == 0</td>\n",
       "      <td>height &lt;= 25 AND source_distance &lt;= 0</td>\n",
       "      <td>[((source_distance, ==, 0.0), (source_distance...</td>\n",
       "    </tr>\n",
       "    <tr>\n",
       "      <th>130</th>\n",
       "      <td>height &gt;= 30 AND source_distance == 0</td>\n",
       "      <td>height &gt;= 100 AND source_distance &gt;= 75</td>\n",
       "      <td>[((source_distance, ==, 0.0), (source_distance...</td>\n",
       "    </tr>\n",
       "    <tr>\n",
       "      <th>131</th>\n",
       "      <td>height &gt;= 30 AND source_distance == 0</td>\n",
       "      <td>height &gt;= 100 AND source_distance &gt;= 50</td>\n",
       "      <td>[((source_distance, ==, 0.0), (source_distance...</td>\n",
       "    </tr>\n",
       "  </tbody>\n",
       "</table>\n",
       "<p>132 rows × 3 columns</p>\n",
       "</div>"
      ],
      "text/plain": [
       "                          Desired Then DNF  \\\n",
       "0    height >= 30 AND source_distance == 0   \n",
       "1    height >= 30 AND source_distance == 0   \n",
       "2    height >= 30 AND source_distance == 0   \n",
       "3    height >= 30 AND source_distance == 0   \n",
       "4    height >= 30 AND source_distance == 0   \n",
       "..                                     ...   \n",
       "127  height >= 30 AND source_distance == 0   \n",
       "128  height >= 30 AND source_distance == 0   \n",
       "129  height >= 30 AND source_distance == 0   \n",
       "130  height >= 30 AND source_distance == 0   \n",
       "131  height >= 30 AND source_distance == 0   \n",
       "\n",
       "                             Shared Then DNF  \\\n",
       "0      height >= 30 AND source_distance == 0   \n",
       "1      height >= 25 AND source_distance == 0   \n",
       "2      height >= 50 AND source_distance == 0   \n",
       "3     height <= 100 AND source_distance == 0   \n",
       "4       height >= 0 AND source_distance == 0   \n",
       "..                                       ...   \n",
       "127   height <= 25 AND source_distance >= 75   \n",
       "128  height <= 25 AND source_distance >= 100   \n",
       "129    height <= 25 AND source_distance <= 0   \n",
       "130  height >= 100 AND source_distance >= 75   \n",
       "131  height >= 100 AND source_distance >= 50   \n",
       "\n",
       "                                                 Pairs  \n",
       "0    [((source_distance, ==, 0.0), (source_distance...  \n",
       "1    [((source_distance, ==, 0.0), (source_distance...  \n",
       "2    [((source_distance, ==, 0.0), (source_distance...  \n",
       "3    [((source_distance, ==, 0.0), (source_distance...  \n",
       "4    [((source_distance, ==, 0.0), (source_distance...  \n",
       "..                                                 ...  \n",
       "127  [((source_distance, ==, 0.0), (source_distance...  \n",
       "128  [((source_distance, ==, 0.0), (source_distance...  \n",
       "129  [((source_distance, ==, 0.0), (source_distance...  \n",
       "130  [((source_distance, ==, 0.0), (source_distance...  \n",
       "131  [((source_distance, ==, 0.0), (source_distance...  \n",
       "\n",
       "[132 rows x 3 columns]"
      ]
     },
     "execution_count": 19,
     "metadata": {},
     "output_type": "execute_result"
    }
   ],
   "source": [
    "def extract_clauses(expression):\n",
    "    # Primeiro, dividir a expressão usando 'AND' como delimitador\n",
    "    clauses = expression.split(' AND ')\n",
    "    \n",
    "    # Regex para capturar o padrão: variável, operador, e valor, incluindo == e !=\n",
    "    pattern = r'(\\w+)\\s*(>=|<=|>|<|=|==|!=)\\s*([\\d.]+)'\n",
    "    \n",
    "    # Extrair e converter as cláusulas em um dicionário\n",
    "    result = {}\n",
    "    for clause in clauses:\n",
    "        match = re.match(pattern, clause.strip())\n",
    "        if match:\n",
    "            var, op, val = match.groups()\n",
    "            val = float(val)\n",
    "            result[var] = (var, op, val)\n",
    "    \n",
    "    return result\n",
    "\n",
    "\n",
    "def create_pairs(row):\n",
    "    clauses_1 = extract_clauses(row['Desired Then DNF'])\n",
    "    clauses_2 = extract_clauses(row['Shared Then DNF'])\n",
    "    \n",
    "    # Obter o conjunto de todas as variáveis únicas das duas colunas\n",
    "    all_vars = set(clauses_1.keys()).union(set(clauses_2.keys()))\n",
    "    \n",
    "    # Criar o vetor de duplas\n",
    "    pairs = [(clauses_1.get(var, ('', '', '')), clauses_2.get(var, ('', '', ''))) for var in all_vars]\n",
    "    \n",
    "    return pairs\n",
    "\n",
    "\n",
    "# Aplicar a função para criar o vetor de duplas para cada linha do DataFrame\n",
    "df['Pairs'] = df.apply(create_pairs, axis=1)\n",
    "\n",
    "# Exibir o DataFrame com os vetores de duplas\n",
    "df[['Desired Then DNF', 'Shared Then DNF', 'Pairs']]\n"
   ]
  },
  {
   "cell_type": "code",
   "execution_count": 20,
   "metadata": {},
   "outputs": [
    {
     "data": {
      "text/plain": [
       "Pairs    [((source_distance, ==, 0.0), (source_distance...\n",
       "Name: 0, dtype: object"
      ]
     },
     "execution_count": 20,
     "metadata": {},
     "output_type": "execute_result"
    }
   ],
   "source": [
    "df[[\"Pairs\"]].iloc[0]"
   ]
  },
  {
   "cell_type": "code",
   "execution_count": 21,
   "metadata": {},
   "outputs": [
    {
     "data": {
      "text/html": [
       "<div>\n",
       "<style scoped>\n",
       "    .dataframe tbody tr th:only-of-type {\n",
       "        vertical-align: middle;\n",
       "    }\n",
       "\n",
       "    .dataframe tbody tr th {\n",
       "        vertical-align: top;\n",
       "    }\n",
       "\n",
       "    .dataframe thead th {\n",
       "        text-align: right;\n",
       "    }\n",
       "</style>\n",
       "<table border=\"1\" class=\"dataframe\">\n",
       "  <thead>\n",
       "    <tr style=\"text-align: right;\">\n",
       "      <th></th>\n",
       "      <th>Pairs</th>\n",
       "      <th>Scope Error by var</th>\n",
       "    </tr>\n",
       "  </thead>\n",
       "  <tbody>\n",
       "    <tr>\n",
       "      <th>0</th>\n",
       "      <td>[((source_distance, ==, 0.0), (source_distance...</td>\n",
       "      <td>[(0.0, 0.0), (0.0, 0.0)]</td>\n",
       "    </tr>\n",
       "    <tr>\n",
       "      <th>1</th>\n",
       "      <td>[((source_distance, ==, 0.0), (source_distance...</td>\n",
       "      <td>[(0.0, 0.0), (5.0, 0.0)]</td>\n",
       "    </tr>\n",
       "    <tr>\n",
       "      <th>2</th>\n",
       "      <td>[((source_distance, ==, 0.0), (source_distance...</td>\n",
       "      <td>[(0.0, 0.0), (20.0, 0.0)]</td>\n",
       "    </tr>\n",
       "    <tr>\n",
       "      <th>3</th>\n",
       "      <td>[((source_distance, ==, 0.0), (source_distance...</td>\n",
       "      <td>[(0.0, 0.0), (30.0, 0.0)]</td>\n",
       "    </tr>\n",
       "    <tr>\n",
       "      <th>4</th>\n",
       "      <td>[((source_distance, ==, 0.0), (source_distance...</td>\n",
       "      <td>[(0.0, 0.0), (30.0, 0.0)]</td>\n",
       "    </tr>\n",
       "  </tbody>\n",
       "</table>\n",
       "</div>"
      ],
      "text/plain": [
       "                                               Pairs  \\\n",
       "0  [((source_distance, ==, 0.0), (source_distance...   \n",
       "1  [((source_distance, ==, 0.0), (source_distance...   \n",
       "2  [((source_distance, ==, 0.0), (source_distance...   \n",
       "3  [((source_distance, ==, 0.0), (source_distance...   \n",
       "4  [((source_distance, ==, 0.0), (source_distance...   \n",
       "\n",
       "          Scope Error by var  \n",
       "0   [(0.0, 0.0), (0.0, 0.0)]  \n",
       "1   [(0.0, 0.0), (5.0, 0.0)]  \n",
       "2  [(0.0, 0.0), (20.0, 0.0)]  \n",
       "3  [(0.0, 0.0), (30.0, 0.0)]  \n",
       "4  [(0.0, 0.0), (30.0, 0.0)]  "
      ]
     },
     "execution_count": 21,
     "metadata": {},
     "output_type": "execute_result"
    }
   ],
   "source": [
    "# Carregando os limites das variáveis a partir do JSON\n",
    "with open('res/variables_config.json', 'r') as file:\n",
    "    variable_configs = json.load(file)\n",
    "\n",
    "# Criar um dicionário com os limites de cada variável\n",
    "limits = {var['name']: {'min': var['min_value'], 'max': var['max_value']} for var in variable_configs}\n",
    "\n",
    "# Função para calcular o intervalo baseado no operador\n",
    "def calculate_interval(var, op, val):\n",
    "    min_limit, max_limit = limits[var]['min'], limits[var]['max']\n",
    "    \n",
    "    if op == '>=':\n",
    "        return (val, max_limit)\n",
    "    elif op == '<=':\n",
    "        return (min_limit, val)\n",
    "    elif op == '>':\n",
    "        return (val, max_limit)\n",
    "    elif op == '<':\n",
    "        return (min_limit, val)\n",
    "    elif op == '==':\n",
    "        return (val, val)\n",
    "    elif op == '!=':\n",
    "        return (min_limit, max_limit)  # assume o escopo completo\n",
    "    else:\n",
    "        raise ValueError(f\"Operador '{op}' não reconhecido.\")\n",
    "\n",
    "# Função para calcular o erro característico entre duas tuplas\n",
    "def calculate_scope_error(pair):\n",
    "    tuple1, tuple2 = pair\n",
    "    \n",
    "    if tuple1[0] != tuple2[0]:  # Verifica se as variáveis são diferentes\n",
    "        return f\"Erro: Variáveis diferentes {tuple1[0]} e {tuple2[0]}\"\n",
    "    \n",
    "    var = tuple1[0]\n",
    "    interval1 = calculate_interval(*tuple1)\n",
    "    interval2 = calculate_interval(*tuple2)\n",
    "    \n",
    "    # Calculando o erro característico\n",
    "    scope_error = (abs(interval1[0] - interval2[0]), abs(interval1[1] - interval2[1]))\n",
    "    return scope_error\n",
    "\n",
    "# Exemplo de DataFrame com pares\n",
    "# data = {\n",
    "#     'Pairs': [[(('battery', '>=', 10.0), ('battery', '<=', 50.0))],\n",
    "#               [(('satellite_count', '>=', 5), ('satellite_count', '<=', 10))],\n",
    "#               [(('wind_speed', '>', 20.0), ('wind_speed', '<', 30.0))]]\n",
    "# }\n",
    "\n",
    "# df = pd.DataFrame(data)\n",
    "\n",
    "# Aplicar a função para calcular o erro característico para cada par de tuplas em 'Pairs'\n",
    "df['Scope Error by var'] = df['Pairs'].apply(lambda pairs: [calculate_scope_error(pair) for pair in pairs])\n",
    "\n",
    "# Exibir o DataFrame com os erros característicos\n",
    "df[['Pairs', 'Scope Error by var']].head()"
   ]
  },
  {
   "cell_type": "code",
   "execution_count": 22,
   "metadata": {},
   "outputs": [],
   "source": [
    "# Função para normalizar o erro com base nos limites da variável\n",
    "def normalize_error(error, variable):\n",
    "    if variable in limits:\n",
    "        min_value = limits[variable]['min']\n",
    "        max_value = limits[variable]['max']\n",
    "        # Normaliza o erro usando o intervalo da variável\n",
    "        return error / (max_value - min_value) if max_value - min_value != 0 else 0\n",
    "    else:\n",
    "        return error  # Se a variável não estiver no JSON, retorna o erro sem normalização\n",
    "\n",
    "# Função para normalizar os erros no 'Scope Error by var' usando a variável identificada nos pares\n",
    "def normalize_scope_error(pairs, errors):\n",
    "    normalized_errors = []\n",
    "    for i, pair in enumerate(pairs):\n",
    "        variable = pair[0][0]  # Identifica a variável a partir do primeiro elemento da tupla do par\n",
    "        error = errors[i]\n",
    "        # Normaliza cada erro dentro da lista de erros associados ao par de variáveis\n",
    "        normalized_error = [normalize_error(e, variable) for e in error]\n",
    "        normalized_errors.append(normalized_error)\n",
    "    return normalized_errors"
   ]
  },
  {
   "cell_type": "code",
   "execution_count": 23,
   "metadata": {},
   "outputs": [
    {
     "data": {
      "text/html": [
       "<div>\n",
       "<style scoped>\n",
       "    .dataframe tbody tr th:only-of-type {\n",
       "        vertical-align: middle;\n",
       "    }\n",
       "\n",
       "    .dataframe tbody tr th {\n",
       "        vertical-align: top;\n",
       "    }\n",
       "\n",
       "    .dataframe thead th {\n",
       "        text-align: right;\n",
       "    }\n",
       "</style>\n",
       "<table border=\"1\" class=\"dataframe\">\n",
       "  <thead>\n",
       "    <tr style=\"text-align: right;\">\n",
       "      <th></th>\n",
       "      <th>Pairs</th>\n",
       "      <th>Scope Error by var</th>\n",
       "      <th>Normalized Scope Error by var</th>\n",
       "    </tr>\n",
       "  </thead>\n",
       "  <tbody>\n",
       "    <tr>\n",
       "      <th>0</th>\n",
       "      <td>[((source_distance, ==, 0.0), (source_distance...</td>\n",
       "      <td>[(0.0, 0.0), (0.0, 0.0)]</td>\n",
       "      <td>[[0.0, 0.0], [0.0, 0.0]]</td>\n",
       "    </tr>\n",
       "    <tr>\n",
       "      <th>1</th>\n",
       "      <td>[((source_distance, ==, 0.0), (source_distance...</td>\n",
       "      <td>[(0.0, 0.0), (5.0, 0.0)]</td>\n",
       "      <td>[[0.0, 0.0], [0.05, 0.0]]</td>\n",
       "    </tr>\n",
       "    <tr>\n",
       "      <th>2</th>\n",
       "      <td>[((source_distance, ==, 0.0), (source_distance...</td>\n",
       "      <td>[(0.0, 0.0), (20.0, 0.0)]</td>\n",
       "      <td>[[0.0, 0.0], [0.2, 0.0]]</td>\n",
       "    </tr>\n",
       "    <tr>\n",
       "      <th>3</th>\n",
       "      <td>[((source_distance, ==, 0.0), (source_distance...</td>\n",
       "      <td>[(0.0, 0.0), (30.0, 0.0)]</td>\n",
       "      <td>[[0.0, 0.0], [0.3, 0.0]]</td>\n",
       "    </tr>\n",
       "    <tr>\n",
       "      <th>4</th>\n",
       "      <td>[((source_distance, ==, 0.0), (source_distance...</td>\n",
       "      <td>[(0.0, 0.0), (30.0, 0.0)]</td>\n",
       "      <td>[[0.0, 0.0], [0.3, 0.0]]</td>\n",
       "    </tr>\n",
       "  </tbody>\n",
       "</table>\n",
       "</div>"
      ],
      "text/plain": [
       "                                               Pairs  \\\n",
       "0  [((source_distance, ==, 0.0), (source_distance...   \n",
       "1  [((source_distance, ==, 0.0), (source_distance...   \n",
       "2  [((source_distance, ==, 0.0), (source_distance...   \n",
       "3  [((source_distance, ==, 0.0), (source_distance...   \n",
       "4  [((source_distance, ==, 0.0), (source_distance...   \n",
       "\n",
       "          Scope Error by var Normalized Scope Error by var  \n",
       "0   [(0.0, 0.0), (0.0, 0.0)]      [[0.0, 0.0], [0.0, 0.0]]  \n",
       "1   [(0.0, 0.0), (5.0, 0.0)]     [[0.0, 0.0], [0.05, 0.0]]  \n",
       "2  [(0.0, 0.0), (20.0, 0.0)]      [[0.0, 0.0], [0.2, 0.0]]  \n",
       "3  [(0.0, 0.0), (30.0, 0.0)]      [[0.0, 0.0], [0.3, 0.0]]  \n",
       "4  [(0.0, 0.0), (30.0, 0.0)]      [[0.0, 0.0], [0.3, 0.0]]  "
      ]
     },
     "execution_count": 23,
     "metadata": {},
     "output_type": "execute_result"
    }
   ],
   "source": [
    "df['Normalized Scope Error by var'] = df.apply(\n",
    "    lambda row: normalize_scope_error(row['Pairs'], row['Scope Error by var']), axis=1\n",
    ")\n",
    "\n",
    "# Exibir o DataFrame com os erros normalizados\n",
    "df[['Pairs', 'Scope Error by var', 'Normalized Scope Error by var']].head()"
   ]
  },
  {
   "cell_type": "code",
   "execution_count": 24,
   "metadata": {},
   "outputs": [
    {
     "data": {
      "text/html": [
       "<div>\n",
       "<style scoped>\n",
       "    .dataframe tbody tr th:only-of-type {\n",
       "        vertical-align: middle;\n",
       "    }\n",
       "\n",
       "    .dataframe tbody tr th {\n",
       "        vertical-align: top;\n",
       "    }\n",
       "\n",
       "    .dataframe thead th {\n",
       "        text-align: right;\n",
       "    }\n",
       "</style>\n",
       "<table border=\"1\" class=\"dataframe\">\n",
       "  <thead>\n",
       "    <tr style=\"text-align: right;\">\n",
       "      <th></th>\n",
       "      <th>Pairs</th>\n",
       "      <th>Scope Error by var</th>\n",
       "      <th>Normalized Scope Error by var</th>\n",
       "      <th>Global Normalized Error Sum</th>\n",
       "    </tr>\n",
       "  </thead>\n",
       "  <tbody>\n",
       "    <tr>\n",
       "      <th>0</th>\n",
       "      <td>[((source_distance, ==, 0.0), (source_distance...</td>\n",
       "      <td>[(0.0, 0.0), (0.0, 0.0)]</td>\n",
       "      <td>[[0.0, 0.0], [0.0, 0.0]]</td>\n",
       "      <td>0.00</td>\n",
       "    </tr>\n",
       "    <tr>\n",
       "      <th>1</th>\n",
       "      <td>[((source_distance, ==, 0.0), (source_distance...</td>\n",
       "      <td>[(0.0, 0.0), (5.0, 0.0)]</td>\n",
       "      <td>[[0.0, 0.0], [0.05, 0.0]]</td>\n",
       "      <td>0.05</td>\n",
       "    </tr>\n",
       "    <tr>\n",
       "      <th>2</th>\n",
       "      <td>[((source_distance, ==, 0.0), (source_distance...</td>\n",
       "      <td>[(0.0, 0.0), (20.0, 0.0)]</td>\n",
       "      <td>[[0.0, 0.0], [0.2, 0.0]]</td>\n",
       "      <td>0.20</td>\n",
       "    </tr>\n",
       "    <tr>\n",
       "      <th>3</th>\n",
       "      <td>[((source_distance, ==, 0.0), (source_distance...</td>\n",
       "      <td>[(0.0, 0.0), (30.0, 0.0)]</td>\n",
       "      <td>[[0.0, 0.0], [0.3, 0.0]]</td>\n",
       "      <td>0.30</td>\n",
       "    </tr>\n",
       "    <tr>\n",
       "      <th>4</th>\n",
       "      <td>[((source_distance, ==, 0.0), (source_distance...</td>\n",
       "      <td>[(0.0, 0.0), (30.0, 0.0)]</td>\n",
       "      <td>[[0.0, 0.0], [0.3, 0.0]]</td>\n",
       "      <td>0.30</td>\n",
       "    </tr>\n",
       "    <tr>\n",
       "      <th>...</th>\n",
       "      <td>...</td>\n",
       "      <td>...</td>\n",
       "      <td>...</td>\n",
       "      <td>...</td>\n",
       "    </tr>\n",
       "    <tr>\n",
       "      <th>127</th>\n",
       "      <td>[((source_distance, ==, 0.0), (source_distance...</td>\n",
       "      <td>[(75.0, 100.0), (30.0, 75.0)]</td>\n",
       "      <td>[[0.75, 1.0], [0.3, 0.75]]</td>\n",
       "      <td>2.80</td>\n",
       "    </tr>\n",
       "    <tr>\n",
       "      <th>128</th>\n",
       "      <td>[((source_distance, ==, 0.0), (source_distance...</td>\n",
       "      <td>[(100.0, 100.0), (30.0, 75.0)]</td>\n",
       "      <td>[[1.0, 1.0], [0.3, 0.75]]</td>\n",
       "      <td>3.05</td>\n",
       "    </tr>\n",
       "    <tr>\n",
       "      <th>129</th>\n",
       "      <td>[((source_distance, ==, 0.0), (source_distance...</td>\n",
       "      <td>[(0.0, 0.0), (30.0, 75.0)]</td>\n",
       "      <td>[[0.0, 0.0], [0.3, 0.75]]</td>\n",
       "      <td>1.05</td>\n",
       "    </tr>\n",
       "    <tr>\n",
       "      <th>130</th>\n",
       "      <td>[((source_distance, ==, 0.0), (source_distance...</td>\n",
       "      <td>[(75.0, 100.0), (70.0, 0.0)]</td>\n",
       "      <td>[[0.75, 1.0], [0.7, 0.0]]</td>\n",
       "      <td>2.45</td>\n",
       "    </tr>\n",
       "    <tr>\n",
       "      <th>131</th>\n",
       "      <td>[((source_distance, ==, 0.0), (source_distance...</td>\n",
       "      <td>[(50.0, 100.0), (70.0, 0.0)]</td>\n",
       "      <td>[[0.5, 1.0], [0.7, 0.0]]</td>\n",
       "      <td>2.20</td>\n",
       "    </tr>\n",
       "  </tbody>\n",
       "</table>\n",
       "<p>132 rows × 4 columns</p>\n",
       "</div>"
      ],
      "text/plain": [
       "                                                 Pairs  \\\n",
       "0    [((source_distance, ==, 0.0), (source_distance...   \n",
       "1    [((source_distance, ==, 0.0), (source_distance...   \n",
       "2    [((source_distance, ==, 0.0), (source_distance...   \n",
       "3    [((source_distance, ==, 0.0), (source_distance...   \n",
       "4    [((source_distance, ==, 0.0), (source_distance...   \n",
       "..                                                 ...   \n",
       "127  [((source_distance, ==, 0.0), (source_distance...   \n",
       "128  [((source_distance, ==, 0.0), (source_distance...   \n",
       "129  [((source_distance, ==, 0.0), (source_distance...   \n",
       "130  [((source_distance, ==, 0.0), (source_distance...   \n",
       "131  [((source_distance, ==, 0.0), (source_distance...   \n",
       "\n",
       "                 Scope Error by var Normalized Scope Error by var  \\\n",
       "0          [(0.0, 0.0), (0.0, 0.0)]      [[0.0, 0.0], [0.0, 0.0]]   \n",
       "1          [(0.0, 0.0), (5.0, 0.0)]     [[0.0, 0.0], [0.05, 0.0]]   \n",
       "2         [(0.0, 0.0), (20.0, 0.0)]      [[0.0, 0.0], [0.2, 0.0]]   \n",
       "3         [(0.0, 0.0), (30.0, 0.0)]      [[0.0, 0.0], [0.3, 0.0]]   \n",
       "4         [(0.0, 0.0), (30.0, 0.0)]      [[0.0, 0.0], [0.3, 0.0]]   \n",
       "..                              ...                           ...   \n",
       "127   [(75.0, 100.0), (30.0, 75.0)]    [[0.75, 1.0], [0.3, 0.75]]   \n",
       "128  [(100.0, 100.0), (30.0, 75.0)]     [[1.0, 1.0], [0.3, 0.75]]   \n",
       "129      [(0.0, 0.0), (30.0, 75.0)]     [[0.0, 0.0], [0.3, 0.75]]   \n",
       "130    [(75.0, 100.0), (70.0, 0.0)]     [[0.75, 1.0], [0.7, 0.0]]   \n",
       "131    [(50.0, 100.0), (70.0, 0.0)]      [[0.5, 1.0], [0.7, 0.0]]   \n",
       "\n",
       "     Global Normalized Error Sum  \n",
       "0                           0.00  \n",
       "1                           0.05  \n",
       "2                           0.20  \n",
       "3                           0.30  \n",
       "4                           0.30  \n",
       "..                           ...  \n",
       "127                         2.80  \n",
       "128                         3.05  \n",
       "129                         1.05  \n",
       "130                         2.45  \n",
       "131                         2.20  \n",
       "\n",
       "[132 rows x 4 columns]"
      ]
     },
     "execution_count": 24,
     "metadata": {},
     "output_type": "execute_result"
    }
   ],
   "source": [
    "def sum_normalized_errors(normalized_errors):\n",
    "    # Flatten a lista de listas e soma todos os valores\n",
    "    return sum(sum(error) for error in normalized_errors)\n",
    "\n",
    "# Calcular o erro escalar somando todos os valores normalizados\n",
    "df['Global Normalized Error Sum'] = df['Normalized Scope Error by var'].apply(sum_normalized_errors)\n",
    "\n",
    "# Exibir o DataFrame com o valor escalar do erro global normalizado\n",
    "df[['Pairs', 'Scope Error by var', 'Normalized Scope Error by var', 'Global Normalized Error Sum']]"
   ]
  },
  {
   "cell_type": "code",
   "execution_count": 25,
   "metadata": {},
   "outputs": [
    {
     "data": {
      "text/html": [
       "<div>\n",
       "<style scoped>\n",
       "    .dataframe tbody tr th:only-of-type {\n",
       "        vertical-align: middle;\n",
       "    }\n",
       "\n",
       "    .dataframe tbody tr th {\n",
       "        vertical-align: top;\n",
       "    }\n",
       "\n",
       "    .dataframe thead th {\n",
       "        text-align: right;\n",
       "    }\n",
       "</style>\n",
       "<table border=\"1\" class=\"dataframe\">\n",
       "  <thead>\n",
       "    <tr style=\"text-align: right;\">\n",
       "      <th></th>\n",
       "      <th>Global Normalized Error Sum</th>\n",
       "    </tr>\n",
       "  </thead>\n",
       "  <tbody>\n",
       "    <tr>\n",
       "      <th>count</th>\n",
       "      <td>132.000000</td>\n",
       "    </tr>\n",
       "    <tr>\n",
       "      <th>mean</th>\n",
       "      <td>1.467424</td>\n",
       "    </tr>\n",
       "    <tr>\n",
       "      <th>std</th>\n",
       "      <td>0.766224</td>\n",
       "    </tr>\n",
       "    <tr>\n",
       "      <th>min</th>\n",
       "      <td>0.000000</td>\n",
       "    </tr>\n",
       "    <tr>\n",
       "      <th>25%</th>\n",
       "      <td>0.950000</td>\n",
       "    </tr>\n",
       "    <tr>\n",
       "      <th>50%</th>\n",
       "      <td>1.450000</td>\n",
       "    </tr>\n",
       "    <tr>\n",
       "      <th>75%</th>\n",
       "      <td>2.050000</td>\n",
       "    </tr>\n",
       "    <tr>\n",
       "      <th>max</th>\n",
       "      <td>3.300000</td>\n",
       "    </tr>\n",
       "  </tbody>\n",
       "</table>\n",
       "</div>"
      ],
      "text/plain": [
       "       Global Normalized Error Sum\n",
       "count                   132.000000\n",
       "mean                      1.467424\n",
       "std                       0.766224\n",
       "min                       0.000000\n",
       "25%                       0.950000\n",
       "50%                       1.450000\n",
       "75%                       2.050000\n",
       "max                       3.300000"
      ]
     },
     "execution_count": 25,
     "metadata": {},
     "output_type": "execute_result"
    }
   ],
   "source": [
    "df[['Global Normalized Error Sum']].describe()"
   ]
  },
  {
   "cell_type": "code",
   "execution_count": 26,
   "metadata": {},
   "outputs": [
    {
     "data": {
      "text/html": [
       "<div>\n",
       "<style scoped>\n",
       "    .dataframe tbody tr th:only-of-type {\n",
       "        vertical-align: middle;\n",
       "    }\n",
       "\n",
       "    .dataframe tbody tr th {\n",
       "        vertical-align: top;\n",
       "    }\n",
       "\n",
       "    .dataframe thead th {\n",
       "        text-align: right;\n",
       "    }\n",
       "</style>\n",
       "<table border=\"1\" class=\"dataframe\">\n",
       "  <thead>\n",
       "    <tr style=\"text-align: right;\">\n",
       "      <th></th>\n",
       "      <th>Global Normalized Error Sum</th>\n",
       "      <th>Scenario Similarity</th>\n",
       "    </tr>\n",
       "  </thead>\n",
       "  <tbody>\n",
       "    <tr>\n",
       "      <th>0</th>\n",
       "      <td>0.00</td>\n",
       "      <td>1.000000</td>\n",
       "    </tr>\n",
       "    <tr>\n",
       "      <th>1</th>\n",
       "      <td>0.05</td>\n",
       "      <td>0.988888</td>\n",
       "    </tr>\n",
       "    <tr>\n",
       "      <th>2</th>\n",
       "      <td>0.20</td>\n",
       "      <td>0.952382</td>\n",
       "    </tr>\n",
       "    <tr>\n",
       "      <th>3</th>\n",
       "      <td>0.30</td>\n",
       "      <td>0.950000</td>\n",
       "    </tr>\n",
       "    <tr>\n",
       "      <th>4</th>\n",
       "      <td>0.30</td>\n",
       "      <td>0.950000</td>\n",
       "    </tr>\n",
       "    <tr>\n",
       "      <th>...</th>\n",
       "      <td>...</td>\n",
       "      <td>...</td>\n",
       "    </tr>\n",
       "    <tr>\n",
       "      <th>127</th>\n",
       "      <td>2.80</td>\n",
       "      <td>0.666667</td>\n",
       "    </tr>\n",
       "    <tr>\n",
       "      <th>128</th>\n",
       "      <td>3.05</td>\n",
       "      <td>0.666667</td>\n",
       "    </tr>\n",
       "    <tr>\n",
       "      <th>129</th>\n",
       "      <td>1.05</td>\n",
       "      <td>0.666667</td>\n",
       "    </tr>\n",
       "    <tr>\n",
       "      <th>130</th>\n",
       "      <td>2.45</td>\n",
       "      <td>0.666667</td>\n",
       "    </tr>\n",
       "    <tr>\n",
       "      <th>131</th>\n",
       "      <td>2.20</td>\n",
       "      <td>0.666667</td>\n",
       "    </tr>\n",
       "  </tbody>\n",
       "</table>\n",
       "<p>132 rows × 2 columns</p>\n",
       "</div>"
      ],
      "text/plain": [
       "     Global Normalized Error Sum  Scenario Similarity\n",
       "0                           0.00             1.000000\n",
       "1                           0.05             0.988888\n",
       "2                           0.20             0.952382\n",
       "3                           0.30             0.950000\n",
       "4                           0.30             0.950000\n",
       "..                           ...                  ...\n",
       "127                         2.80             0.666667\n",
       "128                         3.05             0.666667\n",
       "129                         1.05             0.666667\n",
       "130                         2.45             0.666667\n",
       "131                         2.20             0.666667\n",
       "\n",
       "[132 rows x 2 columns]"
      ]
     },
     "execution_count": 26,
     "metadata": {},
     "output_type": "execute_result"
    }
   ],
   "source": [
    "df[['Global Normalized Error Sum','Scenario Similarity']]"
   ]
  },
  {
   "cell_type": "code",
   "execution_count": 28,
   "metadata": {},
   "outputs": [
    {
     "data": {
      "application/vnd.plotly.v1+json": {
       "config": {
        "plotlyServerURL": "https://plot.ly"
       },
       "data": [
        {
         "hovertemplate": "Accumulated distance=%{x}<br>Scenario Similarity=%{y}<extra></extra>",
         "legendgroup": "",
         "marker": {
          "color": "#636efa",
          "symbol": "circle"
         },
         "mode": "markers",
         "name": "",
         "orientation": "v",
         "showlegend": false,
         "type": "scatter",
         "x": [
          0,
          0.05,
          0.2,
          0.3,
          0.3,
          0.55,
          0.45,
          0.8,
          0.25,
          0.5,
          0.75,
          1,
          1,
          1.05,
          1.3,
          0.7,
          1,
          1.25,
          0,
          2,
          1.75,
          1.5,
          0.3,
          0.55,
          0.8,
          1.05,
          1.05,
          1.3,
          1.55,
          1.8,
          2.05,
          0.05,
          0.45,
          0.55,
          0.55,
          0.7,
          0.95,
          1.2,
          1.2,
          0.8,
          0.8,
          1.95,
          0.2,
          2.2,
          1.7,
          1.45,
          1.05,
          1.05,
          1.3,
          1.3,
          1.3,
          1.3,
          0.3,
          2.3,
          2.05,
          1.8,
          1.55,
          0.3,
          1.55,
          2.3,
          2.05,
          1.8,
          0.8,
          1.05,
          1.3,
          1.55,
          1.55,
          0.55,
          1.8,
          2.05,
          2.3,
          2.55,
          0.7,
          0.95,
          1.2,
          1.45,
          1.45,
          2.2,
          2.45,
          1.7,
          1.95,
          0.45,
          1.05,
          1.3,
          1.55,
          1.8,
          1.8,
          0.8,
          2.8,
          2.55,
          2.3,
          2.05,
          1.55,
          1.25,
          0.95,
          1.3,
          1.5,
          1.55,
          1.8,
          1.2,
          1.8,
          1.45,
          1.75,
          2.05,
          1.7,
          2.05,
          2.3,
          2,
          2.05,
          2.3,
          2,
          1.7,
          1.95,
          3,
          0.7,
          2.25,
          2.5,
          2.75,
          2.7,
          2.55,
          1,
          2.8,
          3.05,
          3.3,
          1.3,
          2.3,
          2.55,
          2.8,
          3.05,
          1.05,
          2.45,
          2.2
         ],
         "xaxis": "x",
         "y": [
          1,
          0.9888883333333331,
          0.9523816666666668,
          0.95,
          0.95,
          0.9083333333333332,
          0.8928566666666667,
          0.8666666666666667,
          0.84,
          0.8366666666666666,
          0.8355549999999999,
          0.835,
          0.835,
          0.8333333333333334,
          0.8333333333333334,
          0.8333333333333334,
          0.8333333333333334,
          0.8333333333333334,
          0.8333333333333334,
          0.8333333333333334,
          0.8333333333333334,
          0.8333333333333334,
          0.8288883333333333,
          0.825555,
          0.8244433333333333,
          0.8238883333333332,
          0.8238883333333332,
          0.8222216666666666,
          0.8222216666666666,
          0.8222216666666666,
          0.8222216666666666,
          0.8222216666666666,
          0.7923816666666667,
          0.79,
          0.79,
          0.7890483333333332,
          0.7879366666666666,
          0.7873816666666666,
          0.7873816666666666,
          0.7866666666666666,
          0.7866666666666666,
          0.785715,
          0.785715,
          0.785715,
          0.785715,
          0.785715,
          0.785555,
          0.785555,
          0.785,
          0.785,
          0.785,
          0.785,
          0.7833333333333333,
          0.7833333333333333,
          0.7833333333333333,
          0.7833333333333333,
          0.7833333333333333,
          0.7833333333333333,
          0.7833333333333333,
          0.7833333333333333,
          0.7833333333333333,
          0.7833333333333333,
          0.7483333333333334,
          0.745,
          0.7438883333333334,
          0.7433333333333333,
          0.7433333333333333,
          0.7416666666666667,
          0.7416666666666667,
          0.7416666666666667,
          0.7416666666666667,
          0.7416666666666667,
          0.7328566666666667,
          0.7295233333333333,
          0.7284116666666667,
          0.7278566666666667,
          0.7278566666666667,
          0.72619,
          0.72619,
          0.72619,
          0.72619,
          0.72619,
          0.7066666666666667,
          0.7033333333333333,
          0.7022216666666666,
          0.7016666666666667,
          0.7016666666666667,
          0.7000000000000001,
          0.7000000000000001,
          0.7000000000000001,
          0.7000000000000001,
          0.7000000000000001,
          0.6733333333333333,
          0.6733333333333333,
          0.6733333333333333,
          0.6733333333333333,
          0.6699999999999999,
          0.6699999999999999,
          0.6699999999999999,
          0.6699999999999999,
          0.6688883333333333,
          0.6688883333333333,
          0.6688883333333333,
          0.6688883333333333,
          0.6683333333333333,
          0.6683333333333333,
          0.6683333333333333,
          0.6683333333333333,
          0.6683333333333333,
          0.6683333333333333,
          0.6683333333333333,
          0.6683333333333333,
          0.6666666666666666,
          0.6666666666666666,
          0.6666666666666666,
          0.6666666666666666,
          0.6666666666666666,
          0.6666666666666666,
          0.6666666666666666,
          0.6666666666666666,
          0.6666666666666666,
          0.6666666666666666,
          0.6666666666666666,
          0.6666666666666666,
          0.6666666666666666,
          0.6666666666666666,
          0.6666666666666666,
          0.6666666666666666,
          0.6666666666666666,
          0.6666666666666666,
          0.6666666666666666,
          0.6666666666666666
         ],
         "yaxis": "y"
        }
       ],
       "layout": {
        "legend": {
         "tracegroupgap": 0
        },
        "template": {
         "data": {
          "bar": [
           {
            "error_x": {
             "color": "#2a3f5f"
            },
            "error_y": {
             "color": "#2a3f5f"
            },
            "marker": {
             "line": {
              "color": "white",
              "width": 0.5
             },
             "pattern": {
              "fillmode": "overlay",
              "size": 10,
              "solidity": 0.2
             }
            },
            "type": "bar"
           }
          ],
          "barpolar": [
           {
            "marker": {
             "line": {
              "color": "white",
              "width": 0.5
             },
             "pattern": {
              "fillmode": "overlay",
              "size": 10,
              "solidity": 0.2
             }
            },
            "type": "barpolar"
           }
          ],
          "carpet": [
           {
            "aaxis": {
             "endlinecolor": "#2a3f5f",
             "gridcolor": "#C8D4E3",
             "linecolor": "#C8D4E3",
             "minorgridcolor": "#C8D4E3",
             "startlinecolor": "#2a3f5f"
            },
            "baxis": {
             "endlinecolor": "#2a3f5f",
             "gridcolor": "#C8D4E3",
             "linecolor": "#C8D4E3",
             "minorgridcolor": "#C8D4E3",
             "startlinecolor": "#2a3f5f"
            },
            "type": "carpet"
           }
          ],
          "choropleth": [
           {
            "colorbar": {
             "outlinewidth": 0,
             "ticks": ""
            },
            "type": "choropleth"
           }
          ],
          "contour": [
           {
            "colorbar": {
             "outlinewidth": 0,
             "ticks": ""
            },
            "colorscale": [
             [
              0,
              "#0d0887"
             ],
             [
              0.1111111111111111,
              "#46039f"
             ],
             [
              0.2222222222222222,
              "#7201a8"
             ],
             [
              0.3333333333333333,
              "#9c179e"
             ],
             [
              0.4444444444444444,
              "#bd3786"
             ],
             [
              0.5555555555555556,
              "#d8576b"
             ],
             [
              0.6666666666666666,
              "#ed7953"
             ],
             [
              0.7777777777777778,
              "#fb9f3a"
             ],
             [
              0.8888888888888888,
              "#fdca26"
             ],
             [
              1,
              "#f0f921"
             ]
            ],
            "type": "contour"
           }
          ],
          "contourcarpet": [
           {
            "colorbar": {
             "outlinewidth": 0,
             "ticks": ""
            },
            "type": "contourcarpet"
           }
          ],
          "heatmap": [
           {
            "colorbar": {
             "outlinewidth": 0,
             "ticks": ""
            },
            "colorscale": [
             [
              0,
              "#0d0887"
             ],
             [
              0.1111111111111111,
              "#46039f"
             ],
             [
              0.2222222222222222,
              "#7201a8"
             ],
             [
              0.3333333333333333,
              "#9c179e"
             ],
             [
              0.4444444444444444,
              "#bd3786"
             ],
             [
              0.5555555555555556,
              "#d8576b"
             ],
             [
              0.6666666666666666,
              "#ed7953"
             ],
             [
              0.7777777777777778,
              "#fb9f3a"
             ],
             [
              0.8888888888888888,
              "#fdca26"
             ],
             [
              1,
              "#f0f921"
             ]
            ],
            "type": "heatmap"
           }
          ],
          "heatmapgl": [
           {
            "colorbar": {
             "outlinewidth": 0,
             "ticks": ""
            },
            "colorscale": [
             [
              0,
              "#0d0887"
             ],
             [
              0.1111111111111111,
              "#46039f"
             ],
             [
              0.2222222222222222,
              "#7201a8"
             ],
             [
              0.3333333333333333,
              "#9c179e"
             ],
             [
              0.4444444444444444,
              "#bd3786"
             ],
             [
              0.5555555555555556,
              "#d8576b"
             ],
             [
              0.6666666666666666,
              "#ed7953"
             ],
             [
              0.7777777777777778,
              "#fb9f3a"
             ],
             [
              0.8888888888888888,
              "#fdca26"
             ],
             [
              1,
              "#f0f921"
             ]
            ],
            "type": "heatmapgl"
           }
          ],
          "histogram": [
           {
            "marker": {
             "pattern": {
              "fillmode": "overlay",
              "size": 10,
              "solidity": 0.2
             }
            },
            "type": "histogram"
           }
          ],
          "histogram2d": [
           {
            "colorbar": {
             "outlinewidth": 0,
             "ticks": ""
            },
            "colorscale": [
             [
              0,
              "#0d0887"
             ],
             [
              0.1111111111111111,
              "#46039f"
             ],
             [
              0.2222222222222222,
              "#7201a8"
             ],
             [
              0.3333333333333333,
              "#9c179e"
             ],
             [
              0.4444444444444444,
              "#bd3786"
             ],
             [
              0.5555555555555556,
              "#d8576b"
             ],
             [
              0.6666666666666666,
              "#ed7953"
             ],
             [
              0.7777777777777778,
              "#fb9f3a"
             ],
             [
              0.8888888888888888,
              "#fdca26"
             ],
             [
              1,
              "#f0f921"
             ]
            ],
            "type": "histogram2d"
           }
          ],
          "histogram2dcontour": [
           {
            "colorbar": {
             "outlinewidth": 0,
             "ticks": ""
            },
            "colorscale": [
             [
              0,
              "#0d0887"
             ],
             [
              0.1111111111111111,
              "#46039f"
             ],
             [
              0.2222222222222222,
              "#7201a8"
             ],
             [
              0.3333333333333333,
              "#9c179e"
             ],
             [
              0.4444444444444444,
              "#bd3786"
             ],
             [
              0.5555555555555556,
              "#d8576b"
             ],
             [
              0.6666666666666666,
              "#ed7953"
             ],
             [
              0.7777777777777778,
              "#fb9f3a"
             ],
             [
              0.8888888888888888,
              "#fdca26"
             ],
             [
              1,
              "#f0f921"
             ]
            ],
            "type": "histogram2dcontour"
           }
          ],
          "mesh3d": [
           {
            "colorbar": {
             "outlinewidth": 0,
             "ticks": ""
            },
            "type": "mesh3d"
           }
          ],
          "parcoords": [
           {
            "line": {
             "colorbar": {
              "outlinewidth": 0,
              "ticks": ""
             }
            },
            "type": "parcoords"
           }
          ],
          "pie": [
           {
            "automargin": true,
            "type": "pie"
           }
          ],
          "scatter": [
           {
            "fillpattern": {
             "fillmode": "overlay",
             "size": 10,
             "solidity": 0.2
            },
            "type": "scatter"
           }
          ],
          "scatter3d": [
           {
            "line": {
             "colorbar": {
              "outlinewidth": 0,
              "ticks": ""
             }
            },
            "marker": {
             "colorbar": {
              "outlinewidth": 0,
              "ticks": ""
             }
            },
            "type": "scatter3d"
           }
          ],
          "scattercarpet": [
           {
            "marker": {
             "colorbar": {
              "outlinewidth": 0,
              "ticks": ""
             }
            },
            "type": "scattercarpet"
           }
          ],
          "scattergeo": [
           {
            "marker": {
             "colorbar": {
              "outlinewidth": 0,
              "ticks": ""
             }
            },
            "type": "scattergeo"
           }
          ],
          "scattergl": [
           {
            "marker": {
             "colorbar": {
              "outlinewidth": 0,
              "ticks": ""
             }
            },
            "type": "scattergl"
           }
          ],
          "scattermapbox": [
           {
            "marker": {
             "colorbar": {
              "outlinewidth": 0,
              "ticks": ""
             }
            },
            "type": "scattermapbox"
           }
          ],
          "scatterpolar": [
           {
            "marker": {
             "colorbar": {
              "outlinewidth": 0,
              "ticks": ""
             }
            },
            "type": "scatterpolar"
           }
          ],
          "scatterpolargl": [
           {
            "marker": {
             "colorbar": {
              "outlinewidth": 0,
              "ticks": ""
             }
            },
            "type": "scatterpolargl"
           }
          ],
          "scatterternary": [
           {
            "marker": {
             "colorbar": {
              "outlinewidth": 0,
              "ticks": ""
             }
            },
            "type": "scatterternary"
           }
          ],
          "surface": [
           {
            "colorbar": {
             "outlinewidth": 0,
             "ticks": ""
            },
            "colorscale": [
             [
              0,
              "#0d0887"
             ],
             [
              0.1111111111111111,
              "#46039f"
             ],
             [
              0.2222222222222222,
              "#7201a8"
             ],
             [
              0.3333333333333333,
              "#9c179e"
             ],
             [
              0.4444444444444444,
              "#bd3786"
             ],
             [
              0.5555555555555556,
              "#d8576b"
             ],
             [
              0.6666666666666666,
              "#ed7953"
             ],
             [
              0.7777777777777778,
              "#fb9f3a"
             ],
             [
              0.8888888888888888,
              "#fdca26"
             ],
             [
              1,
              "#f0f921"
             ]
            ],
            "type": "surface"
           }
          ],
          "table": [
           {
            "cells": {
             "fill": {
              "color": "#EBF0F8"
             },
             "line": {
              "color": "white"
             }
            },
            "header": {
             "fill": {
              "color": "#C8D4E3"
             },
             "line": {
              "color": "white"
             }
            },
            "type": "table"
           }
          ]
         },
         "layout": {
          "annotationdefaults": {
           "arrowcolor": "#2a3f5f",
           "arrowhead": 0,
           "arrowwidth": 1
          },
          "autotypenumbers": "strict",
          "coloraxis": {
           "colorbar": {
            "outlinewidth": 0,
            "ticks": ""
           }
          },
          "colorscale": {
           "diverging": [
            [
             0,
             "#8e0152"
            ],
            [
             0.1,
             "#c51b7d"
            ],
            [
             0.2,
             "#de77ae"
            ],
            [
             0.3,
             "#f1b6da"
            ],
            [
             0.4,
             "#fde0ef"
            ],
            [
             0.5,
             "#f7f7f7"
            ],
            [
             0.6,
             "#e6f5d0"
            ],
            [
             0.7,
             "#b8e186"
            ],
            [
             0.8,
             "#7fbc41"
            ],
            [
             0.9,
             "#4d9221"
            ],
            [
             1,
             "#276419"
            ]
           ],
           "sequential": [
            [
             0,
             "#0d0887"
            ],
            [
             0.1111111111111111,
             "#46039f"
            ],
            [
             0.2222222222222222,
             "#7201a8"
            ],
            [
             0.3333333333333333,
             "#9c179e"
            ],
            [
             0.4444444444444444,
             "#bd3786"
            ],
            [
             0.5555555555555556,
             "#d8576b"
            ],
            [
             0.6666666666666666,
             "#ed7953"
            ],
            [
             0.7777777777777778,
             "#fb9f3a"
            ],
            [
             0.8888888888888888,
             "#fdca26"
            ],
            [
             1,
             "#f0f921"
            ]
           ],
           "sequentialminus": [
            [
             0,
             "#0d0887"
            ],
            [
             0.1111111111111111,
             "#46039f"
            ],
            [
             0.2222222222222222,
             "#7201a8"
            ],
            [
             0.3333333333333333,
             "#9c179e"
            ],
            [
             0.4444444444444444,
             "#bd3786"
            ],
            [
             0.5555555555555556,
             "#d8576b"
            ],
            [
             0.6666666666666666,
             "#ed7953"
            ],
            [
             0.7777777777777778,
             "#fb9f3a"
            ],
            [
             0.8888888888888888,
             "#fdca26"
            ],
            [
             1,
             "#f0f921"
            ]
           ]
          },
          "colorway": [
           "#636efa",
           "#EF553B",
           "#00cc96",
           "#ab63fa",
           "#FFA15A",
           "#19d3f3",
           "#FF6692",
           "#B6E880",
           "#FF97FF",
           "#FECB52"
          ],
          "font": {
           "color": "#2a3f5f"
          },
          "geo": {
           "bgcolor": "white",
           "lakecolor": "white",
           "landcolor": "white",
           "showlakes": true,
           "showland": true,
           "subunitcolor": "#C8D4E3"
          },
          "hoverlabel": {
           "align": "left"
          },
          "hovermode": "closest",
          "mapbox": {
           "style": "light"
          },
          "paper_bgcolor": "white",
          "plot_bgcolor": "white",
          "polar": {
           "angularaxis": {
            "gridcolor": "#EBF0F8",
            "linecolor": "#EBF0F8",
            "ticks": ""
           },
           "bgcolor": "white",
           "radialaxis": {
            "gridcolor": "#EBF0F8",
            "linecolor": "#EBF0F8",
            "ticks": ""
           }
          },
          "scene": {
           "xaxis": {
            "backgroundcolor": "white",
            "gridcolor": "#DFE8F3",
            "gridwidth": 2,
            "linecolor": "#EBF0F8",
            "showbackground": true,
            "ticks": "",
            "zerolinecolor": "#EBF0F8"
           },
           "yaxis": {
            "backgroundcolor": "white",
            "gridcolor": "#DFE8F3",
            "gridwidth": 2,
            "linecolor": "#EBF0F8",
            "showbackground": true,
            "ticks": "",
            "zerolinecolor": "#EBF0F8"
           },
           "zaxis": {
            "backgroundcolor": "white",
            "gridcolor": "#DFE8F3",
            "gridwidth": 2,
            "linecolor": "#EBF0F8",
            "showbackground": true,
            "ticks": "",
            "zerolinecolor": "#EBF0F8"
           }
          },
          "shapedefaults": {
           "line": {
            "color": "#2a3f5f"
           }
          },
          "ternary": {
           "aaxis": {
            "gridcolor": "#DFE8F3",
            "linecolor": "#A2B1C6",
            "ticks": ""
           },
           "baxis": {
            "gridcolor": "#DFE8F3",
            "linecolor": "#A2B1C6",
            "ticks": ""
           },
           "bgcolor": "white",
           "caxis": {
            "gridcolor": "#DFE8F3",
            "linecolor": "#A2B1C6",
            "ticks": ""
           }
          },
          "title": {
           "x": 0.05
          },
          "xaxis": {
           "automargin": true,
           "gridcolor": "#EBF0F8",
           "linecolor": "#EBF0F8",
           "ticks": "",
           "title": {
            "standoff": 15
           },
           "zerolinecolor": "#EBF0F8",
           "zerolinewidth": 2
          },
          "yaxis": {
           "automargin": true,
           "gridcolor": "#EBF0F8",
           "linecolor": "#EBF0F8",
           "ticks": "",
           "title": {
            "standoff": 15
           },
           "zerolinecolor": "#EBF0F8",
           "zerolinewidth": 2
          }
         }
        },
        "title": {
         "text": "Accumulated distance from Then vs Scenario Similarity"
        },
        "xaxis": {
         "anchor": "y",
         "domain": [
          0,
          1
         ],
         "title": {
          "text": "Accumulated distance"
         }
        },
        "yaxis": {
         "anchor": "x",
         "domain": [
          0,
          1
         ],
         "title": {
          "text": "Scenario Similarity"
         }
        }
       }
      }
     },
     "metadata": {},
     "output_type": "display_data"
    }
   ],
   "source": [
    "# Criar o scatter plot usando o Plotly\n",
    "fig = px.scatter(\n",
    "    df,\n",
    "    x='Global Normalized Error Sum',\n",
    "    y='Scenario Similarity',\n",
    "    title='Accumulated distance from Then vs Scenario Similarity',\n",
    "    labels={\n",
    "        'Global Normalized Error Sum': 'Accumulated distance',\n",
    "        'Scenario Similarity': 'Scenario Similarity'\n",
    "    },\n",
    "    template='plotly_white'\n",
    ")\n",
    "\n",
    "# Exibir o gráfico\n",
    "fig.show()"
   ]
  },
  {
   "cell_type": "markdown",
   "metadata": {},
   "source": [
    "Tentar entender pq no maximo foi 4, como eram 3 variáveis formando 6 [chão, tento], imaginei que no pior dos casos, todos os erros de cada um iria tentar a 1, ou seja [1,1], [1,1], [1,1], logo, somando daria 6. Mas no caso foi 4. Tlz nas condicoes nao trazem situacoes desfavorável para todas as variaveis."
   ]
  },
  {
   "cell_type": "markdown",
   "metadata": {},
   "source": []
  }
 ],
 "metadata": {
  "kernelspec": {
   "display_name": "USAS",
   "language": "python",
   "name": "python3"
  },
  "language_info": {
   "codemirror_mode": {
    "name": "ipython",
    "version": 3
   },
   "file_extension": ".py",
   "mimetype": "text/x-python",
   "name": "python",
   "nbconvert_exporter": "python",
   "pygments_lexer": "ipython3",
   "version": "3.11.9"
  }
 },
 "nbformat": 4,
 "nbformat_minor": 2
}
